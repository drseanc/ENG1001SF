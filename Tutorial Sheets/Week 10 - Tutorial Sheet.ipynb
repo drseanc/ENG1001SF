{
 "cells": [
  {
   "cell_type": "code",
   "execution_count": 2,
   "metadata": {
    "deletable": false,
    "editable": false,
    "hide_input": true
   },
   "outputs": [
    {
     "name": "stdout",
     "output_type": "stream",
     "text": [
      "- Dependencies imported 👍\n",
      "- Remember to select 'Kernel-> Restart & Run All' on first load to show embedded Youtube videos 🎬\n",
      "- Author: Dr SPCarroll, Sept 2020, Rev 0\n"
     ]
    }
   ],
   "source": [
    "#DEPENDENCIES & INITIALISATIONS\n",
    "from IPython.display import HTML #For embedding videos\n",
    "import math #Basic math functionality\n",
    "import numpy as np #Numpy for working with arrays\n",
    "import matplotlib.pyplot as plt #Plotting functionality \n",
    "#HTML('<center><iframe width=\"560\" height=\"315\" src=\"#\" frameborder=\"0\" allowfullscreen></iframe></center>')\n",
    "print(\"- Dependencies imported 👍\")\n",
    "print(\"- Remember to select 'Kernel-> Restart & Run All' on first load to show embedded Youtube videos 🎬\")\n",
    "print(\"- Author: Dr SPCarroll, Sept 2020, Rev 0\")"
   ]
  },
  {
   "cell_type": "markdown",
   "metadata": {},
   "source": [
    "## Week 10 Tutorials - Forces on submerged bodies"
   ]
  },
  {
   "cell_type": "markdown",
   "metadata": {},
   "source": [
    "### Question 1"
   ]
  },
  {
   "cell_type": "markdown",
   "metadata": {},
   "source": [
    "The end wall of a rectangular tank is $1.5 m$ wide by $2.0 m$ deep. The tank is completely filled with oil of specific weight $9\\:kN/m^3$. Find the resultant force on the vertical end wall of the tank and the depth to the centre of pressure from the top of the tank."
   ]
  },
  {
   "cell_type": "markdown",
   "metadata": {},
   "source": [
    "### Answer 1"
   ]
  },
  {
   "cell_type": "markdown",
   "metadata": {},
   "source": [
    "$[27\\:kN, 1.33\\:m]$"
   ]
  },
  {
   "cell_type": "markdown",
   "metadata": {},
   "source": [
    "### Question 2"
   ]
  },
  {
   "cell_type": "markdown",
   "metadata": {},
   "source": [
    "The image below shows a sluice gate that consists of a quadrant of a circle of radius $1.5 \\:m$. The gate is $3\\:m$ wide (measured into the page). To open, the gate pivots counter-clockwise about its centre at $O$. The centre of gravity of the gate is shown denoted by the point $G$ and the gate has a mass of $6000\\:kg$. \n",
    "\n",
    "Determine:\n",
    "\n",
    "- The magnitude of the resultant hydrostatic force acting on the gate, $R$.\n",
    "\n",
    "- The angle of orientation of $R$, $\\theta$.\n",
    "\n",
    "- The moment required to open the gate."
   ]
  },
  {
   "cell_type": "markdown",
   "metadata": {},
   "source": [
    "![title](img/T1W10/img2.jpg)\n",
    "<center>Sluice gate © Douglas et al. 2001</center>"
   ]
  },
  {
   "cell_type": "markdown",
   "metadata": {},
   "source": [
    "### Answer 2"
   ]
  },
  {
   "cell_type": "markdown",
   "metadata": {},
   "source": [
    "$[R=61,648\\:N$, $\\theta = 57.5^\\circ$, $M = 35,316\\:Nm]$"
   ]
  },
  {
   "cell_type": "markdown",
   "metadata": {},
   "source": [
    "### Question 3"
   ]
  },
  {
   "cell_type": "markdown",
   "metadata": {},
   "source": [
    "The image below shows a rectangular sluice gate hinged at $A$. The gate is $1.2\\: m$ wide by $0.9\\: m$ long ($0.9\\: m$ from $A$ to $B$). The gate is kept closed by the combined weight of the gate and additional ballast fixed to the gate. The combined weight of the gate and ballast is denoted as $W$ and is $9810\\:N$. $W$ is shown acting through the centre of gravity of the gate at $G$. \n",
    "\n",
    "Determine the height of water $h$, that will just case the gate to open. "
   ]
  },
  {
   "cell_type": "markdown",
   "metadata": {},
   "source": [
    "![title](img/T1W10/img1.jpg)\n",
    "<center>Sluice gate © Douglas et al. 2001</center>"
   ]
  },
  {
   "cell_type": "markdown",
   "metadata": {},
   "source": [
    "**Hint:**\n",
    "\n",
    "Use a pressure diagram (discussed in section 3 of the notes) to determine an expression for the hydrostatic force on the gate as a function of $h$ and remember that the pressure diagram should be drawn perpendicular to the inclined face of the gate. "
   ]
  },
  {
   "cell_type": "markdown",
   "metadata": {},
   "source": [
    "### Answer 3"
   ]
  },
  {
   "cell_type": "markdown",
   "metadata": {},
   "source": [
    "$[h=88m]$"
   ]
  }
 ],
 "metadata": {
  "hide_input": false,
  "kernelspec": {
   "display_name": "Python 3",
   "language": "python",
   "name": "python3"
  },
  "language_info": {
   "codemirror_mode": {
    "name": "ipython",
    "version": 3
   },
   "file_extension": ".py",
   "mimetype": "text/x-python",
   "name": "python",
   "nbconvert_exporter": "python",
   "pygments_lexer": "ipython3",
   "version": "3.6.4"
  }
 },
 "nbformat": 4,
 "nbformat_minor": 2
}
