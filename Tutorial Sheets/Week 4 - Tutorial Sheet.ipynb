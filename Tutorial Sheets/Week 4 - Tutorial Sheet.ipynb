{
 "cells": [
  {
   "cell_type": "code",
   "execution_count": 1,
   "metadata": {
    "deletable": false,
    "editable": false,
    "hide_input": true
   },
   "outputs": [
    {
     "name": "stdout",
     "output_type": "stream",
     "text": [
      "- Dependencies imported 👍\n",
      "- Remember to select 'Kernel-> Restart & Run All' on first load to show embedded Youtube videos 🎬\n",
      "- Author: Dr SPCarroll, Sept 2020, Rev 0\n"
     ]
    }
   ],
   "source": [
    "#DEPENDENCIES & INITIALISATIONS\n",
    "from IPython.display import HTML #For embedding videos\n",
    "import math #Basic math functionality\n",
    "import numpy as np #Numpy for working with arrays\n",
    "import matplotlib.pyplot as plt #Plotting functionality \n",
    "#HTML('<center><iframe width=\"560\" height=\"315\" src=\"#\" frameborder=\"0\" allowfullscreen></iframe></center>')\n",
    "print(\"- Dependencies imported 👍\")\n",
    "print(\"- Remember to select 'Kernel-> Restart & Run All' on first load to show embedded Youtube videos 🎬\")\n",
    "print(\"- Author: Dr SPCarroll, Sept 2020, Rev 0\")"
   ]
  },
  {
   "cell_type": "markdown",
   "metadata": {},
   "source": [
    "## Week 4 Tutorials - Introduction to bending moments and shear forces"
   ]
  },
  {
   "cell_type": "markdown",
   "metadata": {},
   "source": [
    "### Question 1"
   ]
  },
  {
   "cell_type": "markdown",
   "metadata": {},
   "source": [
    "![title](img/T1W4/image1.jpg)"
   ]
  },
  {
   "cell_type": "markdown",
   "metadata": {},
   "source": [
    "**(i) Derive expressions for the shear force and bending moment as a function of position along the beam, x.** \n",
    "\n",
    "**(ii) Sketch the shear force and bending moment diagram for the beam.** \n",
    "\n",
    "**(iii) Stretch goal - try to write some Python code to plot the shear force and bending moment diagrams**\n",
    "\n",
    "**Hint:** You will need to generate a range of x-values and use a **for loop** to cycle through them. Within the for loop, use **if/elif** conditions to test which of your equations should be used to calculate shear force and bending moment for that value of x."
   ]
  },
  {
   "cell_type": "markdown",
   "metadata": {},
   "source": [
    "### Question 2"
   ]
  },
  {
   "cell_type": "markdown",
   "metadata": {},
   "source": [
    "![title](img/T1W4/image2.jpg)"
   ]
  },
  {
   "cell_type": "markdown",
   "metadata": {},
   "source": [
    "**(i) Derive expressions for the shear force and bending moment as a function of position along the beam, x.** \n",
    "\n",
    "**(ii) Sketch the shear force and bending moment diagram for the beam.** \n",
    "\n",
    "**(iii) Stretch goal - try to write some Python code to plot the shear force and bending moment diagrams**\n",
    "\n",
    "**Hint:** You will need to generate a range of x-values and use a **for loop** to cycle through them. Within the for loop, use **if/elif** conditions to test which of your equations should be used to calculate shear force and bending moment for that value of x."
   ]
  },
  {
   "cell_type": "markdown",
   "metadata": {},
   "source": [
    "### Question 3"
   ]
  },
  {
   "cell_type": "markdown",
   "metadata": {},
   "source": [
    "![title](img/T1W4/image3.jpg)"
   ]
  },
  {
   "cell_type": "markdown",
   "metadata": {},
   "source": [
    "**(i) Derive an expression for the shear force and bending between A and B, as a function of x.**\n",
    "\n",
    "**(ii) Derive an expression for the location of the maximum bending moment between A and B.**\n",
    "\n",
    "**(iii) Derive an expression for the maximum bending moment between A and B.**\n",
    "\n",
    "**(iv) Derive an expression for the shear force at the location of the maximum bending moment between A and B.**\n"
   ]
  },
  {
   "cell_type": "markdown",
   "metadata": {},
   "source": [
    "<hr>"
   ]
  },
  {
   "cell_type": "markdown",
   "metadata": {},
   "source": [
    "### Answer 1 (i)"
   ]
  },
  {
   "cell_type": "markdown",
   "metadata": {},
   "source": [
    "For $0\\leq x \\leq 4$:\n",
    "\n",
    "\\begin{align}\n",
    "&M(x) = 54.69x\\\\ \n",
    "&S(x) = 54.69 \n",
    "\\end{align}\n",
    "\n",
    "For $4\\leq x \\leq 8$:\n",
    "\n",
    "\\begin{align}\n",
    "&M(x) = 4.69x + 200\\\\ \n",
    "&S(x) = 4.69 \n",
    "\\end{align}\n",
    "\n",
    "For $8\\leq x \\leq 13$:\n",
    "\n",
    "\\begin{align}\n",
    "&M(x) = -5x^2 + 84.69x -120\\\\ \n",
    "&S(x) = -10x + 84.69\n",
    "\\end{align}\n",
    "\n",
    "For $13\\leq x \\leq 16$:\n",
    "\n",
    "\\begin{align}\n",
    "&M(x) = -45.31x+725\\\\ \n",
    "&S(x) = -45.31\n",
    "\\end{align}\n",
    "\n",
    "\n"
   ]
  },
  {
   "cell_type": "markdown",
   "metadata": {},
   "source": [
    "### Answer 2 (i)"
   ]
  },
  {
   "cell_type": "markdown",
   "metadata": {},
   "source": [
    "For $0\\leq x \\leq 3$:\n",
    "\n",
    "\\begin{align}\n",
    "&M(x) = \\frac{-50x^3}{24}\\\\ \n",
    "&S(x) =  \\frac{-50x^2}{8}\n",
    "\\end{align}\n",
    "\n",
    "For $3\\leq x \\leq 4$:\n",
    "\n",
    "\\begin{align}\n",
    "&M(x) = \\frac{-50x^3}{24} + 187.75x - 563.25\\\\ \n",
    "&S(x) = \\frac{-50x^2}{8} + 187.75 \n",
    "\\end{align}\n",
    "\n",
    "For $4\\leq x \\leq 9$:\n",
    "\n",
    "\\begin{align}\n",
    "&M(x) = -10x^2 + 167.75 x - 456.25\\\\ \n",
    "&S(x) = -20x + 167.75 \n",
    "\\end{align}\n",
    "\n",
    "For $9\\leq x \\leq 15$:\n",
    "\n",
    "\\begin{align}\n",
    "&M(x) = -10x^2 + 167.75x -356.25\\\\ \n",
    "&S(x) = -20x + 167.75 \n",
    "\\end{align}\n",
    "\n",
    "For $15\\leq x \\leq 18$:\n",
    "\n",
    "\\begin{align}\n",
    "&M(x) = -10x^2 + 360x -3240\\\\ \n",
    "&S(x) = -20x + 360 \n",
    "\\end{align}\n",
    "\n",
    "\n"
   ]
  },
  {
   "cell_type": "markdown",
   "metadata": {},
   "source": [
    "### Answer 3"
   ]
  },
  {
   "cell_type": "markdown",
   "metadata": {},
   "source": [
    "(i) Shear force between A and B as a function of x:\n",
    "\n",
    "\\begin{align}\n",
    "& S = \\frac{3wL}{8} - wx\\\\\n",
    "& M = \\frac{-wx^2}{2} + \\frac{3wLx}{8}\n",
    "\\end{align}\n",
    "\n",
    "(ii) Location of max bending moment between A and B:\n",
    "\\begin{equation}\n",
    "x = \\frac{3L}{8}\n",
    "\\end{equation}\n",
    "\n",
    "(iii) Max moment between A and B:\n",
    "\\begin{equation}\n",
    "M_{\\text{max}} = \\frac{9wL^2}{128}\n",
    "\\end{equation}\n",
    "\n",
    "(iv) Shear force at point of max moment:\n",
    "\\begin{equation}\n",
    "S = 0\n",
    "\\end{equation}"
   ]
  }
 ],
 "metadata": {
  "hide_input": false,
  "kernelspec": {
   "display_name": "Python 3",
   "language": "python",
   "name": "python3"
  },
  "language_info": {
   "codemirror_mode": {
    "name": "ipython",
    "version": 3
   },
   "file_extension": ".py",
   "mimetype": "text/x-python",
   "name": "python",
   "nbconvert_exporter": "python",
   "pygments_lexer": "ipython3",
   "version": "3.6.4"
  }
 },
 "nbformat": 4,
 "nbformat_minor": 2
}
