{
 "cells": [
  {
   "cell_type": "code",
   "execution_count": 1,
   "metadata": {
    "deletable": false,
    "editable": false,
    "hide_input": true
   },
   "outputs": [
    {
     "name": "stdout",
     "output_type": "stream",
     "text": [
      "- Dependencies imported 👍\n",
      "- Remember to select 'Kernel-> Restart & Run All' on first load to show embedded Youtube videos 🎬\n",
      "- Author: Dr SPCarroll, Sept 2020, Rev 0\n"
     ]
    }
   ],
   "source": [
    "#DEPENDENCIES & INITIALISATIONS\n",
    "from IPython.display import HTML #For embedding videos\n",
    "import math #Basic math functionality\n",
    "import numpy as np #Numpy for working with arrays\n",
    "import matplotlib.pyplot as plt #Plotting functionality \n",
    "#HTML('<iframe width=\"560\" height=\"315\" src=\"#\" frameborder=\"0\" allowfullscreen></iframe>')\n",
    "print(\"- Dependencies imported 👍\")\n",
    "print(\"- Remember to select 'Kernel-> Restart & Run All' on first load to show embedded Youtube videos 🎬\")\n",
    "print(\"- Author: Dr SPCarroll, Sept 2020, Rev 0\")"
   ]
  },
  {
   "cell_type": "markdown",
   "metadata": {
    "hide_input": false
   },
   "source": [
    "![title](img/T1W2/banner.jpg)"
   ]
  },
  {
   "cell_type": "markdown",
   "metadata": {
    "hide_input": true
   },
   "source": [
    "# Week 2: Free body diagrams, equilibrium and reactions"
   ]
  },
  {
   "cell_type": "markdown",
   "metadata": {},
   "source": [
    "## 1.0 Free body diagrams"
   ]
  },
  {
   "cell_type": "markdown",
   "metadata": {},
   "source": [
    "A free body diagram (FBD) of an object is a diagram in which only the forces imposed on that object are represented. FBDs are a simple tool to help us identify all of the forces that influence an object or structure. Typically one of the first steps in the analysis of a structure is to sketch out the FBD for the structure, identifying all of the forces that must be considered in the analysis.\n",
    "\n",
    "So a simple example of a FBD for a mass sitting on a horizontal surface is shown below."
   ]
  },
  {
   "cell_type": "markdown",
   "metadata": {},
   "source": [
    "![title](img/T1W2/image1.jpg)\n",
    "<center>Simple free body diagram</center>"
   ]
  },
  {
   "cell_type": "markdown",
   "metadata": {},
   "source": [
    "We can see the influence of gravity represented by the gravitational force $F_G$, while the equal magnitude (opposite direction) **reaction force** imposed by the supporting surface is represented by $F_R$. From this we identify that there are only two vertical forces acting on the mass. This is a trivial example but FBDs are particularly helpful when analysing more complex systems. \n",
    "\n",
    "Consider a slightly more complex example of a pendulum swinging through the air. "
   ]
  },
  {
   "cell_type": "markdown",
   "metadata": {},
   "source": [
    "![title](img/T1W2/image2.jpg)\n",
    "<center>Free body diagram for a swinging pendulum</center>"
   ]
  },
  {
   "cell_type": "markdown",
   "metadata": {},
   "source": [
    "In this case we identify,\n",
    "- The force due to gravity, $F_G$\n",
    "- The tension force in the suspension cable, $F_T$\n",
    "- The drag force due to the presence of air, $F_D$\n",
    "- The inertia force present due to the fact that the mass has an acceleration, $F_I$\n",
    "\n",
    "All of these forces could be resolved into a set of orthogonal components in a common reference frame, facilitating further analysis of their influence on the mass. The FBD forces us to methodically analyse the problem to make sure we consider all forces at play. You are encouraged to get into the habit of drawing FBDs as your first step in any structural analysis. "
   ]
  },
  {
   "cell_type": "markdown",
   "metadata": {},
   "source": [
    "## 2.0 Equilibrium "
   ]
  },
  {
   "cell_type": "markdown",
   "metadata": {},
   "source": [
    "An object is in a state of static equilibrium if the sum of all forces and moments acting on the object are zero and the object is at rest. This is a direct result of Newton's second law which states that a body remains at rest or moving with a constant velocity unless an unbalanced force acts upon it. From this we note that equilibrium can also apply to moving objects provided they are moving at a constant velocity. Such objects are said to be in a state of dynamic equilibrium. For now, we will just concern ourselves with objects in a state of static equilibrium.  \n",
    "\n",
    "If we again only consider forces and moments in a 2D plane (as we did for our discussion of equivalent systems), we can say that an object is in a state of static equilibrium if it satisfies the following three conditions,\n",
    "\n",
    "\\begin{equation}\n",
    "\\sum F_x = 0\n",
    "\\end{equation}\n",
    "\n",
    "\\begin{equation}\n",
    "\\sum F_y = 0\n",
    "\\end{equation}\n",
    "\n",
    "\\begin{equation}\n",
    "\\sum M = 0\n",
    "\\end{equation}\n",
    "\n",
    "Note here that we are considering the orthogonal components of forces experienced by an object separately. If any of these conditions is not satisfied, the object will not be in a state of static equilibrium and will undergo a change in its velocity. \n",
    "\n",
    "We often use these three equations to identify unknown forces or moments in a system. As there are three equations we can solve for up to three unknowns. We'll see this in action when we evaluate the reaction forces in the next section.  "
   ]
  },
  {
   "cell_type": "markdown",
   "metadata": {},
   "source": [
    "## 3.0 Supports and Reaction Forces"
   ]
  },
  {
   "cell_type": "markdown",
   "metadata": {},
   "source": [
    "We saw above that an object resting on a horizontal surface, experienced a reaction force. Newton's third law states that for every action there is an equal (magnitude) and opposite (direction) reaction. Therefore the reaction force in this case is the force imposed by the support surface back onto the object. That reaction force is equal in magnitude to the gravitational force imposed by the object onto the surface. \n",
    "\n",
    "As engineers it's important that we understand the forces and moments our structures impose on their supports or foundations. In order to design foundations that will not experience unacceptable settlements for example, we need to know the forces and moments imposed by the structure. We also need to know what kind of support a particular foundation or support type will provide to our structure.\n",
    "\n",
    "There are three common support models we employ to approximate real-world support or foundation behaviour. \n",
    "\n",
    "### 3.1 Build-in / cantilever / encastre supports \n",
    "\n",
    "A built-in support resists:\n",
    "- vertical motion, i.e. it allows a vertical reaction to be generated\n",
    "- horizontal motion, i.e. it allows a horizontal reaction to be generated\n",
    "- rotational motion, i.e. it allows a moment reaction to be generated"
   ]
  },
  {
   "cell_type": "markdown",
   "metadata": {},
   "source": [
    "![title](img/T1W2/image3.jpg)\n",
    "<center>Built in support with possible reactions</center>"
   ]
  },
  {
   "cell_type": "markdown",
   "metadata": {},
   "source": [
    "### 3.2 Pin support\n",
    "\n",
    "A pin support resists:\n",
    "- vertical motion, i.e. it allows a vertical reaction to be generated\n",
    "- horizontal motion, i.e. it allows a horizontal reaction to be generated\n",
    "\n",
    "There is no resistance to rotation at a pin support and as such no moment reaction can be generated."
   ]
  },
  {
   "cell_type": "markdown",
   "metadata": {},
   "source": [
    "![title](img/T1W2/image4.jpg)\n",
    "<center>Pin support with possible reactions</center>"
   ]
  },
  {
   "cell_type": "markdown",
   "metadata": {},
   "source": [
    "### 3.3 Roller support"
   ]
  },
  {
   "cell_type": "markdown",
   "metadata": {},
   "source": [
    "A roller support resists:\n",
    "- linear motion in one axis only, i.e. it allows a reaction force to be developed in one axis only\n",
    "\n",
    "Roller supports also do not provide any resistance to rotation. "
   ]
  },
  {
   "cell_type": "markdown",
   "metadata": {},
   "source": [
    "![title](img/T1W2/image5.jpg)\n",
    "<center>Roller support with single possible reaction</center>"
   ]
  },
  {
   "cell_type": "markdown",
   "metadata": {},
   "source": [
    "These three support types are **idealised models** of support behaviour. In reality no support behaves *exactly* according to these models. For example, if we plan to design a foundation that will stop our structure from rotating at that point, we will model the foundation as a fixed or built-in support. However, if based on engineering judgement, we don't believe the foundation, when constructed will offer significant resistance to rotation, we might model it as a pin or roller. For example consider how the three column supports pictured below would map onto our models of support. "
   ]
  },
  {
   "cell_type": "markdown",
   "metadata": {},
   "source": [
    "![title](img/T1W2/image6.jpg)\n",
    "<center>3 foundation support configurations and potential models</center>"
   ]
  },
  {
   "cell_type": "markdown",
   "metadata": {},
   "source": [
    "The ability to appropriately map real-world behaviour is a key part of becoming a competent engineer and is a common feature in engineering analysis. You will need to build up your knowledge and intuition about how well your analysis models approximate actual behaviour. Broadly speaking, your formal education here will largely focus on equipping you with models and the knowledge to manipulate them. During your first 3-5 years as a practicing engineer you will build your intuition for relating real-world behaviour to the mathematical models you learned about in university. (This is why it typically takes 4/5 years of post-graduation experience before you will be ready to become a chartered engineer). "
   ]
  },
  {
   "cell_type": "markdown",
   "metadata": {},
   "source": [
    "### 3.4 Reaction Forces & Statical Determinacy "
   ]
  },
  {
   "cell_type": "markdown",
   "metadata": {},
   "source": [
    "Once the supports for a structure have been appropriately modelled, we must determine the magnitude and direction of the various reactions developed at the supports. In order to do this we make the assumption that our structure is in a state of static equilibrium. This allows us to use the three equations of equilibrium above to solve for the unknown reactions.\n",
    "\n",
    "### Example #1\n",
    "\n",
    "Consider the following beam subject to two point loads. The beam has a pin support at its left end and a roller support at its right hand side. This support configuration (pin and roller) is very common and a beam with this support configuration is often said to be **simply supported**."
   ]
  },
  {
   "cell_type": "markdown",
   "metadata": {},
   "source": [
    "![title](img/T1W2/image7.jpg)\n",
    "<center>Simply supported beam subject to two point loads</center>"
   ]
  },
  {
   "cell_type": "markdown",
   "metadata": {},
   "source": [
    "### Solution #1"
   ]
  },
  {
   "cell_type": "code",
   "execution_count": 2,
   "metadata": {
    "hide_input": true
   },
   "outputs": [
    {
     "data": {
      "text/html": [
       "<center><iframe width=\"560\" height=\"315\" src=\"https://www.youtube.com/embed/2C0wIPrgzlA\" frameborder=\"0\" allow=\"accelerometer; autoplay; encrypted-media; gyroscope; picture-in-picture\" allowfullscreen></iframe></center>"
      ],
      "text/plain": [
       "<IPython.core.display.HTML object>"
      ]
     },
     "execution_count": 2,
     "metadata": {},
     "output_type": "execute_result"
    }
   ],
   "source": [
    "HTML('<center><iframe width=\"560\" height=\"315\" src=\"https://www.youtube.com/embed/2C0wIPrgzlA\" frameborder=\"0\" allow=\"accelerometer; autoplay; encrypted-media; gyroscope; picture-in-picture\" allowfullscreen></iframe></center>')"
   ]
  },
  {
   "cell_type": "markdown",
   "metadata": {},
   "source": [
    "### Coded solution #1"
   ]
  },
  {
   "cell_type": "code",
   "execution_count": 9,
   "metadata": {},
   "outputs": [
    {
     "name": "stdout",
     "output_type": "stream",
     "text": [
      "1. The vertical reaction at support A is 48.0 kN upwards\n",
      "2. The vertical reaction at support B is 27.0 kN upwards\n",
      "3. By inspection, the horizontal reaction at A is zero\n"
     ]
    }
   ],
   "source": [
    "#Define some variables\n",
    "L = 15 #(m) Span of the beam between supports\n",
    "P1 = 45 #(kN) Magnitude of first point load (left-to-right)\n",
    "x1 = 3 #(m) Position of first point load from left hand support \n",
    "P2 = 30 #(kN) Magnitude of second point load (left-to-right)\n",
    "x2 = 9 #(m) Position of second point load from left hand support \n",
    "\n",
    "#Calculate reactions\n",
    "Vb = ((P1*x1) + (P2*x2))/L\n",
    "Va = P1+P2-Vb\n",
    "\n",
    "#Determine direction of Va\n",
    "if(Va>0):\n",
    "    dirA = 'upwards'\n",
    "elif(Va<0):\n",
    "    dirA = 'downwards'\n",
    "else:\n",
    "    dirA=\"\"\n",
    "\n",
    "#Determine direction of Vb\n",
    "if(Vb>0):\n",
    "    dirB = 'upwards'\n",
    "elif(Vb<0):\n",
    "    dirB = 'downwards'\n",
    "else:\n",
    "    dirB=\"\"\n",
    "\n",
    "#Output statements\n",
    "print('1. The vertical reaction at support A is {one} kN '.format(one=Va)+dirA)\n",
    "print('2. The vertical reaction at support B is {one} kN '.format(one=Vb)+dirB)\n",
    "print('3. By inspection, the horizontal reaction at A is zero')"
   ]
  },
  {
   "cell_type": "markdown",
   "metadata": {},
   "source": [
    "We've seen in example 1 that there were three unknown reactions and therefore our 3 equations of statics were sufficient to determine the unknown reactions. This structure (beam & supports) is known as **statically determinate**, i.e. the reactions can be fully determined using the equations of statics. Consider the same beam but with a built-in support at A instead of a pin and the roller at B removed. This structure is known as a **cantilever beam**."
   ]
  },
  {
   "cell_type": "markdown",
   "metadata": {},
   "source": [
    "### Example #2"
   ]
  },
  {
   "cell_type": "markdown",
   "metadata": {},
   "source": [
    "![title](img/T1W2/image8.jpg)\n",
    "<center>Cantilever beam subject to two point loads</center>"
   ]
  },
  {
   "cell_type": "markdown",
   "metadata": {},
   "source": [
    "### Solution #2"
   ]
  },
  {
   "cell_type": "code",
   "execution_count": 4,
   "metadata": {
    "hide_input": true
   },
   "outputs": [
    {
     "data": {
      "text/html": [
       "<center><iframe width=\"560\" height=\"315\" src=\"https://www.youtube.com/embed/oMtJd9MoJtk\" frameborder=\"0\" allow=\"accelerometer; autoplay; encrypted-media; gyroscope; picture-in-picture\" allowfullscreen></iframe></center>"
      ],
      "text/plain": [
       "<IPython.core.display.HTML object>"
      ]
     },
     "execution_count": 4,
     "metadata": {},
     "output_type": "execute_result"
    }
   ],
   "source": [
    "HTML('<center><iframe width=\"560\" height=\"315\" src=\"https://www.youtube.com/embed/oMtJd9MoJtk\" frameborder=\"0\" allow=\"accelerometer; autoplay; encrypted-media; gyroscope; picture-in-picture\" allowfullscreen></iframe></center>')"
   ]
  },
  {
   "cell_type": "markdown",
   "metadata": {},
   "source": [
    "### Coded solution #2"
   ]
  },
  {
   "cell_type": "code",
   "execution_count": 5,
   "metadata": {},
   "outputs": [
    {
     "name": "stdout",
     "output_type": "stream",
     "text": [
      "1. The vertical reaction at support A is 75 kN upwards\n",
      "2. The moment reaction at support A is -405 kNm counter-clockwise\n",
      "3. By inspection, the horizontal reaction at A is zero\n"
     ]
    }
   ],
   "source": [
    "#Calculate reactions\n",
    "Ma = -((P1*x1) + (P2*x2))\n",
    "Va = P1+P2\n",
    "Vb = 0\n",
    "\n",
    "#Determine direction of Va\n",
    "if(Va>0):\n",
    "    dirA = 'upwards'\n",
    "elif(Va<0):\n",
    "    dirA = 'downwards'\n",
    "else:\n",
    "    dirA=\"\"\n",
    "\n",
    "#Determine orientation of Ma\n",
    "if(Ma>0):\n",
    "    dirMa = 'clockwise'\n",
    "elif(Ma<0):\n",
    "    dirMa = 'counter-clockwise'\n",
    "else:\n",
    "    dirMa=\"\"\n",
    "\n",
    "#Output statements\n",
    "print('1. The vertical reaction at support A is {one} kN '.format(one=Va)+dirA)\n",
    "print('2. The moment reaction at support A is {one} kNm '.format(one=Ma)+dirMa)\n",
    "print('3. By inspection, the horizontal reaction at A is zero')"
   ]
  },
  {
   "cell_type": "markdown",
   "metadata": {},
   "source": [
    "Again, the cantilever from example 2 is a statically determinate structure. Now consider adding the roller support back in at B. This is now referred to as a **propped cantilever**.\n",
    "\n",
    "### Example #3"
   ]
  },
  {
   "cell_type": "markdown",
   "metadata": {},
   "source": [
    "![title](img/T1W2/image9.jpg)\n",
    "<center>Propped cantilever beam subject to two point loads</center>"
   ]
  },
  {
   "cell_type": "markdown",
   "metadata": {},
   "source": [
    "### Solution #3"
   ]
  },
  {
   "cell_type": "code",
   "execution_count": 6,
   "metadata": {
    "hide_input": true
   },
   "outputs": [
    {
     "data": {
      "text/html": [
       "<center><iframe width=\"560\" height=\"315\" src=\"https://www.youtube.com/embed/68bValCmosg\" frameborder=\"0\" allow=\"accelerometer; autoplay; encrypted-media; gyroscope; picture-in-picture\" allowfullscreen></iframe></center>"
      ],
      "text/plain": [
       "<IPython.core.display.HTML object>"
      ]
     },
     "execution_count": 6,
     "metadata": {},
     "output_type": "execute_result"
    }
   ],
   "source": [
    "HTML('<center><iframe width=\"560\" height=\"315\" src=\"https://www.youtube.com/embed/68bValCmosg\" frameborder=\"0\" allow=\"accelerometer; autoplay; encrypted-media; gyroscope; picture-in-picture\" allowfullscreen></iframe></center>')"
   ]
  },
  {
   "cell_type": "markdown",
   "metadata": {},
   "source": [
    "We can see from the previous three examples that statical determinacy is required if statics are to be used to determine reaction forces. This limits us to considering relatively simple structures for now. For more complex **statically indeterminate** structures we need to employ more sophisticated analysis techniques e.g. Virtual Work Analysis and the Direct Stiffness Method are two such methods you'll learn about during your degree. "
   ]
  },
  {
   "cell_type": "markdown",
   "metadata": {},
   "source": [
    "### Example #4\n",
    "Determine the support reactions for the structure shown below."
   ]
  },
  {
   "cell_type": "markdown",
   "metadata": {},
   "source": [
    "![title](img/T1W2/image10.jpg)\n",
    "<center>Simply supported beam with cantilever overhang</center>"
   ]
  },
  {
   "cell_type": "markdown",
   "metadata": {},
   "source": [
    "### Solution #4"
   ]
  },
  {
   "cell_type": "code",
   "execution_count": 7,
   "metadata": {
    "hide_input": true
   },
   "outputs": [
    {
     "data": {
      "text/html": [
       "<center><iframe width=\"560\" height=\"315\" src=\"https://www.youtube.com/embed/eQnZgZhefEM\" frameborder=\"0\" allow=\"accelerometer; autoplay; encrypted-media; gyroscope; picture-in-picture\" allowfullscreen></iframe></center>"
      ],
      "text/plain": [
       "<IPython.core.display.HTML object>"
      ]
     },
     "execution_count": 7,
     "metadata": {},
     "output_type": "execute_result"
    }
   ],
   "source": [
    "HTML('<center><iframe width=\"560\" height=\"315\" src=\"https://www.youtube.com/embed/eQnZgZhefEM\" frameborder=\"0\" allow=\"accelerometer; autoplay; encrypted-media; gyroscope; picture-in-picture\" allowfullscreen></iframe></center>')"
   ]
  },
  {
   "cell_type": "markdown",
   "metadata": {},
   "source": [
    "### Coded solution #4"
   ]
  },
  {
   "cell_type": "code",
   "execution_count": 8,
   "metadata": {},
   "outputs": [
    {
     "name": "stdout",
     "output_type": "stream",
     "text": [
      "1. The vertical reaction at support A is 34.3 kN upwards\n",
      "2. The vertical reaction at support B is 170.7 kN upwards\n",
      "3. By inspection, the horizontal reaction at A is zero\n"
     ]
    }
   ],
   "source": [
    "#Define some variables\n",
    "L1 = 11 #(m) Span of the beam between supports\n",
    "L2 = 3 #(m) Right side overhang length\n",
    "P1 = 80 #(kN) Magnitude of first point load (left-to-right)\n",
    "x1 = 5 #(m) Position of first point load from left hand support \n",
    "w = 25 #(kN/m) Magnitude of uniformly distributed load (UDL)\n",
    "x_start = 9 #(m) Position of start of UDL\n",
    "x_end = 14 #(m) Position of end of UDL\n",
    "M = 40 #(kNm) Magnitude of applied moment\n",
    "\n",
    "#Calculate reactions\n",
    "Vb = ((P1*x1) + (w*(x_end-x_start)*(x_start+(x_end-x_start)/2)) + M)/L1\n",
    "Va = P1-Vb+(w*(x_end-x_start))\n",
    "\n",
    "#Determine direction of Va\n",
    "if(Va>0):\n",
    "    dirA = 'upwards'\n",
    "elif(Va<0):\n",
    "    dirA = 'downwards'\n",
    "else:\n",
    "    dirA=\"\"\n",
    "\n",
    "#Determine direction of Vb\n",
    "if(Vb>0):\n",
    "    dirB = 'upwards'\n",
    "elif(Vb<0):\n",
    "    dirB = 'downwards'\n",
    "else:\n",
    "    dirB=\"\"\n",
    "\n",
    "#Output statements\n",
    "print('1. The vertical reaction at support A is {one} kN '.format(one=round(Va,1))+dirA)\n",
    "print('2. The vertical reaction at support B is {one} kN '.format(one=round(Vb,1))+dirB)\n",
    "print('3. By inspection, the horizontal reaction at A is zero')"
   ]
  },
  {
   "cell_type": "markdown",
   "metadata": {},
   "source": [
    "**You should now download the question sheet for this week and attempt all questions. You will have an opportunity to to get help in your tutorial session and worked solutions will be released next week.**  "
   ]
  }
 ],
 "metadata": {
  "hide_input": false,
  "kernelspec": {
   "display_name": "Python 3",
   "language": "python",
   "name": "python3"
  },
  "language_info": {
   "codemirror_mode": {
    "name": "ipython",
    "version": 3
   },
   "file_extension": ".py",
   "mimetype": "text/x-python",
   "name": "python",
   "nbconvert_exporter": "python",
   "pygments_lexer": "ipython3",
   "version": "3.6.4"
  },
  "toc": {
   "base_numbering": 1,
   "nav_menu": {},
   "number_sections": true,
   "sideBar": true,
   "skip_h1_title": false,
   "title_cell": "Table of Contents",
   "title_sidebar": "Contents",
   "toc_cell": false,
   "toc_position": {},
   "toc_section_display": true,
   "toc_window_display": false
  }
 },
 "nbformat": 4,
 "nbformat_minor": 2
}
