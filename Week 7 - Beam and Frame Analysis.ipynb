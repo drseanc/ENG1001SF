{
 "cells": [
  {
   "cell_type": "code",
   "execution_count": 3,
   "metadata": {
    "deletable": false,
    "editable": false,
    "hide_input": true
   },
   "outputs": [
    {
     "name": "stdout",
     "output_type": "stream",
     "text": [
      "- Dependencies imported 👍\n",
      "- Remember to select 'Kernel-> Restart & Run All' on first load to show embedded Youtube videos 🎬\n",
      "- Author: Dr SPCarroll, Sept 2020, Rev 0 [DRAFT]\n"
     ]
    }
   ],
   "source": [
    "#DEPENDENCIES & INITIALISATIONS\n",
    "from IPython.display import HTML #For embedding videos\n",
    "import math #Basic math functionality\n",
    "import numpy as np #Numpy for working with arrays\n",
    "import matplotlib.pyplot as plt #Plotting functionality \n",
    "#HTML('<iframe width=\"560\" height=\"315\" src=\"#\" frameborder=\"0\" allowfullscreen></iframe>')\n",
    "print(\"- Dependencies imported 👍\")\n",
    "print(\"- Remember to select 'Kernel-> Restart & Run All' on first load to show embedded Youtube videos 🎬\")\n",
    "print(\"- Author: Dr SPCarroll, Sept 2020, Rev 0 [DRAFT]\")"
   ]
  },
  {
   "cell_type": "markdown",
   "metadata": {
    "hide_input": true
   },
   "source": [
    "# Week 6: Beam and Frame Analysis"
   ]
  },
  {
   "cell_type": "markdown",
   "metadata": {},
   "source": [
    "![title](img/T1W6/banner.jpg)"
   ]
  },
  {
   "cell_type": "markdown",
   "metadata": {},
   "source": [
    "This week we're going to continue our analysis of structures undergoing shear and bending. We will again focus on building shear force and bending moment diagrams. However, we'll introduce two new factors to consider,\n",
    "- the influence of rotational hinges or pin joints within structures\n",
    "- the concept of joint equilibrium in frame structures\n",
    "\n",
    "Up until now, we have been considering simple one-dimensional beam structures. A frame is simply a two-dimensional structure that also developed shear forces, bending moments and axial forces. By the end of this week, you should be  comfortable constructing shear force and bending moment diagrams for statically determinate beam and frame structures."
   ]
  },
  {
   "cell_type": "markdown",
   "metadata": {},
   "source": [
    "## 1.0 Rotational Hinges / Pins "
   ]
  },
  {
   "cell_type": "markdown",
   "metadata": {},
   "source": [
    "We've already encountered pin joints in our study of truss structures in week 3. Remember, these joints only allow force transmission, no moment can be transferred across a pin joint. Pin joints can also appear in beam and frame structures. \n",
    "\n",
    "When analysing beam structures in week 5, the first step was to determine the support reactions. We established in week 2 that we could only determine up to three unknown reactions using our three equations of statics. However, if our structure contains a pin, this limit is increased by 1 to 4. Therefore we can calculate 4 unknown reactions and subsequently determine the shear and moment diagrams. In this section we'll look at some examples of analysing beams with pins. \n",
    "\n",
    "Consider the propped cantilever below."
   ]
  },
  {
   "cell_type": "markdown",
   "metadata": {},
   "source": [
    "![title](img/T1W6/image1.jpg)\n",
    "<center>Statically indeterminate propped cantilever</center>"
   ]
  },
  {
   "cell_type": "markdown",
   "metadata": {},
   "source": [
    "As we've already seen, this structure is statically indeterminate to $1^{\\circ}$. However, now consider the same structure with a rotational hinge/pin introduced between C and D at E."
   ]
  },
  {
   "cell_type": "markdown",
   "metadata": {},
   "source": [
    "![title](img/T1W6/image2.jpg)\n",
    "<center>Statically determinate propped cantilever with internal hinge</center>"
   ]
  },
  {
   "cell_type": "markdown",
   "metadata": {},
   "source": [
    "The presence of the hinge reduced the degree of indeterminacy by 1 and since the structure was only statically indeterminate to $1^{\\circ}$, the hinge renders it statically determinate. Now the question is how do we capitalise on the hinge and determine the support reactions?\n",
    "\n",
    "Whenever we encounter a hinge like this, our strategy is to **break the structure at the hinge** and consider the sub-structures on either side of the hinge separately."
   ]
  },
  {
   "cell_type": "markdown",
   "metadata": {},
   "source": [
    "![title](img/T1W6/image3.jpg)\n",
    "<center>Statically determinate propped cantilever with internal hinge, separated at the hinge</center>"
   ]
  },
  {
   "cell_type": "markdown",
   "metadata": {},
   "source": [
    "Note that we now denote the locations immediately to the left and right of the hinge as $E_L$ and $E_R$ respectively. By dividing or cutting the structure at the hinge, we reveal the force that is transmitted through the hinge. $F_{E,R}$ is the force exerted on the right side sub-structure by the left sub-structure. Similarly, $F_{E,L}$ is the force exerted on the left side sub-structure by the right sub-structure. Although we are indicating two forces ($F_{E,L}$ & $F_{E,R}$), both are in fact just different representations of the same force, the force transmitted through the hinge. \n",
    "\n",
    "Now, the left sub-structure still contains 4 unknown forces (3 reactions + $F_{E,L}$. However, the right sub-structure has only 2 unknowns and can be analysed. \n",
    "\n",
    "Taking the sum of the moments about point B,\n",
    "\n",
    "\\begin{equation*}\n",
    "\\sum M_{\\text{B}} = 0 \\:\\:(\\curvearrowright +ve)\n",
    "\\end{equation*}\n",
    "\n",
    "\\begin{equation*}\n",
    "F_{E,R} \\times 7.5 - 30\\times 6 = 0\n",
    "\\end{equation*}\n",
    "\n",
    "\\begin{equation*}\n",
    "\\therefore F_{E,R} = 24\\:\\text{kN}\\:\\:\\text{(acting upwards as shown)}\n",
    "\\end{equation*}\n",
    "\n",
    "Now evaluating the sum of the vertical forces for the right sub-structure yields the vertical reaction at B, $V_B$,\n",
    "\n",
    "\\begin{equation*}\n",
    "\\sum F_y = 0\\:\\:(\\uparrow+ve)\n",
    "\\end{equation*}\n",
    "\n",
    "\\begin{equation*}\n",
    "V_B = 6 \\:\\:\\text{kN (upwards)}\n",
    "\\end{equation*}\n",
    "\n",
    "Now we can also state the force on the left of the hinge, \n",
    "\n",
    "\\begin{equation*}\n",
    "\\therefore F_{E,L} = 24\\:\\text{kN}\\:\\:\\text{(acting downwards as shown)}\n",
    "\\end{equation*}\n",
    "\n",
    "This renders the left sub-structure statically determinate and open for analysis. Taking moments about point A,\n",
    "\n",
    "\\begin{equation*}\n",
    "\\sum M_{\\text{A}} = 0 \\:\\:(\\curvearrowright +ve)\n",
    "\\end{equation*}\n",
    "\n",
    "\\begin{equation*}\n",
    "M_A = (45\\times 3) + (24\\times 7.5) = 315\\:\\:\\text{kNm (counter-clockwise)}\n",
    "\\end{equation*}\n",
    "\n",
    "By inspection we can see that the horizontal reaction at A, $H_A = 0$ and the vertical reaction $V_A = 69\\:\\:\\text{kN}$ upwards. We can summarise our findings so far in a free body diagram below. Note that both force and moment equilibrium for the complete structure are maintained. "
   ]
  },
  {
   "cell_type": "markdown",
   "metadata": {},
   "source": [
    "![title](img/T1W6/image4.jpg)\n",
    "<center>Free body diagram showing reactions</center>"
   ]
  },
  {
   "cell_type": "markdown",
   "metadata": {},
   "source": [
    "We can now evaluate the shear force and bending moment diagram for the structure utilising what we've learned over the previous two weeks. \n",
    "\n",
    "<mark>YOU SHOULD ATTEMPT THIS BEFORE READING ON</mark>."
   ]
  },
  {
   "cell_type": "markdown",
   "metadata": {},
   "source": [
    "### 1.1 Shear force diagram & qualitative bending moment diagram"
   ]
  },
  {
   "cell_type": "code",
   "execution_count": 15,
   "metadata": {
    "hide_input": true
   },
   "outputs": [
    {
     "data": {
      "text/html": [
       "<center><iframe width=\"560\" height=\"315\" src=\"https://www.youtube.com/embed/GKdZA0IAo4w\" frameborder=\"0\" allowfullscreen></iframe></center>"
      ],
      "text/plain": [
       "<IPython.core.display.HTML object>"
      ]
     },
     "execution_count": 15,
     "metadata": {},
     "output_type": "execute_result"
    }
   ],
   "source": [
    "HTML('<center><iframe width=\"560\" height=\"315\" src=\"https://www.youtube.com/embed/GKdZA0IAo4w\" frameborder=\"0\" allowfullscreen></iframe></center>')"
   ]
  },
  {
   "cell_type": "markdown",
   "metadata": {},
   "source": [
    "### 1.2 Beam Example #1"
   ]
  },
  {
   "cell_type": "markdown",
   "metadata": {},
   "source": [
    "Consider the following beam that contains two hinges at B and D. Use what you've learned thus far, to determine the reactions, shear force diagram and bending moment diagram. Then attempt to sketch the qualitative deflected shape. Only when you've attempted the question yourself should you watch the video explanations below."
   ]
  },
  {
   "cell_type": "markdown",
   "metadata": {},
   "source": [
    "![title](img/T1W6/image5.jpg)\n",
    "<center>Beam with 2 hinges</center>"
   ]
  },
  {
   "cell_type": "markdown",
   "metadata": {},
   "source": [
    "#### 1.2.1 Reactions and Shear Force Diagram"
   ]
  },
  {
   "cell_type": "code",
   "execution_count": 12,
   "metadata": {
    "hide_input": false
   },
   "outputs": [
    {
     "data": {
      "text/html": [
       "<center><iframe width=\"560\" height=\"315\" src=\"https://www.youtube.com/embed/aLyUtjz3Jzs\" frameborder=\"0\" allowfullscreen></iframe></center>"
      ],
      "text/plain": [
       "<IPython.core.display.HTML object>"
      ]
     },
     "execution_count": 12,
     "metadata": {},
     "output_type": "execute_result"
    }
   ],
   "source": [
    "HTML('<center><iframe width=\"560\" height=\"315\" src=\"https://www.youtube.com/embed/aLyUtjz3Jzs\" frameborder=\"0\" allowfullscreen></iframe></center>')"
   ]
  },
  {
   "cell_type": "markdown",
   "metadata": {},
   "source": [
    "#### 1.2.2 Qualitative Bending Moment Diagram"
   ]
  },
  {
   "cell_type": "code",
   "execution_count": 13,
   "metadata": {
    "hide_input": true
   },
   "outputs": [
    {
     "data": {
      "text/html": [
       "<center><iframe width=\"560\" height=\"315\" src=\"https://www.youtube.com/embed/Pr3MsDg0MCM\" frameborder=\"0\" allowfullscreen></iframe></center>"
      ],
      "text/plain": [
       "<IPython.core.display.HTML object>"
      ]
     },
     "execution_count": 13,
     "metadata": {},
     "output_type": "execute_result"
    }
   ],
   "source": [
    "HTML('<center><iframe width=\"560\" height=\"315\" src=\"https://www.youtube.com/embed/Pr3MsDg0MCM\" frameborder=\"0\" allowfullscreen></iframe></center>')"
   ]
  },
  {
   "cell_type": "markdown",
   "metadata": {},
   "source": [
    "#### 1.2.3 Final Bending Moment Diagram and Deflected Shape"
   ]
  },
  {
   "cell_type": "code",
   "execution_count": 14,
   "metadata": {
    "hide_input": true
   },
   "outputs": [
    {
     "data": {
      "text/html": [
       "<center><iframe width=\"560\" height=\"315\" src=\"https://www.youtube.com/embed/uHxUvyvRggc\" frameborder=\"0\" allowfullscreen></iframe></center>"
      ],
      "text/plain": [
       "<IPython.core.display.HTML object>"
      ]
     },
     "execution_count": 14,
     "metadata": {},
     "output_type": "execute_result"
    }
   ],
   "source": [
    "HTML('<center><iframe width=\"560\" height=\"315\" src=\"https://www.youtube.com/embed/uHxUvyvRggc\" frameborder=\"0\" allowfullscreen></iframe></center>')"
   ]
  },
  {
   "cell_type": "markdown",
   "metadata": {},
   "source": [
    "## 2.0 Frame analysis and joint equilibrium"
   ]
  },
  {
   "cell_type": "markdown",
   "metadata": {},
   "source": [
    "Although 'frame analysis' appears here as a separate section, it's really just a continuation of the methods and techniques we've explored above for beams. We'll look at a couple of examples to demonstrate this below.\n",
    "\n",
    "However, there is one additional point worth highlighting; When two members or elements meet at a joint, there must be force and moment equilibrium at the joint. In other words, if we isolate a joint by cutting the members framing into the joint, the internal forces and moments revealed by the cuts must be in equilibrium. \n",
    "\n",
    "This is simply an extension of what we observed when analysing joint equilbrium for truss structures in week 3. We've just extended this to include moments (which obviously were not present at joints on pin-jpinted trusses. We will highlight joint equilibrium in the examples below. "
   ]
  },
  {
   "cell_type": "markdown",
   "metadata": {},
   "source": [
    "### 2.1 Frame Example 1"
   ]
  },
  {
   "cell_type": "markdown",
   "metadata": {},
   "source": [
    "![title](img/T1W6/image6.jpg)\n",
    "<center>Frame example 1</center>"
   ]
  },
  {
   "cell_type": "markdown",
   "metadata": {},
   "source": [
    "#### 2.1.1 Reactions and Cuts"
   ]
  },
  {
   "cell_type": "code",
   "execution_count": null,
   "metadata": {},
   "outputs": [],
   "source": [
    "HTML('<center><iframe width=\"560\" height=\"315\" src=\"\" frameborder=\"0\" allowfullscreen></iframe></center>')"
   ]
  },
  {
   "cell_type": "markdown",
   "metadata": {},
   "source": [
    "#### 2.1.2 Diagrams"
   ]
  },
  {
   "cell_type": "code",
   "execution_count": null,
   "metadata": {},
   "outputs": [],
   "source": [
    "HTML('<center><iframe width=\"560\" height=\"315\" src=\"\" frameborder=\"0\" allowfullscreen></iframe></center>')"
   ]
  },
  {
   "cell_type": "markdown",
   "metadata": {},
   "source": [
    "### 2.2 Frame Example 2"
   ]
  },
  {
   "cell_type": "markdown",
   "metadata": {},
   "source": [
    "![title](img/T1W6/image7.jpg)\n",
    "<center>Frame example 2</center>"
   ]
  },
  {
   "cell_type": "code",
   "execution_count": null,
   "metadata": {},
   "outputs": [],
   "source": []
  }
 ],
 "metadata": {
  "hide_input": false,
  "kernelspec": {
   "display_name": "Python 3",
   "language": "python",
   "name": "python3"
  },
  "language_info": {
   "codemirror_mode": {
    "name": "ipython",
    "version": 3
   },
   "file_extension": ".py",
   "mimetype": "text/x-python",
   "name": "python",
   "nbconvert_exporter": "python",
   "pygments_lexer": "ipython3",
   "version": "3.6.4"
  },
  "toc": {
   "base_numbering": 1,
   "nav_menu": {},
   "number_sections": true,
   "sideBar": true,
   "skip_h1_title": false,
   "title_cell": "Table of Contents",
   "title_sidebar": "Contents",
   "toc_cell": false,
   "toc_position": {},
   "toc_section_display": true,
   "toc_window_display": false
  }
 },
 "nbformat": 4,
 "nbformat_minor": 2
}
