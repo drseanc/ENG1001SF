{
 "cells": [
  {
   "cell_type": "code",
   "execution_count": 1,
   "metadata": {
    "deletable": false,
    "editable": false,
    "hide_input": true
   },
   "outputs": [
    {
     "name": "stdout",
     "output_type": "stream",
     "text": [
      "- Dependencies imported 👍\n",
      "- Remember to select 'Kernel-> Restart & Run All' on first load to show embedded Youtube videos 🎬\n",
      "- Author: Dr SPCarroll, Sept 2020, Rev 0\n"
     ]
    }
   ],
   "source": [
    "#DEPENDENCIES & INITIALISATIONS\n",
    "from IPython.display import HTML #For embedding videos\n",
    "import math #Basic math functionality\n",
    "import numpy as np #Numpy for working with arrays\n",
    "import matplotlib.pyplot as plt #Plotting functionality \n",
    "#HTML('<iframe width=\"560\" height=\"315\" src=\"#\" frameborder=\"0\" allowfullscreen></iframe>')\n",
    "print(\"- Dependencies imported 👍\")\n",
    "print(\"- Remember to select 'Kernel-> Restart & Run All' on first load to show embedded Youtube videos 🎬\")\n",
    "print(\"- Author: Dr SPCarroll, Sept 2020, Rev 0\")"
   ]
  },
  {
   "cell_type": "markdown",
   "metadata": {
    "hide_input": false
   },
   "source": [
    "# Week 9: Pressure and head\n",
    "Reference: Chapter 2, Douglas, Gasiorek and Swaffield, 2001"
   ]
  },
  {
   "cell_type": "markdown",
   "metadata": {},
   "source": [
    "![title](img/T1W9/banner.jpg)"
   ]
  },
  {
   "cell_type": "markdown",
   "metadata": {},
   "source": [
    "## 1.0 Pressure"
   ]
  },
  {
   "cell_type": "markdown",
   "metadata": {},
   "source": [
    "Pressure is a normal (perpendicular) force applied to a surface per unit area. This can be the force applied by a fluid per unit area.\n",
    "\n",
    "\\begin{equation}\n",
    "\\text{Pressure} \\:(p) = \\frac{\\text{Force exerted}\\:(F)}{\\text{Area of application}\\:(A)}\n",
    "\\end{equation}\n",
    "\n",
    "Pressure therefore has units of $N\\:m^{-2}$ or Pascal $(Pa)$. Note that $1 \\:Pa = 1 \\:Nm^{-2}$. In the following discussion we will discuss key features of pressure and its variation. "
   ]
  },
  {
   "cell_type": "markdown",
   "metadata": {},
   "source": [
    "### 1.1 Pascal's Law for Pressure at a Point"
   ]
  },
  {
   "cell_type": "markdown",
   "metadata": {},
   "source": [
    "Pascal's law for pressure at a point simply states that the pressure at a point is the same in all directions. In other words, pressure applied at one point of a liquid is transmitted equally in all directions. We can prove this by considering a triangular wedge shaped element of fluid. "
   ]
  },
  {
   "cell_type": "markdown",
   "metadata": {},
   "source": [
    "![title](img/T1W9/image1.jpg)\n",
    "<center>Wedge shaped fluid element. © Douglas et al. 2001</center>"
   ]
  },
  {
   "cell_type": "markdown",
   "metadata": {},
   "source": [
    "The wedge is characterised by an angle $\\theta$. The pressures on each face are represented by $p_x$, $p_y$ and $p_s$ on the x-face, y-face and inclined face respectively. By considering horizontal and vertical force equilibrium of this element we can show that $p_s = p_x = p_y$.\n",
    "\n",
    "Consider force equilibrium in the x-direction and assuming forces to the right are positive,\n",
    "\n",
    "\\begin{equation}\n",
    "\\text{Force due to}\\: p_x = p_x\\delta y \\delta z\n",
    "\\end{equation}\n",
    "\n",
    "\\begin{equation}\n",
    "\\text{Horizontal component of force due to}\\: p_s = -p_s\\:\\delta s\\:\\delta z \\:\\sin \\theta\n",
    "\\end{equation}\n",
    "\n",
    "Noting that $\\sin \\theta = \\delta y/ \\delta s$ and equating forces,\n",
    "\n",
    "\\begin{equation}\n",
    "p_x\\delta y \\delta z = p_s\\:\\delta s\\:\\delta z\\:\\frac{\\delta y}{\\delta s}\n",
    "\\end{equation}\n",
    "\n",
    "Therefore, $p_x = p_s$. The same exercise can be repeated for the y and z axes to confirm Pascal's law for pressure at a point, $p_s = p_x = p_y$. Remember that $p_s$ was the pressure on a plane at *any* angle $\\theta$, therefore the pressure is equal in *any* direction."
   ]
  },
  {
   "cell_type": "markdown",
   "metadata": {},
   "source": [
    "### 1.2 Variation of pressure with depth"
   ]
  },
  {
   "cell_type": "markdown",
   "metadata": {},
   "source": [
    "We will now prove a result that we're mostly already familiar with; *pressure increases with depth*. This can be achieved in a similar manner to our derivation of Pascal's law above. Consider an element of fluid, this time in the shape of a cylinder rather than a wedge. The cylindrical element of fluid is itself part of a larger body of fluid with mass density, $\\rho$."
   ]
  },
  {
   "cell_type": "markdown",
   "metadata": {},
   "source": [
    "![title](img/T1W9/image2.jpg)\n",
    "<center>Vertical cylindrical fluid element. © Douglas et al. 2001</center>"
   ]
  },
  {
   "cell_type": "markdown",
   "metadata": {},
   "source": [
    "Let the circular ends of the cylinder have area $A$ and let the pressure acting on these surfaces be $p_1$ and $p_2$ as shown. Therefore, the forces acting in the ends of the cylinder are, $p_1A$ and $p_2A$. The force due to the mass of the cylindrical fluid element is $\\rho g\\:\\times \\:\\text{volume} = \\rho g A (z_2-z_1)$. No considering vertical force equilibrium with upwards pointing forces considered positive,\n",
    "\n",
    "\\begin{equation}\n",
    "p_1A-p_2A - \\rho g A (z_2-z_1) = 0\n",
    "\\end{equation}\n",
    "\n",
    "\\begin{equation}\n",
    "p_1 =p_2 + \\rho g (z_2-z_1)\n",
    "\\end{equation}\n",
    "\n",
    "Therefore, as the depth  $(z_2-z_1)$ increases, the pressure $p_1$ also increases. We can also state this as,\n",
    "\n",
    "\\begin{equation}\n",
    "\\Delta p = \\rho g \\Delta z\n",
    "\\end{equation}\n",
    "\n",
    "**Example**\n",
    "\n",
    "Consider a diver descending to a depth of 30 $m$ below sea level. Relative to the surface, what pressure is the diver subjected to? Assume that the mass density of sea water, $\\rho = 1025 \\: kg/m^3$.\n",
    "\n",
    "If we let $z_2 = 0$, i.e. surface level and $z_1 = -30 \\:m$, then the pressure $p_1$ relative to the surface is given by,\n",
    "\n",
    "\\begin{align}\n",
    "p_1-p_2 &= \\rho g (0-(-30))\\\\\n",
    "&=1025\\times 9.81 \\times 30\\\\\n",
    "&= 301.7 \\times 10^3\\: N/m^2 \\\\\n",
    "&= 301.7\\: kPa\n",
    "\\end{align}\n"
   ]
  },
  {
   "cell_type": "markdown",
   "metadata": {},
   "source": [
    "### 1.3 Equality of pressures at the same depth"
   ]
  },
  {
   "cell_type": "markdown",
   "metadata": {},
   "source": [
    "Two points at the same level in a fluid at rest experience the same pressure. Based on our previous discussion of pressure variation with depth, this makes sense as both points are at the same depth.\n",
    "\n",
    "Consider the cylindrical element of fluid discussed above. Except now imagine that this element is rotated by 90 degrees.\n",
    "\n",
    "![title](img/T1W9/image3.jpg)\n",
    "<center>Horizontal cylindrical fluid element. © Douglas et al. 2001</center>\n",
    "\n",
    "The forces acting on this fluid element are $p_1A$ at $P$ and $p_2A$ at $Q$. We can see by inspection that for horizontal force equilibrium to be maintained, $p_1=p_2$. \n",
    "\n",
    "This holds true for any continuous body of fluid. For example, with reference to the image below, the pressures at R and S are the same as are the pressures at P and Q. This remains true even if the left and right 'tanks' are not horizontally connected.\n",
    "\n",
    "![title](img/T1W9/image4.jpg)\n",
    "<center>Continuous body of fluid consisting of two reservoirs connected by a horizontal channel. © Douglas et al. 2001</center>\n",
    "\n",
    "If however, the tanks are connected and therefore form one continuous fluid, we can leverage this equality of pressures to achieve hydraulic lift.\n",
    "\n",
    "![title](img/T1W9/image5.jpg)\n",
    "<center>Continuous body of fluid required to achieve hydraulic lift. </center>\n",
    "\n",
    "We note that the pressure $p_1$ is equal to $p_2$, therefore, \n",
    "\n",
    "\\begin{equation}\n",
    "\\frac{F_1}{A_1} = \\frac{F_2}{A_2}\n",
    "\\end{equation}\n",
    "\n",
    "As a result, if say $A_2 = 5A_1$, then $F_2 = 5F_1$ and we will achieve a five factor force multiplication. This basic hydraulic lift concept is utilised in a huge array of mechanical applications, from car jacks to hydraulic construction equipment. \n",
    "\n",
    "One practical drawback is that the force amplification factor also applies to the distance through which $F_1$ and $F_2$ move. In other words, if $F_1$ moves through a distance of $100\\: mm$, then $F_2$ will only move through a distance of $100/5 = 20\\:mm$."
   ]
  },
  {
   "cell_type": "markdown",
   "metadata": {},
   "source": [
    "### 1.4 Pressure and head"
   ]
  },
  {
   "cell_type": "markdown",
   "metadata": {},
   "source": [
    "If a fluid has a constant density, then we can determine the pressure at any depth $z$ as,\n",
    "\n",
    "\\begin{equation}\n",
    "p = -\\rho g z + \\text{constant}\n",
    "\\end{equation}\n",
    "\n",
    "In a liquid, if we measure depth from the surface and therefore let $z=-h$, we can say,\n",
    "\n",
    "\\begin{equation}\n",
    "p = \\rho g h + \\text{constant}\n",
    "\\end{equation}\n",
    "\n",
    "Now if we assume that the surface of the liquid is experiencing atmospheric pressure $(p_{\\text{atm}})$, we have,\n",
    "\n",
    "\\begin{equation}\n",
    "p = \\rho g h + p_{\\text{atm}}\n",
    "\\end{equation}\n",
    "\n",
    "![title](img/T1W9/image6.jpg)\n",
    "<center>Pressure and head. © Douglas et al. 2001</center>\n",
    "\n",
    "Note that we refer to pressure measured **above** atmospheric pressure as *Guage Pressure*. So we have,\n",
    "\n",
    "\\begin{equation}\n",
    "\\text{Absolute pressure} = \\text{Gauge pressure} + \\text{Atmospheric pressure}\n",
    "\\end{equation}\n",
    "\n",
    "Taking atmospheric pressure as our datum, we can typically express gauge pressure as, $p=\\rho g h$. \n",
    "\n",
    "Pressures can also be expressed as 'head' of a given fluid, simply by rearranging our expression for gauge pressure,\n",
    "\n",
    "\\begin{equation}\n",
    "h=\\frac{p}{\\rho g}\n",
    "\\end{equation}\n",
    "\n",
    "If this is done, it is critical that the mass density of the fluid is stated. For example we might express a pressure of $100 \\:kN/m^2$ $(100\\:kPa)$ as 10.19 $m$ 'head of water' assuming $\\rho_{H_2O} = 1000 kg/m^3$, \n",
    "\n",
    "\\begin{equation}\n",
    "h = \\frac{100\\times 10^{3}}{1000\\times 9.81} = 10.19\\:m\n",
    "\\end{equation}\n",
    "\n",
    "**Example**\n",
    "\n",
    "If a cylinder is open to atmospheric pressure and contains a fluid at a gauge pressure of $350\\: kN/m^2$, express this pressure in terms of a head of\n",
    "- water with $\\rho = 1000\\:kg/m^3$ \n",
    "- mercury with specific gravity, $\\sigma = 13.6$\n",
    "\n",
    "What is the absolute pressure in the cylinder if the atmospheric pressure is $101.3 \\: kN/m^2$\n",
    "\n",
    "**Solution**\n",
    "\n",
    "The equivalent head of water is obtained as,\n",
    "\n",
    "\\begin{equation}\n",
    "h = \\frac{350\\times 10^{3}}{1000\\times 9.81} = 35.68\\:m\n",
    "\\end{equation}\n",
    "\n",
    "For mercury, the mass density, $\\rho = 13.6\\times 1000\\:kg/m^3$. Therefore the equivalent head of mercury is, \n",
    "\n",
    "\\begin{equation}\n",
    "h = \\frac{350\\times 10^{3}}{13600\\times 9.81} = 2.62\\:m\n",
    "\\end{equation}\n",
    "\n",
    "Finally, the absolute pressure is simply the gauge pressure plus the atmospheric pressure, $350 + 101.3 = 451.3 \\:kN/m^2$"
   ]
  },
  {
   "cell_type": "markdown",
   "metadata": {},
   "source": [
    "### 1.5 The Hydrostatic Paradox"
   ]
  },
  {
   "cell_type": "markdown",
   "metadata": {},
   "source": [
    "We have seen above that the pressure at a depth is governed by the mass density of the fluid and the height of fluid above the point under consideration. Notably, the pressure does not depend on the weight of fluid present. This fact is quite counter-intuitive and is referred to as the hydrostatic paradox. \n",
    "\n",
    "Consider the four containers of fluid shown below. Note that each has the same base area, $A$ and is filled to the same height, $h$.\n",
    "\n",
    "![title](img/T1W9/image7.jpg)\n",
    "<center>The hydrostatic paradox. © Douglas et al. 2001</center>\n",
    "\n",
    "Note that in each case, the pressure at the bottom of the fluid container is, \n",
    "\n",
    "\\begin{equation}\n",
    "p=\\rho g h\n",
    "\\end{equation}\n",
    "\n",
    "And therefore the force exerted **by the fluid on the base of the container** in each case is,\n",
    "\n",
    "\\begin{equation}\n",
    "F=pA = \\rho g hA\n",
    "\\end{equation}\n",
    "\n",
    "So, the force exerted on the base of each container is the same despite the fact that the weight of fluid contained is clearly different. The video below shows a nice demonstration of the Hydrostatic paradox. "
   ]
  },
  {
   "cell_type": "code",
   "execution_count": 3,
   "metadata": {
    "hide_input": true
   },
   "outputs": [
    {
     "data": {
      "text/html": [
       "<center><iframe width=\"560\" height=\"315\" src=\"https://www.youtube.com/embed/J7ymn6f2Bl8\" frameborder=\"0\" allowfullscreen></iframe></center>"
      ],
      "text/plain": [
       "<IPython.core.display.HTML object>"
      ]
     },
     "execution_count": 3,
     "metadata": {},
     "output_type": "execute_result"
    }
   ],
   "source": [
    "HTML('<center><iframe width=\"560\" height=\"315\" src=\"https://www.youtube.com/embed/J7ymn6f2Bl8\" frameborder=\"0\" allowfullscreen></iframe></center>')"
   ]
  },
  {
   "cell_type": "markdown",
   "metadata": {},
   "source": [
    "### Example 1\n",
    "\n",
    "Determine the pressure in $kN/m^2$ if the equivalent head is measured as $400\\: mm$ of:\n",
    "- mercury with specific gravity of $13.6$\n",
    "- water\n",
    "- oil with specific weight of $7.9\\:kN/m^3$\n",
    "- a liquid with mass density of $520\\: kg/m^3$"
   ]
  },
  {
   "cell_type": "code",
   "execution_count": 9,
   "metadata": {
    "hide_input": false
   },
   "outputs": [
    {
     "data": {
      "text/html": [
       "<center><iframe width=\"560\" height=\"315\" src=\"https://www.youtube.com/embed/Hcde9KxXldA\" frameborder=\"0\" allowfullscreen></iframe></center>"
      ],
      "text/plain": [
       "<IPython.core.display.HTML object>"
      ]
     },
     "execution_count": 9,
     "metadata": {},
     "output_type": "execute_result"
    }
   ],
   "source": [
    "HTML('<center><iframe width=\"560\" height=\"315\" src=\"https://www.youtube.com/embed/Hcde9KxXldA\" frameborder=\"0\" allowfullscreen></iframe></center>')"
   ]
  },
  {
   "cell_type": "markdown",
   "metadata": {},
   "source": [
    "### Example 2\n",
    "\n",
    "An open tank contains oil with specific gravity of $0.75$ on top of water. If the depth of oil is $2\\: m $ and the depth of water is $3\\: m$, calculate the gauge and absolute pressure at the bottom of the tank if the atmospheric pressure is $100\\:kN/m^2$."
   ]
  },
  {
   "cell_type": "code",
   "execution_count": 11,
   "metadata": {
    "hide_input": true,
    "scrolled": true
   },
   "outputs": [
    {
     "data": {
      "text/html": [
       "<center><iframe width=\"560\" height=\"315\" src=\"https://www.youtube.com/embed/HNE0BHm4DwE\" frameborder=\"0\" allowfullscreen></iframe></center>"
      ],
      "text/plain": [
       "<IPython.core.display.HTML object>"
      ]
     },
     "execution_count": 11,
     "metadata": {},
     "output_type": "execute_result"
    }
   ],
   "source": [
    "HTML('<center><iframe width=\"560\" height=\"315\" src=\"https://www.youtube.com/embed/HNE0BHm4DwE\" frameborder=\"0\" allowfullscreen></iframe></center>')"
   ]
  },
  {
   "cell_type": "markdown",
   "metadata": {},
   "source": [
    "## 2.0 Manometer and Pressure Measurement"
   ]
  },
  {
   "cell_type": "markdown",
   "metadata": {},
   "source": [
    "A manometer is a simple pressure measurement device. In its simplest form it consists of a tube, inserted into a vessel containing a fluid or gas. "
   ]
  },
  {
   "cell_type": "markdown",
   "metadata": {},
   "source": [
    "![title](img/T1W9/image8.jpg)\n",
    "<center>Pressure tube manometer. © Douglas et al. 2001</center>"
   ]
  },
  {
   "cell_type": "markdown",
   "metadata": {},
   "source": [
    "In the pressure tube manometer pictured above (also known as a Piezometer), the fluid rises in the tube with the height used to calculate the pressure of the liquid in the vessel. If the tube is open to the atmosphere, the pressure measured is gauge pressure. \n",
    "\n",
    "With reference to the image above, the pressure at $A$ is,\n",
    "\n",
    "\\begin{equation}\n",
    "p_A = \\rho g h_1\n",
    "\\end{equation}\n",
    "\n",
    "Similarly, the pressure at $B$ is,\n",
    "\n",
    "\\begin{equation}\n",
    "p_B = \\rho g h_2\n",
    "\\end{equation}\n",
    "\n",
    "The maximum pressure that can be measured is limited by the height of the tube. This form of manometer can only be used to measure the pressure of liquids and not gases."
   ]
  },
  {
   "cell_type": "markdown",
   "metadata": {},
   "source": [
    "### 2.1 U-tube manometer"
   ]
  },
  {
   "cell_type": "markdown",
   "metadata": {},
   "source": [
    "The U-tube manometer can be used to measure the pressure of liquids or gases. Pictured below, it employs a manometer liquid that is of greater density and immiscible with the liquid or gas  in the pressurised vessel. \n",
    "\n",
    "Consider the U-tube manometer pictured below. The objective is to measure the pressure at point $A$. "
   ]
  },
  {
   "cell_type": "markdown",
   "metadata": {},
   "source": [
    "![title](img/T1W9/image10.jpg)\n",
    "<center>U-tube maometer.</center>"
   ]
  },
  {
   "cell_type": "markdown",
   "metadata": {},
   "source": [
    "We know that the pressure at $C$, $p_C$ and $B$, $p_B$ are equal. The pressure at $C$ can be calculated as,\n",
    "\n",
    "\\begin{equation}\n",
    "p_C = \\rho_{man} g h_2\n",
    "\\end{equation}\n",
    "\n",
    "The pressure at $B$ is, \n",
    "\n",
    "\\begin{equation}\n",
    "p_B = p_A +  \\rho g h_1\n",
    "\\end{equation}\n",
    "\n",
    "So equating expressions for $p_B$ and $p_C$ yields,\n",
    "\n",
    "\\begin{equation}\n",
    "p_A = \\rho_{man} g h_2 - \\rho g h_1\n",
    "\\end{equation}"
   ]
  },
  {
   "cell_type": "markdown",
   "metadata": {},
   "source": [
    "**Example** "
   ]
  },
  {
   "cell_type": "markdown",
   "metadata": {},
   "source": [
    "The U-tube manometer pictured above is used to measure the gauge pressure of a fluid with density $\\rho = 800 \\:kg/m^3$. The specific gravity of the manometric liquid is $\\sigma = 13.6$. What is the gauge pressure at $A$ if, \n",
    "- $h_1 = 0.5 m$ and $h_2 = 0.9 m$\n",
    "- $h_1 = 0.1 m$ and $D$ is $0.2 m$ below $BC$"
   ]
  },
  {
   "cell_type": "markdown",
   "metadata": {},
   "source": [
    "**Solution**"
   ]
  },
  {
   "cell_type": "markdown",
   "metadata": {},
   "source": [
    "Using the equation derived above we can quickly determine the answer to the first part,\n",
    "\n",
    "\\begin{align}\n",
    "p_A &= \\rho_{man} g h_2 - \\rho g h_1\\\\\n",
    "p_A &= 13.6\\times 10^3 \\times 9.81 \\times 0.9 - 0.8\\times 10^3\\times 9.81 \\times 0.5\\\\\n",
    "p_A &= 116.15 \\times 10^{3}\\: N/m^2\n",
    "\\end{align}\n",
    "\n",
    "Similarly, we can solve for the second part by letting $h_2 = -0.2\\:m$,\n",
    "\n",
    "\\begin{align}\n",
    "p_A &= \\rho_{man} g h_2 - \\rho g h_1\\\\\n",
    "p_A &= 13.6\\times 10^3 \\times 9.81 \\times (-0.2) - 0.8\\times 10^3\\times 9.81 \\times 0.1\\\\\n",
    "p_A &= -27.47 \\times 10^{3}\\: N/m^2\n",
    "\\end{align}\n",
    "\n",
    "The negative sign here indicates that the pressure at $A$ is below atmospheric pressure. "
   ]
  },
  {
   "cell_type": "markdown",
   "metadata": {},
   "source": [
    "### Pressure measurement in pipes"
   ]
  },
  {
   "cell_type": "markdown",
   "metadata": {},
   "source": [
    "U-tube manometers can also be arranged to determine the pressure difference between two points along a pipe. Consider the U-tube manometer arrangement pictured below."
   ]
  },
  {
   "cell_type": "markdown",
   "metadata": {},
   "source": [
    "![title](img/T1W9/image9.jpg)\n",
    "<center>U-tube manometer measuring pressure difference in a pipe. © Douglas et al. 2001</center>"
   ]
  },
  {
   "cell_type": "markdown",
   "metadata": {},
   "source": [
    "We again note that the pressure at $C$, $p_C$ and $D$, $p_D$ must be the same. We can evaluate $p_C$ as,\n",
    "\n",
    "\\begin{equation}\n",
    "p_C = p_A + \\rho g a\n",
    "\\end{equation}\n",
    "\n",
    "Similarly, \n",
    "\n",
    "\\begin{equation}\n",
    "p_D = p_B + \\rho g (b-h) + \\rho_{man} g h\n",
    "\\end{equation}\n",
    "\n",
    "Equating both expressions, we can evaluate the pressure difference as, \n",
    "\n",
    "\\begin{equation}\n",
    "p_A-p_B = \\rho g (b-a) + g h (\\rho_{man}-\\rho)\n",
    "\\end{equation}\n"
   ]
  },
  {
   "cell_type": "markdown",
   "metadata": {},
   "source": [
    "**Example**"
   ]
  },
  {
   "cell_type": "markdown",
   "metadata": {},
   "source": [
    "The U-tube manometer pictured above is used to measure the pressure difference between A and B in a pipe conveying water with mass density $1000\\:kg/m^3$. The manometric fluid is mercury with mass density of $13.6\\times 10^3\\:kg/m^3$. If point $A$ is $0.3\\:m$ below point $B$ and $h=0.7 \\:m$, calculate the pressure difference between $A$ and $B$."
   ]
  },
  {
   "cell_type": "markdown",
   "metadata": {},
   "source": [
    "**Solution**"
   ]
  },
  {
   "cell_type": "markdown",
   "metadata": {},
   "source": [
    "\\begin{align}\n",
    "p_A-p_B &= \\rho g (b-a) + g h (\\rho_{man}-\\rho)\\\\\n",
    "p_A-p_B &= 1000\\times 9.81\\times 0.3 + 0.7\\times 9.81\\times(13.6-1)\\times 1000\\\\\n",
    "p_A-p_B &= 89.47\\times 10^3\\:N/m^2\n",
    "\\end{align}\n"
   ]
  },
  {
   "cell_type": "markdown",
   "metadata": {},
   "source": [
    "**You should now download the question sheet for this week and attempt all questions. You will have an opportunity to to get help in your tutorial session and worked solutions will be released next week.**"
   ]
  }
 ],
 "metadata": {
  "hide_input": false,
  "kernelspec": {
   "display_name": "Python 3",
   "language": "python",
   "name": "python3"
  },
  "language_info": {
   "codemirror_mode": {
    "name": "ipython",
    "version": 3
   },
   "file_extension": ".py",
   "mimetype": "text/x-python",
   "name": "python",
   "nbconvert_exporter": "python",
   "pygments_lexer": "ipython3",
   "version": "3.6.4"
  },
  "toc": {
   "base_numbering": 1,
   "nav_menu": {},
   "number_sections": true,
   "sideBar": true,
   "skip_h1_title": false,
   "title_cell": "Table of Contents",
   "title_sidebar": "Contents",
   "toc_cell": false,
   "toc_position": {},
   "toc_section_display": true,
   "toc_window_display": false
  }
 },
 "nbformat": 4,
 "nbformat_minor": 2
}
