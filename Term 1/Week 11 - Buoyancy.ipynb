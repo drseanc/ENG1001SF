{
 "cells": [
  {
   "cell_type": "code",
   "execution_count": 1,
   "metadata": {
    "deletable": false,
    "editable": false,
    "hide_input": true
   },
   "outputs": [
    {
     "name": "stdout",
     "output_type": "stream",
     "text": [
      "- Dependencies imported 👍\n",
      "- Remember to select 'Kernel-> Restart & Run All' on first load to show embedded Youtube videos 🎬\n",
      "- Author: Dr SPCarroll, Sept 2020, Rev 1\n"
     ]
    }
   ],
   "source": [
    "#DEPENDENCIES & INITIALISATIONS\n",
    "from IPython.display import HTML #For embedding videos\n",
    "import math #Basic math functionality\n",
    "import numpy as np #Numpy for working with arrays\n",
    "import matplotlib.pyplot as plt #Plotting functionality \n",
    "#HTML('<iframe width=\"560\" height=\"315\" src=\"#\" frameborder=\"0\" allowfullscreen></iframe>')\n",
    "print(\"- Dependencies imported 👍\")\n",
    "print(\"- Remember to select 'Kernel-> Restart & Run All' on first load to show embedded Youtube videos 🎬\")\n",
    "print(\"- Author: Dr SPCarroll, Sept 2020, Rev 1\")"
   ]
  },
  {
   "cell_type": "markdown",
   "metadata": {
    "hide_input": false
   },
   "source": [
    "# Week 11: Buoyancy and Stability\n",
    "Reference: Chapter 3, Douglas, Gasiorek and Swaffield"
   ]
  },
  {
   "cell_type": "markdown",
   "metadata": {},
   "source": [
    "![title](img/T1W11/banner.jpg)"
   ]
  },
  {
   "cell_type": "markdown",
   "metadata": {},
   "source": [
    "## 1.0 Buoyancy"
   ]
  },
  {
   "cell_type": "markdown",
   "metadata": {},
   "source": [
    "This week we will continue to investigate the influence of hydrostatic forces on submerged bodies. However, we will expand to consider forces on semi-submerged bodies, buoyancy and stability. \n",
    "\n",
    "The concept of buoyancy is described by **Archimedes Principle** which states that, \n",
    "\n",
    "*'a body wholly or partially immersed in a fluid experiences an upthrust equal in magnitude to the weight of fluid displaced by the body and the upthrust acts through a point called the centre of buoyancy'*."
   ]
  },
  {
   "cell_type": "markdown",
   "metadata": {},
   "source": [
    "Consider a body immersed in two fluids of different densities $\\rho_1$ and $\\rho_2$. The body experiences 2 buoyancy forces, $R_1$ acting on the upper portion with volume $V_1$ and $R_2$ acting on the lower portion with volume $V_2$. $R_1$ and $R_2$ act through centres of buoyancy $G_1$ and $G_2$ respectively. \n",
    "\n",
    "Upthrust or buoyancy force $R_1$ is,\n",
    "\n",
    "\\begin{equation}\n",
    "R_1 = \\rho_1 g V_1\n",
    "\\end{equation}\n",
    "\n",
    "Similarly, $R_2$ is,\n",
    "\n",
    "\\begin{equation}\n",
    "R_2 = \\rho_2 g V_2\n",
    "\\end{equation}\n",
    "\n",
    "![title](img/T1W11/img1.jpg)\n",
    "<center>Fig. 1. Body immersed in two fluids. © Douglas et al. 2001</center>\n",
    "\n",
    "The centre of buoyancy is located at the (geometric) centroid of the **volume of fluid displaced**. At this point we should remind ourselves of the various points that we have defined so far. \n",
    "\n",
    "**Centroid or Geometric Centroid**\n",
    "\n",
    "For a 2D surface this depends on the distribution of area across the surface. For a 3D volume this depends on the shape of the volume. You will recall that for a 2D plane we obtained the location of the centroid by taking area moments about an arbitrary reference axis. \n",
    "\n",
    "**Centre of Gravity**\n",
    "\n",
    "The centre of gravity, depends on the distribution of mass. This is the point through which the weight of the object can be considered to act. **For an object of uniform density**, the centre of gravity is located at the centroid. \n",
    "\n",
    "**Centre of Pressure**\n",
    "\n",
    "This is the point on an object through which the resultant hydrostatic force acts. Do not confuse this with the centroid of the object; recall that we said for a triangular pressure diagram, the resultant force acts through the centroid of the triangle (pressure distribution). This is distinct from the centroid of the **object** the pressure is acting acting on.  \n",
    "\n",
    "**Centre of Buoyancy**\n",
    "\n",
    "The is the point through which the buoyancy force acts. This point is the centroid of the volume of fluid displaced by the object. Note that the buoyancy force is not dependent on the distribution of mass within the submerged object, only the shape of the fluid this object displaces. "
   ]
  },
  {
   "cell_type": "markdown",
   "metadata": {},
   "source": [
    "### Example 1\n",
    "© Douglas et al"
   ]
  },
  {
   "cell_type": "markdown",
   "metadata": {},
   "source": [
    "A rectangular pontoon, Fig. Q2, has a width $B=6\\:m$ and length $l = 12\\:m$. Its draught (vertical distance from waterline to underside of pontoon) is $D=1.5\\:m$ as shown. Calculate,\n",
    "- The weight of the pontoon.\n",
    "- Its draught in sea water with $\\rho = 1025\\:kg/m^3$.\n",
    "- The maximum load that can be supported by the pontoon if its maximum draught is $2\\:m$."
   ]
  },
  {
   "cell_type": "markdown",
   "metadata": {},
   "source": [
    "![title](img/T1W11/img2.jpg)\n",
    "<center>Fig. 2. Partially submerged pontoon.</center>"
   ]
  },
  {
   "cell_type": "markdown",
   "metadata": {},
   "source": [
    "### Solution 1"
   ]
  },
  {
   "cell_type": "markdown",
   "metadata": {},
   "source": [
    "The buoyancy force experienced by the pontoon must equal the weight of the pontoon."
   ]
  },
  {
   "cell_type": "code",
   "execution_count": 2,
   "metadata": {},
   "outputs": [
    {
     "name": "stdout",
     "output_type": "stream",
     "text": [
      "The weight of the pontoon is 1059.48 kN.\n"
     ]
    }
   ],
   "source": [
    "#Constants\n",
    "B = 6 #(m)\n",
    "l=12 #(m)\n",
    "D = 1.5#(m)\n",
    "rho = 1000 #(kg/m^3)\n",
    "g = 9.81 #(m/s^2)\n",
    "\n",
    "volume = B*l*D #(m^3)\n",
    "F_B = rho*volume*g #(N) Buoyancy force\n",
    "W_pontoon = F_B #(N)\n",
    "print('The weight of the pontoon is {one} kN.'.format(one = round(W_pontoon/1000,2)))"
   ]
  },
  {
   "cell_type": "markdown",
   "metadata": {},
   "source": [
    "The draught in sea water is easily obtained by substituting $\\rho=1025\\:kg/m^3$ and solving for D."
   ]
  },
  {
   "cell_type": "code",
   "execution_count": 3,
   "metadata": {},
   "outputs": [
    {
     "name": "stdout",
     "output_type": "stream",
     "text": [
      "The draught of the pontoon in sea water is 1.46 m.\n"
     ]
    }
   ],
   "source": [
    "rho = 1025 #(kg/m^3)\n",
    "D = W_pontoon/(rho*g*l*B) #(m)\n",
    "print('The draught of the pontoon in sea water is {one} m.'.format(one = round(D,2)))"
   ]
  },
  {
   "cell_type": "markdown",
   "metadata": {},
   "source": [
    "If the maximum draught is $2\\:m$, we can solve for the revised buoyancy force noting that the volume of water displaced has now increased."
   ]
  },
  {
   "cell_type": "code",
   "execution_count": 4,
   "metadata": {},
   "outputs": [
    {
     "name": "stdout",
     "output_type": "stream",
     "text": [
      "The additional load that can be supported by the pontoon is 353.16 kN.\n"
     ]
    }
   ],
   "source": [
    "D = 2 #(m)\n",
    "rho = 1000  #(kg/m^3)\n",
    "volume = B*l*D #(m^3)\n",
    "F_B = rho*volume*g #(N) Buoyancy force\n",
    "W_additional = F_B - W_pontoon #(N) Additional load supported by pontoon\n",
    "print('The additional load that can be supported by the pontoon is {one} kN.'.format(one = round(W_additional/1000,2)))"
   ]
  },
  {
   "cell_type": "markdown",
   "metadata": {},
   "source": [
    "## 2.0 Equilibrium and Stability"
   ]
  },
  {
   "cell_type": "markdown",
   "metadata": {},
   "source": [
    "We have seen above that for an object to float, there must be vertical force equilibrium, i.e. the weight of the object must be balanced by the buoyancy force, Fig. 3. These forces must also act along the same line, otherwise a moment is introduced and equilibrium is disturbed. This may cause the floating body to rotate and become unstable. "
   ]
  },
  {
   "cell_type": "markdown",
   "metadata": {},
   "source": [
    "![title](img/T1W11/img3.jpg)\n",
    "<center>Fig. 3. Equilibrium of a floating body. © Douglas et al. </center>"
   ]
  },
  {
   "cell_type": "markdown",
   "metadata": {},
   "source": [
    "At this point we must differentiate between three different types of equilibrium:\n",
    "\n",
    "- stable equilibrium,\n",
    "- unstable equilibrium \n",
    "- neutral equilibrium\n",
    "\n",
    "In all three cases, equilibrium is maintained. However, whether the equilibrium is stable, unstable or neutral will determine how the body in question responds to a small disturbance to its equilibrium. This is obviously of critical importance to ships. \n",
    "\n",
    "**Stable equilibrium**\n",
    "\n",
    "When a body is in stable equilibrium, if it experiences a small disturbance that knocks it out of equilibrium, it will tend to recover it's original equilibrium position. A good analogy for this is a ball sitting on a concave surface. The ball will always return to the same stable state of equilibrium when a disturbing force is removed.\n",
    "\n",
    "![title](img/T1W11/img4.jpg)\n",
    "<center>Fig. 4. Ball in a state of stable equilibrium. </center>\n",
    "\n",
    "**Unstable equilibrium**\n",
    "\n",
    "When a body is in a state of unstable equilibrium, the smallest possible disturbance will cause the structure to deviate further from its equilibrium position, in the context of a floating ship, this would mean a capsize. To continue our ball analogy, this corresponding to a ball precariously positioned at the top of a convex surface; the smallest disturbance will set the ball rolling and it will not recover its original equilibrium position. \n",
    "\n",
    "![title](img/T1W11/img5.jpg)\n",
    "<center>Fig. 5. Ball in a state of unstable equilibrium. </center>\n",
    "\n",
    "**Neutral equilibrium**\n",
    "\n",
    "This is the boundary state between stable and unstable equilibrium. If the body is disturbed, it will neither recover from this disturbance nor will it continue to become unstable. Instead it will retain its disturbed position. This is a somewhat academic state and not something we're likely to observe in practice. This is analogous to a ball sitting on a perfectly flat surface. \n",
    "\n",
    "Considering the operating conditions ships experience with continual disturbance to their equilibrium (buoyancy force shifting out of line with the self-weight), it's critical that they are designed to be in a state of stable equilibrium."
   ]
  },
  {
   "cell_type": "markdown",
   "metadata": {},
   "source": [
    "### 2.1 Stability of fully submerged bodies"
   ]
  },
  {
   "cell_type": "markdown",
   "metadata": {},
   "source": [
    "Consider the submerged body in Fig 6. We note that the self-weight of the body acts through the centre of gravity, $G$, while the buoyancy force acts through the centre of buoyancy, $B$. In both cases (a) and (b), there is vertical force equilibrium, however in case (a) this equilibrium is stable while in case (b) it is unstable.\n",
    "\n",
    "Notice that when the body is disturbed and undergoes a rotation, $\\theta$, a moment is generated. If $\\theta$ is small, the moment is approximated as $W\\times BG\\times \\theta$. If the centre of gravity is below the centre of buoyancy, the moment will tend to return the body to a stable equilibrium. For this reason, the body in case (a) is said to be in a state of stable equilibrium. In case (b) the centre of gravity is above the centre of buoyancy and so the moment generated tends to further increase the instability. So in this case the equilibrium is unstable.\n",
    "\n",
    "In the case of a fully submerged body, the volume of liquid displaced is not altered by rotation of the body and so the centre of buoyancy remains in the same location relative to the body, regardless of the orientation of the body. \n",
    "\n",
    "However, for a partially submerged body, the volume of liquid displaced changes shape as the body is disturbed. This gives rise to a change in the location of the centre of buoyancy. "
   ]
  },
  {
   "cell_type": "markdown",
   "metadata": {},
   "source": [
    "![title](img/T1W11/img6.jpg)\n",
    "<center>Fig. 6. Stability of submerged bodies. © Douglas et al. 2001</center>"
   ]
  },
  {
   "cell_type": "markdown",
   "metadata": {},
   "source": [
    "### 2.2 Stability of floating bodies"
   ]
  },
  {
   "cell_type": "markdown",
   "metadata": {},
   "source": [
    "As mentioned already, when a floating body is disturbed, the volume of fluid displaced remains the same but the shape of that volume might change, resulting in the centre of buoyancy moving. This interaction between the self-weight of a floating body and the shifting centre of buoyancy, can lead to capsize, which can have consequences ranging from a wet kayaker to loss of life on a larger vessels. \n",
    "\n",
    "![title](img/T1W11/img8.jpg)\n",
    "<center>Fig. 7. Kayaker failing to recover from a state of unstable equilibium. </center>\n",
    "\n",
    "Next we will explore the characteristics that give rise to stable and unstable equilibrium in floating bodies. Consider the floating body in Fig 8 (a). It is in equilibrium with the self-weight and buoyancy forces acting along the same line. In Fig. 8(b), the body is rotated through an angle $\\theta$, leading to a change in the shape of the volume of liquid displaced. As a result the centre of buoyancy moves to $B_1$. The self-weight and buoyancy forces now form a couple, \n",
    "\n",
    "\\begin{equation}\n",
    "W\\times x = R\\times x\n",
    "\\end{equation}\n",
    "\n",
    "In Fig. 8(b), this is a restoring or stabilising moment, while in Fig. 8(d), due to the alternative original orientation, Fig. 8(c), this is an overturning or destabilising moment. Note that the magnitude of the moment is proportional to $W \\times \\theta$. So, for an unstable configuration, an initial minor destabilising disturbance/rotation generates a moment that only increases the magnitude of the overturning moment, hence unstable equilibrium."
   ]
  },
  {
   "cell_type": "markdown",
   "metadata": {},
   "source": [
    "![title](img/T1W11/img7.jpg)\n",
    "<center>Fig. 8. Stability of floating bodies. © Douglas et al. 2001</center>"
   ]
  },
  {
   "cell_type": "markdown",
   "metadata": {},
   "source": [
    "**Metacentre**\n",
    "\n",
    "We now define the point $M$ as the point at which the line of action of the buoyancy force intersects the original vertical line through the centre of gravity. This point is called the **metacentre** and the distance $GM$ is called the **metacentric height**. Now comparing Fig. 8(b) and (d), we note that:\n",
    "- If $M$ lies above $G$, the moment is stabilising. If we assume the angle of tilt is small, then the stabilising moment is given by $W\\times GM\\times \\theta$. In this case the metacentric height is considered positive. \n",
    "- If $M$ is below $G$ as is the case as is the case in Fig. 8 (d), the moment is destabilising and the metacentric heigh is considered negative.\n",
    "- If $M$ coincides with $G$, the body is in a state of neutral equilibrium.\n",
    "\n",
    "We can see how the designers of the Shannon class RNLI lifeboat have used these fundamental concepts of stability to design a self-righting lifeboat. "
   ]
  },
  {
   "cell_type": "code",
   "execution_count": 5,
   "metadata": {
    "hide_input": true
   },
   "outputs": [
    {
     "data": {
      "text/html": [
       "<center><iframe width=\"560\" height=\"315\" src=\"https://www.youtube.com/embed/23J6zU-aQZk\" frameborder=\"0\" allowfullscreen></iframe></center>"
      ],
      "text/plain": [
       "<IPython.core.display.HTML object>"
      ]
     },
     "execution_count": 5,
     "metadata": {},
     "output_type": "execute_result"
    }
   ],
   "source": [
    "HTML('<center><iframe width=\"560\" height=\"315\" src=\"https://www.youtube.com/embed/23J6zU-aQZk\" frameborder=\"0\" allowfullscreen></iframe></center>')"
   ]
  },
  {
   "cell_type": "markdown",
   "metadata": {},
   "source": [
    "**Finding the metacentric height**\n",
    "\n",
    "We can find the location of the metacentric height by measuring the angle of tilt, $\\theta$, induced by moving a load $P$ a known distance $x$ across the deck. The load $P$ will produce an overturning moment,\n",
    "\n",
    "\\begin{equation}\n",
    "M_O = Px\n",
    "\\end{equation}\n",
    "\n",
    "This is balanced by the stabilising moment, identified above as,\n",
    "\n",
    "\\begin{equation}\n",
    "M_S = W\\times GM\\times \\theta\n",
    "\\end{equation}\n",
    "\n",
    "Equating these moments and rearranging for the metacentric height $GM$ yields,\n",
    "\n",
    "\\begin{equation}\n",
    "GM = \\frac{Px}{W\\theta}\n",
    "\\end{equation}\n",
    "\n",
    "We can also determine the position of the metacentre relative to the centre of buoyancy; this distance $BM$ is called the **metacentric radius**. The ship in Fig. 9 undergoes a rotation $\\theta$ that causes the centre of buoyancy $B$ to move to $B'$. The original waterline plane is shown as $AC$. The new waterline place in the displaced position is $A'C'$.\n",
    "\n",
    "![title](img/T1W11/img9.jpg)\n",
    "<center>Fig. 9. Metacentre relative to the centre of buoyancy. © Douglas et al. 2001</center>\n",
    "\n",
    "For small angles of tilt (for which $\\theta\\approx\\sin\\theta\\approx\\tan\\theta$), the metacentric radius is $BB'/\\theta$. Our task now is to determine an expression for the distance $BB'$ such that a more accessible equation is obtained for the metacentric radius.\n",
    "\n",
    "We start by noting that the weight of fluid corresponding to the wedge $AOA'$ is equal to the weight of fluid corresponding to the wedge $COC'$. To determine the weight of wedge $AOA'$, consider the element of area, $a$. As the ship rotates, the volume *swept* as $a$ rotates is $DD'\\times a = ax\\theta$.\n",
    "\n",
    "To obtain the total volume of the wedge we would sum up all such areas between $x=0$ and $x=OA$, \n",
    "\n",
    "\\begin{equation}\n",
    "\\text{Volume of wedge AOA'} = \\sum_{x=0}^{x=OA}ax\\theta\n",
    "\\end{equation}\n",
    "\n",
    "To obtain the weight of the wedge, multiply by $\\rho g$, yielding,\n",
    "\n",
    "\\begin{equation}\n",
    "\\text{Weight of wedge AOA'} = \\rho g \\theta\\sum_{x=0}^{x=OA}ax\n",
    "\\end{equation}\n",
    "\n",
    "Noting that both wedges weight the same amount we have, \n",
    "\n",
    "\\begin{equation}\n",
    "\\rho g \\theta\\sum_{x=0}^{x=OC}ax= \\rho g \\theta\\sum_{x=0}^{x=OA}ax\n",
    "\\end{equation}\n",
    "\n",
    "Also noting that the quantity $\\sum ax$ is the first moment of area about the axis $OO$, we can state that the first moment of area of the area to the left of the axis equals the first moment of area of the area to the right of the axis. From this we can conclude that $OO$ is a centroidal axis. This is an important result as we'll see shortly.\n",
    "\n",
    "We now consider moment equilibrium. As the ship tilts through $\\theta$, there is a couple generated due to the movement of wedge $AOA'$ to $COC'$. Let's call this $M_{\\text{wedge}}$. \n",
    "\n",
    "The moment about $OO$, generated by the weight of fluid swept out by area $a$ is $\\rho g ax\\theta \\times x$. $M_{\\text{wedge}}$ can be obtained by summing up all such moments generated by all areas between $x=0$ and $x=OA$, \n",
    "\n",
    "\\begin{equation}\n",
    "M_{\\text{wedge}} = \\rho g \\theta \\sum ax^2\n",
    "\\end{equation}\n",
    "\n",
    "Note that $\\sum ax^2 = I_G$ is the second moment of area of the waterline plane about the axis $OO$. Remember also that we have confirmed above that the axis $OO$ is a centroidal axis, simplifying the calculation of $I_G$.\n",
    "\n",
    "This moment is balanced by the moment generated by the movement of the buoyancy force, $R$ from $B$ to $B'$. For small angles this can be taken as $R\\times BB' = \\rho g V\\times BB'$ where $V$ is the volume of liquid displaced.\n",
    "\n",
    "Equating both moments and solving for $BB'$ yields,\n",
    "\n",
    "\\begin{equation}\n",
    "BB' = \\frac{\\theta I_G}{V}\n",
    "\\end{equation}\n",
    "\n",
    "Recall that we said above, the metacentric radius is given by,\n",
    "\n",
    "\\begin{equation}\n",
    "BM = \\frac{BB'}{\\theta}\n",
    "\\end{equation}\n",
    "\n",
    "Substituting our expression for $BB'$ yields,\n",
    "\n",
    "\\begin{equation}\n",
    "BM = \\frac{I_G}{V}\n",
    "\\end{equation}\n",
    "\n",
    "From this we observe that the larger the second moment of area of the waterline plane, the larger is the metacentric radius and therefore the more inherently stable the vessel is. Conversely, narrow vessels with low second moment of area are less stable. \n"
   ]
  },
  {
   "cell_type": "markdown",
   "metadata": {},
   "source": [
    "![title](img/T1W11/img10.jpg)\n",
    "<center>Fig. 10. Racing catamaran gains stability from a large waterline plane, i.e. it has a large waterline plane and corresponding second moment of area, $I_G$ and also has a comparatively small displacement, $V$. </center>"
   ]
  },
  {
   "cell_type": "markdown",
   "metadata": {},
   "source": [
    "### Example 2\n",
    "© Douglas et al"
   ]
  },
  {
   "cell_type": "markdown",
   "metadata": {},
   "source": [
    "Consider the cylindrical buoy shown in Fig. 11. below. The buoy weighs $10\\:kN$ and floats in sea water with density $\\rho = 1025\\:kg/m^3$. If a load of $2\\:kN$ is placed on top of the buoy, find the maximum height of the centre of gravity of this load above the bottom of the buoy if the buoy is to remain in stable equilibrium."
   ]
  },
  {
   "cell_type": "markdown",
   "metadata": {},
   "source": [
    "![title](img/T1W11/img11.jpg)\n",
    "<center>Fig. 11. Stability of a cylindrical buoy. © Douglas et al. 2001</center>"
   ]
  },
  {
   "cell_type": "code",
   "execution_count": 6,
   "metadata": {
    "hide_input": true
   },
   "outputs": [
    {
     "data": {
      "text/html": [
       "<center><iframe width=\"560\" height=\"315\" src=\"https://www.youtube.com/embed/dmLwkLTs-Ac\" frameborder=\"0\" allowfullscreen></iframe></center>"
      ],
      "text/plain": [
       "<IPython.core.display.HTML object>"
      ]
     },
     "execution_count": 6,
     "metadata": {},
     "output_type": "execute_result"
    }
   ],
   "source": [
    "HTML('<center><iframe width=\"560\" height=\"315\" src=\"https://www.youtube.com/embed/dmLwkLTs-Ac\" frameborder=\"0\" allowfullscreen></iframe></center>')"
   ]
  },
  {
   "cell_type": "markdown",
   "metadata": {},
   "source": [
    "**You should now download the question sheet for this week and attempt all questions. You will have an opportunity to to get help in your tutorial session and worked solutions will be released next week.**"
   ]
  }
 ],
 "metadata": {
  "hide_input": false,
  "kernelspec": {
   "display_name": "Python 3",
   "language": "python",
   "name": "python3"
  },
  "language_info": {
   "codemirror_mode": {
    "name": "ipython",
    "version": 3
   },
   "file_extension": ".py",
   "mimetype": "text/x-python",
   "name": "python",
   "nbconvert_exporter": "python",
   "pygments_lexer": "ipython3",
   "version": "3.6.4"
  },
  "toc": {
   "base_numbering": 1,
   "nav_menu": {},
   "number_sections": true,
   "sideBar": true,
   "skip_h1_title": false,
   "title_cell": "Table of Contents",
   "title_sidebar": "Contents",
   "toc_cell": false,
   "toc_position": {},
   "toc_section_display": true,
   "toc_window_display": false
  }
 },
 "nbformat": 4,
 "nbformat_minor": 2
}
