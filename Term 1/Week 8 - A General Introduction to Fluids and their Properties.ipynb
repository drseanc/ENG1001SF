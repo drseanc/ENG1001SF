{
 "cells": [
  {
   "cell_type": "code",
   "execution_count": 1,
   "metadata": {
    "deletable": false,
    "editable": false,
    "hide_input": false
   },
   "outputs": [
    {
     "name": "stdout",
     "output_type": "stream",
     "text": [
      "- Dependencies imported 👍\n",
      "- Remember to select 'Kernel-> Restart & Run All' on first load to show embedded Youtube videos 🎬\n",
      "- Author: Dr SPCarroll, Sept 2020, Rev 0\n"
     ]
    }
   ],
   "source": [
    "#DEPENDENCIES & INITIALISATIONS\n",
    "from IPython.display import HTML #For embedding videos\n",
    "import math #Basic math functionality\n",
    "import numpy as np #Numpy for working with arrays\n",
    "import matplotlib.pyplot as plt #Plotting functionality \n",
    "#HTML('<iframe width=\"560\" height=\"315\" src=\"#\" frameborder=\"0\" allowfullscreen></iframe>')\n",
    "print(\"- Dependencies imported 👍\")\n",
    "print(\"- Remember to select 'Kernel-> Restart & Run All' on first load to show embedded Youtube videos 🎬\")\n",
    "print(\"- Author: Dr SPCarroll, Sept 2020, Rev 0\")"
   ]
  },
  {
   "cell_type": "markdown",
   "metadata": {
    "hide_input": false
   },
   "source": [
    "# Week 8: An introduction to fluids and their properties\n",
    "Reference: Chapter 1, Douglas, Gasiorek and Swaffield, 2001"
   ]
  },
  {
   "cell_type": "markdown",
   "metadata": {},
   "source": [
    "![title](img/T1W8/banner.jpg)"
   ]
  },
  {
   "cell_type": "markdown",
   "metadata": {},
   "source": [
    "## 1.0  What is a fluid?"
   ]
  },
  {
   "cell_type": "markdown",
   "metadata": {},
   "source": [
    "We all intuitively know what a fluid is. But at the outset of our study of fluids, it's worth defining formally and specifically what a fluid is. \n",
    "\n",
    "*A fluid is a substance that deforms continuously under the action of **shearing forces**.* A fluid will take up the shape of whatever container or surface is restraining it. As we'll see later, the fluid will exert a force on the restraining surface that acts perpendicular to the surface. \n",
    "\n",
    "We know that generally speaking fluids flow freely, this flow is due to the influence of shear forces. A key distinction between solids and fluids is that a fluid can offer no resistance to a shear force, unlike a solid, and so whereas a solid will generate an equal magnitude resisting force, a fluid will simply flow in response to a disturbing shear force. The disturbing force that causes a fluid to flow is typically the weight of the fluid itself. "
   ]
  },
  {
   "cell_type": "markdown",
   "metadata": {},
   "source": [
    "### 1.1 Shear Stress and Fluid Flow"
   ]
  },
  {
   "cell_type": "markdown",
   "metadata": {},
   "source": [
    "We said above that a fluid deforms or flows under the action of shearing forces. Now, if there are no shearing forces acting on the fluid, it follows that the fluid will be stationary. From this, we conclude that for stationary fluids, there will be no shearing forces acting. \n",
    "\n",
    "Another way to think about this is as follows; shear forces are only developed if the particles of the fluid move relative to each other and so have different velocities. However, if the velocity of the fluid is the same at every point, no shear stresses will be produced, since the fluid particles are at rest relative to each other.\n",
    "\n",
    "We'll now briefly discuss the presence of shear forces in flowing fluids. Consider a 2-dimensional element of fluid ABCD. This element of fluid experiences shearing forces, $F$ and as such it undergoes a basic shear deformation to AB'C'D. \n",
    "\n",
    "For a fluid, as long as $F$ is applied, the angle $\\phi$ will continue to increase, i.e. the fluid will flow."
   ]
  },
  {
   "cell_type": "markdown",
   "metadata": {},
   "source": [
    "![title](img/T1W8/image1.jpg)\n",
    "<center>2-dimensional element of fluid undergoing deformation due to shearing forces</center>"
   ]
  },
  {
   "cell_type": "markdown",
   "metadata": {},
   "source": [
    "Now imagine that the fluid element ABCD has a thickness, $s$ (measured into the page). On the top side of the element, the shear force now acts over an area $B\\times C \\times s$. This gives rise to a shear stress,\n",
    "\n",
    "\\begin{equation}\n",
    "\\tau = \\frac{F}{B\\times C \\times s}\n",
    "\\end{equation}\n",
    "\n",
    "In solids, we're used to the idea that stress $(\\tau)$ equals some constant multiplied by strain $(\\phi)$, typically the Shear Modulus, $G$,\n",
    "\n",
    "\\begin{equation}\n",
    "\\tau = G\\times \\phi\n",
    "\\end{equation}\n",
    "\n",
    "But in a fluid, we've already said that as long as $F$ is applied, the shear strain angle $\\phi$ will continue to increase as the fluid flows. Therefore for fluids we can state that the shear stress is proportional to the **rate** of shear strain. To explore this concept further, consider a fluid particle, $P$ in a body of fluid."
   ]
  },
  {
   "cell_type": "markdown",
   "metadata": {},
   "source": [
    "![title](img/T1W8/image2.jpg)\n",
    "<center>Fluid particle $P$ in a body of fluid flowing from left to right.</center>"
   ]
  },
  {
   "cell_type": "markdown",
   "metadata": {},
   "source": [
    "Over a period of $t$ seconds, the fluid particle moves from $P$ to $P'$ through a distance $x$. We note that for small angles, this motion corresponds to an angle $\\phi$ where,\n",
    "\n",
    "\\begin{equation}\n",
    "\\phi = \\frac{x}{y}\n",
    "\\end{equation}\n",
    "\n",
    "We now define the rate of shear deformation, $\\phi_r$ as,\n",
    "\n",
    "\\begin{equation}\n",
    "\\phi_r = \\frac{\\phi}{t} = \\frac{x}{y t}\n",
    "\\end{equation}\n",
    "\n",
    "If the fluid particle is traveling at a velocity, $u = x/t$, we have,\n",
    "\n",
    "\\begin{equation}\n",
    "\\phi_r = \\frac{u}{y}\n",
    "\\end{equation}\n",
    "\n",
    "This can be written in differential form, $\\mathrm{d}u/\\mathrm{d}y$. Note that $\\mathrm{d}u/\\mathrm{d}y$  represents the rate of change of velocity, $u$ with respect to $y$ and is also known as the **velocity gradient**.\n",
    "\n",
    "Recall that we said above that the rate of shear deformation, $\\phi_r$ was proportional to the shear stress in a fluid, $\\tau$. Based on the preceding discussion an equivalent statement would be that the shear stress is proportional to the velocity gradient.\n",
    "\n",
    "\\begin{equation}\n",
    "\\tau = \\mu \\frac{\\mathrm{d}u}{\\mathrm{d}y}\n",
    "\\end{equation}\n",
    "\n",
    "The constant of proportionality, $\\mu$ is called the **dynamic viscosity**. This is somewhat analogous to the shear modulus in solids and is specific for the fluid under consideration. The preceding equation is known as Newton's law of viscosity. Fluids that obey Newton's law of viscosity, for which $\\mu$ is constant, are known as **Newtonian fluids**. In other words, for Newtonian fluids, shear stress is linearly proportional to the velocity gradient. \n",
    "\n",
    "As mentioned above, the velocity gradient is a measure of the rate of change of flow velocity with respect to distance $y$ from some fluid boundary. If this boundary is stationary, then the fluid particles immediately adjacent to and in contact with the boundary will be stationary. We can visualise the rate of change of velocity adjacent to a stationary boundary below."
   ]
  },
  {
   "cell_type": "markdown",
   "metadata": {},
   "source": [
    "![title](img/T1W8/image3.jpg)\n",
    "<center>Velocity gradient for a fluid flowing from left to right adjacent to a stationary boundary.</center>"
   ]
  },
  {
   "cell_type": "markdown",
   "metadata": {},
   "source": [
    "The fluid particles in contact with the boundary, in this case represented by the x-axis, will have the same velocity as the boundary and therefore be stationary. But as the distance from the boundary, $y$ increases, the velocity, $u$ increases. Just like any curve, the rate of change, or gradient, is given by the first differential, in this case $\\mathrm{d}u/\\mathrm{d}y$. "
   ]
  },
  {
   "cell_type": "markdown",
   "metadata": {},
   "source": [
    "## 2.0 Properties of Fluids"
   ]
  },
  {
   "cell_type": "markdown",
   "metadata": {},
   "source": [
    "At a molecular level/scale, we can visualise a fluid as a collection of discrete molecules. Some of our derivations and explanations make use of the concept of particles of fluid. Even these particles can be considered to be made up of a huge number of molecules. However, for engineering applications we consider fluids to be a continuous substance rather than being a collection of discrete molecules or particles.\n",
    "\n",
    "When we make reference to fluid properties below, it is implied that we are actually referring to the average value of the property, determined by considering a large number of molecules across the volume surrounding the point under consideration. \n",
    "\n",
    "The values of velocity, density, pressure etc. at a point can be considered constant, with any variation due to molecular interactions being ignored as insignificant. We will now consider some common fluid properties. "
   ]
  },
  {
   "cell_type": "markdown",
   "metadata": {},
   "source": [
    "### 2.1 Mass Density, $\\rho$"
   ]
  },
  {
   "cell_type": "markdown",
   "metadata": {},
   "source": [
    "Mass density is simply the mass of a substance per unit volume. This reflects how tightly packed matter is within the substance/fluid. \n",
    "\n",
    "\\begin{equation}\n",
    "\\rho = \\frac{\\text{mass}}{\\text{volume}}\n",
    "\\end{equation}\n",
    "\n",
    "Mass density has units of $kg\\:m^{-3}$. Under standard conditions, water has a mass density of $1000 \\:kgm^{-3}$ while air has a mass density of $1.225 \\:kgm^{-3}$. We can expect a small variation in these mass densities as the temperature and pressure change. "
   ]
  },
  {
   "cell_type": "markdown",
   "metadata": {},
   "source": [
    "### 2.2 Specific Weight, $w$"
   ]
  },
  {
   "cell_type": "markdown",
   "metadata": {},
   "source": [
    "The specific weight is the weight of a substance per unit volume. Remember that weight is a force and is the product of mass and acceleration due to gravity. So, the specific weight of a substance changes depending on the value of **g**.\n",
    "\n",
    "\\begin{equation}\n",
    "w = \\frac{\\text{mass}\\times \\text{g}}{\\text{volume}} = \\rho g\n",
    "\\end{equation}\n",
    "\n",
    "Specific weight has units of $N\\: m^{-3}$. "
   ]
  },
  {
   "cell_type": "markdown",
   "metadata": {},
   "source": [
    "### 2.3 Specific Gravity, $\\sigma$"
   ]
  },
  {
   "cell_type": "markdown",
   "metadata": {},
   "source": [
    "The specific gravity (also known as relative density) of a substance is the ratio of its mass density to a standard mass density.\n",
    "\n",
    "\\begin{equation}\n",
    "\\sigma = \\frac{\\rho}{\\rho_{\\text{standard}}}\n",
    "\\end{equation}\n",
    "\n",
    "For liquids, the standard density is the density of water a 4 $^{\\circ} C$ at atmospheric pressure. Therefore water has a specific gravity of 1 while an oil might have a specific gravity of 0.9."
   ]
  },
  {
   "cell_type": "markdown",
   "metadata": {},
   "source": [
    "### 2.4 Viscosity $\\mu$"
   ]
  },
  {
   "cell_type": "markdown",
   "metadata": {},
   "source": [
    "We have already encountered the coefficient of dynamic viscosity, $\\mu$ above. Recall Newton's law of viscosity, \n",
    "\n",
    "\\begin{equation}\n",
    "\\tau = \\mu \\frac{\\mathrm{d}u}{\\mathrm{d}y}\n",
    "\\end{equation}\n",
    "\n",
    "If we rearrange this equation, \n",
    "\n",
    "\\begin{equation}\n",
    "\\mu = \\tau \\Big/\\frac{\\mathrm{d}u}{\\mathrm{d}y}\n",
    "\\end{equation}\n",
    "\n",
    "this leads to us interpreting $\\mu$ as the shear stress required to drag (with unit velocity) one layer of fluid past another layer of fluid, a unit distance away from it within the body of fluid. So, the higher the coefficient of dynamic viscosity, the more resistance there is to fluid flow. \n",
    "\n",
    "We can determine the units of $\\mu$ as follows,\n",
    "\n",
    "\\begin{equation}\n",
    "\\mu = \\frac{\\text{Force}}{\\text{Area}}\\times \\frac{\\text{Distance}}{\\text{Velocity}} = \\frac{\\text{Force}\\times \\text{Time}}{\\text{Area}}\n",
    "\\end{equation}\n",
    "\n",
    "Therefore, the units of $\\mu$ are $N\\:s\\:m^{-2}$. You should also be aware of **Kinematic Viscosity** $\\nu$, which is the ratio of dynamic viscosity to mass density. \n",
    "\n",
    "\\begin{equation}\n",
    "\\nu = \\frac{\\mu}{\\rho}\n",
    "\\end{equation}\n",
    "\n",
    "This is an important quantity used in the calculation of a property called Reynolds number that you will cover in the study of fluid dynamics.\n"
   ]
  },
  {
   "cell_type": "markdown",
   "metadata": {},
   "source": [
    "## 3.0 Fluid Compressibility"
   ]
  },
  {
   "cell_type": "markdown",
   "metadata": {},
   "source": [
    "All materials, including fluids are compressible when force is applied uniformly across their surface. Consider the force applied per unit area (pressure) across the the surface, $p$. An increase in pressure $\\mathrm{d}p$ will induce a reduction in volume, $\\mathrm{d}V$. For a given fluid, the relationship between the change in pressure and the resulting change in volume depends on the **Bulk modulus**.\n",
    "\n",
    "If we define volumetric strain as the change in volume divided by the original volume, we can further define the bulk modulus as the change in pressure divided by the volumetric strain.\n",
    "\n",
    "\\begin{equation}\n",
    "K = \\mathrm{d}p\\Big/\\frac{-\\mathrm{d}V}{V} = -V\\frac{\\mathrm{d}p}{\\mathrm{d}V}\n",
    "\\end{equation}"
   ]
  },
  {
   "cell_type": "markdown",
   "metadata": {},
   "source": [
    "If we now recall our equation for mass density,\n",
    "\n",
    "\\begin{equation}\n",
    "\\rho = \\frac{\\text{mass}}{V}\n",
    "\\end{equation}"
   ]
  },
  {
   "cell_type": "markdown",
   "metadata": {},
   "source": [
    "For a unit of mass, we can rearrange this equation to yield,\n",
    "\n",
    "\\begin{equation}\n",
    "V\\rho = 1\n",
    "\\end{equation}\n",
    "\n",
    "Differentiating this equation yields,\n",
    "\n",
    "\\begin{equation}\n",
    "V\\:\\mathrm{d}\\rho + \\rho\\:\\mathrm{d}V = 0\n",
    "\\end{equation}\n",
    "\n",
    "Rearranging, \n",
    "\n",
    "\\begin{equation}\n",
    "\\mathrm{d}V = \\frac{-V}{\\rho}\\mathrm{d}\\rho\n",
    "\\end{equation}\n",
    "\n",
    "Substituting our values for $V$ and $\\mathrm{d}V$ into our original expression for $K$, yields,\n",
    "\n",
    "\\begin{equation}\n",
    "K = \\rho\\frac{\\mathrm{d}p}{\\mathrm{d}\\rho}\n",
    "\\end{equation}"
   ]
  },
  {
   "cell_type": "markdown",
   "metadata": {},
   "source": [
    "From this we can see that the bulk modulus is dependent on the rate of change of pressure with respect to density. As the value of bulk modulus increases, changes in density with increasing pressure become smaller. For most practical purposes in hydraulic engineering we generally assume fluids to be incompressible as the bulk modulus is sufficiently high  that we observe negligible change in density for typical pressure changes. "
   ]
  },
  {
   "cell_type": "markdown",
   "metadata": {},
   "source": [
    "**There is no tutorial question sheet this week. Use your tutorial and office hours sessions this week to discuss the content in these notes or the content from previous weeks.**"
   ]
  }
 ],
 "metadata": {
  "hide_input": false,
  "kernelspec": {
   "display_name": "Python 3",
   "language": "python",
   "name": "python3"
  },
  "language_info": {
   "codemirror_mode": {
    "name": "ipython",
    "version": 3
   },
   "file_extension": ".py",
   "mimetype": "text/x-python",
   "name": "python",
   "nbconvert_exporter": "python",
   "pygments_lexer": "ipython3",
   "version": "3.6.4"
  },
  "toc": {
   "base_numbering": 1,
   "nav_menu": {},
   "number_sections": true,
   "sideBar": true,
   "skip_h1_title": false,
   "title_cell": "Table of Contents",
   "title_sidebar": "Contents",
   "toc_cell": false,
   "toc_position": {},
   "toc_section_display": true,
   "toc_window_display": false
  }
 },
 "nbformat": 4,
 "nbformat_minor": 2
}
