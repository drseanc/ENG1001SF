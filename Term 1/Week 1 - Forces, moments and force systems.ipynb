{
 "cells": [
  {
   "cell_type": "code",
   "execution_count": 1,
   "metadata": {
    "deletable": false,
    "editable": false,
    "hide_input": true
   },
   "outputs": [
    {
     "name": "stdout",
     "output_type": "stream",
     "text": [
      "- Dependencies imported 👍\n",
      "- Remember to select 'Kernel-> Restart & Run All' on first load to show embedded Youtube videos 🎬\n",
      "- Author: Dr SPCarroll, Sept 2020, Rev 1\n"
     ]
    }
   ],
   "source": [
    "#DEPENDENCIES & INITIALISATIONS\n",
    "from IPython.display import HTML #For embedding videos\n",
    "import math #Basic math functionality\n",
    "import numpy as np #Numpy for working with arrays\n",
    "import matplotlib.pyplot as plt #Plotting functionality \n",
    "#HTML('<center><iframe width=\"560\" height=\"315\" src=\"#\" frameborder=\"0\" allowfullscreen></iframe></center>')\n",
    "print(\"- Dependencies imported 👍\")\n",
    "print(\"- Remember to select 'Kernel-> Restart & Run All' on first load to show embedded Youtube videos 🎬\")\n",
    "print(\"- Author: Dr SPCarroll, Sept 2020, Rev 1\")"
   ]
  },
  {
   "cell_type": "markdown",
   "metadata": {
    "hide_input": false
   },
   "source": [
    "![title](img/T1W1/banner.jpg)"
   ]
  },
  {
   "cell_type": "markdown",
   "metadata": {
    "hide_input": true
   },
   "source": [
    "# Week 1: Forces, Moments and Force Systems"
   ]
  },
  {
   "cell_type": "markdown",
   "metadata": {
    "hide_input": true
   },
   "source": [
    "## 1.0 Force"
   ]
  },
  {
   "cell_type": "markdown",
   "metadata": {},
   "source": [
    "As engineers we spend a huge amount of time analysing forces and their influence on the structures we design. So it's probably a good idea at this stage to pin down exactly what a force is. Put simply, a force is the product of mass and acceleration. \n",
    "\n",
    "\\begin{equation}\n",
    "\\text{Force} = \\text{mass}\\times\\text{acceleration}\n",
    "\\end{equation}\n",
    "\n",
    "Here on earth, all mass experiences an acceleration of 9.81 m/s$^2$. So, a mass of 1 kg experiences a gravitational force of,\n",
    "\n",
    "\\begin{align}\n",
    "\\text{Force} &= 1 \\:\\text{kg}\\times 9.81\\:\\text{m/s}^2\\\\\\\\\n",
    "\\text{Force} &= 9.81 \\: \\frac{\\text{kg}\\:\\text{m}}{\\text{s}^2}\n",
    "\\end{align}\n",
    "\n",
    "The units of force are more conventionally expressed as N(ewtons) after <a href=\"https://en.wikipedia.org/wiki/Isaac_Newton\">Sir Isaac Newton</a>. Thus 1 N is equal to 9.81 kg m/s$^2$. It's important that you understand the distinction between mass and force, e.g. a 10 kg mass resting on a beam does not impose a 10 kg force on the beam, but a 98.1 N force. Similarly, you may weigh 80 kg, but you exert a force of about 785 Newtons. \n",
    "\n",
    "### 1.1 Force components and resultants\n",
    "A force is a vector quantity. This means that it has both magnitude and direction. This is in contrast to a scaler quantity such as mass, volume, height etc. all of which can be completely described by a magnitude. Since force is a vector quantity, all of the usual rules and analysis techniques associated with vectors can be applied to forces. \n",
    "\n",
    "Before proceeding further into the vector analysis of forces, we need to state that all forces we will discuss in this module occupy a 2-dimensional plane. This means that they can be completely described by two orthogonal (at right angles to each other) x and y component in a 2-dimensional axis system. This represents a reduction from full 3-dimensional Euclidean space. Once you understand the basic concepts for a 2-D force systems, expansion to 3-dimensions is trivial. \n",
    "\n",
    "Since forces are simply 2-D vectors, we can represent any force as the combination of 2 orthogonal components. Similarly, any number of forces can be represented as a single force resultant with specific magnitude and direction. Much of what we'll do for the rest of this first week will involve:\n",
    "\n",
    "- breaking forces up into their **orthogonal components**\n",
    "- combining multiple forces to identify their **force resultant**\n",
    "\n",
    "Consider the 100 N force shown below. Note that we have defined the force within a 2-D plane defined by the x and y axes. The force is applied at location $x=2, y=2$. It has a **magnitude** of 100 N. Its **direction** can be indicated by stating that the force makes an angle of 30$^{\\circ}$ with respect to the positive x-axis"
   ]
  },
  {
   "cell_type": "markdown",
   "metadata": {},
   "source": [
    "![title](img/T1W1/image1.jpg)"
   ]
  },
  {
   "cell_type": "markdown",
   "metadata": {},
   "source": [
    "This force can be resolved into 2 orthogonal components, indicated above by $F_x$ and $F_y$. Note that these can actually be any two orthogonal force vectors. For convenience, we've selected two orthogonal components parallel to the x and y axes. Simple geometry can be used to identify the magnitudes of $F_x$ and $F_y$.\n",
    "\n",
    "\\begin{align}\n",
    "F_x &= 100\\times \\cos(30)\\\\\n",
    "F_y &= 100\\times \\sin(30)\\\\\n",
    "\\end{align}"
   ]
  },
  {
   "cell_type": "code",
   "execution_count": 2,
   "metadata": {
    "hide_input": false
   },
   "outputs": [
    {
     "name": "stdout",
     "output_type": "stream",
     "text": [
      "Fx is 86.6 N in the positive x-direction (to the right)\n",
      "Fy is 50.0 N in the positive y-direction (upwards)\n"
     ]
    }
   ],
   "source": [
    "#Define constants\n",
    "F_mag = 100 # (N)Force magnitude\n",
    "theta_deg = 30 # (deg) Angle force makes with positive x-axis\n",
    "theta = theta_deg*math.pi/180 # (rads) Angle force makes with positive x-axis\n",
    "\n",
    "#Calculate magnitude of orthogonal components\n",
    "Fx_100 = F_mag*math.cos(theta)\n",
    "Fy_100 = F_mag*math.sin(theta)\n",
    "\n",
    "#Print output\n",
    "print(\"Fx is {one} N in the positive x-direction (to the right)\".format(one=round(Fx_100,1)))\n",
    "print(\"Fy is {one} N in the positive y-direction (upwards)\".format(one=round(Fy_100,1)))"
   ]
  },
  {
   "cell_type": "markdown",
   "metadata": {},
   "source": [
    "We can evaluate the combined influence of multiple forces in the same way by breaking each one down into its orthogonal components and recombining these components into a single force resultant. Consider the two forces shown below. The 100 N force is the same force evaluated above. Therefore, we now need to determine the components of the 60 N force.  "
   ]
  },
  {
   "cell_type": "markdown",
   "metadata": {},
   "source": [
    "![title](img/T1W1/image2.jpg)"
   ]
  },
  {
   "cell_type": "code",
   "execution_count": 3,
   "metadata": {},
   "outputs": [
    {
     "name": "stdout",
     "output_type": "stream",
     "text": [
      "Fx is 46.0 N in the negative x-direction (to the left)\n",
      "Fy is 38.6 N in the positive y-direction (upwards)\n"
     ]
    }
   ],
   "source": [
    "#Define constants\n",
    "F_mag = 60 # (N)Force magnitude\n",
    "theta_deg = 40 # (deg) Angle force makes with negative x-axis\n",
    "theta = theta_deg*math.pi/180 # (rads) Angle force makes with negative x-axis\n",
    "\n",
    "#Calculate magnitude of orthogonal components\n",
    "Fx_60 = F_mag*math.cos(theta)\n",
    "Fy_60 = F_mag*math.sin(theta)\n",
    "\n",
    "#Print output\n",
    "print(\"Fx is {one} N in the negative x-direction (to the left)\".format(one=round(Fx_60,1)))\n",
    "print(\"Fy is {one} N in the positive y-direction (upwards)\".format(one=round(Fy_60,1))) "
   ]
  },
  {
   "cell_type": "markdown",
   "metadata": {},
   "source": [
    "Thus the total horizontal force is obtained as the algebraic sum of the horizontal components of the 100 N and 60 N forces. Noting that Fx_60 acts in the opposite direction to Fx_100, "
   ]
  },
  {
   "cell_type": "code",
   "execution_count": 4,
   "metadata": {},
   "outputs": [
    {
     "name": "stdout",
     "output_type": "stream",
     "text": [
      "Fx_total is 40.6 N\n"
     ]
    }
   ],
   "source": [
    "Fx_total = Fx_100 - Fx_60\n",
    "print(\"Fx_total is {one} N\".format(one=round(Fx_total,1))) "
   ]
  },
  {
   "cell_type": "markdown",
   "metadata": {},
   "source": [
    "The fact that Fx_total evaluates to a positive number tells us that the resultant horizontal force acts in the positive x-direction (to the right). We can repeat this process for the y-components of force noting that both act in the positive y-direction."
   ]
  },
  {
   "cell_type": "code",
   "execution_count": 5,
   "metadata": {},
   "outputs": [
    {
     "name": "stdout",
     "output_type": "stream",
     "text": [
      "Fy_total is 88.6 N\n"
     ]
    }
   ],
   "source": [
    "Fy_total = Fy_100 + Fy_60\n",
    "print(\"Fy_total is {one} N\".format(one=round(Fy_total,1))) "
   ]
  },
  {
   "cell_type": "markdown",
   "metadata": {},
   "source": [
    "Fx_total and Fy_total represent two orthogonal force components and as such they can be represented by a single force vector, $\\text{F_res}$ whose magnitude, $|\\text{F_res}|$ and orientation, $\\alpha$ can now be easily evaluated.\n",
    "\n",
    "\\begin{equation}\n",
    "|\\text{F_res}| = \\sqrt{\\text{Fx_total}^2 + \\text{Fy_total}^2}\n",
    "\\end{equation}\n",
    "\n",
    "\\begin{equation}\n",
    "\\alpha = \\tan^{-1}\\bigg(\\frac{\\text{Fy_total}}{\\text{Fx_total}}\\bigg)\n",
    "\\end{equation}"
   ]
  },
  {
   "cell_type": "code",
   "execution_count": 6,
   "metadata": {},
   "outputs": [
    {
     "name": "stdout",
     "output_type": "stream",
     "text": [
      "F_res a has magnitude of 97.4 N and an orientation of 65.4 degrees relative to the positive x-axis\n"
     ]
    }
   ],
   "source": [
    "#Magnitude\n",
    "mag = math.sqrt(Fx_total**2 + Fy_total**2)\n",
    "ori = math.atan(Fy_total/Fx_total)\n",
    "ori_deg = ori*180/math.pi\n",
    "print(\"F_res a has magnitude of {one} N and an orientation of {two} degrees relative to the positive x-axis\".format(one=round(mag,1), two=round(ori_deg,1)))"
   ]
  },
  {
   "cell_type": "markdown",
   "metadata": {},
   "source": [
    "With reference to the figure below, the system of forces in the left hand axis system can be replaced by the single resultant force in the right hand axis system. We'll explore this concept of equivalent systems further below. The two force systems shown below are equivalent in terms of force. However, this doesn't tell the full story. In order to obtain two completely equivalent systems, we need to also consider the moment or torque effect of each force. "
   ]
  },
  {
   "cell_type": "markdown",
   "metadata": {},
   "source": [
    "![title](img/T1W1/image3.jpg)"
   ]
  },
  {
   "cell_type": "markdown",
   "metadata": {},
   "source": [
    "## 2.0 The Moment of a Force"
   ]
  },
  {
   "cell_type": "markdown",
   "metadata": {},
   "source": [
    "The moment of a force is the twisting effect or torque that a force imposes or generates **about a point.** More specifically, the moment of a force is the product of force magnitude multiplied by a **lever arm** distance. The lever arm is the **perpendicular distance** between the line of action of a force and the point about which rotation occurs (or the torque is being calculated).\n",
    "\n",
    "Consider holding a heavy box in your hands with both arms outstretched; this requires far more effort than if you hold the box close to your chest. This is because when your arms are outstretched, the force imposed by the heavy box generated a larger moment about the the point of rotation (your shoulder) than when your hold the box close to your chest. \n",
    "\n",
    "For example, consider the force $F=50$ N shown below, applied at a point $[3,6]$ on the x-y plane. The force makes an angle of $20^\\circ$ with the positive x-axis. By extending the force vector indefinitely  we obtain the line of action for this force. By projecting perpendicularly from the line of action to the origin, we obtain the lever arm $\\lambda$ for force F about the origin. Therefore this force generates a torque or moment, $M=|F|\\times \\lambda$ about the origin."
   ]
  },
  {
   "cell_type": "markdown",
   "metadata": {},
   "source": [
    "![title](img/T1W1/image4.jpg)"
   ]
  },
  {
   "cell_type": "markdown",
   "metadata": {},
   "source": [
    "We can intuit the sense of rotation as being clockwise. In other words, the force $F$ would tend to induce a clockwise rotation about the origin. If you have trouble identifying the sense of rotation, draw the origin point and force on a piece of paper with the paper restrained by a pin or needle through the origin. Use your finger to apply the force F and you will see the paper tends to rotate clockwise about the pin. You will only need to do this once or twice before you can visualise the sense of rotation a force induces about a point. \n",
    "\n",
    "Now, in order to calculate the moment, we can use clever geometry to identify $\\lambda$. However, there is an easier way to calculate the moment generated by $F$. We can simply consider the moment generated by its orthogonal components. "
   ]
  },
  {
   "cell_type": "markdown",
   "metadata": {},
   "source": [
    "The horizontal and vertical components of $F$, $F_x$ and $F_y$ are obtained as,"
   ]
  },
  {
   "cell_type": "code",
   "execution_count": 7,
   "metadata": {},
   "outputs": [
    {
     "name": "stdout",
     "output_type": "stream",
     "text": [
      "Fx = 47.0 N\n",
      "Fy = 17.1 N\n"
     ]
    }
   ],
   "source": [
    "F_x = 50*math.cos(20*math.pi/180) \n",
    "F_y = 50*math.sin(20*math.pi/180)\n",
    "print(\"Fx = {one} N\".format(one=round(F_x,1)))\n",
    "print(\"Fy = {one} N\".format(one=round(F_y,1)))"
   ]
  },
  {
   "cell_type": "markdown",
   "metadata": {},
   "source": [
    "We can see quite easily that $F_x$ has a lever arm of 6 m while $F_y$ has a lever arm of 3 m. We can also recognise that $F_x$ would generate a clockwise rotation while $F_y$ would generate a counter-clockwise rotation. Thus we can evaluate the moment generated by $F$ by **taking moments** about the origin as follows,\n",
    "\\begin{equation}\n",
    "M = \\overbrace{(47\\:\\text{N}\\times 6\\:\\text{m})}^{F_x} - \\overbrace{(17.1\\:\\text{N}\\times 3\\:\\text{m})}^{F_y}\n",
    "\\end{equation}\n",
    "\n",
    "\\begin{equation}\n",
    "M = 230.7 \\:\\text{Nm} \n",
    "\\end{equation}\n",
    "\n",
    "Note that in the above equation, we have implicitly assumed that clockwise moments are positive, while counter-clockwise are negative. Therefore the fact that the moment evaluates to a positive number indicates a clockwise sense of rotation.   "
   ]
  },
  {
   "cell_type": "markdown",
   "metadata": {},
   "source": [
    "By following the exact same logic, we can evaluate the combined torque generated by multiple forces about a point by evaluating the sum of the moments for each force in turn. We'll discuss this further below."
   ]
  },
  {
   "cell_type": "markdown",
   "metadata": {},
   "source": [
    "### 2.2 Force couples"
   ]
  },
  {
   "cell_type": "markdown",
   "metadata": {},
   "source": [
    "Two forces are said to form a **couple** when:\n",
    "- they have equal magnitude\n",
    "- have parallel lines of action\n",
    "- act in opposite directions\n",
    "\n",
    "For example, assuming $F_a$ and $F_b$ below have equal magnitude, they form a couple."
   ]
  },
  {
   "cell_type": "markdown",
   "metadata": {},
   "source": [
    "![title](img/T1W1/image5.jpg)"
   ]
  },
  {
   "cell_type": "markdown",
   "metadata": {},
   "source": [
    "A force couple generates a moment equal to the magnitude of one force multiplied by the perpendicular distance between their lines of action. \n",
    "\n",
    "\\begin{equation}\n",
    "M_{couple} = F_a\\times z = F_b\\times z\n",
    "\\end{equation}\n",
    "\n",
    "The couple pictured generates a clockwise moment. Force couples appear frequently in engineering. You will find yourself evaluating the moment effect of force couples regularly. For now we simply want to define the concept."
   ]
  },
  {
   "cell_type": "markdown",
   "metadata": {},
   "source": [
    "## 3.0 Equivalent Force and Moment Systems"
   ]
  },
  {
   "cell_type": "markdown",
   "metadata": {},
   "source": [
    "So far we have considered the vector properties of forces (components and resultants). We've also discussed the concept of torque or moments generated by a force. Now we'll bring these ideas together to evaluate systems of forces and moments and determine their resultant or equivalent systems.\n",
    "\n",
    "Two systems of 2D forces, $A$ and $B$ are said to be equivalent if three conditions are satisfied:\n",
    "1. The sum of all forces in the x-direction is equal\n",
    "\n",
    "\\begin{equation}\n",
    "\\sum F_x,A = \\sum F_x,B\n",
    "\\end{equation}\n",
    "\n",
    "2. The sum of all forces in the y-direction is equal\n",
    "\n",
    "\\begin{equation}\n",
    "\\sum F_y,A = \\sum F_y,B\n",
    "\\end{equation}\n",
    "\n",
    "3. The sum of the moments generated by all forces in system A is equal to the sum of the moments generated by all forces in system B\n",
    "\n",
    "\\begin{equation}\n",
    "\\sum M_A = \\sum M_B\n",
    "\\end{equation}\n",
    "\n",
    "The practical value of identifying equivalent systems is that it allows is to represent multiple forces by a single resultant force that generates the same forcing and moment influence. \n",
    "\n",
    "Consider again the force system we discussed previously,"
   ]
  },
  {
   "cell_type": "markdown",
   "metadata": {},
   "source": [
    "![title](img/T1W1/image6.jpg)"
   ]
  },
  {
   "cell_type": "markdown",
   "metadata": {},
   "source": [
    "In addition to evaluating the resultant force (completed above), we now need to determine the resulting moment. Evaluating the sum of the moments about the origin (again assuming clockwise moments are positive),\n",
    "\n",
    "\\begin{equation}\n",
    "\\sum M = (86.6 \\:\\text{N}\\times 2\\:\\text{m}) - (50\\:\\text{N}\\times 2\\:\\text{m}) - (46\\:\\text{N}\\times 8\\:\\text{m}) - (38.6\\:\\text{N}\\times 10\\:\\text{m})\n",
    "\\end{equation}"
   ]
  },
  {
   "cell_type": "code",
   "execution_count": 8,
   "metadata": {},
   "outputs": [
    {
     "name": "stdout",
     "output_type": "stream",
     "text": [
      "The resulting moment about the origin is -680.8 Nm\n"
     ]
    }
   ],
   "source": [
    "M = 86.6*2 - 50*2 - 46*8 - 38.6*10\n",
    "print(\"The resulting moment about the origin is {one} Nm\".format(one=round(M,1)))"
   ]
  },
  {
   "cell_type": "markdown",
   "metadata": {},
   "source": [
    "The negative sign here indicates that the resulting moment is counter-clockwise according to our sign convention. Therefore, referring to the diagram below, we can say that the system of forces in system A is equivalent to the single force and moment in system B. In other words, system A has the exact same force and moment effect as system B. "
   ]
  },
  {
   "cell_type": "markdown",
   "metadata": {},
   "source": [
    "![title](img/T1W1/image7.jpg)"
   ]
  },
  {
   "cell_type": "markdown",
   "metadata": {},
   "source": [
    "## Example #1\n",
    "*(NB try to solve all example questions yourself before watching the solution. You can complete your solution using pen and paper but I encourage you to get used to performing calculations directly in a Jupyter notebook. You could extend this notebook to include your solution)*\n",
    "\n",
    "**Replace the forces and moment shown in system A by an equivalent system consisting of a single force (at the origin) and moment (about the origin).** "
   ]
  },
  {
   "cell_type": "markdown",
   "metadata": {},
   "source": [
    "(Hint: Moments do not feature in a force summation equation but they do feature in a moment summation equation.)"
   ]
  },
  {
   "cell_type": "markdown",
   "metadata": {},
   "source": [
    "![title](img/T1W1/image8.jpg)"
   ]
  },
  {
   "cell_type": "markdown",
   "metadata": {},
   "source": [
    "### Solution #1"
   ]
  },
  {
   "cell_type": "code",
   "execution_count": 9,
   "metadata": {
    "hide_input": false
   },
   "outputs": [
    {
     "data": {
      "text/html": [
       "<center><iframe width=\"560\" height=\"315\" src=\"https://www.youtube.com/embed/lTQd_5U8ebE\" frameborder=\"0\" allow=\"accelerometer; autoplay; encrypted-media; gyroscope; picture-in-picture\" allowfullscreen></iframe></center>"
      ],
      "text/plain": [
       "<IPython.core.display.HTML object>"
      ]
     },
     "execution_count": 9,
     "metadata": {},
     "output_type": "execute_result"
    }
   ],
   "source": [
    "HTML('<center><iframe width=\"560\" height=\"315\" src=\"https://www.youtube.com/embed/lTQd_5U8ebE\" frameborder=\"0\" allow=\"accelerometer; autoplay; encrypted-media; gyroscope; picture-in-picture\" allowfullscreen></iframe></center>')"
   ]
  },
  {
   "cell_type": "markdown",
   "metadata": {},
   "source": [
    "### Coded solution"
   ]
  },
  {
   "cell_type": "code",
   "execution_count": 10,
   "metadata": {},
   "outputs": [
    {
     "name": "stdout",
     "output_type": "stream",
     "text": [
      "The resultant moment is 68.2 Nm\n",
      "The resultant horizontal force is 169.2 N\n",
      "The resultant vertical force is 90.4 N\n",
      "The resultant force magnitude is 191.9 N\n",
      "The resultant force makes an angle of 28.1 degrees with the positive x-axis\n"
     ]
    }
   ],
   "source": [
    "#Calculate horizontal and vertical force components magnitudes\n",
    "#(Note not considering direction yet, just magnitude)\n",
    "F_Ax = 100\n",
    "F_Ay = 0\n",
    "F_Bx = 0\n",
    "F_By = 90\n",
    "F_Cx = 40*math.cos(45*math.pi/180)\n",
    "F_Cy = 40*math.sin(45*math.pi/180)\n",
    "F_Dx = 50*math.cos(35*math.pi/180)\n",
    "F_Dy = 50*math.sin(35*math.pi/180)\n",
    "\n",
    "#Moment magnitude (note not considering sense of rotation yet)\n",
    "M_E = 150\n",
    "\n",
    "#Take moments about the origin (assume clockwise moments are positive)\n",
    "M_o = F_Ax*2 - F_By*9 + F_Cx*6 + F_Cy*5 + F_Dx*6 - F_Dy*1 + M_E\n",
    "print('The resultant moment is {one} Nm'.format(one=round(M_o,1)))\n",
    "\n",
    "#Evaluate the sum of the horizontal forces\n",
    "Fx = F_Ax + F_Cx + F_Dx\n",
    "print('The resultant horizontal force is {one} N'.format(one=round(Fx,1)))\n",
    "\n",
    "#Evaluate the sum of the vertical forces\n",
    "Fy = F_By - F_Cy + F_Dy\n",
    "print('The resultant vertical force is {one} N'.format(one=round(Fy,1)))\n",
    "\n",
    "#Evaluate the resultant magnitude\n",
    "F_res = math.sqrt(Fx**2 + Fy**2)\n",
    "print('The resultant force magnitude is {one} N'.format(one=round(F_res,1)))\n",
    "\n",
    "#Evaluate the resultant orientation\n",
    "alpha = math.atan(Fy/Fx)*180/math.pi\n",
    "print('The resultant force makes an angle of {one} degrees with the positive x-axis'.format(one=round(alpha,1)))\n"
   ]
  },
  {
   "cell_type": "markdown",
   "metadata": {},
   "source": [
    "## Example #2"
   ]
  },
  {
   "cell_type": "markdown",
   "metadata": {},
   "source": [
    "Replace the forces and moments shown in system A by an equivalent system consisting of a single force. \n",
    "\n",
    "(Hint: Think about where you would like to place your single force in system B.)"
   ]
  },
  {
   "cell_type": "markdown",
   "metadata": {},
   "source": [
    "![title](img/T1W1/image9.jpg)"
   ]
  },
  {
   "cell_type": "markdown",
   "metadata": {},
   "source": [
    "### Solution #2"
   ]
  },
  {
   "cell_type": "code",
   "execution_count": 11,
   "metadata": {
    "hide_input": false,
    "scrolled": false
   },
   "outputs": [
    {
     "data": {
      "text/html": [
       "<center><iframe width=\"560\" height=\"315\" src=\"https://www.youtube.com/embed/a0ytfe0Wet4\" frameborder=\"0\" allow=\"accelerometer; autoplay; encrypted-media; gyroscope; picture-in-picture\" allowfullscreen></iframe></center>"
      ],
      "text/plain": [
       "<IPython.core.display.HTML object>"
      ]
     },
     "execution_count": 11,
     "metadata": {},
     "output_type": "execute_result"
    }
   ],
   "source": [
    "HTML('<center><iframe width=\"560\" height=\"315\" src=\"https://www.youtube.com/embed/a0ytfe0Wet4\" frameborder=\"0\" allow=\"accelerometer; autoplay; encrypted-media; gyroscope; picture-in-picture\" allowfullscreen></iframe></center>')"
   ]
  },
  {
   "cell_type": "markdown",
   "metadata": {},
   "source": [
    "### Coded solution"
   ]
  },
  {
   "cell_type": "code",
   "execution_count": 12,
   "metadata": {},
   "outputs": [
    {
     "name": "stdout",
     "output_type": "stream",
     "text": [
      "The resultant moment is -35.8 Nm\n",
      "The resultant horizontal force is -12.8 N\n",
      "The resultant vertical force is 76.9 N\n",
      "The resultant force magnitude is 77.9 N\n",
      "The resultant force makes an angle of 99.4 degrees with the positive x-axis\n",
      "The resultant force should be positioned at 0.47 m along the x-axis or 2.8 m along the y-axis to achieve moment equilibrium\n"
     ]
    }
   ],
   "source": [
    "#Calculate horizontal and vertical force components magnitudes\n",
    "#(Note not considering direction yet, just magnitude)\n",
    "F_Ax = 100*math.cos(70*math.pi/180)\n",
    "F_Ay = 100*math.sin(70*math.pi/180)\n",
    "F_Bx = 70*math.sin(25*math.pi/180)\n",
    "F_By = 70*math.cos(25*math.pi/180)\n",
    "F_Cx = 70*math.sin(25*math.pi/180)\n",
    "F_Cy = 70*math.cos(25*math.pi/180)\n",
    "F_Dx = 50*math.cos(20*math.pi/180)\n",
    "F_Dy = 50*math.sin(20*math.pi/180)\n",
    "\n",
    "#Moment magnitudes (note not considering sense of rotation yet)\n",
    "M_E = 20\n",
    "M_F = 75\n",
    "\n",
    "#Take moments about the origin (assume clockwise moments are positive)\n",
    "M_o = -F_Bx*2 - F_By*6 - F_Cx*3 + F_Cy*5 + F_Dx*6 - F_Dy*3 + M_E - M_F\n",
    "print('The resultant moment is {one} Nm'.format(one=round(M_o,1)))\n",
    "\n",
    "#Evaluate the sum of the horizontal forces\n",
    "Fx = F_Ax - F_Bx + F_Cx - F_Dx\n",
    "print('The resultant horizontal force is {one} N'.format(one=round(Fx,1)))\n",
    "\n",
    "#Evaluate the sum of the vertical forces\n",
    "Fy = F_Ay + F_By - F_Cy - F_Dy\n",
    "print('The resultant vertical force is {one} N'.format(one=round(Fy,1)))\n",
    "\n",
    "#Evaluate the resultant magnitude\n",
    "F_res = math.sqrt(Fx**2 + Fy**2)\n",
    "print('The resultant force magnitude is {one} N'.format(one=round(F_res,1)))\n",
    "\n",
    "#Evaluate the resultant orientation\n",
    "alpha = 90 +(math.atan(abs(Fx)/Fy))*180/math.pi\n",
    "print('The resultant force makes an angle of {one} degrees with the positive x-axis'.format(one=round(alpha,1)))\n",
    "\n",
    "#Position of resultant\n",
    "xShift = abs(M_o)/Fy\n",
    "yShift = abs(M_o)/abs(Fx)\n",
    "print('The resultant force should be positioned at {one} m along the x-axis or {two} m along the y-axis to achieve moment equilibrium'.format(one=round(xShift,2),two=round(yShift,2)))"
   ]
  },
  {
   "cell_type": "markdown",
   "metadata": {},
   "source": [
    "**You should now download the question sheet for this week and attempt all questions. You will have an opportunity to to get help in your tutorial session and worked solutions will be released next week.**  "
   ]
  }
 ],
 "metadata": {
  "hide_input": false,
  "kernelspec": {
   "display_name": "Python 3",
   "language": "python",
   "name": "python3"
  },
  "language_info": {
   "codemirror_mode": {
    "name": "ipython",
    "version": 3
   },
   "file_extension": ".py",
   "mimetype": "text/x-python",
   "name": "python",
   "nbconvert_exporter": "python",
   "pygments_lexer": "ipython3",
   "version": "3.6.4"
  },
  "toc": {
   "base_numbering": 1,
   "nav_menu": {},
   "number_sections": true,
   "sideBar": true,
   "skip_h1_title": false,
   "title_cell": "Table of Contents",
   "title_sidebar": "Contents",
   "toc_cell": false,
   "toc_position": {
    "height": "calc(100% - 180px)",
    "left": "10px",
    "top": "150px",
    "width": "165px"
   },
   "toc_section_display": true,
   "toc_window_display": false
  }
 },
 "nbformat": 4,
 "nbformat_minor": 2
}
