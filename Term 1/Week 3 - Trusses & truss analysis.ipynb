{
 "cells": [
  {
   "cell_type": "code",
   "execution_count": 1,
   "metadata": {
    "deletable": false,
    "editable": false,
    "hide_input": true
   },
   "outputs": [
    {
     "name": "stdout",
     "output_type": "stream",
     "text": [
      "- Dependencies imported 👍\n",
      "- Remember to select 'Kernel-> Restart & Run All' on first load to show embedded Youtube videos 🎬\n",
      "- Author: Dr SPCarroll, Sept 2020, Rev 2\n"
     ]
    }
   ],
   "source": [
    "#DEPENDENCIES & INITIALISATIONS\n",
    "from IPython.display import HTML #For embedding videos\n",
    "import math #Basic math functionality\n",
    "import numpy as np #Numpy for working with arrays\n",
    "import matplotlib.pyplot as plt #Plotting functionality \n",
    "#HTML('<iframe width=\"560\" height=\"315\" src=\"#\" frameborder=\"0\" allowfullscreen></iframe>')\n",
    "print(\"- Dependencies imported 👍\")\n",
    "print(\"- Remember to select 'Kernel-> Restart & Run All' on first load to show embedded Youtube videos 🎬\")\n",
    "print(\"- Author: Dr SPCarroll, Sept 2020, Rev 2\")"
   ]
  },
  {
   "cell_type": "markdown",
   "metadata": {},
   "source": [
    "# Week 3: Trusses & Truss Analysis"
   ]
  },
  {
   "cell_type": "markdown",
   "metadata": {},
   "source": [
    "![title](img/T1W3/banner.jpg)"
   ]
  },
  {
   "cell_type": "markdown",
   "metadata": {},
   "source": [
    "This week we'll turn our attention to trusses, also known as pin-jointed structures. We'll discuss their strengths, common forms and methods of analysis.\n",
    "\n",
    "Trusses are one of the first *complete structures* we'll tackle. There is a couple of reasons for this; firstly, the truss is a very simple structure, easy to understand and analyse. Through some simple mechanics (that you've covered in week 1 and 2) we can quite easily trace the **load path** through a truss and visualise how forces are being transmitted through the structure and back to its supports.\n",
    "\n",
    "The other reason we introduce trusses now is because they are so ubiquitous. We see them all around the built environment. Their simplicity belies their exceptional ability to span very large distances with great efficiency. It's this efficiency that makes them well suited as roof and bridge structures. "
   ]
  },
  {
   "cell_type": "markdown",
   "metadata": {},
   "source": [
    "## 1.0 What is a truss?"
   ]
  },
  {
   "cell_type": "markdown",
   "metadata": {},
   "source": [
    "A truss is a structure that consists of a collection of elements connected at **pin joints or nodes**. In theory, the pin joints provide no rotational resistance and behave as hinges. The benefit of a truss is that the members are predominantly axially loaded. This means they are either in compression, tension or have no force, so-called zero force members. This makes trusses a particularly efficient structural form. This is evidenced by the fact that we see truss structures routinely employed to span large distances and efficiently withstand high loads."
   ]
  },
  {
   "cell_type": "markdown",
   "metadata": {},
   "source": [
    "![title](img/T1W3/image1.jpg)\n",
    "<center>Lattice truss pylon structure, utilising axially loaded members</center>"
   ]
  },
  {
   "cell_type": "markdown",
   "metadata": {},
   "source": [
    "### 1.1 Theoretical truss behaviour"
   ]
  },
  {
   "cell_type": "markdown",
   "metadata": {},
   "source": [
    "As we've said, theoretically  at least, all truss nodes are effectively pins or hinges. This means that the members meeting at a node are free to rotate relative to each other. As such, moments cannot be transmitted from one member into adjacent members. Only forces can be transmitted through nodes. From an engineering perspective, a truss, like any structure has one purpose, to transmit externally applied forces through the structure and back into the supports or foundations of that structure. Take the simplest form of truss as an example."
   ]
  },
  {
   "cell_type": "markdown",
   "metadata": {},
   "source": [
    "![title](img/T1W3/image2.jpg)\n",
    "<center>Simple 2-bar truss subject to a single externally applied force</center>"
   ]
  },
  {
   "cell_type": "markdown",
   "metadata": {},
   "source": [
    "The 50 kN force applied at node B, must be transmitted through the structure back into the roller and pin support at A and C respectively. We can think of the external loads travelling along a **load path**. The engineer's job is to evaluate the load path and make sure the structural elements along that path can withstand the stresses induced by the loads being transmitted. \n",
    "\n",
    "Based on what we learned in week 2, the reactions at A and C are easily evaluated;\n",
    "\n",
    "\\begin{align}\n",
    "H_A &= 37.5 \\:\\text{kN}\\\\\n",
    "H_C &= 37.5 \\:\\text{kN}\\\\\n",
    "V_C &= 50 \\:\\text{kN}\n",
    "\\end{align}\n",
    "\n",
    "Confirm these values yourself through calculation. In order for these reactions to develop at the supports, member AB must transmit a compression force of 37.5 kN while member BC transmits a tension force of 62.5 kN. We can see this indicated on the right hand load path diagram below. By the end of this week, you will be comfortable determining these load paths for statically determinate truss structures."
   ]
  },
  {
   "cell_type": "markdown",
   "metadata": {},
   "source": [
    "![title](img/T1W3/image3.jpg)\n",
    "<center>Simple 2-bar truss subject to a single externally applied force and resulting load path.</center>"
   ]
  },
  {
   "cell_type": "markdown",
   "metadata": {},
   "source": [
    "### 1.2 Common truss types"
   ]
  },
  {
   "cell_type": "markdown",
   "metadata": {},
   "source": [
    "Before we focus on truss analysis methods, we should familiarise ourselves with some common truss forms or patterns. The truss pattern refers to the arrangement of internal vertical and diagonal members. The top and bottom members are often horizontal (although not always) and are sometimes referred to as truss chords or booms. Common forms or patterns of truss have emerged in response to different use cases. Some of the most common are the **Pratt, Howe, Warren and Modified Warren**.\n",
    "\n",
    "**Pratt Truss**\n",
    "\n",
    "The Pratt truss (first proposed by Thomas Pratt in 1844) is one of the most common forms of truss and is made up of vertical and diagonal members that form an ’N’ shape or pattern. The diagonal members are arranged so that they only develop tensile forces. The vertical members in a Pratt truss develop compression forces. This means they will typically be more robust and capable of resisting buckling. "
   ]
  },
  {
   "cell_type": "markdown",
   "metadata": {},
   "source": [
    "![title](img/T1W3/image4.jpg)\n",
    "<center>Pratt truss. Green members in tension, red members in compression, grey are zero force members.</center>"
   ]
  },
  {
   "cell_type": "markdown",
   "metadata": {},
   "source": [
    "**Howe truss**\n",
    "\n",
    "The Howe truss predates the Pratt truss and was proposed by William Howe in 1840. It is essentially the reverse of the Pratt truss (upside down Pratt truss). As a result, in response to vertical or gravity loading, the vertical members typically go into tension with the diagonal members going into compression. This is slightly less advantageous than the Pratt truss configuration as the longer diagonal members must now resist buckling in compression.  "
   ]
  },
  {
   "cell_type": "markdown",
   "metadata": {},
   "source": [
    "![title](img/T1W3/image5.jpg)\n",
    "<center>Howe truss. Green members in tension, red members in compression, grey are zero force members.</center>"
   ]
  },
  {
   "cell_type": "markdown",
   "metadata": {},
   "source": [
    "**Warren Truss**\n",
    "\n",
    "The Warren truss dispenses with internal vertical members entirely and is formed from a series of triangles. By eliminating the vertical members, the Warren truss is relatively economical in terms of material use. The internal diagonal members resist tension and compression forces alternately. James Warren proposed his Warren truss in 1848. \n",
    "\n",
    "It is no coincidence that three of the most common forms of truss emerged within less than a decade. The 1840s is a period that is characterised by *Railway Mania*. It was a period of intense investment and development of railway networks. This resulted in innovations in bridge design that gave us the Warren, Howe and Pratt trusses we see so commonly today.  "
   ]
  },
  {
   "cell_type": "markdown",
   "metadata": {},
   "source": [
    "![title](img/T1W3/image6.jpg)\n",
    "<center>Warren truss. Green members in tension, red members in compression, grey are zero force members.</center>"
   ]
  },
  {
   "cell_type": "markdown",
   "metadata": {},
   "source": [
    "**Modified Warren Truss**\n",
    "\n",
    "One consequence of the lack of vertical members in the Warren truss is that the top and bottom horizontal chords must span a relatively long distance between nodes. This may become a problem when the horizontal member is in compression. The modified Warren truss reintroduces the vertical members, halving the distance between nodes. This is also particularly helpful when the truss must support *secondary structure* such as roof purlins for example. One important condition to observe when designing a truss is to ensure any external loading is applied at a nodal point. The vertical members in a modified Warren truss help to facilitate this. "
   ]
  },
  {
   "cell_type": "markdown",
   "metadata": {},
   "source": [
    "![title](img/T1W3/image7.jpg)\n",
    "<center>Modified Warren truss. Green members in tension, red members in compression, grey are zero force members.</center>"
   ]
  },
  {
   "cell_type": "markdown",
   "metadata": {},
   "source": [
    "## 2.0 Assumptions and Simplifications"
   ]
  },
  {
   "cell_type": "markdown",
   "metadata": {},
   "source": [
    "Recall when we discussed supports models in week 2. We said that roller, pin and cantilever supports were simply idealised models of real foundation/support behaviour. Well the exact same thing is true of the truss models we analyse. When we set about analysing a truss we first have to construct a model on which to base our analysis. We must remember that the model is an imperfect representation of the real world structure. It's our approximation of the actual structure and will almost never capture 100\\% of the detail of the real-world structure. \n",
    "\n",
    "Sometimes these differences between model and structure are quite small, in which case we can have more confidence in our analysis. However if we're not careful the simplifying assumptions that facilitate our analysis can be so limiting that the model behaviour is not a good representation of the structure. Having an appreciation for the impact of how your assumptions degrade the accuracy of your model is crucially important.   \n",
    "\n",
    "So, what assumptions apply to the analysis of trusses? The first one has already been mentioned; we assume that the nodes or joints that connect members behave as pins. In other words, if we consider two members meeting at a joint, they would be free to rotate relative to each other. Now, as we've said, the implication of this is that no bending moments can be transmitted through a joint, only force. \n",
    "\n",
    "This leads to the second assumption; the members within a truss are subject to axial loads only, tension, compression or no force. Provided all external loads are applied at joints, then no bending will be induced within any of the members. Of course if an external force was applied to a member between joints, stresses due to bending would be induced in that member, but we typical try to avoid this *'inter-nodal'* loading in trusses if possible. \n",
    "\n",
    "The obvious question is how valid are these assumptions? Well, regarding the pinned joints, in reality true pins allowing free rotation are very rarely provided. This is mainly driven by the relatively high cost of fabricating such joints. In a steel truss, the joints are almost always bolted or welded. As such, bending moments will be transmitted to some degree through joints and therefore within the structure. "
   ]
  },
  {
   "cell_type": "markdown",
   "metadata": {},
   "source": [
    "![title](img/T1W3/image8.jpg)\n",
    "<center>Stainless steel truss with welded joints.</center>"
   ]
  },
  {
   "cell_type": "markdown",
   "metadata": {},
   "source": [
    "However, the geometry of the joints is usually such that their ability to transmit moment is quite limited. So our assumption usually causes model behaviour to deviate relatively little from the actual structural behaviour. With reference to the members developing only axial loads, it follows from our discussion of joints, that if inter-nodal loading is minimised, the predominant action experienced by the members will be axial force. So, all-in-all our truss models are pretty reasonable approximations of real truss structures."
   ]
  },
  {
   "cell_type": "markdown",
   "metadata": {},
   "source": [
    "## 3.0 Truss Analysis by Joint Resolution"
   ]
  },
  {
   "cell_type": "markdown",
   "metadata": {},
   "source": [
    "Now that we've clarified what a truss is and how we might model one, the next task is to work out how to identify the load path. In other words we want to be able to work out the forces developed in each of the memebrs in response to external loading.\n",
    "\n",
    "We'll focus on two similar techniques that make use of the equations of static equilibrium you're already familiar with. They are:\n",
    "- the joint resolution method and \n",
    "- the method of sections\n",
    "\n",
    "In both cases, we must first determine the support reactions for the structure. It is at this point we can employ the joint resolution method, method of sections or a combination of both. "
   ]
  },
  {
   "cell_type": "markdown",
   "metadata": {},
   "source": [
    "### 3.1 The Joint Resolution Method"
   ]
  },
  {
   "cell_type": "markdown",
   "metadata": {},
   "source": [
    "The joint resolution method involves evaluating force equilibrium at each joint or node and using the equations of statics to solve for the unknown member forces. Consider the two bar truss discussed previously and shown below as a free body diagram.\n",
    "\n",
    "\n",
    "\n"
   ]
  },
  {
   "cell_type": "markdown",
   "metadata": {},
   "source": [
    "![title](img/T1W3/image9.jpg)\n",
    "<center>Free body diagram of a 2-bar truss</center>"
   ]
  },
  {
   "cell_type": "markdown",
   "metadata": {},
   "source": [
    "We will be evaluating the sum of the forces meeting at a joint. These forces can be resolved into two orthogonal (mutually perpendicular) directions allowing us to evaluate two equations of force equilibrium. Thus we have two equations from which we can determine two unknowns. So, using the method of joints we can only start at a joint that has a maximum of two unknown member forces. For this simple structure, we can consider any of the three nodes, we'll start with node B.\n",
    "\n",
    "We isolate the joint by *cutting* the members meeting at that joint. Making these cuts we *reveal* the internal member forces, for now labelled as $T_{BA}$ and $T_{BC}$ where the $T$ indicates we are assuming (until proven otherwise) that the forces are tension forces. "
   ]
  },
  {
   "cell_type": "markdown",
   "metadata": {},
   "source": [
    "![title](img/T1W3/image10.jpg)\n",
    "<center>Free body diagram of joint A</center>"
   ]
  },
  {
   "cell_type": "markdown",
   "metadata": {},
   "source": [
    "A free body diagram of the joint is then evaluated by taking the sum of the forces in the horizontal and vertical direction and equating them to zero to reveal the unknown member forces (remember two unknowns, so two equations required). In the following analysis, note that basic geometry gives us the angle $\\angle ABC = 53.1^{\\circ}$. Now consider force equilibrium of joint B:\n",
    "\n",
    "\\begin{align}\n",
    "\\sum F_y &= 0 \\:\\:(\\uparrow +)\\\\\n",
    "T_{BC}\\sin(53.1) - 50 &= 0\\\\\n",
    "T_{BC} &= 62.5\\:\\text{kN}\n",
    "\\end{align}\n",
    "\n",
    "Notice here that $T_{BC}$ evaluates to a positive number and therefore our assumption that the force in member BC is a tension force is correct. Now evaluating horizontal force equilibrium,\n",
    "\n",
    "\\begin{align}\n",
    "\\sum F_x &= 0 \\:\\:(\\rightarrow +)\\\\\n",
    "-T_{BA} - T_{BC}\\cos(53.1) &= 0\\\\\n",
    "T_{BA} &= -37.5\\:\\text{kN}\n",
    "\\end{align}\n",
    "\n",
    "Here the negative value tells us that the force in member BA is actually opposite to our initial assumption and therefore a compression force. This completes the analysis of this simple truss. It is worth reflecting on the direction of the arrows indicating tension and compression below."
   ]
  },
  {
   "cell_type": "markdown",
   "metadata": {},
   "source": [
    "![title](img/T1W3/image11.jpg)\n",
    "<center>Free body diagram of joint A showing internal member forces.</center>"
   ]
  },
  {
   "cell_type": "markdown",
   "metadata": {},
   "source": [
    "For member AB in compression, the yellow force arrows point outward, as if to resist a force compressing the member. By the same analogy, the force arrows for member BC point inwards as if to resist a force trying to pull apart or stretch the bar. Many students initially find this counter-intuitive so make sure you're happy with this before proceeding. "
   ]
  },
  {
   "cell_type": "markdown",
   "metadata": {},
   "source": [
    "Now let's consider a slightly larger structure. The truss shown below is a digital model of the Fort Atkinson Truss bridge. It's an example of a Pratt truss. The bridge actually consists of two parallel Pratt trusses. For this discussion we will isolate one of the trusses and evaluate the load path."
   ]
  },
  {
   "cell_type": "code",
   "execution_count": 2,
   "metadata": {
    "hide_input": true
   },
   "outputs": [
    {
     "data": {
      "text/html": [
       "<center><iframe title='A 3D model' width='640' height='480' src='https://sketchfab.com/models/e01f0d8238334809a8cd8af92f45fd57/embed'></iframe></center>"
      ],
      "text/plain": [
       "<IPython.core.display.HTML object>"
      ]
     },
     "execution_count": 2,
     "metadata": {},
     "output_type": "execute_result"
    }
   ],
   "source": [
    "HTML(\"<center><iframe title='A 3D model' width='640' height='480' src='https://sketchfab.com/models/e01f0d8238334809a8cd8af92f45fd57/embed'></iframe></center>\")"
   ]
  },
  {
   "cell_type": "markdown",
   "metadata": {},
   "source": [
    "A simplified structural model upon which to base our analysis is shown below. We can see two loads of 40.5 kN are applied symmetrically to the structure. We also note that the structure itself is symmetrical. From this we can conclude that the force distribution within the structure will also be symmetrical and we need only analyse half of the structure. You should watch out for symmetry generally as it will often provide you with shortcuts like this. Note that members DK and EL are not connected to each other."
   ]
  },
  {
   "cell_type": "markdown",
   "metadata": {},
   "source": [
    "![title](img/T1W3/image12.jpg)\n",
    "<center>Simplified structural model of the Fort Atkinson truss bridge.</center>"
   ]
  },
  {
   "cell_type": "markdown",
   "metadata": {},
   "source": [
    "<center><mark>BEFORE READING ON, STOP! TRY TO ANALYSE THE FORCES YOURSELF FIRST</mark></center>"
   ]
  },
  {
   "cell_type": "markdown",
   "metadata": {},
   "source": [
    "Assuming you've taken a stab at the analysis, we'll proceed. The first task is to determine the reactions. By inspection we can state that the potential horizontal reaction at support A is zero (because all external loads are vertical). Similarly, we can state by inspection that due to symmetry, the vertical reactions at A and H are 40.5 kN each.\n",
    "\n",
    "At this point we can analyse each joint in turn using the Joint Resolution Method; we’ll start with joint A. We will be evaluating the sum of the forces meeting at the joint. As we've seen above, these forces can be resolved into two orthogonal directions allowing us to evaluate two equations of force equilibrium. Remember, this means we can determine two unknowns. So we can only start at a joint that has a maximum of two unknown member forces. This is why joint A (or H) is a good starting point.\n",
    "\n",
    "We isolate the joint by *cutting* the members meeting at that joint. Making these cuts we *reveal* the internal member forces, for now labelled as $T_{AB}$ and $T_{AN}$ where the $T$ indicates we are assuming (until proven otherwise) that the forces are tension forces. A free body diagram of the joint is then evaluated by taking the sum of the forces in the horizontal and vertical direction and equating them to zero to reveal the unknown member forces. In the following analysis, note that basic geometry gives us the angles $\\angle NAB = 57.5^{\\circ}$ and $\\angle ABN = 32.5^{\\circ}$. Now consider joint A shown below."
   ]
  },
  {
   "cell_type": "markdown",
   "metadata": {},
   "source": [
    "![title](img/T1W3/image13.jpg)\n",
    "<center>Free body diagram of joint A.</center>"
   ]
  },
  {
   "cell_type": "markdown",
   "metadata": {},
   "source": [
    "As mentioned above, we are initially assuming that the unknown internal member forces are tensile. This is also indicated by the force arrows pointing **away from the joint**. Taking the sum of the forces in the vertical direction and letting it equal to zero (assuming a sign convention with upwards forces positive):\n",
    "\n",
    "\\begin{align*}\n",
    "\\sum F_y &= 0 \\:\\:(\\uparrow +)\\\\\n",
    "40.5+T_{AB}\\sin(57.5)&=0\\\\\n",
    "T_{AB} &= -48\\:\\text{kN}\n",
    "\\end{align*}\n",
    "\n",
    "The negative sign indicates our initial assumption of a tensile force was incorrect and $T_{AB}$ is actually a compression force. Thus the member between nodes A and B is experiencing 48 kN compression. Now considering the sum of the forces in the horizontal direction with forces to the right assumed positive:\n",
    "\n",
    "\\begin{align*}\n",
    "\\sum F_x &= 0 \\:\\:(\\rightarrow +)\\\\\n",
    "T_{AB}\\cos(57.5)+T_{AN} &=0\\\\\n",
    "T_{AN} &=-(-48)\\cos(57.5)\\\\\n",
    "T_{AN} &= 25.8\\: \\text{kN}\n",
    "\\end{align*}\n",
    "\n",
    "In this case the positive number indicates that we were correct to assume a tensile force. Because the structure is both symmetrical and symmetrically loaded, we can conclude that the forces in member HI and HG are the same as those worked out for members AN and AB. Remember, we only need to evaluate half of the structure in this example.\n",
    "\n",
    "Moving on to joint N, we can conclude by inspection that the force $T_{NB} = 0$ kN and $T_{NM} = 25.8$ kN tension."
   ]
  },
  {
   "cell_type": "markdown",
   "metadata": {},
   "source": [
    "![title](img/T1W3/image14.jpg)\n",
    "<center>Free body diagram of joint N.</center>"
   ]
  },
  {
   "cell_type": "markdown",
   "metadata": {},
   "source": [
    "Now that we've solved members AB and NB, the only other joint with only two unknowns is joint B. Evaluating the force equilibrium equations yields:\n",
    "\n",
    "\\begin{align*}\n",
    "\\sum F_y &= 0 \\:\\:(\\uparrow +)\\\\\n",
    "40.5-T_{BM}\\cos(32.5) &= 0\\\\\n",
    "T_{BM} &= 48\\:\\text{kN} \\:(\\text{tension})\\\\\\\\\n",
    "\\sum F_x &= 0 \\:\\:(\\rightarrow +)\\\\\n",
    "25.8 + T_{BC} + T_{BM}\\sin(32.5) &= 0\\\\\n",
    "T_{BC} &=-25.8-48\\sin(32.5)\\\\\n",
    "T_{BC} &= -51.6\\:\\text{kN} \\:(\\text{compression})\n",
    "\\end{align*}"
   ]
  },
  {
   "cell_type": "markdown",
   "metadata": {},
   "source": [
    "![title](img/T1W3/image15.jpg)\n",
    "<center>Free body diagram of joint B.</center>"
   ]
  },
  {
   "cell_type": "markdown",
   "metadata": {},
   "source": [
    "Moving on to joint M.\n",
    "\n",
    "\\begin{align*}\n",
    "\\sum F_y &= 0 \\:\\:(\\uparrow +)\\\\\n",
    "T_{MC}+40.5 &=0\\\\\n",
    "T_{MC} &= -40.5\\:\\text{kN} \\:(\\text{compression})\\\\\\\\\n",
    "\\sum F_x &= 0 \\:\\:(\\rightarrow +)\\\\\n",
    "-25.8-25.8+T_{ML} &= 0\\\\\n",
    "T_{ML} &= 51.6\\:\\text{kN} \\:(\\text{tension})\n",
    "\\end{align*}"
   ]
  },
  {
   "cell_type": "markdown",
   "metadata": {},
   "source": [
    "![title](img/T1W3/image16.jpg)\n",
    "<center>Free body diagram of joint M.</center>"
   ]
  },
  {
   "cell_type": "markdown",
   "metadata": {},
   "source": [
    "The only joint open for evaluation is joint C. Evaluating the force equilibrium equations yields:\n",
    "\n",
    "\\begin{align*}\n",
    "\\sum F_y &= 0 \\:\\:(\\uparrow +)\\\\\n",
    "40.5-T_{CL}\\cos(32.5)&=0\\\\\n",
    "T_{CL}&=48\\:\\text{kN} \\:(\\text{tension})\\\\\\\\\n",
    "\\sum F_x &= 0 \\:\\:(\\rightarrow +)\\\\\n",
    "51.6+T_{CD}+T_{CL}\\sin(32.5)&=0\\\\\n",
    "51.6+T_{CD}+48\\sin(32.5)&=0\\\\\n",
    "T_{CD} &= -77.4\\:\\text{kN} \\:(\\text{compression})\n",
    "\\end{align*}"
   ]
  },
  {
   "cell_type": "markdown",
   "metadata": {},
   "source": [
    "![title](img/T1W3/image17.jpg)\n",
    "<center>Free body diagram of joint C.</center>"
   ]
  },
  {
   "cell_type": "markdown",
   "metadata": {},
   "source": [
    "At this point it's worth taking a look at our progress so far, mapped onto the structure. We can see that joints D and L both have three unknown member forces. Therefore isolating either joint would result in too many unknowns given the available equilibrium equations (2). The Joint Resolution Method has taken us as far as it can. At this stage we need to consider our second technique, the **Method of Sections**."
   ]
  },
  {
   "cell_type": "markdown",
   "metadata": {},
   "source": [
    "![title](img/T1W3/image18.jpg)\n",
    "<center>Internal member forces evaluated using the method of joints.</center>"
   ]
  },
  {
   "cell_type": "markdown",
   "metadata": {},
   "source": [
    "### 3.2 The Method of Sections"
   ]
  },
  {
   "cell_type": "markdown",
   "metadata": {},
   "source": [
    "Instead of isolating a single joint, the method of sections involves us making an **imaginary cut through the entire structure**. In doing so, we reveal the internal member forces in the members our plane cuts through. We can then evaluate equilibrium of the sub-structure created by the cut. This method of structural analysis brings into play a third equilibrium equation; because all of the forces acting on the sub-structure are no longer concurrent (they don't all pass through the same point), we can take the sum of the moments about any point. \n",
    "\n",
    "Since the structure is in a state of static equilibrium, the sum of the moments (just like the forces) must equal zero. So we now have three equations of statics at our disposal. The key thing is that our plane cannot cut through more than three unknown members. Making an inclined cut as shown below *should* allow us to determine the internal forces in members LD, LE and LK."
   ]
  },
  {
   "cell_type": "markdown",
   "metadata": {},
   "source": [
    "![title](img/T1W3/image19.jpg)\n",
    "<center>Sub-structure produced by the cutting plane, revealing three unknown member forces.</center>"
   ]
  },
  {
   "cell_type": "markdown",
   "metadata": {},
   "source": [
    "Evaluating the sum of the moments about point A and assuming clockwise moments are positive yields:\n",
    "\n",
    "\\begin{equation*}\n",
    "\\sum M_A= 0 \\:\\:(\\text{clockwise}\\: +)\n",
    "\\end{equation*}\n",
    "\n",
    "\\begin{equation*}\n",
    "-(77.4\\times 9) + 40.5\\times(3\\times5.74)-T_{LD}\\times(3\\times5.74) - T_{LE}\\sin(57.5)\\times(3\\times5.74) = 0\n",
    "\\end{equation*}\n",
    "\n",
    "\\begin{equation*}\n",
    "T_{LD} = -0.84 T_{LE} \n",
    "\\end{equation*}\n",
    "\n",
    "\n",
    "Equating the sum of the vertical and horizontal forces to zero yields:\n",
    "\\begin{align*}\n",
    "\\sum F_y &= 0 \\:\\:(\\uparrow +)\\\\\n",
    "40.5-40.5+T_{LE}\\sin(57.5) + T_{LD}&=0\\\\\n",
    "T_{LD}&= -0.84 T_{LE}\\\\\\\\\n",
    "\\sum F_x &= 0 \\:\\:(\\rightarrow +)\\\\\n",
    "-77.4+T_{LK} + T_{LE}\\cos(57.5)&=0\\\\\n",
    "T_{LK} + 0.537 T_{LE}&= 77.4\n",
    "\\end{align*}\n",
    "\n",
    "Our three equations of equilibrium have yielded only two independent equations! As such we cannot solve for our three unknowns in this case. We can say that our structure is **statically indeterminate**. This is an important concept that we'll discuss further below. At this point it appears that we are at an impasse! In most cases however (when our structure is statically determinate), the method of sections will yield 3 independent equations from which we can derive our three unknown forces. "
   ]
  },
  {
   "cell_type": "markdown",
   "metadata": {},
   "source": [
    "So in summary then, the process of analysing a truss has some distinct steps:\n",
    "1. Evaluate the reaction forces\n",
    "2. Identify a suitable node to start your analysis with. Remember it can have no more than 2 unknown forces.\n",
    "3. Use the Joint Resolution Method to isolate the node and evaluate force equilibrium to identify the 2 unknown forces.\n",
    "4. If you can't find a node with only one or two unknowns, consider if you can employ the method of sections which gives you an extra equation to work with. Your cutting plane cannot cut through more than 3 members with unknown forces.\n",
    "\n",
    "If you can't find a place to start your analysis or if your method of sections does not yield 3 independent equations, the likelihood is your truss is statically indeterminate. We'll discuss this next."
   ]
  },
  {
   "cell_type": "markdown",
   "metadata": {},
   "source": [
    "## 4.0 Statical Determinacy "
   ]
  },
  {
   "cell_type": "markdown",
   "metadata": {},
   "source": [
    "We've seen last week that if a structure has more than 3 unknown reactions, then it is statically indeterminate because we don't have enough equations of statics to solve for all of the unknowns. This is true for pin-jointed truss structures too. However, there is an extra detail to consider with trusses. \n",
    "\n",
    "We've seen above that there are some conditions that apply to our ability to analyse a truss; to use the joint resolution method we need joints with 2 or less unknowns and for the method of sections we can accommodate no more than 3 unknowns. If these conditions are not met, we will not be able to use statics to determine the forces in the structure, i.e. it is **statically indeterminate**. As we've seen above, even if we can generate an *apparently suitable* section that only cuts through three unknowns, we may still run into trouble. So we need a more rigorous method for establishing the statical determinacy of our structures.\n",
    "\n",
    "We can employ a simple equation that allows us to test the determinacy of a truss. Let's say that for each node, we have two possible equations, we'll let $J$ denote the number of nodes in a structure. Therefore we have access to $2\\times J$ possible equations. \n",
    "\n",
    "If the the number of unknowns is equal to the number of members, denoted by $M$, we might say that once $2J=M$ our truss is statically determinate. But remember, we also have three unknown reactions to solve for. So actually our condition for determinacy is $2J - 3 = M$. If this is the case we can solve for all member forces and our structure is statically determinate. If $2J-3<M$ there are too many member forces and the truss is statically indeterminate. \n",
    "\n",
    "Consider the truss we just looked at above. It has 14 joints (A to N), therefore for statical determinacy, it should have exactly $2\\times 14 - 3 = 25$ members. It actually has 26! This confirms for us that it is indeed statically indeterminate. In fact we can say that it is statically indeterminate to 1 degree. Therefore, to analyse this structure using the equations of statics we would need to remove 1 member. **Note that we're not generally in the habit of just throwing away members - so a finding of statical indeterminacy would usually trigger us to explore alternative solution methods.** \n",
    "\n",
    "However, for the purpose of discussion; we can see the result of first removing member EL (below-top) and then alternatively, removing member DK (below-bottom). In either case, we could quite easily complete our analysis by making a vertical cut between D and E and evaluating either sub-structure created by the cut. You should confirm this for yourself. It's worth noting that in both cases, the structure would remain perfectly viable and stable.\n",
    "\n",
    "The fact that in both analyses, the central members carry no force, makes it tempting to consider completely removing these members. After all if they carry no force, why do we need them? Remember, we are only considering one possible load combination here. Under the action of these symmetrical applied loads, these members carry no force, but if say, the 40.5 kN at L was removed, then the members currently carrying zero force would indeed develop internal member forces. \n",
    "\n",
    "As it happens, in the case of this particular truss with this symmetrical load combination, because so many of the members carry zero force, **if we knew this ahead of time**, we could remove one of them for the purpose of our analysis, rendering the structure statically determinate and solvable. However, **there was no way for us to determine what members had zero force using just the equations of statics**. When analysing a complex truss, it is a good idea to test its determinacy first, before embarking on a laborious hand analysis.    "
   ]
  },
  {
   "cell_type": "markdown",
   "metadata": {},
   "source": [
    "![title](img/T1W3/image21.jpg)\n",
    "<center>Internal member forces for the with redundant members removed.</center>"
   ]
  },
  {
   "cell_type": "markdown",
   "metadata": {},
   "source": [
    "Applying our condition to either truss above yields $2\\times 14 - 3 = 25$. And sure enough, both of these trusses have 25 members, confirming their statical determinacy. \n",
    "\n",
    "It's worth mentioning the case when a frame has less than $2\\:J-3$ members. In this case the truss is referred to as a **mechanism**. In other words it is not a stable structure and will collapse under load. We typically see this in non-triangulated structures. We can summarise the three states, indeterinate, determinate and mechanism with a simple example below."
   ]
  },
  {
   "cell_type": "markdown",
   "metadata": {},
   "source": [
    "![title](img/T1W3/image22.jpg)\n",
    "<center>Example of a statically indeterminate structure, determinate structure and a mechanism (unstable structure).</center>"
   ]
  },
  {
   "cell_type": "markdown",
   "metadata": {},
   "source": [
    "**You should now download the question sheet for this week and attempt all questions. You will have an opportunity to to get help in your tutorial session and worked solutions will be released next week.**  "
   ]
  }
 ],
 "metadata": {
  "hide_input": false,
  "kernelspec": {
   "display_name": "Python 3",
   "language": "python",
   "name": "python3"
  },
  "language_info": {
   "codemirror_mode": {
    "name": "ipython",
    "version": 3
   },
   "file_extension": ".py",
   "mimetype": "text/x-python",
   "name": "python",
   "nbconvert_exporter": "python",
   "pygments_lexer": "ipython3",
   "version": "3.6.4"
  },
  "toc": {
   "base_numbering": 1,
   "nav_menu": {},
   "number_sections": true,
   "sideBar": true,
   "skip_h1_title": false,
   "title_cell": "Table of Contents",
   "title_sidebar": "Contents",
   "toc_cell": false,
   "toc_position": {},
   "toc_section_display": true,
   "toc_window_display": false
  }
 },
 "nbformat": 4,
 "nbformat_minor": 2
}
