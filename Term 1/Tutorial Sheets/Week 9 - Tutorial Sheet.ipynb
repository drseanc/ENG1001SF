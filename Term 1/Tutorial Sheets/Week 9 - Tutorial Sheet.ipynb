{
 "cells": [
  {
   "cell_type": "code",
   "execution_count": 1,
   "metadata": {
    "deletable": false,
    "editable": false,
    "hide_input": true
   },
   "outputs": [
    {
     "name": "stdout",
     "output_type": "stream",
     "text": [
      "- Dependencies imported 👍\n",
      "- Remember to select 'Kernel-> Restart & Run All' on first load to show embedded Youtube videos 🎬\n",
      "- Author: Dr SPCarroll, Sept 2020, Rev 1\n"
     ]
    }
   ],
   "source": [
    "#DEPENDENCIES & INITIALISATIONS\n",
    "from IPython.display import HTML #For embedding videos\n",
    "import math #Basic math functionality\n",
    "import numpy as np #Numpy for working with arrays\n",
    "import matplotlib.pyplot as plt #Plotting functionality \n",
    "#HTML('<center><iframe width=\"560\" height=\"315\" src=\"#\" frameborder=\"0\" allowfullscreen></iframe></center>')\n",
    "print(\"- Dependencies imported 👍\")\n",
    "print(\"- Remember to select 'Kernel-> Restart & Run All' on first load to show embedded Youtube videos 🎬\")\n",
    "print(\"- Author: Dr SPCarroll, Sept 2020, Rev 1\")"
   ]
  },
  {
   "cell_type": "markdown",
   "metadata": {},
   "source": [
    "## Week 9 Tutorials - Pressure and head"
   ]
  },
  {
   "cell_type": "markdown",
   "metadata": {},
   "source": [
    "### Question 1"
   ]
  },
  {
   "cell_type": "markdown",
   "metadata": {},
   "source": [
    "Gravity on the moon is $16.53\\%$ of that on earth. If mercury with a relative density of 13.6 is used in a manometer on the surface of the Moon, the reading (head) is $1.364\\times 10^{-14}\\: m$.\n",
    "- Calculate the atmospheric pressure on the moon in $Pa$.\n",
    "- If the same manometer was used at sea level on Earth where the  atmospheric pressure is $101.3 \\:kPa$, what would the reading (head) be, in meters?"
   ]
  },
  {
   "cell_type": "markdown",
   "metadata": {},
   "source": [
    "### Answer 1\n",
    "$p_{\\text{moon}} = 3\\times 10 ^{-10}\\:\\text{N/m}^2$\n",
    "\n",
    "$h = 0.76\\:\\text{m}$ "
   ]
  },
  {
   "cell_type": "markdown",
   "metadata": {},
   "source": [
    "### Question 2"
   ]
  },
  {
   "cell_type": "markdown",
   "metadata": {},
   "source": [
    "A hydraulic press has a diameter ratio between two pistons of $8:1$. The diameter of the larger piston is $0.6\\:m$ and is required to support $3500\\:kg$. The press is filled with a hydraulic fluid with specific gravity of $0.8$. Calculate the force that must be applied to the smaller piston if:\n",
    "- both pistons are at the same level\n",
    "- the smaller piston is $2.6\\:m$ below the larger piston."
   ]
  },
  {
   "cell_type": "markdown",
   "metadata": {},
   "source": [
    "![title](img/T1W9/image1.jpg)"
   ]
  },
  {
   "cell_type": "markdown",
   "metadata": {},
   "source": [
    "### Answer 2\n",
    "$F = 534\\:\\text{N}$\n",
    "\n",
    "$F = 624\\:\\text{N}$"
   ]
  },
  {
   "cell_type": "markdown",
   "metadata": {},
   "source": [
    "### Question 3"
   ]
  },
  {
   "cell_type": "markdown",
   "metadata": {},
   "source": [
    "In the figure below, fluid $P$ is water and fluid $Q$ is mercury. If the atmospheric pressure is 33.7 kN/m2. What is the absolute pressure at A when $h_1 = 10 \\:cm$ and $h_2 = 20\\: cm$, Note that the <mark>specific gravity</mark> of mercury is 13.6."
   ]
  },
  {
   "cell_type": "markdown",
   "metadata": {},
   "source": [
    "![title](img/T1W9/image3.jpg)"
   ]
  },
  {
   "cell_type": "markdown",
   "metadata": {},
   "source": [
    "### Answer 3\n",
    "$P_a = 6.04\\:\\text{kN/m}^2$"
   ]
  },
  {
   "cell_type": "markdown",
   "metadata": {},
   "source": [
    "### Question 4"
   ]
  },
  {
   "cell_type": "markdown",
   "metadata": {},
   "source": [
    "The U-tube manometer shown below measures the pressure difference between two points $A$ and $B$ in a liquid of density $\\rho_1$. The U-tube contains mercury of density $\\rho_2$. Calculate the difference of pressure if $a = 1.5 \\:m$, $b = 0.75\\: m$ and $h = 0.5 \\:m$ if the liquid at A and B is water and $\\rho_2 = 13.6\\rho_1$."
   ]
  },
  {
   "cell_type": "markdown",
   "metadata": {},
   "source": [
    "![title](img/T1W9/image2.jpg)"
   ]
  },
  {
   "cell_type": "markdown",
   "metadata": {},
   "source": [
    "### Answer 4\n",
    "$\\Delta P = 54,446\\:\\text{N/m}^2$"
   ]
  }
 ],
 "metadata": {
  "hide_input": false,
  "kernelspec": {
   "display_name": "Python 3",
   "language": "python",
   "name": "python3"
  },
  "language_info": {
   "codemirror_mode": {
    "name": "ipython",
    "version": 3
   },
   "file_extension": ".py",
   "mimetype": "text/x-python",
   "name": "python",
   "nbconvert_exporter": "python",
   "pygments_lexer": "ipython3",
   "version": "3.6.4"
  }
 },
 "nbformat": 4,
 "nbformat_minor": 2
}
