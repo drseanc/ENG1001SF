{
 "cells": [
  {
   "cell_type": "code",
   "execution_count": 1,
   "metadata": {
    "deletable": false,
    "editable": false,
    "hide_input": true
   },
   "outputs": [
    {
     "name": "stdout",
     "output_type": "stream",
     "text": [
      "- Dependencies imported 👍\n",
      "- Remember to select 'Kernel-> Restart & Run All' on first load to show embedded Youtube videos 🎬\n",
      "- Author: Dr SPCarroll, Sept 2020, Rev 0\n"
     ]
    }
   ],
   "source": [
    "#DEPENDENCIES & INITIALISATIONS\n",
    "from IPython.display import HTML #For embedding videos\n",
    "import math #Basic math functionality\n",
    "import numpy as np #Numpy for working with arrays\n",
    "import matplotlib.pyplot as plt #Plotting functionality \n",
    "#HTML('<center><iframe width=\"560\" height=\"315\" src=\"#\" frameborder=\"0\" allowfullscreen></iframe></center>')\n",
    "print(\"- Dependencies imported 👍\")\n",
    "print(\"- Remember to select 'Kernel-> Restart & Run All' on first load to show embedded Youtube videos 🎬\")\n",
    "print(\"- Author: Dr SPCarroll, Sept 2020, Rev 0\")"
   ]
  },
  {
   "cell_type": "markdown",
   "metadata": {},
   "source": [
    "## Week 11 Tutorials - Buoyancy and Stability"
   ]
  },
  {
   "cell_type": "markdown",
   "metadata": {},
   "source": [
    "### Question 1"
   ]
  },
  {
   "cell_type": "markdown",
   "metadata": {},
   "source": [
    "A steel pipeline conveying gas has an internal diameter of $120\\:cm$ and an external diameter of $125 \\:cm$. It is laid across the bed of a river, completely immersed in water and is anchored at intervals of $3\\: m$ along its length. Calculate the buoyancy force in newtons per metre and the upward force in newtons on each anchorage. Density of steel = $7900\\:kg/m^3$."
   ]
  },
  {
   "cell_type": "markdown",
   "metadata": {},
   "source": [
    "### Answer 1"
   ]
  },
  {
   "cell_type": "markdown",
   "metadata": {},
   "source": [
    "$[12,037\\:N/m,\\: 13,746\\:N]$"
   ]
  },
  {
   "cell_type": "markdown",
   "metadata": {},
   "source": [
    "### Question 2"
   ]
  },
  {
   "cell_type": "markdown",
   "metadata": {},
   "source": [
    "The shifting of a portion of cargo of mass $25,000\\:kg$ through a distance of $6\\:m$ at right angles to the vertical plane containing the longitudinal axis of a vessel causes it to rotate about its logitudinal axis by an angle of $5^\\circ$. The displacement of the vessel is $5000$ metric tonnes and the value of $I$ is $5840\\:m^4$. The density\n",
    "of sea water is $1025\\:kg/m^3$. Find (a) the metacentric height and (b) the height of the centre of gravity of the vessel above the centre of buoyancy."
   ]
  },
  {
   "cell_type": "markdown",
   "metadata": {},
   "source": [
    "### Answer 2"
   ]
  },
  {
   "cell_type": "markdown",
   "metadata": {},
   "source": [
    "$[0.342\\:m,\\: 0.849\\:m]$"
   ]
  },
  {
   "cell_type": "markdown",
   "metadata": {},
   "source": [
    "### Question 3"
   ]
  },
  {
   "cell_type": "markdown",
   "metadata": {},
   "source": [
    "A rectangular pontoon $10\\:m$ by $4\\: m$ in plan weighs 280kN. A steel tube weighing $34 \\:kN$ is placed longitudinally on the deck. When the tube is in a central position, the centre of gravity for the combined weight lies on the vertical axis of symmetry $250\\: mm$ above the water surface. Find (a) the metacentric height, (b) the maximum distance the tube may be rolled laterally across the deck if the angle of rotation is not to exceed $5^\\circ$."
   ]
  },
  {
   "cell_type": "markdown",
   "metadata": {},
   "source": [
    "### Answer 3"
   ]
  },
  {
   "cell_type": "markdown",
   "metadata": {},
   "source": [
    "$[1.02\\:m,\\: 0.82\\:m]$"
   ]
  },
  {
   "cell_type": "markdown",
   "metadata": {},
   "source": [
    "### Question 4"
   ]
  },
  {
   "cell_type": "markdown",
   "metadata": {},
   "source": [
    "A buoy floating in sea water of density $1025kg/m^3$ is conical in shape with a diameter across the top of $1.2\\:m$ and a vertex angle of $60^\\circ$. Its mass is $300\\: kg$ and its centre of gravity is $750\\: mm$ from the vertex. A flashing beacon is to be fitted to the top of the buoy. If this unit has a mass of $55\\:kg$ what is the maximum height of its centre of gravity above the top of the buoy if the whole assembly is not to be unstable? The centre of volume of a cone of height $h$ is at a distance $3h/4$ from the vertex and the volume of a cone with base radius $r$ and height $h$ is $\\pi r^2 h/3$."
   ]
  },
  {
   "cell_type": "markdown",
   "metadata": {},
   "source": [
    "### Answer 4"
   ]
  },
  {
   "cell_type": "markdown",
   "metadata": {},
   "source": [
    "$[1.3\\:m]$"
   ]
  }
 ],
 "metadata": {
  "hide_input": false,
  "kernelspec": {
   "display_name": "Python 3",
   "language": "python",
   "name": "python3"
  },
  "language_info": {
   "codemirror_mode": {
    "name": "ipython",
    "version": 3
   },
   "file_extension": ".py",
   "mimetype": "text/x-python",
   "name": "python",
   "nbconvert_exporter": "python",
   "pygments_lexer": "ipython3",
   "version": "3.6.4"
  }
 },
 "nbformat": 4,
 "nbformat_minor": 2
}
