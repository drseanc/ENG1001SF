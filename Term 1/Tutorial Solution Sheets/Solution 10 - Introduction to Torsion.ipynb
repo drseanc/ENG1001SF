{
 "cells": [
  {
   "cell_type": "code",
   "execution_count": 1,
   "metadata": {
    "deletable": false,
    "editable": false,
    "hide_input": true
   },
   "outputs": [
    {
     "name": "stdout",
     "output_type": "stream",
     "text": [
      "- Author: Dr SPCarroll, Sept 2021\n"
     ]
    }
   ],
   "source": [
    "#DEPENDENCIES & INITIALISATIONS\n",
    "from IPython.display import HTML #For embedding videos\n",
    "import math #Basic math functionality\n",
    "import numpy as np #Numpy for working with arrays\n",
    "import matplotlib.pyplot as plt #Plotting functionality \n",
    "#HTML('<center><iframe width=\"560\" height=\"315\" src=\"#\" frameborder=\"0\" allowfullscreen></iframe></center>')\n",
    "print(\"- Author: Dr SPCarroll, Sept 2021\")"
   ]
  },
  {
   "cell_type": "markdown",
   "metadata": {},
   "source": [
    "# Week 10: Introduction to Torsion\n",
    "Reference: Chapter 3 of *Mechanics of Materials*, Gere and Goodno"
   ]
  },
  {
   "cell_type": "markdown",
   "metadata": {},
   "source": [
    "## Question 1"
   ]
  },
  {
   "cell_type": "markdown",
   "metadata": {},
   "source": [
    "A copper rod of length $L=610\\:mm$ is to be twisted by torques applied at each end until the angle of rotation between the rod ends is $\\phi = 4^\\circ$. If the allowable shear strain in the rod is $\\gamma_{\\text{max}} = 0.0008\\:rads$, what is the maximum permissible diameter of the rod? "
   ]
  },
  {
   "cell_type": "markdown",
   "metadata": {},
   "source": [
    "**Solution 1**"
   ]
  },
  {
   "cell_type": "markdown",
   "metadata": {},
   "source": [
    "We know,\n",
    "\\begin{equation}\n",
    "\\gamma_{\\text{max}} = \\frac{r \\phi}{L}\n",
    "\\end{equation}\n",
    "\n",
    "Therefore rearrange for $r$ to determine the diameter. Don't forget to convert $\\phi$ into radians."
   ]
  },
  {
   "cell_type": "code",
   "execution_count": 2,
   "metadata": {},
   "outputs": [
    {
     "name": "stdout",
     "output_type": "stream",
     "text": [
      "1. The maximum rod diameter is 0.014 m\n"
     ]
    }
   ],
   "source": [
    "L = 0.61 #(m)\n",
    "phi = 4 #(degrees)\n",
    "phi_rad = phi*math.pi/180 #(radians)\n",
    "gamma_m = 0.0008 #(radians)\n",
    "r= gamma_m*L/phi_rad #(m)\n",
    "d = 2*r #(m)\n",
    "print('1. The maximum rod diameter is {one} m'.format(one=round(d,3)))"
   ]
  },
  {
   "cell_type": "markdown",
   "metadata": {},
   "source": [
    "## Question 2"
   ]
  },
  {
   "cell_type": "markdown",
   "metadata": {},
   "source": [
    "A circular aluminium tube is subjected to pure torsion by torques $T$ applied at each end. It has outer radius $r_o$ and inner radius $r_i = r_o/2$. \n",
    "- (a) If the maximum shear strain in the tube is measured as $350\\times 10^{-6}\\: rads$, what is the shear strain at the inter surface, $\\gamma_i$? \n",
    "- (b) If the maximum allowable rate of twist is $0.5^\\circ/m$ and the maximum shear strain is to be maintained at $350\\times 10^{-6}\\:rads$ by adjusting the torque, what is the minimum required outer radius, $r_o$?"
   ]
  },
  {
   "cell_type": "markdown",
   "metadata": {},
   "source": [
    "**Solution 2**"
   ]
  },
  {
   "cell_type": "markdown",
   "metadata": {},
   "source": [
    "We know the strain varies linearly with radius. Therefore the strain at a radius $r_o/2$ is half that at $r_o$."
   ]
  },
  {
   "cell_type": "code",
   "execution_count": 3,
   "metadata": {},
   "outputs": [
    {
     "name": "stdout",
     "output_type": "stream",
     "text": [
      "2(a). The strain at the inner surface is 0.000175 radians\n"
     ]
    }
   ],
   "source": [
    "gamma_m = 350*10**(-6) #(radians) Max strain at outer surface\n",
    "gamma_i = gamma_m/2 #(radians)\n",
    "print('2(a). The strain at the inner surface is {one} radians'.format(one=gamma_i))"
   ]
  },
  {
   "cell_type": "markdown",
   "metadata": {},
   "source": [
    "For part (b), we know,\n",
    "\n",
    "\\begin{equation*}\n",
    "\\gamma_{\\text{max}} = \\frac{r \\phi}{L}\n",
    "\\end{equation*}\n",
    "\n",
    "We also know, \n",
    "\n",
    "\\begin{equation}\n",
    "\\theta=\\frac{\\phi}{L}\n",
    "\\end{equation}\n",
    "\n",
    "Therefore, \n",
    "\n",
    "\\begin{equation}\n",
    "\\gamma_{\\text{max}} = r\\theta\n",
    "\\end{equation}\n",
    "\n",
    "Rearrange and solve for $r$. Again remember to convert $\\theta$ to $rads/m$."
   ]
  },
  {
   "cell_type": "code",
   "execution_count": 4,
   "metadata": {},
   "outputs": [
    {
     "name": "stdout",
     "output_type": "stream",
     "text": [
      "2(b). The minimum required outer radius is 0.04 m\n"
     ]
    }
   ],
   "source": [
    "theta = 0.5 #(deg/m)\n",
    "theta_rad = theta*math.pi/180 #(rads/m)\n",
    "r_o = gamma_m/theta_rad #(m)\n",
    "print('2(b). The minimum required outer radius is {one} m'.format(one=round(r_o,3)))"
   ]
  },
  {
   "cell_type": "markdown",
   "metadata": {},
   "source": [
    "## Question 3"
   ]
  },
  {
   "cell_type": "markdown",
   "metadata": {},
   "source": [
    "A circular steel tube of length $L=1.25\\:m$ is loaded in torsion by torques $T$. \n",
    "- (a) If the inner tube radius is $r_i = 38\\:mm$ and the measured angle of twist between ends is $0.6^\\circ$, what is the shear strain at the inner surface, $\\gamma_i$?\n",
    "- (b) If the maximum allowable shear strain is $0.0004\\: rads$ and the angle of twist is to be kept  to $0.6^\\circ$ by adjusting the torque, what is the maximum permissible outer radius $r_o$?"
   ]
  },
  {
   "cell_type": "markdown",
   "metadata": {},
   "source": [
    "**Solution 3**"
   ]
  },
  {
   "cell_type": "code",
   "execution_count": 5,
   "metadata": {},
   "outputs": [
    {
     "name": "stdout",
     "output_type": "stream",
     "text": [
      "3(a). The shear strain at the inner surface is 0.000318 radians\n",
      "3(b). The maximum permissible outer radius is 0.048 m\n"
     ]
    }
   ],
   "source": [
    "L = 1.25 #(m)\n",
    "r_i = 0.038 #(m)\n",
    "phi = 0.6 #(deg)\n",
    "phi_rad = phi*math.pi/180 #(radians)\n",
    "gamma_m = r_i*phi_rad/L\n",
    "print('3(a). The shear strain at the inner surface is {one} radians'.format(one=round(gamma_m,6)))\n",
    "\n",
    "gamma_m = 0.0004\n",
    "r_o = gamma_m*L/phi_rad\n",
    "print('3(b). The maximum permissible outer radius is {one} m'.format(one=round(r_o,3)))"
   ]
  },
  {
   "cell_type": "markdown",
   "metadata": {},
   "source": [
    "## Question 4"
   ]
  },
  {
   "cell_type": "markdown",
   "metadata": {},
   "source": [
    "A circular aluminium tube with length $L=0.5\\:m$ has torques $T$ applied at each end. The bar has inner and outer diameters of $d_i = 30\\:mm$ and $d_o=40\\:mm$ respectively. The angle of twist between ends is $\\phi=3.57^\\circ$ when the torque is $600\\:Nm$.\n",
    "- (a) Calculate the maximum shear stress in the tube, $\\tau_{\\text{max}}$\n",
    "- (b) Calculate the shear modulus $G$\n",
    "- (c) Calculate the maximum shear strain, $\\gamma_{\\text{max}}$"
   ]
  },
  {
   "cell_type": "markdown",
   "metadata": {},
   "source": [
    "**Solution 4**"
   ]
  },
  {
   "cell_type": "markdown",
   "metadata": {},
   "source": [
    "For part (a), use,\n",
    "\n",
    "\\begin{equation}\n",
    "\\tau_{\\text{max}} = \\frac{Tr}{I_P}\n",
    "\\end{equation}"
   ]
  },
  {
   "cell_type": "code",
   "execution_count": 6,
   "metadata": {},
   "outputs": [
    {
     "name": "stdout",
     "output_type": "stream",
     "text": [
      "4(a). The maximum shear stress is 69.85 N/mm^2\n"
     ]
    }
   ],
   "source": [
    "pi = math.pi\n",
    "T = 600 #(Nm)\n",
    "di = 0.03 #(m)\n",
    "do = 0.04 #(m)\n",
    "Ip = (pi*do**4)/32 - (pi*di**4)/32 #(m^4)\n",
    "tau_max = T*(do/2)/Ip #(N/m^2)\n",
    "print('4(a). The maximum shear stress is {one} N/mm^2'.format(one=round(tau_max/10**6,2)))"
   ]
  },
  {
   "cell_type": "markdown",
   "metadata": {},
   "source": [
    "For part (b),\n",
    "\n",
    "\\begin{equation}\n",
    "\\tau = Gr\\theta\n",
    "\\end{equation}\n",
    "\n",
    "where $\\theta =\\phi/L$. Remember to convert to radians."
   ]
  },
  {
   "cell_type": "code",
   "execution_count": 7,
   "metadata": {},
   "outputs": [
    {
     "name": "stdout",
     "output_type": "stream",
     "text": [
      "4(b). The shear modulus is 28.02 kN/mm^2\n",
      "4(c). The maximum shear strain is 0.002492 radians\n"
     ]
    }
   ],
   "source": [
    "L = 0.5\n",
    "phi = 3.57 #(degrees)\n",
    "phi_rad = phi*pi/180 #(radians)\n",
    "theta = phi_rad/L\n",
    "G = tau_max/(theta*(do/2)) #(N/m^2)\n",
    "print('4(b). The shear modulus is {one} kN/mm^2'.format(one=round(G*10**-9,2)))\n",
    "gamma_m = tau_max/G\n",
    "print('4(c). The maximum shear strain is {one} radians'.format(one=round(gamma_m,6)))"
   ]
  },
  {
   "cell_type": "markdown",
   "metadata": {},
   "source": [
    "## Question 5"
   ]
  },
  {
   "cell_type": "markdown",
   "metadata": {},
   "source": [
    "A circular steel shaft is to be manufactured either as a solid bar or as a hollow tube. The shaft must transmit a torque of $1200\\:Nm$ without exceeding an allowable shear stress of $40\\:N/mm^2$ or an allowable rate of twist of $0.75^\\circ/m$. The shear modulus of elasticity is $78\\: GPa$. \n",
    "- (a) Determine the required diameter of the solid shaft, $d$\n",
    "- (b) Determine the required outer diameter of hollow shaft, $d_o$, if the wall thickness is one-tenth of the outer diameter. \n",
    "- (c) Determine the diameter ratio between shafts, $d_o/d$ and the ratio of weights of the hollow and solid shafts"
   ]
  },
  {
   "cell_type": "markdown",
   "metadata": {},
   "source": [
    "**Solution 5**"
   ]
  },
  {
   "cell_type": "markdown",
   "metadata": {},
   "source": [
    "For the solid and hollow shaft, the diameter may be limited by either the allowable shear stress or allowable rate of twist. We need to determine diameters based on both criteria and select the largest as the minimum diameter for each shaft. To evaluate a diameter limited by the allowable stress we will use,\n",
    "\n",
    "\\begin{equation*}\n",
    "\\tau_{\\text{max}} = \\frac{T r}{I_p}\n",
    "\\end{equation*}\n",
    "\n",
    "To evaluate a diameter limited by the allowable rate of twist we will use, \n",
    "\n",
    "\\begin{equation}\n",
    "\\theta = \\frac{T}{GI_p}\n",
    "\\end{equation}\n",
    "\n",
    "In both cases, rearrange and solve for $r$ to determine the diameter."
   ]
  },
  {
   "cell_type": "code",
   "execution_count": 8,
   "metadata": {},
   "outputs": [
    {
     "name": "stdout",
     "output_type": "stream",
     "text": [
      "5(a). The required diameter of the solid bar is 0.059 m, limited by allowable rate of twist\n"
     ]
    }
   ],
   "source": [
    "#CONSTANTS\n",
    "T = 1200 #(Nm)\n",
    "tau_max = 40*10**6 #(N/m^2)\n",
    "theta_max = 0.75 #(deg/m)\n",
    "theta_max_rad = theta_max*pi/180 #(rads)\n",
    "G = 78*10**9 #(N/m^2)\n",
    "\n",
    "#SOLID SHAFT - LIMITED BY ALLOWABLE SHEAR STRESS\n",
    "r = ((2*T)/(pi*tau_max))**(1/3)\n",
    "d_solid_1 = 2*r #(m) solid diameter limited by shear stress\n",
    "\n",
    "#SOLID SHAFT - LIMITED BY ALLOWABLE RATE OF TWIST\n",
    "r = ((2*T)/(pi*G*theta_max_rad))**(1/4)\n",
    "d_solid_2 = 2*r #(m) solid diameter limited by rate of twist\n",
    "\n",
    "#Determine which condition governs\n",
    "if(d_solid_1>d_solid_2):\n",
    "    d_solid = d_solid_1\n",
    "    print('5(a). The required diameter of the solid bar is {one} m, limited by allowable shear stress'.format(one=round(d_solid_1,3)))\n",
    "elif(d_solid_1<d_solid_2):\n",
    "    d_solid = d_solid_2\n",
    "    print('5(a). The required diameter of the solid bar is {one} m, limited by allowable rate of twist'.format(one=round(d_solid_2,3)))\n",
    "else:\n",
    "    d_solid = d_solid_1\n",
    "    print('5(a). The required diameter of the solid bar is {one} m, simultaneously limited by allowable shear stress and rate of twist'.format(one=round(d_solid_1,3)))    "
   ]
  },
  {
   "cell_type": "markdown",
   "metadata": {},
   "source": [
    "For the hollow bar we note the inner diameter, $d_i = 0.8\\times d_o$. Therefore,\n",
    "\n",
    "\\begin{align*}\n",
    "I_P &= \\frac{\\pi}{32}\\left(d_o^4 - (0.8d_o)^4\\right)\\\\\n",
    "I_P &= \\frac{\\pi}{32}\\left(0.5904 \\:d_o^4\\right)\\\\\n",
    "I_P &= 0.058\\:d_o^4\n",
    "\\end{align*}"
   ]
  },
  {
   "cell_type": "code",
   "execution_count": 9,
   "metadata": {},
   "outputs": [
    {
     "name": "stdout",
     "output_type": "stream",
     "text": [
      "5(b). The required outer diameter of the hollow bar is 0.067 m, limited by allowable rate of twist\n"
     ]
    }
   ],
   "source": [
    "#HOLLOW SHAFT - LIMITED BY ALLOWABLE SHEAR STRESS\n",
    "d_hollow_1 = ((0.5*T)/(0.058*tau_max))**(1/3) #(m) Hollow outer diameter limited by shear stress\n",
    "\n",
    "#HOLLOW SHAFT - LIMITED BY ALLOWABLE RATE OF TWIST\n",
    "d_hollow_2 = (T/(G*theta_max_rad*0.058))**(1/4)\n",
    "\n",
    "#Determine which condition governs\n",
    "if(d_hollow_1>d_hollow_2):\n",
    "    d_hollow = d_hollow_1\n",
    "    print('5(b). The required outer diameter of the hollow bar is {one} m, limited by allowable shear stress'.format(one=round(d_hollow_1,3)))\n",
    "elif(d_solid_1<d_solid_2):\n",
    "    d_hollow = d_hollow_2\n",
    "    print('5(b). The required outer diameter of the hollow bar is {one} m, limited by allowable rate of twist'.format(one=round(d_hollow_2,3)))\n",
    "else:\n",
    "    d_hollow = d_hollow_1\n",
    "    print('5(b). The required outer diameter of the hollow bar is {one} m, simultaneously limited by allowable shear stress and rate of twist'.format(one=round(d_hollow_1,3)))    "
   ]
  },
  {
   "cell_type": "code",
   "execution_count": 10,
   "metadata": {},
   "outputs": [
    {
     "name": "stdout",
     "output_type": "stream",
     "text": [
      "5c. The diameter ratio of the hollow to solid shafts is 1.14 while the weight ratio is 0.47\n"
     ]
    }
   ],
   "source": [
    "diam_ratio = d_hollow/d_solid #(diameter ratio)\n",
    "A_solid = pi*d_solid**2/4 #(m^2) Cross-sectional area of solid bar\n",
    "d_i = 0.8*d_hollow #(m) inner diameter of hollow bar\n",
    "A_hollow = pi*d_hollow**2/4 - pi*d_i**2/4 #(m^2) Cross-sectional area of holow bar\n",
    "weight_ratio = A_hollow/A_solid #Weight ratio (=area ratio)\n",
    "print('5c. The diameter ratio of the hollow to solid shafts is {one} while the weight ratio is {two}'.format(one=round(diam_ratio,2), two=round(weight_ratio,2)))"
   ]
  },
  {
   "cell_type": "markdown",
   "metadata": {},
   "source": [
    "## Answers"
   ]
  },
  {
   "cell_type": "markdown",
   "metadata": {},
   "source": [
    "1. $0.014 \\:m$\n",
    "2. $0.000175 \\:rad$, $0.04 \\:m$\n",
    "3. $0.000318 rads$, $0.048 \\:m$\n",
    "4. $69.85 \\:N/mm^2$, $28.02 kN/mm^2$, $0.002492 rads$\n",
    "5. $0.059 \\:m$, $0.067 \\:m$, $1.14$, $0.47$\n"
   ]
  }
 ],
 "metadata": {
  "hide_input": false,
  "kernelspec": {
   "display_name": "Python 3",
   "language": "python",
   "name": "python3"
  },
  "language_info": {
   "codemirror_mode": {
    "name": "ipython",
    "version": 3
   },
   "file_extension": ".py",
   "mimetype": "text/x-python",
   "name": "python",
   "nbconvert_exporter": "python",
   "pygments_lexer": "ipython3",
   "version": "3.6.4"
  }
 },
 "nbformat": 4,
 "nbformat_minor": 2
}
