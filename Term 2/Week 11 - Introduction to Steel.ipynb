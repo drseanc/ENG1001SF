{
 "cells": [
  {
   "cell_type": "code",
   "execution_count": 1,
   "metadata": {
    "deletable": false,
    "editable": false,
    "hide_input": true
   },
   "outputs": [
    {
     "name": "stdout",
     "output_type": "stream",
     "text": [
      "- Dependencies imported 👍\n",
      "- Remember to select 'Kernel-> Restart & Run All' on first load to show embedded Youtube videos 🎬\n",
      "- Author: Dr SPCarroll, Sept 2020, Rev 0\n"
     ]
    }
   ],
   "source": [
    "#DEPENDENCIES & INITIALISATIONS\n",
    "from IPython.display import HTML #For embedding videos\n",
    "import math #Basic math functionality\n",
    "import numpy as np #Numpy for working with arrays\n",
    "import matplotlib.pyplot as plt #Plotting functionality \n",
    "#HTML('<center><iframe width=\"560\" height=\"315\" src=\"#\" frameborder=\"0\" allowfullscreen></iframe></center>')\n",
    "print(\"- Dependencies imported 👍\")\n",
    "print(\"- Remember to select 'Kernel-> Restart & Run All' on first load to show embedded Youtube videos 🎬\")\n",
    "print(\"- Author: Dr SPCarroll, Sept 2020, Rev 0\")"
   ]
  },
  {
   "cell_type": "markdown",
   "metadata": {
    "hide_input": false
   },
   "source": [
    "![title](img/T2W11/banner.jpg)"
   ]
  },
  {
   "cell_type": "markdown",
   "metadata": {
    "hide_input": true
   },
   "source": [
    "# Week 11: Introduction to Structural Steel"
   ]
  },
  {
   "cell_type": "markdown",
   "metadata": {},
   "source": [
    "This week we will consider steel. You are again encouraged to read beyond this set of overview notes. **Indeed these notes should be considered a signpost pointing you towards other more in-depth sources on this topic. You should follow the hyperlink references**. Unlike concrete which is primarily of interest to civil engineers, all engineering students should familiarise themselves with steel and its properties. "
   ]
  },
  {
   "cell_type": "markdown",
   "metadata": {
    "hide_input": true
   },
   "source": [
    "## 1.0 Steel \n",
    "**Further reading** <a href=\"https://en.wikipedia.org/wiki/Steel\">[1]<a/>   "
   ]
  },
  {
   "cell_type": "markdown",
   "metadata": {},
   "source": [
    "Steels are alloys of iron (Fe) that typically contain a range of metallic and non-metallic constituents including Carbon (C), Chromium (Cr), Nickel (Ni), Silicon (Si), Sulphur (S), Phosphorous (P), Manganese (Mn), Molybdenum (Mo), Tungsten (W) and Titanium (Ti). \n",
    "\n",
    "These constituents define the properties of steel. For example steel contains carbon which increases its strength and fracture resistance. Carbon also allows the steel to be hardened by rapid cooling from high temperatures. However, carbon also reduces the ductility of the steel leading to brittleness.\n",
    "\n",
    "Due to its versatility, high strength, abundance and relatively low cost, steel is used throughout the world across a huge number of industries. "
   ]
  },
  {
   "cell_type": "markdown",
   "metadata": {},
   "source": [
    "### 1.1 Modern steel production\n",
    "**Further reading** <a href=\"https://en.wikipedia.org/wiki/Smelting\">[2]<a/>  <a href=\"https://en.wikipedia.org/wiki/Steelmaking\">[3]<a/> "
   ]
  },
  {
   "cell_type": "markdown",
   "metadata": {},
   "source": [
    "All steel starts life as iron ore which is mined from the ground. In a process known as smelting, iron is extracted from the ore. This involved heating the ore and combining it with another element such as carbon in the form of coke. This decomposes the ore into the base metal, iron in this case and slag, a waste bi-product. This process takes place in a blast furnace. The resulting iron is known as pig iron which has a high carbon content. \n",
    "\n",
    "Pig iron is further processed to reduce the carbon content and produce steel. At this stage of the production process, additional elements are added to alter the properties of the finished steel. For example chromium can be added to produce corrosion resistant stainless steel. \n",
    "\n",
    "The modern steel production process usually functions as one continuous production line with raw iron ore pellets entering at one end and finished steel emerging at the other. "
   ]
  },
  {
   "cell_type": "markdown",
   "metadata": {},
   "source": [
    "### 1.2 Heat Treatment\n",
    "**Further reading** <a href=\"https://en.wikipedia.org/wiki/Heat_treating\">[4]<a/> \n"
   ]
  },
  {
   "cell_type": "markdown",
   "metadata": {},
   "source": [
    "After the steel production process has been completed. Further heat treatment processes can be performed that further alter the properties of the steel. The most common processes are annealing, quenching and tempering. \n",
    "\n",
    "Annealing involves heating the steel to high temperature to relieve internal stresses that have developed internally in the steel during the manufacturing process.\n",
    "\n",
    "Quenching is a process of heating the steel and then rapidly cooling it in oil or water. This hardens the steel but also makes it more brittle. To reduce the brittleness, the steel is tempered (another form of annealing) to reduce internal stresses and increase ductility and fracture resistance. \n",
    "\n",
    "The temperatures and specific detail of each heat treatment process will depend on the composition of the steel and the desired end result.\n"
   ]
  },
  {
   "cell_type": "markdown",
   "metadata": {},
   "source": [
    "### 1.3 Types of steel\n"
   ]
  },
  {
   "cell_type": "markdown",
   "metadata": {},
   "source": [
    "We can identify a number of types of steel based on their constituents:\n",
    "- Dead Mild Steel: 0.07-0.15% carbon. \n",
    "    - Easy to bend and form. \n",
    "    - Typical uses include vehicle panels.\n",
    "- High Carbon Steel: 0.5-1.5% carbon. \n",
    "    - Good for hardening and tempering. \n",
    "    - Typical uses would include springs, coils and cutting edges.\n",
    "- High Tensile Steel: 0.3% carbon, 0.5% copper, 1.5% manganese. \n",
    "    - Used for structural elements (yield strengths of $350\\:N/mm^2$). \n",
    "- High Tensile Alloy Steel: Varied compositions. \n",
    "    - Very strong ($835 \\:N/mm^2$). \n",
    "    - Typical used can include pre-stressing bars.\n",
    "- Cast Iron: Processed pig iron with a high carbon content. \n",
    "    - Good for casting into moulds and resistant to corrosion. \n",
    "    - Not good for machining or welding."
   ]
  },
  {
   "cell_type": "markdown",
   "metadata": {},
   "source": [
    "### 1.4 Steel Grades\n",
    "**Further reading** <a href=\"https://en.wikipedia.org/wiki/Steel_grades\">[5]<a/> \n",
    "\n"
   ]
  },
  {
   "cell_type": "markdown",
   "metadata": {},
   "source": [
    "Steel properties and characteristics are described by the local standards that can vary according to country. In the UK, European Standards are used. The European standard for steel is 'EN 10020 [2]'\n",
    "\n",
    "Typical grades of steel used in construction are: 'S275J2' or 'S355K2W'.\n",
    "- 'S' denotes structural rather than engineering steel\n",
    "- 275 or 355 denotes the yield strength in $N/mm^2$\n",
    "- J2 or K2 denotes the materials toughness by reference to Charpy impact test values.\n",
    "- 'W' denotes <a href=\"https://en.wikipedia.org/wiki/Weathering_steel\">weathering steel </a>\n",
    "- Further letters can be used to designate normalized steel ('N' or 'NL'); quenched and tempered steel ('Q' or 'QL'); and thermomechanically rolled steel ('M'or 'ML')."
   ]
  },
  {
   "cell_type": "markdown",
   "metadata": {},
   "source": [
    "### 1.5 Steel corrosion and protection\n",
    "**Further reading** <a href=\"https://en.wikipedia.org/wiki/Corrosion\">[6]<a/> <a href=\"https://www.designingbuildings.co.uk/wiki/Corrosion_in_built_assets\">[7]<a/> "
   ]
  },
  {
   "cell_type": "markdown",
   "metadata": {},
   "source": [
    "Steel is prone to corrosion or oxidation. As such a barrier must be formed between the steel and the atmosphere. There are a number of approaches that may be taken to provide this barrier however the most common approach is to paint the surface with a water-resistant layer. "
   ]
  },
  {
   "cell_type": "markdown",
   "metadata": {},
   "source": [
    "### 1.6 Steel failure"
   ]
  },
  {
   "cell_type": "markdown",
   "metadata": {},
   "source": [
    "The common modes of failure for steel include:\n",
    "\n",
    "- Tensile failure due to the applied tensile stress exceeding the elastic limit of the steel.\n",
    "\n",
    "- Brittle failure due to impact loading. \n",
    "    - Brittle failure can occur at much lower stresses than tensile failure. \n",
    "    - Lower temperatures make steel more brittle. \n",
    "    - Toughness is the resistance to brittle failure\n",
    "\n",
    "- Fatigue failure due to cyclical loading.\n",
    "    - Failure can occur at stress levels within the elastic range.\n",
    "    - The *endurance limit* at N cycles is the stress required to produce a fracture after N load cycles.\n",
    "    - Changes in section and uneven surfaces lead to stress concentrations that decrease fatigue resistance. \n",
    "\n",
    "You have studied all of these failure modes extensively within the materials part of this module and so we will not repeat the discussion here. We simply highlight their relevance to steel. "
   ]
  },
  {
   "cell_type": "markdown",
   "metadata": {},
   "source": [
    "**There is no tutorial question sheet for this topic. Use your tutorial and office hours sessions this week to discuss the content in these notes or the content from previous weeks.**"
   ]
  }
 ],
 "metadata": {
  "hide_input": false,
  "kernelspec": {
   "display_name": "Python 3",
   "language": "python",
   "name": "python3"
  },
  "language_info": {
   "codemirror_mode": {
    "name": "ipython",
    "version": 3
   },
   "file_extension": ".py",
   "mimetype": "text/x-python",
   "name": "python",
   "nbconvert_exporter": "python",
   "pygments_lexer": "ipython3",
   "version": "3.6.4"
  },
  "toc": {
   "base_numbering": 1,
   "nav_menu": {},
   "number_sections": true,
   "sideBar": true,
   "skip_h1_title": false,
   "title_cell": "Table of Contents",
   "title_sidebar": "Contents",
   "toc_cell": false,
   "toc_position": {
    "height": "calc(100% - 180px)",
    "left": "10px",
    "top": "150px",
    "width": "165px"
   },
   "toc_section_display": true,
   "toc_window_display": false
  }
 },
 "nbformat": 4,
 "nbformat_minor": 2
}
