{
 "cells": [
  {
   "cell_type": "code",
   "execution_count": 1,
   "metadata": {
    "deletable": false,
    "editable": false,
    "hide_input": true
   },
   "outputs": [
    {
     "name": "stdout",
     "output_type": "stream",
     "text": [
      "- Dependencies imported 👍\n",
      "- Remember to select 'Kernel-> Restart & Run All' on first load to show embedded Youtube videos 🎬\n",
      "- Author: Dr H Alwi & Dr SPCarroll, Sept 2020, Rev 0\n"
     ]
    }
   ],
   "source": [
    "#DEPENDENCIES & INITIALISATIONS\n",
    "from IPython.display import HTML #For embedding videos\n",
    "import math #Basic math functionality\n",
    "import numpy as np #Numpy for working with arrays\n",
    "import matplotlib.pyplot as plt #Plotting functionality \n",
    "#HTML('<center><iframe width=\"560\" height=\"315\" src=\"#\" frameborder=\"0\" allowfullscreen></iframe></center>')\n",
    "print(\"- Dependencies imported 👍\")\n",
    "print(\"- Remember to select 'Kernel-> Restart & Run All' on first load to show embedded Youtube videos 🎬\")\n",
    "print(\"- Author: Dr H Alwi & Dr SPCarroll, Sept 2020, Rev 0\")"
   ]
  },
  {
   "cell_type": "markdown",
   "metadata": {},
   "source": [
    "# Week 7: Polar Coordinates & Force, Mass and Acceleration\n",
    "Reference: Chapter 13 of Engineering Mechanics - Statics and Dynamics Principles, Bedford A. & Fowler, W., 2003"
   ]
  },
  {
   "cell_type": "markdown",
   "metadata": {},
   "source": [
    "## Question 1"
   ]
  },
  {
   "cell_type": "markdown",
   "metadata": {},
   "source": [
    "A robotic arm is programmed so that the point $P$ (manipulator) traverses a path described by the polar coordinates,\n",
    "\n",
    "\\begin{equation*}\n",
    "r=1-0.5\\cos(2\\pi t) \\:m\n",
    "\\end{equation*}\n",
    "\n",
    "\\begin{equation*}\n",
    "\\theta = 0.5-0.2\\sin(2\\pi t) \\:rad\n",
    "\\end{equation*}\n",
    "\n",
    "At $t=0.8\\:s$ determine:\n",
    "- (a) the velocity of $P$ in terms of polar coordinates.\n",
    "- (b) the cartesian components of the velocity of $P$."
   ]
  },
  {
   "cell_type": "markdown",
   "metadata": {},
   "source": [
    "![title](img/T2W7/img1.jpg)"
   ]
  },
  {
   "cell_type": "markdown",
   "metadata": {},
   "source": [
    "**Solution 1**"
   ]
  },
  {
   "cell_type": "markdown",
   "metadata": {},
   "source": [
    "(a) We've seen that the velocity in terms of polar coordinates is given by,\n",
    "\n",
    "\\begin{equation*}\n",
    "\\mathbf{v} = \\frac{\\mathrm{d}r}{\\mathrm{d}t}\\mathbf{e}_r + r \\frac{\\mathrm{d}\\theta}{\\mathrm{d}t}\\mathbf{e}_{\\theta}\n",
    "\\end{equation*}\n",
    "\n",
    "So we can simply differentiate the expressions for $r$ and $\\theta$ provided and substitute them into the equation above to obtain the velocity in polar coordinates. \n",
    "\n",
    "\\begin{equation*}\n",
    "\\frac{\\mathrm{d}r}{\\mathrm{d}t} = \\pi\\sin(2\\pi t)\n",
    "\\end{equation*}\n",
    "\n",
    "\\begin{equation*}\n",
    "\\frac{\\mathrm{d}\\theta}{\\mathrm{d}t} = -0.4\\pi\\cos(2\\pi t)\n",
    "\\end{equation*}\n",
    "\n",
    "Therefore the velocity as a function of time in polar coordinates is given by,\n",
    "\n",
    "\\begin{equation*}\n",
    "\\mathbf{v} = \\pi\\sin(2\\pi t)\\:\\mathbf{e}_r + (1-0.5\\cos(2\\pi t))(-0.4\\pi\\cos(2\\pi t))\\:\\mathbf{e}_\\theta\n",
    "\\end{equation*}\n",
    "\n",
    "Evaluating at $t=0.8$ seconds,"
   ]
  },
  {
   "cell_type": "code",
   "execution_count": 2,
   "metadata": {},
   "outputs": [
    {
     "name": "stdout",
     "output_type": "stream",
     "text": [
      "The magnitude of the radial component of velocity is -2.99 m/s\n",
      "The magnitude of the transverse component of velocity is -0.33 m/s\n"
     ]
    }
   ],
   "source": [
    "pi=math.pi #Redine pi for convenience\n",
    "t=0.8 #(s) Time\n",
    "v_radial = pi*math.sin(2*pi*t) #(m/s) Magnitude of radial component of velocity\n",
    "v_trans = (1-0.5*math.cos(2*pi*t))*(-0.4*pi*math.cos(2*pi*t))\n",
    "print('The magnitude of the radial component of velocity is {one} m/s'.format(one=round(v_radial,2)))\n",
    "print('The magnitude of the transverse component of velocity is {one} m/s'.format(one=round(v_trans,2)))"
   ]
  },
  {
   "cell_type": "markdown",
   "metadata": {},
   "source": [
    "Therefore the complete velocity vector in polar coordinates at $t=0.8$ seconds is,\n",
    "\n",
    "\\begin{equation*}\n",
    "\\mathbf{v} = -2.99\\mathbf{e}_r -0.33\\mathbf{e}_\\theta\\:m/s\n",
    "\\end{equation*}"
   ]
  },
  {
   "cell_type": "markdown",
   "metadata": {},
   "source": [
    "(b) We can obtain the cartesian components using simple geometry. First we obtain the angle $\\theta$ at $t=0.8$ seconds by directly substituting into the equation provided for $\\theta$,"
   ]
  },
  {
   "cell_type": "code",
   "execution_count": 3,
   "metadata": {},
   "outputs": [
    {
     "name": "stdout",
     "output_type": "stream",
     "text": [
      "The angular position of the robot arm is 0.69 radians.\n"
     ]
    }
   ],
   "source": [
    "theta = 0.5-0.2*math.sin(2*pi*t) #(rads) Angular position of the robot arm\n",
    "print('The angular position of the robot arm is {one} radians.'.format(one=round(theta,3)))"
   ]
  },
  {
   "cell_type": "markdown",
   "metadata": {},
   "source": [
    "Now we simply resolve the radial and transverse velocity vectors into their $x$ and $y$ components."
   ]
  },
  {
   "cell_type": "markdown",
   "metadata": {},
   "source": [
    "![title](img/T2W7/img4.jpg)"
   ]
  },
  {
   "cell_type": "markdown",
   "metadata": {},
   "source": [
    "\\begin{equation*}\n",
    "v_x = v_{x,r} + v_{x,\\theta}\n",
    "\\end{equation*}\n",
    "\n",
    "\\begin{equation*}\n",
    "v_y = v_{y,r} + v_{y,\\theta}\n",
    "\\end{equation*}\n",
    "\n",
    "Evaluating at $t=0.8$ seconds,"
   ]
  },
  {
   "cell_type": "code",
   "execution_count": 4,
   "metadata": {},
   "outputs": [
    {
     "name": "stdout",
     "output_type": "stream",
     "text": [
      "The x and y components of the velocity are -2.09 and -2.16 m/s respectively\n"
     ]
    }
   ],
   "source": [
    "vx = v_radial*math.cos(theta)-v_trans*math.sin(theta)\n",
    "vy = v_radial*math.sin(theta) + v_trans*math.cos(theta)\n",
    "print('The x and y components of the velocity are {one} and {two} m/s respectively'.format(one=round(vx,2),two=round(vy,2)))"
   ]
  },
  {
   "cell_type": "markdown",
   "metadata": {},
   "source": [
    "We can confirm our solution by making sure that the magnitude of the velocity in cartesian coordinates is the same as the magnitude obtained for polar coordinates. Remember, although the coordinate reference frame might change we are still describing the velocity of the same point so its velocity should be the same regardless of the reference frame used."
   ]
  },
  {
   "cell_type": "code",
   "execution_count": 5,
   "metadata": {},
   "outputs": [
    {
     "name": "stdout",
     "output_type": "stream",
     "text": [
      "The magnitude of the velocity in polar coordinates is 3.01 m/s\n",
      "The magnitude of the velocity in cartesian coordinates is 3.01 m/s\n"
     ]
    }
   ],
   "source": [
    "V_polar = ((v_radial**2)+(v_trans**2))**0.5\n",
    "V_cart = ((vx**2)+(vy**2))**0.5\n",
    "print('The magnitude of the velocity in polar coordinates is {one} m/s'.format(one=round(V_polar,2)))\n",
    "print('The magnitude of the velocity in cartesian coordinates is {one} m/s'.format(one=round(V_cart,2)))"
   ]
  },
  {
   "cell_type": "markdown",
   "metadata": {},
   "source": [
    "## Question 2\n"
   ]
  },
  {
   "cell_type": "markdown",
   "metadata": {},
   "source": [
    "The polar coordinates of the collar $A$ are given as functions of time,\n",
    "\n",
    "\\begin{equation*}\n",
    "r=1+0.2t^2\\:m\n",
    "\\end{equation*}\n",
    "\n",
    "\\begin{equation*}\n",
    "\\theta=2t \\:rad\n",
    "\\end{equation*}\n",
    "\n",
    "What are the magnitudes of the velocity and acceleration of the collar at $t=2$ seconds?"
   ]
  },
  {
   "cell_type": "markdown",
   "metadata": {},
   "source": [
    "![title](img/T2W7/img2.jpg)"
   ]
  },
  {
   "cell_type": "markdown",
   "metadata": {},
   "source": [
    "**Solution 2**"
   ]
  },
  {
   "cell_type": "markdown",
   "metadata": {},
   "source": [
    "We can start by following the same procedure as question 1 above to determine the velocity magnitude at $t=2$ seconds. Evaluating the differential of $r$ and $\\theta$ yields,\n",
    "\n",
    "\\begin{equation*}\n",
    "\\frac{\\mathrm{d}r}{\\mathrm{d}t} = 0.4t\n",
    "\\end{equation*}\n",
    "\n",
    "\\begin{equation*}\n",
    "\\frac{\\mathrm{d}\\theta}{\\mathrm{d}t} = 2\n",
    "\\end{equation*}\n",
    "\n",
    "Noting that the polar velocity vector is,\n",
    "\n",
    "\\begin{equation*}\n",
    "\\mathbf{v} = \\frac{\\mathrm{d}r}{\\mathrm{d}t}\\mathbf{e}_r + r \\frac{\\mathrm{d}\\theta}{\\mathrm{d}t}\\mathbf{e}_{\\theta}\n",
    "\\end{equation*}\n",
    "\n",
    "We can substitute into this equation to obtain, \n",
    "\n",
    "\\begin{equation*}\n",
    "\\mathbf{v} = 0.4t\\:\\mathbf{e}_r + (2+0.4t^2)\\mathbf{e}_\\theta\n",
    "\\end{equation*}\n",
    "\n",
    "At $t=2$ seconds we have,\n",
    "\n",
    "\\begin{equation*}\n",
    "\\mathbf{v} = 0.8\\:\\mathbf{e}_r + 3.6\\:\\mathbf{e}_\\theta\\:m/s\n",
    "\\end{equation*}\n",
    "\n",
    "Therefore we can evaluate the velocity magnitude as,\n",
    "\n",
    "\\begin{equation*}\n",
    "v=\\sqrt{(0.8^2 + 3.6^2)}\n",
    "\\end{equation*}"
   ]
  },
  {
   "cell_type": "code",
   "execution_count": 6,
   "metadata": {},
   "outputs": [
    {
     "name": "stdout",
     "output_type": "stream",
     "text": [
      "(a) The velocity magnitude is 3.69 m/s\n"
     ]
    }
   ],
   "source": [
    "v = math.sqrt(0.8**2+3.6**2)\n",
    "print('(a) The velocity magnitude is {v} m/s'.format(v=round(v,2)))"
   ]
  },
  {
   "cell_type": "markdown",
   "metadata": {},
   "source": [
    "To obtain the acceleration we first note the expression,\n",
    "\n",
    "\\begin{equation*}\n",
    "\\mathbf{a} = \\underbrace{\\left[\\frac{\\mathrm{d}^2r}{\\mathrm{d}t^2} - r\\left( \\frac{\\mathrm{d}\\theta}{\\mathrm{d}t}\\right)^2\\right]}_{a_r}\\mathbf{e}_r + \\underbrace{\\left[r\\frac{\\mathrm{d}^2\\theta}{\\mathrm{d}t^2} +2 \\frac{\\mathrm{d}r}{\\mathrm{d}t}\\frac{\\mathrm{d}\\theta}{\\mathrm{d}t} \\right]}_{a_\\theta}\\mathbf{e}_\\theta\n",
    "\\end{equation*}"
   ]
  },
  {
   "cell_type": "markdown",
   "metadata": {},
   "source": [
    "Evaluating the second differential of $r$ and $\\theta$,\n",
    "\n",
    "\\begin{equation*}\n",
    "\\frac{\\mathrm{d}^2r}{\\mathrm{d}t^2} = 0.4\n",
    "\\end{equation*}\n",
    "\n",
    "\\begin{equation*}\n",
    "\\frac{\\mathrm{d}^2\\theta}{\\mathrm{d}t^2} = 0\n",
    "\\end{equation*}"
   ]
  },
  {
   "cell_type": "markdown",
   "metadata": {},
   "source": [
    "Now evaluating $a_r$ and $a_\\theta$,\n",
    "\n",
    "\\begin{equation*}\n",
    "a_r = 0.4-(1+0.2t^2)(2)^2\n",
    "\\end{equation*}\n",
    "\n",
    "\\begin{equation*}\n",
    "a_\\theta = (1+0.2t^2)(0) + 2(0.4t)(2)\n",
    "\\end{equation*}\n",
    "\n",
    "Evaluating at $t=2$ seconds,"
   ]
  },
  {
   "cell_type": "code",
   "execution_count": 7,
   "metadata": {},
   "outputs": [
    {
     "name": "stdout",
     "output_type": "stream",
     "text": [
      "(b) The acceleration magnitude is 7.52 m/s^2\n"
     ]
    }
   ],
   "source": [
    "t=2 #(s) Time\n",
    "ar = 0.4-(1+0.2*t**2)*(2)**2 #(m/s^2) Magnitude of radial component of acceleration\n",
    "at = 2*0.4*t*2 #(m/s^2) Magnitude of transvers component of acceleration\n",
    "a = math.sqrt(ar**2+at**2)  #(m/s^2) Magnitude of resultant acceleration vector\n",
    "\n",
    "print('(b) The acceleration magnitude is {one} m/s^2'.format(one=round(a,2)))"
   ]
  },
  {
   "cell_type": "markdown",
   "metadata": {},
   "source": [
    "## Question 3"
   ]
  },
  {
   "cell_type": "markdown",
   "metadata": {},
   "source": [
    "The radial coordinate of a satellite is related to its angular position $\\theta$ by the following equation,\n",
    "\n",
    "\\begin{equation*}\n",
    "r=\\frac{1.91\\times 10^7}{1+0.5\\cos\\theta}\\:m\n",
    "\\end{equation*}\n",
    "\n",
    "The product of the radial position and the transverse component of the velocity is,\n",
    "\n",
    "\\begin{equation*}\n",
    "rv_\\theta = 8.72\\times 10^{10}\\:m^2/s\n",
    "\\end{equation*}\n",
    "\n",
    "What is the satellite's velocity in terms of polar coordinates when $\\theta=90^\\circ$?"
   ]
  },
  {
   "cell_type": "markdown",
   "metadata": {},
   "source": [
    "![title](img/T2W7/img3.jpg)"
   ]
  },
  {
   "cell_type": "markdown",
   "metadata": {},
   "source": [
    "**Solution**"
   ]
  },
  {
   "cell_type": "markdown",
   "metadata": {},
   "source": [
    "In this example we are given the radial position $r$ as a function of $\\theta$ but in order to evaluate the polar velocity vector we need the differential of $r$ with respect to time, therefore,\n",
    "\n",
    "\\begin{equation*}\n",
    "\\frac{\\mathrm{d}r}{\\mathrm{d}t} = \\frac{\\mathrm{d}r}{\\mathrm{d}\\theta}\\frac{\\mathrm{d}\\theta}{\\mathrm{d}t}\n",
    "\\end{equation*}\n",
    "\n",
    "We start by evaluating $\\frac{\\mathrm{d}r}{\\mathrm{d}\\theta}$ by differentiating the expression provided in the question,"
   ]
  },
  {
   "cell_type": "code",
   "execution_count": 8,
   "metadata": {},
   "outputs": [
    {
     "name": "stdout",
     "output_type": "stream",
     "text": [
      "   0.5⋅A⋅sin(T)  \n",
      "─────────────────\n",
      "                2\n",
      "(0.5⋅cos(T) + 1) \n"
     ]
    }
   ],
   "source": [
    "import sympy as sym #Import SymPy\n",
    "\n",
    "#Define some symbols \n",
    "A = sym.Symbol('A') #A constant to temporarily replace 1.91*10^7 (make things easier to read)\n",
    "T = sym.Symbol('T') #Symbol for theta\n",
    "r = sym.Symbol('r') #Symbol for r\n",
    "\n",
    "#Construct the function to differentiate\n",
    "r = A/(1+0.5*sym.cos(T))\n",
    "\n",
    "drdT = sym.diff(r,T) #Differentiate r with respect to theta\n",
    "drdT = sym.simplify(drdT) #Try to simplify the resulting expression\n",
    "sym.pprint(drdT) #Print the result in an easy to read format"
   ]
  },
  {
   "cell_type": "markdown",
   "metadata": {},
   "source": [
    "Therefore we have,\n",
    "\n",
    "\\begin{equation*}\n",
    "\\frac{\\mathrm{d}r}{\\mathrm{d}\\theta} = \\frac{0.5A\\sin\\theta}{(0.5\\cos\\theta+1)^2}\n",
    "\\end{equation*}\n",
    "\n",
    "where $A=1.91\\times 10^7$. Evaluating $\\frac{\\mathrm{d}r}{\\mathrm{d}\\theta}$,"
   ]
  },
  {
   "cell_type": "code",
   "execution_count": 9,
   "metadata": {},
   "outputs": [
    {
     "name": "stdout",
     "output_type": "stream",
     "text": [
      "The differential of r with respect to theta is 9550000\n"
     ]
    }
   ],
   "source": [
    "theta=pi/2 #(rad)\n",
    "A = 1.91*10**7 # constant\n",
    "drdT = (0.5*A*math.sin(theta))/(0.5*math.cos(theta)+1)**2\n",
    "print('The differential of r with respect to theta is {one}'.format(one=round(drdT)))"
   ]
  },
  {
   "cell_type": "markdown",
   "metadata": {},
   "source": [
    "Next we evaluate $\\frac{\\mathrm{d}\\theta}{\\mathrm{d}t}$ by noting from the question,\n",
    "\n",
    "\\begin{equation*}\n",
    "rv_{\\theta} = r^2\\frac{\\mathrm{d}\\theta}{\\mathrm{d}t} = 8.72\\times10^{10}\n",
    "\\end{equation*}\n",
    "\n",
    "When $\\theta=90^\\circ$ we evaluate $r$ and then solve for $\\frac{\\mathrm{d}\\theta}{\\mathrm{d}t}$,"
   ]
  },
  {
   "cell_type": "code",
   "execution_count": 10,
   "metadata": {},
   "outputs": [
    {
     "name": "stdout",
     "output_type": "stream",
     "text": [
      "When theta is 90 degrees, r is 19100000.0 m\n",
      "The differential of theta with respect to time is 0.000239 rad/s\n"
     ]
    }
   ],
   "source": [
    "r = A/(1+0.5*math.cos(theta)) #(m) radius when theta = 90 degrees\n",
    "dTdt = (8.72*10**10)/r**2\n",
    "print('When theta is 90 degrees, r is {one} m'.format(one=r))\n",
    "print('The differential of theta with respect to time is {one} rad/s'.format(one=round(dTdt,6)))"
   ]
  },
  {
   "cell_type": "markdown",
   "metadata": {},
   "source": [
    "Finally we can evaluate the polar velocity vector,\n",
    "\n",
    "\\begin{equation*}\n",
    "\\mathbf{v} = \\frac{\\mathrm{d}r}{\\mathrm{d}t}\\mathbf{e}_r + r \\frac{\\mathrm{d}\\theta}{\\mathrm{d}t}\\mathbf{e}_{\\theta}\n",
    "\\end{equation*}"
   ]
  },
  {
   "cell_type": "markdown",
   "metadata": {},
   "source": [
    "\\begin{equation*}\n",
    "\\mathbf{v} = (9550000\\times 0.000239)\\:\\mathbf{e}_r + (19100000\\times 0.000239)\\:\\mathbf{e}_\\theta\n",
    "\\end{equation*}\n",
    "\n",
    "\\begin{equation*}\n",
    "\\mathbf{v} = 2282\\:\\mathbf{e}_r + 4565\\:\\mathbf{e}_\\theta \\:m/s\n",
    "\\end{equation*}"
   ]
  },
  {
   "cell_type": "markdown",
   "metadata": {},
   "source": [
    "## Question 4"
   ]
  },
  {
   "cell_type": "markdown",
   "metadata": {},
   "source": [
    "The total force exerted on an $80000\\:N$ rocket during launch, including engine thrust, aerodynamic drag and self-weight between $2\\leq t \\leq4$ is given by the function,\n",
    "\n",
    "\\begin{equation*}\n",
    "\\sum\\mathbf{F} = (2000-400t^2)\\mathbf{i} +(5200+440t)\\mathbf{j} + (800+60t^2)\\mathbf{k}\\:N\n",
    "\\end{equation*}\n",
    "\n",
    "At $t=2$ seconds, its velocity is,\n",
    "\n",
    "\\begin{equation*}\n",
    "\\mathbf{v} = 12\\mathbf{i} + 220\\mathbf{j}-30\\mathbf{k}\\:m/s\n",
    "\\end{equation*}\n",
    "\n",
    "What is the velocity at $t=4$ seconds?"
   ]
  },
  {
   "cell_type": "markdown",
   "metadata": {},
   "source": [
    "**Solution**"
   ]
  },
  {
   "cell_type": "markdown",
   "metadata": {},
   "source": [
    "The equation of motion is $\\mathbf{F} = m\\:\\mathbf{a}$. So we can solve for acceleration and them integrate the acceleration between $2\\leq t\\leq4$ to obtain the velocity. To process through the solution, we consider motion in each direction independently, i.e. break the motion into its components.\n",
    "\n",
    "The mass of the rocket is,\n",
    "\n",
    "\\begin{equation*}\n",
    "m = \\frac{80000}{9.81} = 8154.7\\:kg\n",
    "\\end{equation*}\n",
    "\n",
    "**x-direction**\n",
    "\n",
    "\\begin{equation*}\n",
    "a_x =\\frac{\\mathrm{d}v_x}{\\mathrm{d}t} = \\frac{F_x}{m} = \\frac{2000-400t^2}{8154.7} = 0.245-0.05t^2 \\:m/s^2\n",
    "\\end{equation*}\n",
    "\n",
    "Noting the initial velocity in the $x$-direction and integrating between the limits,\n",
    "\n",
    "\\begin{equation*}\n",
    "\\int_{12}^v\\mathrm{d}v_x = \\int_2^4 (0.245-0.05t^2) \\mathrm{d}t = 11.56\\:m/s\n",
    "\\end{equation*}"
   ]
  },
  {
   "cell_type": "markdown",
   "metadata": {},
   "source": [
    "**y-direction**\n",
    "\n",
    "\\begin{equation*}\n",
    "a_y =\\frac{\\mathrm{d}v_y}{\\mathrm{d}t} = \\frac{F_y}{m} = \\frac{5200+440t}{8154.7} = 0.638+0.054t \\:m/s^2\n",
    "\\end{equation*}\n",
    "\n",
    "Integrating between the limits,\n",
    "\n",
    "\\begin{equation*}\n",
    "\\int_{220}^v\\mathrm{d}v_y = \\int_2^4 (0.638+0.054t) \\mathrm{d}t = 222.8\\:m/s\n",
    "\\end{equation*}"
   ]
  },
  {
   "cell_type": "markdown",
   "metadata": {},
   "source": [
    "**z-direction**\n",
    "\n",
    "\\begin{equation*}\n",
    "a_z =\\frac{\\mathrm{d}v_z}{\\mathrm{d}t} = \\frac{F_z}{m} = \\frac{800+60t^2}{8154.7} = 0.098+0.0074t^2 \\:m/s^2\n",
    "\\end{equation*}\n",
    "\n",
    "Integrating between the limits,\n",
    "\n",
    "\\begin{equation*}\n",
    "\\int_{-30}^v\\mathrm{d}v_z = \\int_2^4 (0.098+0.0074t^2) \\mathrm{d}t = -29.7\\:m/s\n",
    "\\end{equation*}"
   ]
  },
  {
   "cell_type": "markdown",
   "metadata": {},
   "source": [
    "Therefore the velocity vector is,\n",
    "\n",
    "\\begin{equation*}\n",
    "\\mathbf{v} = (11.56\\:\\mathbf{i} + 222.8\\:\\mathbf{j}-29.7\\:\\mathbf{k})\\:m/s\n",
    "\\end{equation*}"
   ]
  },
  {
   "cell_type": "markdown",
   "metadata": {},
   "source": [
    "## Answers"
   ]
  },
  {
   "cell_type": "markdown",
   "metadata": {},
   "source": [
    "1. $\\mathbf{v} = -2.99\\mathbf{e}_r -0.33\\mathbf{e}_\\theta\\:m/s$, $v_x = -2.09\\:m/s$ $v_y=-2.16 \\:m/s $\n",
    "2. $3.69 \\:m/s$, $7.52 \\:m/s^2$\n",
    "3. $\\mathbf{v} = 2282\\:\\mathbf{e}_r + 4565\\:\\mathbf{e}_\\theta \\:m/s$\n",
    "4. $\\mathbf{v} = (11.56\\:\\mathbf{i} + 222.8\\:\\mathbf{j}-29.7\\:\\mathbf{k})\\:m/s$"
   ]
  }
 ],
 "metadata": {
  "hide_input": false,
  "kernelspec": {
   "display_name": "Python 3",
   "language": "python",
   "name": "python3"
  },
  "language_info": {
   "codemirror_mode": {
    "name": "ipython",
    "version": 3
   },
   "file_extension": ".py",
   "mimetype": "text/x-python",
   "name": "python",
   "nbconvert_exporter": "python",
   "pygments_lexer": "ipython3",
   "version": "3.6.4"
  }
 },
 "nbformat": 4,
 "nbformat_minor": 2
}
