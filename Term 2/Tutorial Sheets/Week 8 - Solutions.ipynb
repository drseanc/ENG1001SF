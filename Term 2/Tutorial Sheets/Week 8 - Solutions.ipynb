{
 "cells": [
  {
   "cell_type": "code",
   "execution_count": 1,
   "metadata": {
    "deletable": false,
    "editable": false,
    "hide_input": true
   },
   "outputs": [
    {
     "name": "stdout",
     "output_type": "stream",
     "text": [
      "- Dependencies imported 👍\n",
      "- Remember to select 'Kernel-> Restart & Run All' on first load to show embedded Youtube videos 🎬\n",
      "- Author: Dr SPCarroll, Sept 2020, Rev 0\n"
     ]
    }
   ],
   "source": [
    "#DEPENDENCIES & INITIALISATIONS\n",
    "from IPython.display import HTML #For embedding videos\n",
    "import math #Basic math functionality\n",
    "import numpy as np #Numpy for working with arrays\n",
    "import matplotlib.pyplot as plt #Plotting functionality \n",
    "#HTML('<center><iframe width=\"560\" height=\"315\" src=\"#\" frameborder=\"0\" allowfullscreen></iframe></center>')\n",
    "print(\"- Dependencies imported 👍\")\n",
    "print(\"- Remember to select 'Kernel-> Restart & Run All' on first load to show embedded Youtube videos 🎬\")\n",
    "print(\"- Author: Dr SPCarroll, Sept 2020, Rev 0\")"
   ]
  },
  {
   "cell_type": "markdown",
   "metadata": {},
   "source": [
    "# Week 8: Energy-based Analysis Methods\n",
    "Reference: Chapter 15 of Engineering Mechanics - Statics and Dynamics Principles, Bedford A. & Fowler, W., 2003"
   ]
  },
  {
   "cell_type": "markdown",
   "metadata": {},
   "source": [
    "## Question 1"
   ]
  },
  {
   "cell_type": "markdown",
   "metadata": {},
   "source": [
    "The $2000 \\:N$ drag racer starts from rest and travels a $250\\:m$ course. It completes the course in $4.524$ seconds and crosses the finish line traveling at $325.77\\: km/h$. \n",
    "\n",
    "- (a) How much work is done on the car as it travels the course? \n",
    "- (b) Assume that the horizontal force exerted on the car is constant and use the principle of work and energy to determine it.\n",
    "- (c) Determine the maximum power transferred to the car as it travels the $250\\:m$ course.\n",
    "- (b) Determine the average power transferred to the car."
   ]
  },
  {
   "cell_type": "markdown",
   "metadata": {},
   "source": [
    "**Solution 1**"
   ]
  },
  {
   "cell_type": "markdown",
   "metadata": {},
   "source": [
    "(a) We know that the work done on an object is equal to its change in kinetic energy. Therefore knowing the velocity magnitudes we can readily determine the work done using,\n",
    "\n",
    "\\begin{equation*}\n",
    "U_{12} = \\frac{1}{2}mv_2^2 - \\frac{1}{2}mv_1^2\n",
    "\\end{equation*}"
   ]
  },
  {
   "cell_type": "code",
   "execution_count": 2,
   "metadata": {},
   "outputs": [
    {
     "name": "stdout",
     "output_type": "stream",
     "text": [
      "1(a). The work done on the drag racer is 834734 Nm\n"
     ]
    }
   ],
   "source": [
    "v1 = 0 #(m/s) Initial velocity\n",
    "v2_kph = 325.77 #(km/h) Final velocity\n",
    "v2 = v2_kph*1000/3600 #(m/s) Final velocity\n",
    "w = 2000 #(N)\n",
    "m = w/9.81 #(kg)\n",
    "work = 0.5*m*v2**2 - 0.5*m*v1**2 #(Nm)\n",
    "print('1(a). The work done on the drag racer is {one} Nm'.format(one=round(work)))"
   ]
  },
  {
   "cell_type": "markdown",
   "metadata": {},
   "source": [
    "(b) We know that the work done is equal to the force multiplied by the distance through which it travels, therefore,\n",
    "\n",
    "\\begin{equation*}\n",
    "\\text{Force} = \\frac{\\text{Work}}{\\text{distance}}\n",
    "\\end{equation*}"
   ]
  },
  {
   "cell_type": "code",
   "execution_count": 3,
   "metadata": {},
   "outputs": [
    {
     "name": "stdout",
     "output_type": "stream",
     "text": [
      "1(b). The constant force applied to the drag racer is 3339 N\n"
     ]
    }
   ],
   "source": [
    "d = 250 #(m) Distance travelled\n",
    "F = work/d #(N)\n",
    "print('1(b). The constant force applied to the drag racer is {one} N'.format(one=round(F)))"
   ]
  },
  {
   "cell_type": "markdown",
   "metadata": {},
   "source": [
    "(c) Power is the product of force and velocity. Therefore the maximum power is achieved when the velocity is a maximum. "
   ]
  },
  {
   "cell_type": "code",
   "execution_count": 4,
   "metadata": {},
   "outputs": [
    {
     "name": "stdout",
     "output_type": "stream",
     "text": [
      "1(c). The maximum power is 302146 Nm/s\n"
     ]
    }
   ],
   "source": [
    "P_max = F*v2 #(Nm/s) Maximum power\n",
    "print('1(c). The maximum power is {one} Nm/s'.format(one=round(P_max)))"
   ]
  },
  {
   "cell_type": "markdown",
   "metadata": {},
   "source": [
    "(d) The average power is obtained by dividing the work done by the time taken or duration,\n",
    "\n",
    "\\begin{equation*}\n",
    "P_{\\text{avg}} = \\frac{U_{12}}{t_2-t_1}\n",
    "\\end{equation*}"
   ]
  },
  {
   "cell_type": "code",
   "execution_count": 5,
   "metadata": {},
   "outputs": [
    {
     "name": "stdout",
     "output_type": "stream",
     "text": [
      "1(d). The average power transferred to the drag racer is 184512 Nm/s\n"
     ]
    }
   ],
   "source": [
    "t = 4.524 #(s)\n",
    "P_avg = work/t\n",
    "print('1(d). The average power transferred to the drag racer is {one} Nm/s'.format(one=round(P_avg)))"
   ]
  },
  {
   "cell_type": "markdown",
   "metadata": {},
   "source": [
    "## Question 2"
   ]
  },
  {
   "cell_type": "markdown",
   "metadata": {},
   "source": [
    "As a $32,000 \\:N$ aircraft takes off, the tangential component of force exerted on it by its engines is $\\sum F_t = 45000 \\:N$. Neglecting other forces on the aircraft, use the principle of work and energy to determine \n",
    "\n",
    "- (a) how much runway is required for its velocity to reach $200\\:km/h$.\n",
    "- (b) the average power transferred to the aircraft.\n",
    "\n",
    "Assume the aircraft undergoes constant acceleration between $v=0\\:km/h$ and $v=200\\:km/h$. \n",
    "\n",
    "**Variable force**\n",
    "\n",
    "Now consider a related scenario; before travelling down the runway, the aircraft is at rest at position $s=0$. The total tangential force exerted on it by its engines and aerodynamic drag (in Newtons) is given as a function of its position $s$ by,\n",
    "\n",
    "\\begin{equation*}\n",
    "\\sum F_t = 4500 - 5.2\\:s\n",
    "\\end{equation*}\n",
    "\n",
    "- (c) Use the principle of work and energy to determine how fast the airplane is traveling when its position is $s = 950\\:m$."
   ]
  },
  {
   "cell_type": "markdown",
   "metadata": {},
   "source": [
    "**Solution 2**"
   ]
  },
  {
   "cell_type": "markdown",
   "metadata": {},
   "source": [
    "(a) By equating the work done to the change in kinetic energy we can solve for the distance through which the force travels,\n",
    "\n",
    "\\begin{equation*}\n",
    "\\sum F_t\\:d = \\frac{1}{2}mv_2^2 - \\frac{1}{2}mv_1^2\n",
    "\\end{equation*}"
   ]
  },
  {
   "cell_type": "code",
   "execution_count": 6,
   "metadata": {},
   "outputs": [
    {
     "name": "stdout",
     "output_type": "stream",
     "text": [
      "2(a). The distance required to reach 200 km/h is 111.9 m\n"
     ]
    }
   ],
   "source": [
    "F = 45000 #N\n",
    "w = 32000 #(N)\n",
    "m=w/9.81 #(kg)\n",
    "v_kph = 200 #(km/h)\n",
    "v = v_kph*1000/3600 #(m/s)\n",
    "d = (1/F)*(0.5*m*v**2) #(m)\n",
    "print('2(a). The distance required to reach 200 km/h is {one} m'.format(one=round(d,1)))"
   ]
  },
  {
   "cell_type": "markdown",
   "metadata": {},
   "source": [
    "(b) The average power is obtained by dividing the work done by the time taken. We can work out the work done by evaluating the change in kinetic energy,\n",
    "\n",
    "\\begin{equation*}\n",
    "U_{12} = \\frac{1}{2}mv_2^2 - \\frac{1}{2}mv_1^2\n",
    "\\end{equation*}\n",
    "\n",
    "noting that the initial velocity is zero. "
   ]
  },
  {
   "cell_type": "code",
   "execution_count": 7,
   "metadata": {},
   "outputs": [
    {
     "name": "stdout",
     "output_type": "stream",
     "text": [
      "The work done is 5033916 Nm\n"
     ]
    }
   ],
   "source": [
    "work = 0.5*m*v**2\n",
    "print('The work done is {one} Nm'.format(one=round(work)))"
   ]
  },
  {
   "cell_type": "markdown",
   "metadata": {},
   "source": [
    "Next we need to determine the time taken to reach a velocity of $200 km/h$. Assuming constant acceleration, we know,\n",
    "\n",
    "\\begin{equation*}\n",
    "v_2 = v_1 + a_0\\:t\n",
    "\\end{equation*}\n",
    "\n",
    "\\begin{equation*}\n",
    "v_2 = a_0\\:t\n",
    "\\end{equation*}\n",
    "\n",
    "Therefore,\n",
    "\n",
    "\\begin{equation*}\n",
    "t = \\frac{v_2}{a_0}\n",
    "\\end{equation*}\n",
    "\n",
    "To determine the acceleration we can use Newton's second law,\n",
    "\n",
    "\\begin{equation*}\n",
    "a_0 = \\frac{F}{m}\n",
    "\\end{equation*}"
   ]
  },
  {
   "cell_type": "code",
   "execution_count": 8,
   "metadata": {},
   "outputs": [
    {
     "name": "stdout",
     "output_type": "stream",
     "text": [
      "2(b). The average power transferred is 1250000 Nm/s\n"
     ]
    }
   ],
   "source": [
    "a_0 = F/m #(m/s^2)\n",
    "t = v/a_0 #(s)\n",
    "P_avg = work/t #(Nm/s)\n",
    "print('2(b). The average power transferred is {one} Nm/s'.format(one=round(P_avg)))"
   ]
  },
  {
   "cell_type": "markdown",
   "metadata": {},
   "source": [
    "(c) Now that the force is a function of position $s$ so we must integrate to obtain the total work done. \n",
    "\n",
    "\\begin{equation*}\n",
    "U_{12} = \\int_0^{950}(45000-5.2\\:s)\\:\\mathrm{d}s\n",
    "\\end{equation*} \n",
    "\n",
    "\\begin{equation*}\n",
    "U_{12} = 45000\\:s - \\frac{5.2s^2}{2} \\biggr\\rvert_0^{950}\n",
    "\\end{equation*}"
   ]
  },
  {
   "cell_type": "code",
   "execution_count": 9,
   "metadata": {},
   "outputs": [
    {
     "name": "stdout",
     "output_type": "stream",
     "text": [
      "The work done is 40403500 Nm\n"
     ]
    }
   ],
   "source": [
    "s = 950 #(m)\n",
    "work = 45000*s - 5.2*s**2/2\n",
    "print('The work done is {one} Nm'.format(one=round(work)))"
   ]
  },
  {
   "cell_type": "markdown",
   "metadata": {},
   "source": [
    "This can now be equated to the change in kinetic energy to yield the velocity $v_2$ when $s_2 = 950\\:m$. "
   ]
  },
  {
   "cell_type": "code",
   "execution_count": 16,
   "metadata": {},
   "outputs": [
    {
     "name": "stdout",
     "output_type": "stream",
     "text": [
      "2(c). The velocity of the aircraft after it has travelled 950m is 4495 m/s\n"
     ]
    }
   ],
   "source": [
    "v = math.sqrt(work/(0.5*m)) #(m)\n",
    "print('2(c). The velocity of the aircraft after it has travelled 950m is {one} m/s'.format(one=round(v)))"
   ]
  },
  {
   "cell_type": "markdown",
   "metadata": {},
   "source": [
    "## Question 3"
   ]
  },
  {
   "cell_type": "markdown",
   "metadata": {},
   "source": [
    "A stunt driver wants to drive a car through a circular loop of radius $R = 5 \\:m$\n",
    "\n",
    "- Determine the minimum required velocity at the top of the loop such that the car stays in contact with the track.\n",
    "\n",
    "- Determine the minimum velocity $v_0$ at which the car can enter the loop and coast through without losing contact with the track. \n",
    "\n",
    "**Hint:**\n",
    "- Model the car's motion using components normal and tangential to the circular path."
   ]
  },
  {
   "cell_type": "markdown",
   "metadata": {},
   "source": [
    "![title](img/T2W8/img4.jpg)\n",
    "<center>Car coasting around a loop with an entry velocity $v_0$.</center>"
   ]
  },
  {
   "cell_type": "markdown",
   "metadata": {},
   "source": [
    "**Solution 3**"
   ]
  },
  {
   "cell_type": "markdown",
   "metadata": {},
   "source": [
    "We start this solution by considering a free-body diagram of the car when it is inverted at the top of the loop."
   ]
  },
  {
   "cell_type": "markdown",
   "metadata": {},
   "source": [
    "![title](img/T2W8/img5.jpg)\n",
    "<center>Free-body diagram of car centre of mass at the top of the loop.</center>"
   ]
  },
  {
   "cell_type": "markdown",
   "metadata": {},
   "source": [
    "We can see the self-weight of the mass, $mg$ and also the reaction force $N$ imposed on the mass by the loop. We note that at the point the car looses contact with the loop, $N\\rightarrow 0$. Also indicated are the tangential and normal components of the acceleration. \n",
    "\n",
    "We are trying to analyse the case when $N\\rightarrow 0$, as such we are concerned with forces that are normal to the circular path. Evaluating the sum of the forces in the normal direction, \n",
    "\n",
    "\\begin{equation*}\n",
    "mg + N = 0\n",
    "\\end{equation*}\n",
    "\n",
    "We also know according to Newton's second law, $\\sum F_n = m\\times a_n$, i.e. the sum of the forces in the normal direction must equal the mass times the acceleration in the normal direction and since at the point contact is lost $N=0$, we have\n",
    "\n",
    "\\begin{align*}\n",
    "m\\:g &= m\\:a_n\\\\\n",
    "g &=a_n\n",
    "\\end{align*}"
   ]
  },
  {
   "cell_type": "markdown",
   "metadata": {},
   "source": [
    "We know that the normal component of acceleration for circular motion is given by (week 5 equation 47),\n",
    "\n",
    "\\begin{equation*}\n",
    "a_n = \\frac{v^2}{R}\n",
    "\\end{equation*}\n",
    "\n",
    "Therefore solving for $v$,\n",
    "\n",
    "\\begin{equation*}\n",
    "v = \\sqrt{R\\:g}\n",
    "\\end{equation*}"
   ]
  },
  {
   "cell_type": "code",
   "execution_count": 11,
   "metadata": {},
   "outputs": [
    {
     "name": "stdout",
     "output_type": "stream",
     "text": [
      "3(a). The minimum required velocity at the top of the loop is 7.0 m/s\n"
     ]
    }
   ],
   "source": [
    "R = 5 #(m)\n",
    "v = math.sqrt(R*9.81)\n",
    "print('3(a). The minimum required velocity at the top of the loop is {one} m/s'.format(one=round(v,1)))"
   ]
  },
  {
   "cell_type": "markdown",
   "metadata": {},
   "source": [
    "(b) The entry velocity can be determined by equating the work done in elevating the car $10\\:m$ with the change in kinetic energy. Considering the work done first,\n",
    "\n",
    "\\begin{equation*}\n",
    "\\text{work} = -mg(y_2-y_1)\n",
    "\\end{equation*}\n",
    "\n",
    "where the negative sign is due to the fact that negative work is done as the force points in the opposite direction to the distance travelled. \n",
    "\n",
    "The change in kinetic energy from the point of entry to the top of the loop is,\n",
    "\n",
    "\\begin{equation*}\n",
    "U_{12} = \\frac{1}{2}m v_{\\text{top}} - \\frac{1}{2}mv_0\n",
    "\\end{equation*}\n",
    "\n",
    "Equating work with change in kinetic energy and solving for $v_0$,"
   ]
  },
  {
   "cell_type": "code",
   "execution_count": 12,
   "metadata": {},
   "outputs": [
    {
     "name": "stdout",
     "output_type": "stream",
     "text": [
      "3(b). The required entry velocity is 15.66 m/s\n"
     ]
    }
   ],
   "source": [
    "y1 = 0 #(m)\n",
    "y2 = 2*R #(m)\n",
    "v0 = math.sqrt(9.81*(y2-y1)*2+v**2)\n",
    "print('3(b). The required entry velocity is {one} m/s'.format(one=round(v0,2)))"
   ]
  },
  {
   "cell_type": "markdown",
   "metadata": {},
   "source": [
    "## Question 4"
   ]
  },
  {
   "cell_type": "markdown",
   "metadata": {},
   "source": [
    "Consider the steel collar capable of sliding along vertical shaft shown below. The spring attached to the collar has a spring stiffness $k=100N/m$ and the collar weighs $4\\:kg$. At position $1$ the spring is unstretched. \n",
    "\n",
    "- (a) If the collar is allowed to fall under its own weight from position 1, how far will it fall?\n",
    "\n",
    "- (b) Now imagine a new scenario; the collar against starts at position 1 but has an initial downward velocity of $v_0=1\\:m/s$. What is the maximum downward velocity the collar attains as it falls?"
   ]
  },
  {
   "cell_type": "markdown",
   "metadata": {},
   "source": [
    "![title](img/T2W8/img6.jpg)\n",
    "<center>Question 4.</center>"
   ]
  },
  {
   "cell_type": "markdown",
   "metadata": {},
   "source": [
    "**Solution 4**"
   ]
  },
  {
   "cell_type": "markdown",
   "metadata": {},
   "source": [
    "(a) We can start by considering the work done on the system. The only forces at play are  the self-weight of the collar and spring force. If we denote the distance travelled as $s$, the work done is,\n",
    "\n",
    "\\begin{equation*}\n",
    "\\text{work} = mg\\:s - \\frac{1}{2}ks^2\n",
    "\\end{equation*}\n",
    "\n",
    "The work done by the spring force is negative because the direction of the spring force is opposite to the direction of motion.\n",
    "\n",
    "Next we consider the change in kinetic energy between the initial position and the final position. Since the initial and final velocity are both zero, the change in kinetic energy is also zero. Therefore we have,\n",
    "\n",
    "\\begin{align*}\n",
    "mg\\:s- \\frac{1}{2}ks^2 &= 0\\\\\n",
    "s\\left(mg-\\frac{1}{2}ks\\right) &= 0\n",
    "\\end{align*}\n",
    "\n",
    "Since $s \\neq 0$,\n",
    "\n",
    "\\begin{equation*}\n",
    "mg-\\frac{1}{2}ks = 0\n",
    "\\end{equation*}\n",
    "\n",
    "Therefore solving for $s$,"
   ]
  },
  {
   "cell_type": "code",
   "execution_count": 13,
   "metadata": {},
   "outputs": [
    {
     "name": "stdout",
     "output_type": "stream",
     "text": [
      "4(a). The distance travelled is 0.785 m\n"
     ]
    }
   ],
   "source": [
    "m = 4 #(kg)\n",
    "k = 100 #(N/m)\n",
    "s = (2*m*9.81)/k #(m)\n",
    "print('4(a). The distance travelled is {one} m'.format(one=round(s,3)))"
   ]
  },
  {
   "cell_type": "markdown",
   "metadata": {},
   "source": [
    "<hr>"
   ]
  },
  {
   "cell_type": "markdown",
   "metadata": {},
   "source": [
    "**Aside**\n",
    "\n",
    "We can take an aside here to explore the spring behaviour before moving on; we saw in the notes this week that the potential energy in a spring is,\n",
    "\n",
    "\\begin{equation*}\n",
    "V = \\frac{1}{2}ks^2\n",
    "\\end{equation*}\n",
    "\n",
    "And in the example above we stated that the work done in extending a spring was,\n",
    "\n",
    "\\begin{equation*}\n",
    "W_{\\text{spring}} = -\\frac{1}{2}ks^2\n",
    "\\end{equation*}\n",
    "\n",
    "We can derive this expression for work done by considering the force-displacement graph for a linear spring."
   ]
  },
  {
   "cell_type": "markdown",
   "metadata": {},
   "source": [
    "![title](img/T2W8/img7.jpg)\n",
    "<center>Force-displacement graph for a linear spring.</center>"
   ]
  },
  {
   "cell_type": "markdown",
   "metadata": {},
   "source": [
    "We know that the work done can be obtained from the area beneath the force-displacement graph. So in the case of a spring that extends from position $S_1$ to position $S_2$ as shown in the graph above, the work done is equal to the shaded area,\n",
    "\n",
    "\\begin{equation*}\n",
    "W_{\\text{spring}} = - \\left[kS_1(S_2-S_1) + \\frac{1}{2}(kS_2-kS_1)(S_2-S_1)\\right]\n",
    "\\end{equation*}"
   ]
  },
  {
   "cell_type": "markdown",
   "metadata": {},
   "source": [
    "Where the negative indicates that the force in the spring acts to oppose the extension (or compression) of the spring. After simplifying, this yields\n",
    "\n",
    "\\begin{equation*}\n",
    "W_{\\text{spring}} - \\frac{1}{2}k\\left(S_2^2 - S_1^2\\right) = -\\frac{1}{2}ks^2\n",
    "\\end{equation*}"
   ]
  },
  {
   "cell_type": "markdown",
   "metadata": {},
   "source": [
    "<hr>"
   ]
  },
  {
   "cell_type": "markdown",
   "metadata": {},
   "source": [
    "(b) We can start by equating the work done to the change in kinetic energy between positions $1$ and $2$,\n",
    "\n",
    "\\begin{equation*}\n",
    "\\frac{1}{2}mv_2^2 - \\frac{1}{2}mv_1^2 = -\\frac{ks^2}{2} + mgs\n",
    "\\end{equation*}\n",
    "\n",
    "The maximum velocity is achieved when the slope of the velocity versus displacement graph is zero. "
   ]
  },
  {
   "cell_type": "markdown",
   "metadata": {},
   "source": [
    "![title](img/T2W8/img8.jpg)\n",
    "<center>Sketch of velocity-displacement graph.</center>"
   ]
  },
  {
   "cell_type": "markdown",
   "metadata": {},
   "source": [
    "Therefore, we need to determine $\\mathrm{d}v_2/\\mathrm{d}s$, let it equal to zero and solve for $s$, the position at which maximum velocity is reached. We can then substitute this back into the equation above to determine the corresponding velocity. We have used this approach to finding local maxima many time during this module. "
   ]
  },
  {
   "cell_type": "markdown",
   "metadata": {},
   "source": [
    "Rearranging our equation for $v_2^2$,\n",
    "\n",
    "\\begin{equation*}\n",
    "v_2^2 = -\\frac{k}{m}s^2 + 2gs + v_1^2\n",
    "\\end{equation*}\n",
    "\n",
    "Differentiating both sides with respect to $s$,\n",
    "\n",
    "\\begin{equation*}\n",
    "\\frac{\\mathrm{d}}{\\mathrm{d}s}(v_2 . v_2) = \\frac{\\mathrm{d}}{\\mathrm{d}s}(-\\frac{k}{m}s^2 + 2gs + v_1^2)\n",
    "\\end{equation*}\n",
    "\n",
    "\\begin{equation*}\n",
    "v_2\\frac{\\mathrm{d}v_2}{\\mathrm{d}s} = -\\frac{2k}{m}s + 2g\n",
    "\\end{equation*}\n",
    "\n",
    "Setting $\\mathrm{d}v_2/\\mathrm{d}s = 0$,\n",
    "\n",
    "\\begin{equation*}\n",
    "-\\frac{2k}{m}s + 2g = 0\n",
    "\\end{equation*}\n",
    "\n",
    "and solving for $s$,\n",
    "\n",
    "\\begin{equation*}\n",
    "s = \\frac{g\\:m}{k}\n",
    "\\end{equation*}"
   ]
  },
  {
   "cell_type": "code",
   "execution_count": 14,
   "metadata": {},
   "outputs": [
    {
     "name": "stdout",
     "output_type": "stream",
     "text": [
      "The spring position when it reaches maximum velocity is 0.392 m\n"
     ]
    }
   ],
   "source": [
    "s = 9.81*m/k #(m)\n",
    "print('The spring position when it reaches maximum velocity is {one} m'.format(one=round(s,3)))"
   ]
  },
  {
   "cell_type": "markdown",
   "metadata": {},
   "source": [
    "We can now substitute this value back into our original equation relating work to change in kinetic energy and solve for $v_2$ when $s=0.392$,"
   ]
  },
  {
   "cell_type": "code",
   "execution_count": 15,
   "metadata": {},
   "outputs": [
    {
     "name": "stdout",
     "output_type": "stream",
     "text": [
      "4(b). The maximum velocity achieved is 2.2 m/s\n"
     ]
    }
   ],
   "source": [
    "v_1 = 1 #(m/s)\n",
    "v_2 = math.sqrt(-(k/m)*(s**2) + 2*9.81*s + v_1**2)\n",
    "print('4(b). The maximum velocity achieved is {one} m/s'.format(one=round(v_2,2)))"
   ]
  },
  {
   "cell_type": "markdown",
   "metadata": {},
   "source": [
    "## Answers"
   ]
  },
  {
   "cell_type": "markdown",
   "metadata": {},
   "source": [
    "1. $834734\\:Nm$, $3339\\:N$, $302146\\:Nm/s$, $184512\\:Nm/s$\n",
    "2. $111.9 m$, $1250000\\:Nm/s$, $157\\:m/s$\n",
    "3. $7.0\\:m/s$, $15.66 m/s$\n",
    "4. $0.785 m$, $2.2 m/s$"
   ]
  }
 ],
 "metadata": {
  "hide_input": false,
  "kernelspec": {
   "display_name": "Python 3",
   "language": "python",
   "name": "python3"
  },
  "language_info": {
   "codemirror_mode": {
    "name": "ipython",
    "version": 3
   },
   "file_extension": ".py",
   "mimetype": "text/x-python",
   "name": "python",
   "nbconvert_exporter": "python",
   "pygments_lexer": "ipython3",
   "version": "3.6.4"
  }
 },
 "nbformat": 4,
 "nbformat_minor": 2
}
