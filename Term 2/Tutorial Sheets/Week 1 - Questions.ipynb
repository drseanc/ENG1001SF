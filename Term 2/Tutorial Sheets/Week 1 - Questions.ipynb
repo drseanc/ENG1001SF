{
 "cells": [
  {
   "cell_type": "code",
   "execution_count": 1,
   "metadata": {
    "hide_input": true
   },
   "outputs": [
    {
     "name": "stdout",
     "output_type": "stream",
     "text": [
      "- Dependencies imported 👍\n",
      "- Remember to select 'Kernel-> Restart & Run All' on first load to show embedded Youtube videos 🎬\n",
      "- Author: Dr SPCarroll, Sept 2020, Rev 0\n"
     ]
    }
   ],
   "source": [
    "#DEPENDENCIES & INITIALISATIONS\n",
    "from IPython.display import HTML #For embedding videos\n",
    "import math #Basic math functionality\n",
    "import numpy as np #Numpy for working with arrays\n",
    "import matplotlib.pyplot as plt #Plotting functionality \n",
    "#HTML('<center><iframe width=\"560\" height=\"315\" src=\"#\" frameborder=\"0\" allowfullscreen></iframe></center>')\n",
    "print(\"- Dependencies imported 👍\")\n",
    "print(\"- Remember to select 'Kernel-> Restart & Run All' on first load to show embedded Youtube videos 🎬\")\n",
    "print(\"- Author: Dr SPCarroll, Sept 2020, Rev 0\")"
   ]
  },
  {
   "cell_type": "markdown",
   "metadata": {},
   "source": [
    "# Week 1: Pressure Vessels\n",
    "Reference: Chapter 8 of *Mechanics of Materials*, Gere"
   ]
  },
  {
   "cell_type": "markdown",
   "metadata": {},
   "source": [
    "## Question 1"
   ]
  },
  {
   "cell_type": "markdown",
   "metadata": {},
   "source": [
    "A large spherical tank has a diameter of $20\\:m$ and is constructed with steel that has a yield stress of $550\\:MPa$. The tank contains gas at a pressure of $3.5 \\:MPa$. If a factor of safety of $3.2$ is required against failure due to yielding of the steel, determine the minimum wall thickness to the nearest $6\\:mm$."
   ]
  },
  {
   "cell_type": "markdown",
   "metadata": {},
   "source": [
    "## Question 2"
   ]
  },
  {
   "cell_type": "markdown",
   "metadata": {},
   "source": [
    "A hemispherical window in the wall of a decompression chamber is subjected to an internal air pressure inside the chamber of $600\\:kPa$. The rim around the base of the hemispherical window is attached to the chamber wall with 18 bolts. Find the tension force in each bolt and the tensile stress in the viewport glass if the radius is $400\\:mm$ and it has a thickness of $25\\:mm$."
   ]
  },
  {
   "cell_type": "markdown",
   "metadata": {},
   "source": [
    "## Question 3"
   ]
  },
  {
   "cell_type": "markdown",
   "metadata": {},
   "source": [
    "A tall standpipe (vertical pipe open to the atmosphere at the top) has a diameter of $2\\:m$ and a wall thickness of $5\\:mm$. \n",
    "- What height of water will produce a hoop stress of $32\\:MPa$ in the wall at the base of the standpipe?\n",
    "- What is the axial stress in the wall of the standpipe due to water pressure?"
   ]
  },
  {
   "cell_type": "markdown",
   "metadata": {},
   "source": [
    "## Question 4"
   ]
  },
  {
   "cell_type": "markdown",
   "metadata": {},
   "source": [
    "A vertical standpipe has a diameter of $3.8\\:m$ and walls $150\\:mm$ thick. \n",
    "- what height of water in the standpipe will generate a hoop stress of $900\\:kPa$ in the base of the pipe?\n",
    "\n",
    "Now consider a horizontal pipe connecting into the vertical standpipe at its base. The horizontal pipe has a diameter of $0.6\\:m$ and a wall thickness of $25\\:mm$.\n",
    "- If the hoop stress in the vertical standpipe is $900 \\:kPa$, what is the hoop stress in the adjoining horizontal pipe?"
   ]
  },
  {
   "cell_type": "markdown",
   "metadata": {},
   "source": [
    "## Question 5"
   ]
  },
  {
   "cell_type": "markdown",
   "metadata": {},
   "source": [
    "A hollow pressurised sphere has a radius of $150\\:mm$ and a wall thickness of $13\\:mm$ and is lowered into a freshwater lake. Before it is submerged the air inside the sphere has a gauge pressure of $140\\:kPa$. At what depth will the walls of the sphere experience a compression stress of $700\\:kPa$?"
   ]
  },
  {
   "cell_type": "markdown",
   "metadata": {},
   "source": [
    "## Question 6"
   ]
  },
  {
   "cell_type": "markdown",
   "metadata": {},
   "source": [
    "An large inflatable tent-like structure has the shape of a half-circular cylinder with radius $12\\:m$ and is closed at both ends. A longitudinal seam runs along the length of the 'ridge' of the structure. If the seam tears open when it is subjected to a tensile load of $100 N/mm$ of seam, what is the factor of safety against tearing when the internal pressure is $3.5\\: kPa$?"
   ]
  },
  {
   "cell_type": "markdown",
   "metadata": {},
   "source": [
    "## Question 7"
   ]
  },
  {
   "cell_type": "markdown",
   "metadata": {},
   "source": [
    "A strain gauge is installed in the longitudinal direction on the surface of an aluminum beverage can. The radius to thickness ratio of the can is $200$. When the can is opened, the strain changes by $\\epsilon_x = 170\\times 10^{-6}$. What was the internal pressure $p$ in the can before it was opened? \n",
    "\n",
    "In this question you will need to make use of Hooke's law for biaxial stress. You are already familiar with Hooke's law for uniaxial stress,\n",
    "\\begin{equation}\n",
    "\\epsilon = \\frac{1}{E}\\sigma\n",
    "\\end{equation}\n",
    "\n",
    "where $E$ is Young's Modulus. You are also familiar with Poisson's ratio, $\\nu$. Hooke's law for the case of biaxial stress is simply expanded to,\n",
    "\n",
    "\\begin{equation}\n",
    "\\epsilon_x = \\frac{1}{E}(\\sigma_x-\\nu\\sigma_y)\n",
    "\\end{equation}\n",
    "\n",
    "For this question assume $E = 70\\:Gpa$ and $\\nu=0.33$."
   ]
  },
  {
   "cell_type": "markdown",
   "metadata": {},
   "source": [
    "## Answers"
   ]
  },
  {
   "cell_type": "markdown",
   "metadata": {},
   "source": [
    "1. $102\\:mm$\n",
    "2. (a) $16.8 \\:kN$, (b) $4.8\\:N/mm^2$\n",
    "3. (a) $16.1\\:m$, (b) $0$\n",
    "4. (a) $7.24\\:m$, (b) $0.817\\:N/mm^2$\n",
    "5. $26.6\\:m$\n",
    "6. $2.38$\n",
    "7. $0.35\\:N/mm^2$"
   ]
  }
 ],
 "metadata": {
  "hide_input": false,
  "kernelspec": {
   "display_name": "Python 3",
   "language": "python",
   "name": "python3"
  },
  "language_info": {
   "codemirror_mode": {
    "name": "ipython",
    "version": 3
   },
   "file_extension": ".py",
   "mimetype": "text/x-python",
   "name": "python",
   "nbconvert_exporter": "python",
   "pygments_lexer": "ipython3",
   "version": "3.6.4"
  }
 },
 "nbformat": 4,
 "nbformat_minor": 2
}
