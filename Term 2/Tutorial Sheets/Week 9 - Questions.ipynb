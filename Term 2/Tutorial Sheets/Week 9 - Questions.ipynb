{
 "cells": [
  {
   "cell_type": "code",
   "execution_count": 1,
   "metadata": {
    "deletable": false,
    "editable": false,
    "hide_input": true
   },
   "outputs": [
    {
     "name": "stdout",
     "output_type": "stream",
     "text": [
      "- Dependencies imported 👍\n",
      "- Remember to select 'Kernel-> Restart & Run All' on first load to show embedded Youtube videos 🎬\n",
      "- Author: Dr SPCarroll, Sept 2020, Rev 0\n"
     ]
    }
   ],
   "source": [
    "#DEPENDENCIES & INITIALISATIONS\n",
    "from IPython.display import HTML #For embedding videos\n",
    "import math #Basic math functionality\n",
    "import numpy as np #Numpy for working with arrays\n",
    "import matplotlib.pyplot as plt #Plotting functionality \n",
    "#HTML('<center><iframe width=\"560\" height=\"315\" src=\"#\" frameborder=\"0\" allowfullscreen></iframe></center>')\n",
    "print(\"- Dependencies imported 👍\")\n",
    "print(\"- Remember to select 'Kernel-> Restart & Run All' on first load to show embedded Youtube videos 🎬\")\n",
    "print(\"- Author: Dr SPCarroll, Sept 2020, Rev 0\")"
   ]
  },
  {
   "cell_type": "markdown",
   "metadata": {},
   "source": [
    "# Week 9: Momentum-based Analysis Methods\n",
    "Reference: Chapter 16 of Engineering Mechanics - Statics and Dynamics Principles, Bedford A. & Fowler, W., 2003"
   ]
  },
  {
   "cell_type": "markdown",
   "metadata": {},
   "source": [
    "## Question 1"
   ]
  },
  {
   "cell_type": "markdown",
   "metadata": {},
   "source": [
    "Consider a motorcycle starting from rest at $t=0$ seconds and travelling on a circular track with radius $R=400\\:m$. The combined weight of the bike and rider is $150\\:kg$ The tangential component of the total force on the motorcycle between $0\\leq t \\leq 30$ is,\n",
    "\n",
    "\\begin{equation*}\n",
    "\\sum F_t = 200-6t\\:N\n",
    "\\end{equation*}\n",
    "\n",
    "- (a) What is the magnitude of the velocity at $t=30$ seconds\n",
    "- (b) What is the average of the tangential component of the total force from $t=0$ to $t=30$ seconds.\n",
    "- (c) What is the average of the normal component of the total force from $t=0$ to $t=30$ seconds."
   ]
  },
  {
   "cell_type": "markdown",
   "metadata": {},
   "source": [
    "## Question 2"
   ]
  },
  {
   "cell_type": "markdown",
   "metadata": {},
   "source": [
    "A golfer striking golf balls in the lab is recorded by a high-speed camera that records an image every $0.001$ seconds. The golf balls have a diameter of $43\\:mm$ and weight $50\\:g$ (grammes). The club is in contact with the ball for $0.0006$ seconds. If the ball travels $49\\:mm$ between images on a linear trajectory orientated at $21^\\circ$ counterclockwise to the positive x-axis, determine the average value of the impulse force exerted on the ball during contact with the club, $\\sum \\mathbf{F}_{avg}$."
   ]
  },
  {
   "cell_type": "markdown",
   "metadata": {},
   "source": [
    "![title](img/T2W9/img2.jpg)\n",
    "<center>Question 2.</center>"
   ]
  },
  {
   "cell_type": "markdown",
   "metadata": {},
   "source": [
    "## Question 3"
   ]
  },
  {
   "cell_type": "markdown",
   "metadata": {},
   "source": [
    "The Apollo command service module (CSM) attempts to dock with the Soyuz capsule in July 15, 1975. Their masses are $m_A = 18000 \\:kg$ (CSM) and $m_B = 6600 \\:kg$ (Soyuz). The Soyuz can be considered stationary in this analysis. The CSM approaches with velocity\n",
    "\n",
    "\\begin{equation*}\n",
    "v_A = 0.2\\mathbf{i} + 0.03\\mathbf{j} - 0.02\\mathbf{k}\\:m/s\n",
    "\\end{equation*}\n",
    "\n",
    "- (a) If the first attempt at docking is successful, what is the velocity of the center of mass of the combined vehicles afterward?\n",
    "\n",
    "- (b) If the first attempt is unsuccessful and the coefficient of restitution of the resulting impact is $e = 0.95$, what are the velocities of the two spacecraft after the impact? Assume that a direct central impact occurs along the x-direction."
   ]
  },
  {
   "cell_type": "markdown",
   "metadata": {},
   "source": [
    "![title](img/T2W9/img1.jpg)\n",
    "<center>Question 3.</center>"
   ]
  },
  {
   "cell_type": "markdown",
   "metadata": {},
   "source": [
    "## Question 4"
   ]
  },
  {
   "cell_type": "markdown",
   "metadata": {},
   "source": [
    "Suppose that you investigate an accident in which a $1300\\:kg$ car $A$ struck a parked $1200 \\:kg$ car $B$. All four of car $B$'s wheels were locked and skid marks indicate that it slid $8\\:m$ after the impact. If you estimate the coefficient of kinetic friction between $B$'s tires and the road to be $\\mu_k = 0.8$ and the coefficient of restitution of the impact to be $e = 0.4$, what was $A$'s velocity $v_A$ just before the impact?\n",
    "\n",
    "**Hint:** Start by finding the velocity of car B immediately after the impact.\n"
   ]
  },
  {
   "cell_type": "markdown",
   "metadata": {},
   "source": [
    "![title](img/T2W9/img3.jpg)\n",
    "<center>Question 4.</center>"
   ]
  },
  {
   "cell_type": "markdown",
   "metadata": {},
   "source": [
    "## Question 5"
   ]
  },
  {
   "cell_type": "markdown",
   "metadata": {},
   "source": [
    "A ball bouncing on the ground achieves two successive bounce heights of $h_1=5.1\\:cm$ and $h_2 = 3.1\\:m$. Estimate the coefficient of restitution."
   ]
  },
  {
   "cell_type": "markdown",
   "metadata": {},
   "source": [
    "![title](img/T2W9/img4.jpg)\n",
    "<center>Question 5.</center>"
   ]
  },
  {
   "cell_type": "markdown",
   "metadata": {},
   "source": [
    "## Answers"
   ]
  },
  {
   "cell_type": "markdown",
   "metadata": {},
   "source": [
    "1. $22\\:m/s$, $110\\:N$, $89.3 \\:N$\n",
    "2. $\\sum \\mathbf{F}_{avg} = (3812\\:\\mathbf{i} + 1463\\:\\mathbf{j})\\:N$\n",
    "3.  - $\\mathbf{v} = (0.146\\:\\mathbf{i} + 0.022\\:\\mathbf{j}-0.015\\:\\mathbf{k})\\:m/s$, \n",
    "    - $\\mathbf{v}'_{A} = (0.095\\mathbf{i} + 0.03\\mathbf{j}-0.02\\mathbf{k})\\:m/s$\n",
    "    - $\\mathbf{v}'_{B} = 0.285\\mathbf{i}\\:m/s$\n",
    "4. $15.4\\:m/s$\n",
    "5. $0.78$"
   ]
  }
 ],
 "metadata": {
  "hide_input": false,
  "kernelspec": {
   "display_name": "Python 3",
   "language": "python",
   "name": "python3"
  },
  "language_info": {
   "codemirror_mode": {
    "name": "ipython",
    "version": 3
   },
   "file_extension": ".py",
   "mimetype": "text/x-python",
   "name": "python",
   "nbconvert_exporter": "python",
   "pygments_lexer": "ipython3",
   "version": "3.6.4"
  }
 },
 "nbformat": 4,
 "nbformat_minor": 2
}
