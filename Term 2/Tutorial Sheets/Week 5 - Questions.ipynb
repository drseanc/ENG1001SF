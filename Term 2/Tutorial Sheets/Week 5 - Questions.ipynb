{
 "cells": [
  {
   "cell_type": "code",
   "execution_count": 1,
   "metadata": {
    "deletable": false,
    "editable": false,
    "hide_input": true
   },
   "outputs": [
    {
     "name": "stdout",
     "output_type": "stream",
     "text": [
      "- Dependencies imported 👍\n",
      "- Remember to select 'Kernel-> Restart & Run All' on first load to show embedded Youtube videos 🎬\n",
      "- Author: Dr H Alwi & Dr SPCarroll, Sept 2020, Rev 0\n"
     ]
    }
   ],
   "source": [
    "#DEPENDENCIES & INITIALISATIONS\n",
    "from IPython.display import HTML #For embedding videos\n",
    "import math #Basic math functionality\n",
    "import numpy as np #Numpy for working with arrays\n",
    "import matplotlib.pyplot as plt #Plotting functionality \n",
    "#HTML('<center><iframe width=\"560\" height=\"315\" src=\"#\" frameborder=\"0\" allowfullscreen></iframe></center>')\n",
    "print(\"- Dependencies imported 👍\")\n",
    "print(\"- Remember to select 'Kernel-> Restart & Run All' on first load to show embedded Youtube videos 🎬\")\n",
    "print(\"- Author: Dr H Alwi & Dr SPCarroll, Sept 2020, Rev 0\")"
   ]
  },
  {
   "cell_type": "markdown",
   "metadata": {},
   "source": [
    "# Week 5: Curvilinear and Angular Motion\n",
    "Reference: Chapter 13 of Engineering Mechanics - Statics and Dynamics Principles, Bedford A. & Fowler, W., 2003"
   ]
  },
  {
   "cell_type": "markdown",
   "metadata": {},
   "source": [
    "## Question 1"
   ]
  },
  {
   "cell_type": "markdown",
   "metadata": {},
   "source": [
    "The skier in the image below leaves the $20^{\\circ}$ surface at $10\\:m/s$. Determine the distance $d$ to the point where he lands. This is a tricky question - stick with it!\n",
    "\n",
    "**Hints:**\n",
    "\n",
    "- Establish an origin point at the skiers' location just before he departs the ramp.\n",
    "- Determine expressions for his $x$ and $y$ velocity components and integrate these to get $x$ and $y$ position as a function of time. \n",
    "- Then think about how you can use these expressions, combined with the geometry of the slope (given for a reason) to determine the time the skier lands. \n",
    "- Once you know **when** he lands it's easy to work out his position at this time.\n",
    "- Remember we're treating the skier as a projectile, so horizontal acceleration is zero and vertical acceleration is due to gravity."
   ]
  },
  {
   "cell_type": "markdown",
   "metadata": {},
   "source": [
    "![title](img/T2W5/img1.jpg)"
   ]
  },
  {
   "cell_type": "markdown",
   "metadata": {},
   "source": [
    "## Question 2"
   ]
  },
  {
   "cell_type": "markdown",
   "metadata": {},
   "source": [
    "The rotor of a jet engine is rotating at $10000\\:rpm$ (revolutions per minute) when the fuel is cut off. The ensuing angular acceleration is $\\alpha=-0.02\\omega$, where $\\omega$ is the angular velocity in $rad/s$. \n",
    "\n",
    "- (a) How long does it take the rotor to slowdown to $1000\\:rpm$?\n",
    "- (b) How many revolutions does the rotor turn while decelerating to $1000\\:rpm?$\n",
    "\n",
    "**Hint:** Remember to employ the same solution strategies you would in the case of linear motion. "
   ]
  },
  {
   "cell_type": "markdown",
   "metadata": {},
   "source": [
    "![title](img/T2W5/img6.jpg)"
   ]
  },
  {
   "cell_type": "markdown",
   "metadata": {},
   "source": [
    "## Question 3"
   ]
  },
  {
   "cell_type": "markdown",
   "metadata": {},
   "source": [
    "A satellite is in a circular orbit of radius $R$ around the earth. Determine an expression for the velocity of the satellite. Note that the magnitude of the acceleration due to gravity at a distance $R$ from the centre of the earth is,\n",
    "\n",
    "\\begin{equation*}\n",
    "g\\frac{R_E^2}{R^2}\n",
    "\\end{equation*}\n",
    "\n",
    "where $R_E$ is the radius of the earth."
   ]
  },
  {
   "cell_type": "markdown",
   "metadata": {},
   "source": [
    "![title](img/T2W5/img2.jpg)"
   ]
  },
  {
   "cell_type": "markdown",
   "metadata": {},
   "source": [
    "## Question 4"
   ]
  },
  {
   "cell_type": "markdown",
   "metadata": {},
   "source": [
    "A centrifuge used to subject engineering components to high acceleration has a radius of $8 \\:m$. It starts from rest at $t = 0$ seconds and during its two-minute acceleration phase it is programmed so that its angular acceleration $\\alpha$ is given as a function of time in seconds,\n",
    "\n",
    "\\begin{equation*}\n",
    "\\alpha = 0.192 - 0.0016t\\:rad/s\n",
    "\\end{equation*}\n",
    "\n",
    "At $t = 120$ seconds, what is the magnitude of the acceleration a component is subjected to (positioned on the end of the $8m$ long centrifuge arm)?"
   ]
  },
  {
   "cell_type": "markdown",
   "metadata": {},
   "source": [
    "![title](img/T2W5/img3.jpg)"
   ]
  },
  {
   "cell_type": "markdown",
   "metadata": {},
   "source": [
    "## Answers"
   ]
  },
  {
   "cell_type": "markdown",
   "metadata": {},
   "source": [
    "1. $21.24 \\:m$\n",
    "2. $115.1\\:s$, $7500$\n",
    "3. $v = \\sqrt{\\frac{gR_E^2}{R}}$\n",
    "4. $1061.68 \\:m/s^2$"
   ]
  }
 ],
 "metadata": {
  "hide_input": false,
  "kernelspec": {
   "display_name": "Python 3",
   "language": "python",
   "name": "python3"
  },
  "language_info": {
   "codemirror_mode": {
    "name": "ipython",
    "version": 3
   },
   "file_extension": ".py",
   "mimetype": "text/x-python",
   "name": "python",
   "nbconvert_exporter": "python",
   "pygments_lexer": "ipython3",
   "version": "3.6.4"
  }
 },
 "nbformat": 4,
 "nbformat_minor": 2
}
