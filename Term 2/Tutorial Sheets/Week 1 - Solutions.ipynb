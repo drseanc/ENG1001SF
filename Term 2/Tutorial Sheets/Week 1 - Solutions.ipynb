{
 "cells": [
  {
   "cell_type": "code",
   "execution_count": 1,
   "metadata": {
    "hide_input": true
   },
   "outputs": [
    {
     "name": "stdout",
     "output_type": "stream",
     "text": [
      "- Dependencies imported 👍\n",
      "- Remember to select 'Kernel-> Restart & Run All' on first load to show embedded Youtube videos 🎬\n",
      "- Author: Dr SPCarroll, Sept 2020, Rev 0\n"
     ]
    }
   ],
   "source": [
    "#DEPENDENCIES & INITIALISATIONS\n",
    "from IPython.display import HTML #For embedding videos\n",
    "import math #Basic math functionality\n",
    "import numpy as np #Numpy for working with arrays\n",
    "import matplotlib.pyplot as plt #Plotting functionality \n",
    "#HTML('<center><iframe width=\"560\" height=\"315\" src=\"#\" frameborder=\"0\" allowfullscreen></iframe></center>')\n",
    "print(\"- Dependencies imported 👍\")\n",
    "print(\"- Remember to select 'Kernel-> Restart & Run All' on first load to show embedded Youtube videos 🎬\")\n",
    "print(\"- Author: Dr SPCarroll, Sept 2020, Rev 0\")"
   ]
  },
  {
   "cell_type": "markdown",
   "metadata": {},
   "source": [
    "# Week 1: Pressure Vessels\n",
    "Reference: Chapter 8 of *Mechanics of Materials*, Gere"
   ]
  },
  {
   "cell_type": "markdown",
   "metadata": {},
   "source": [
    "## Question 1"
   ]
  },
  {
   "cell_type": "markdown",
   "metadata": {},
   "source": [
    "A large spherical tank has a diameter of $20\\:m$ and is constructed with steel that has a yield stress of $550\\:MPa$. The tank contains gas at a pressure of $3.5 \\:MPa$. If a factor of safety of $3.2$ is required against failure due to yielding of the steel, determine the minimum wall thickness to the nearest $6\\:mm$."
   ]
  },
  {
   "cell_type": "markdown",
   "metadata": {},
   "source": [
    "**Solution 1**"
   ]
  },
  {
   "cell_type": "code",
   "execution_count": 6,
   "metadata": {},
   "outputs": [
    {
     "name": "stdout",
     "output_type": "stream",
     "text": [
      "1. The minimum wall thickness is 102.0 mm\n"
     ]
    }
   ],
   "source": [
    "p = 3.5 #(N/mm^2) Internal pressure\n",
    "r = 10000 #(mm) Radius\n",
    "sig_yield = 550 #(N/mm^2) Yield stress\n",
    "FoS = 3.2 # Required factor of safety\n",
    "sig_allow = sig_yield/FoS #(N/mm^2) Allowable stress\n",
    "t = (p*r)/(2*sig_allow) #(mm) Wall thickness\n",
    "\n",
    "print('1. The minimum wall thickness is {one} mm'.format(one=np.round(t)))"
   ]
  },
  {
   "cell_type": "markdown",
   "metadata": {},
   "source": [
    "## Question 2"
   ]
  },
  {
   "cell_type": "markdown",
   "metadata": {},
   "source": [
    "A hemispherical window in the wall of a decompression chamber is subjected to an internal air pressure inside the chamber of $600\\:kPa$. The rim around the base of the hemispherical window is attached to the chamber wall with 18 bolts. Find the tension force in each bolt and the tensile stress in the viewport glass if the radius is $400\\:mm$ and it has a thickness of $25\\:mm$."
   ]
  },
  {
   "cell_type": "markdown",
   "metadata": {},
   "source": [
    "**Solution 2**"
   ]
  },
  {
   "cell_type": "code",
   "execution_count": 10,
   "metadata": {},
   "outputs": [
    {
     "name": "stdout",
     "output_type": "stream",
     "text": [
      "2a. The tension force in each bolt is 16755.0 N\n",
      "2b. The tensile stress in the glass is 4.8 N/mm^2\n"
     ]
    }
   ],
   "source": [
    "#(a) The force in a bolt\n",
    "p = 0.6 #(N/mm^2) Internal pressure\n",
    "r = 400 #(mm) Radius\n",
    "A = math.pi*r**2 #(mm^2) Window area projected onto a vertical plane\n",
    "F = p*A #(N) Force applied to window due to pressure\n",
    "n = 18 # Number of bolts holding window in place\n",
    "F_bolt = F/n\n",
    "print('2a. The tension force in each bolt is {one} N'.format(one=np.round(F_bolt)))\n",
    "\n",
    "#(b) The tensile stress in the glass\n",
    "t = 25 #(mm) Thickness of window\n",
    "sig = (p*r)/(2*t)\n",
    "\n",
    "print('2b. The tensile stress in the glass is {one} N/mm^2'.format(one=np.round(sig,1)))\n"
   ]
  },
  {
   "cell_type": "markdown",
   "metadata": {},
   "source": [
    "## Question 3"
   ]
  },
  {
   "cell_type": "markdown",
   "metadata": {},
   "source": [
    "A tall standpipe (vertical pipe open to the atmosphere at the top) has a diameter of $2\\:m$ and a wall thickness of $5\\:mm$. \n",
    "- What height of water will produce a hoop stress of $32\\:MPa$ in the wall at the base of the standpipe?\n",
    "- What is the axial stress in the wall of the standpipe due to water pressure?"
   ]
  },
  {
   "cell_type": "markdown",
   "metadata": {},
   "source": [
    "**Solution 3**"
   ]
  },
  {
   "cell_type": "code",
   "execution_count": 21,
   "metadata": {},
   "outputs": [
    {
     "name": "stdout",
     "output_type": "stream",
     "text": [
      "3a. The height of water is 16.31 m\n",
      "3b. The axial stress in the pipe is zero because it is open to the atmoshphere at the top.\n"
     ]
    }
   ],
   "source": [
    "#(a) Height of water\n",
    "rho = 1000 #(kg/m^3) Density of water in pipe\n",
    "g = 9.81 #(m/s^2) Acceleration due to gravity\n",
    "r = 1000 #(mm) Diameter of standpipe\n",
    "t = 5 #(mm) Wall thickness\n",
    "sig_hoop = 32 #(N/mm^2) Hoop stress in the wall\n",
    "p = (sig_hoop*t)/r #(N/mm^2) Internal pressure required to generate this hoop stress\n",
    "h=(p*10**6)/(rho*g)\n",
    "\n",
    "print('3a. The height of water is {one} m'.format(one=np.round(h,2)))\n",
    "print('3b. The axial stress in the pipe is zero because it is open to the atmoshphere at the top.')\n"
   ]
  },
  {
   "cell_type": "markdown",
   "metadata": {},
   "source": [
    "## Question 4"
   ]
  },
  {
   "cell_type": "markdown",
   "metadata": {},
   "source": [
    "A vertical standpipe has a diameter of $3.8\\:m$ and walls $150\\:mm$ thick. \n",
    "- what height of water in the standpipe will generate a hoop stress of $900\\:kPa$ in the base of the pipe?\n",
    "\n",
    "Now consider a horizontal pipe connecting into the vertical standpipe at its base. The horizontal pipe has a diameter of $0.6\\:m$ and a wall thickness of $25\\:mm$.\n",
    "- If the hoop stress in the vertical standpipe is $900 \\:kPa$, what is the hoop stress in the adjoining horizontal pipe?"
   ]
  },
  {
   "cell_type": "markdown",
   "metadata": {},
   "source": [
    "**Solution 4**"
   ]
  },
  {
   "cell_type": "code",
   "execution_count": 25,
   "metadata": {},
   "outputs": [
    {
     "name": "stdout",
     "output_type": "stream",
     "text": [
      "4a. The height of water is 7.24 m\n",
      "4b. The hoop stress in the connecting pipe is 0.817 N/mm^2\n"
     ]
    }
   ],
   "source": [
    "#4a. Height of water in standpipe\n",
    "r = 1900 #(mm) Radius\n",
    "t = 150 #(mm) Wall thickness\n",
    "sig_hoop = 0.9 #(N/mm^2) Hoop stress\n",
    "p = (sig_hoop*t)/r #(N/mm^2) Internal pressure required to generate this hoop stress\n",
    "h=(p*10**6)/(rho*g)\n",
    "\n",
    "print('4a. The height of water is {one} m'.format(one=np.round(h,2)))\n",
    "\n",
    "#4a. Hoop stress in connecting pipe\n",
    "depth = h-0.3 #(m) Depth to the centre of the 0.6m diameter pipe that connects in at the base\n",
    "p1 = rho*g*depth #(N/m^2) The pressure at the centre of the 0.6m diameter pipe\n",
    "r1 = 300 #(mm) Radius of 0.6m diameter pipe connecting in\n",
    "t1 = 25 #(mm) Thickness of 0.6m diameter pipe connecting in\n",
    "sig_hoop_1 = (p1*10**-6)*r1/t1\n",
    "\n",
    "print('4b. The hoop stress in the connecting pipe is {one} N/mm^2'.format(one=np.round(sig_hoop_1,3)))\n"
   ]
  },
  {
   "cell_type": "markdown",
   "metadata": {},
   "source": [
    "## Question 5"
   ]
  },
  {
   "cell_type": "markdown",
   "metadata": {},
   "source": [
    "A hollow pressurised sphere has a radius of $150\\:mm$ and a wall thickness of $13\\:mm$ and is lowered into a freshwater lake. Before it is submerged the air inside the sphere has a gauge pressure of $140\\:kPa$. At what depth will the walls of the sphere experience a compression stress of $700\\:kPa$?"
   ]
  },
  {
   "cell_type": "markdown",
   "metadata": {},
   "source": [
    "**Solution 5**"
   ]
  },
  {
   "cell_type": "code",
   "execution_count": 33,
   "metadata": {},
   "outputs": [
    {
     "name": "stdout",
     "output_type": "stream",
     "text": [
      "5. The depth required to generate 700 kPa compression in the wall is 26.6 m\n"
     ]
    }
   ],
   "source": [
    "r = 150 #(mm) Radius\n",
    "t = 13 #(mm) Wall thickness\n",
    "p = 0.14 #(N/mm^2) Internal pressure at the surface\n",
    "sig = p*r/(2*t) #(N/mm^2) Tensile stress in the wall when at surface\n",
    "delta_sig = sig+0.7 #(N/mm^2) The total stress that must be induced to have 0.7 N/mm^2 compression\n",
    "p_req = 2*t*delta_sig/r #(N/mm^2) The pressure required to generate the required stress in the wall\n",
    "h = p_req*10**6/(rho*g)\n",
    "\n",
    "print('5. The depth required to generate 700 kPa compression in the wall is {one} m'.format(one=np.round(h,1)))"
   ]
  },
  {
   "cell_type": "markdown",
   "metadata": {},
   "source": [
    "## Question 6"
   ]
  },
  {
   "cell_type": "markdown",
   "metadata": {},
   "source": [
    "An large inflatable tent-like structure has the shape of a half-circular cylinder with radius $12\\:m$ and is closed at both ends. A longitudinal seam runs along the length of the 'ridge' of the structure. If the seam tears open when it is subjected to a tensile load of $100 N/mm$ of seam, what is the factor of safety against tearing when the internal pressure is $3.5\\: kPa$?"
   ]
  },
  {
   "cell_type": "markdown",
   "metadata": {},
   "source": [
    "**Solution 6**"
   ]
  },
  {
   "cell_type": "code",
   "execution_count": 34,
   "metadata": {},
   "outputs": [],
   "source": [
    "r = 12000 #(mm) Radius\n",
    "p = 3.5*10**-3 #(N/mm^2) Internal pressure\n",
    "Tmax = 100 #(N/mm) Maximum tensile load in the seam before tearing occurs"
   ]
  },
  {
   "cell_type": "markdown",
   "metadata": {},
   "source": [
    "The failure stress in the seam is,\n",
    "\\begin{equation}\n",
    "\\frac{\\text{Force in seam}}{\\text{Area of seam}} = \\frac{F}{A} = \\frac{100\\:N/mm\\times 1\\:mm}{1\\:mm\\times t}\n",
    "\\end{equation}\n",
    "\n",
    "where $t$is the thickness of the seam. We know the failure stress is related to the working stress via the factor of safety, $n$,\n",
    "\n",
    "\\begin{equation}\n",
    "\\sigma_{\\text{fail}} = n\\times \\sigma\n",
    "\\end{equation}\n",
    "\n",
    "If the working (hoop) stress is given by,\n",
    "\n",
    "\\begin{equation}\n",
    "\\frac{pr}{t}\n",
    "\\end{equation}\n",
    "\n",
    "we can solve for the factor of safety under the current level of internal pressure,\n",
    "\n",
    "\\begin{equation}\n",
    "n=\\frac{T_{max}}{pr}\n",
    "\\end{equation}\n",
    "\n"
   ]
  },
  {
   "cell_type": "code",
   "execution_count": 38,
   "metadata": {},
   "outputs": [
    {
     "name": "stdout",
     "output_type": "stream",
     "text": [
      "6. The factor of safety is 2.38\n"
     ]
    }
   ],
   "source": [
    "n = Tmax/(p*r)\n",
    "print('6. The factor of safety is {one}'.format(one=np.round(n,2)))"
   ]
  },
  {
   "cell_type": "markdown",
   "metadata": {},
   "source": [
    "## Question 7"
   ]
  },
  {
   "cell_type": "markdown",
   "metadata": {},
   "source": [
    "A strain gauge is installed in the longitudinal direction on the surface of an aluminum beverage can. The radius to thickness ratio of the can is $200$. When the can is opened, the strain changes by $\\epsilon_x = 170\\times 10^{-6}$. What was the internal pressure $p$ in the can before it was opened? \n",
    "\n",
    "In this question you will need to make use of Hooke's law for biaxial stress. You are already familiar with Hooke's law for uniaxial stress,\n",
    "\\begin{equation}\n",
    "\\epsilon = \\frac{1}{E}\\sigma\n",
    "\\end{equation}\n",
    "\n",
    "where $E$ is Young's Modulus. You are also familiar with Poisson's ratio, $\\nu$. Hooke's law for the case of biaxial stress is simply expanded to,\n",
    "\n",
    "\\begin{equation}\n",
    "\\epsilon_x = \\frac{1}{E}(\\sigma_x-\\nu\\sigma_y)\n",
    "\\end{equation}\n",
    "\n",
    "For this question assume $E = 70\\:Gpa$ and $\\nu=0.33$."
   ]
  },
  {
   "cell_type": "markdown",
   "metadata": {},
   "source": [
    "**Solution 7**"
   ]
  },
  {
   "cell_type": "markdown",
   "metadata": {},
   "source": [
    "In this case due to the longitudinal orientation of the strain gauge, $\\sigma_x$ is the axial stress and $\\sigma_y$ is the hoop stress. We can substitute our expressions for these stresses into the equation describing Hooke's law for biaxial stress,\n",
    "\n",
    "\\begin{equation}\n",
    "\\epsilon_x = \\frac{1}{E}(\\frac{pr}{2t}-\\nu\\frac{pr}{t})\n",
    "\\end{equation}\n",
    "\n",
    "We can then simply substitute in values for $E$, $\\nu$, $\\epsilon_x$, $r/t$ and solve for $p$. "
   ]
  },
  {
   "cell_type": "code",
   "execution_count": 41,
   "metadata": {},
   "outputs": [
    {
     "name": "stdout",
     "output_type": "stream",
     "text": [
      "7. The pressure inside the can before it was released was 0.35 N/mm^2\n"
     ]
    }
   ],
   "source": [
    "epsilon = 170*10**-6\n",
    "E = 70*10**3\n",
    "rt_ratio = 200\n",
    "p = (epsilon*E)/(rt_ratio*(0.5-0.33))\n",
    "\n",
    "print('7. The pressure inside the can before it was released was {one} N/mm^2'.format(one=np.round(p,2)))"
   ]
  },
  {
   "cell_type": "markdown",
   "metadata": {},
   "source": [
    "## Answers"
   ]
  },
  {
   "cell_type": "markdown",
   "metadata": {},
   "source": [
    "1. $102\\:mm$\n",
    "2. (a) $16.8 \\:kN$, (b) $4.8\\:N/mm^2$\n",
    "3. (a) $16.1\\:m$, (b) $0$\n",
    "4. (a) $7.24\\:m$, (b) $0.817\\:N/mm^2$\n",
    "5. $26.6\\:m$\n",
    "6. $2.38$\n",
    "7. $0.35\\:N/mm^2$"
   ]
  }
 ],
 "metadata": {
  "hide_input": false,
  "kernelspec": {
   "display_name": "Python 3",
   "language": "python",
   "name": "python3"
  },
  "language_info": {
   "codemirror_mode": {
    "name": "ipython",
    "version": 3
   },
   "file_extension": ".py",
   "mimetype": "text/x-python",
   "name": "python",
   "nbconvert_exporter": "python",
   "pygments_lexer": "ipython3",
   "version": "3.6.4"
  }
 },
 "nbformat": 4,
 "nbformat_minor": 2
}
