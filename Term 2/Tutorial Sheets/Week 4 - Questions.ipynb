{
 "cells": [
  {
   "cell_type": "code",
   "execution_count": 1,
   "metadata": {
    "deletable": false,
    "editable": false,
    "hide_input": true
   },
   "outputs": [
    {
     "name": "stdout",
     "output_type": "stream",
     "text": [
      "- Dependencies imported 👍\n",
      "- Remember to select 'Kernel-> Restart & Run All' on first load to show embedded Youtube videos 🎬\n",
      "- Author: Dr H Alwi & Dr SPCarroll, Sept 2020, Rev 0\n"
     ]
    }
   ],
   "source": [
    "#DEPENDENCIES & INITIALISATIONS\n",
    "from IPython.display import HTML #For embedding videos\n",
    "import math #Basic math functionality\n",
    "import numpy as np #Numpy for working with arrays\n",
    "import matplotlib.pyplot as plt #Plotting functionality \n",
    "#HTML('<center><iframe width=\"560\" height=\"315\" src=\"#\" frameborder=\"0\" allowfullscreen></iframe></center>')\n",
    "print(\"- Dependencies imported 👍\")\n",
    "print(\"- Remember to select 'Kernel-> Restart & Run All' on first load to show embedded Youtube videos 🎬\")\n",
    "print(\"- Author: Dr H Alwi & Dr SPCarroll, Sept 2020, Rev 0\")"
   ]
  },
  {
   "cell_type": "markdown",
   "metadata": {},
   "source": [
    "# Week 4: Straight-Line Motion\n",
    "Reference: Chapter 13 of Engineering Mechanics - Statics and Dynamics Principles, Bedford A. & Fowler, W., 2003"
   ]
  },
  {
   "cell_type": "markdown",
   "metadata": {},
   "source": [
    "## Question 1"
   ]
  },
  {
   "cell_type": "markdown",
   "metadata": {},
   "source": [
    "A car slows at a constant rate of deceleration from $70\\:m/s$ to $50\\:m/s$ over an $8$ second time interval. \n",
    "\n",
    "- (a) Calculate the rate of acceleration\n",
    "- (b) Calculate the distance covered during this time interval\n",
    "- (c) If this acceleration was maintained, how much further would the car travel before it stops?"
   ]
  },
  {
   "cell_type": "markdown",
   "metadata": {},
   "source": [
    "## Question 2"
   ]
  },
  {
   "cell_type": "markdown",
   "metadata": {},
   "source": [
    "A car slows at a constant rate of acceleration from $70\\:km/h$ to a stop over a breaking distance of $38\\:m$. \n",
    "\n",
    "- (a) Calculate the time taken for the car to come to a stop\n",
    "- (b) Calculate the rate of deceleration\n",
    "- (c) After modifications are made to the braking system, the rate of deceleration is increased by $50\\%$. Calculate the new breaking distance from an initial velocity of $70\\:km/h$."
   ]
  },
  {
   "cell_type": "markdown",
   "metadata": {},
   "source": [
    "## Question 3"
   ]
  },
  {
   "cell_type": "markdown",
   "metadata": {},
   "source": [
    "A cheetah has a top speed of $120.7\\:km/h$. If we assume a constant rate of acceleration and that the cheetah can reach its top speed in $4$ seconds, what distance can the cheetah cover in $10$ seconds?"
   ]
  },
  {
   "cell_type": "markdown",
   "metadata": {},
   "source": [
    "## Question 4"
   ]
  },
  {
   "cell_type": "markdown",
   "metadata": {},
   "source": [
    "In terms of the distance $s$ from the centre of the earth, the magnitude of the acceleration due to gravity is $gR_E^2/s^2$, where $R_E$ is the radius of the earth. If a spacecraft is a distance $s_0$ from the centre of the earth, derive an expression for the outward velocity $v_0$ it must it be given to reach a specified height $h$ from the earth's centre? (Note: acceleration due to gravity is towards the earth, so assume it is a negative quantity in your derivation.)"
   ]
  },
  {
   "cell_type": "markdown",
   "metadata": {},
   "source": [
    "## Question 5"
   ]
  },
  {
   "cell_type": "markdown",
   "metadata": {},
   "source": [
    "A train is travelling with an acceleration $a(t) = 2t\\:m/s^2$ between $t=2$ seconds and $t=4$ seconds. At $t=2$ seconds, its velocity is $180\\:km/h$. \n",
    "\n",
    "- (a) What is the train's velocity at $t=4$ seconds\n",
    "- (b) How far does the train travel between $t=2$ seconds and $t=4$ seconds?"
   ]
  },
  {
   "cell_type": "markdown",
   "metadata": {},
   "source": [
    "## Answers"
   ]
  },
  {
   "cell_type": "markdown",
   "metadata": {},
   "source": [
    "1. $-2.5 m/s^2$, $480.0 \\:m$, $500.0 \\:m$\n",
    "2. $3.91\\:s$, $-4.97 \\:m/s^2$, $25.33 \\:m$\n",
    "3. $268.0 \\:m$\n",
    "4. \n",
    "\\begin{equation*}\n",
    "v_0 = \\sqrt{2gR_E^2\\left(\\frac{1}{s_0} - \\frac{1}{h}\\right)}\n",
    "\\end{equation*}\n",
    "5. $62 \\:m/s$, $110.7 \\:m$"
   ]
  }
 ],
 "metadata": {
  "hide_input": false,
  "kernelspec": {
   "display_name": "Python 3",
   "language": "python",
   "name": "python3"
  },
  "language_info": {
   "codemirror_mode": {
    "name": "ipython",
    "version": 3
   },
   "file_extension": ".py",
   "mimetype": "text/x-python",
   "name": "python",
   "nbconvert_exporter": "python",
   "pygments_lexer": "ipython3",
   "version": "3.6.4"
  }
 },
 "nbformat": 4,
 "nbformat_minor": 2
}
