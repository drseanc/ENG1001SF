{
 "cells": [
  {
   "cell_type": "code",
   "execution_count": 1,
   "metadata": {
    "hide_input": true
   },
   "outputs": [
    {
     "name": "stdout",
     "output_type": "stream",
     "text": [
      "- Dependencies imported 👍\n",
      "- Remember to select 'Kernel-> Restart & Run All' on first load to show embedded Youtube videos 🎬\n",
      "- Author: Dr SPCarroll, Sept 2020, Rev 0\n"
     ]
    }
   ],
   "source": [
    "#DEPENDENCIES & INITIALISATIONS\n",
    "from IPython.display import HTML #For embedding videos\n",
    "import math #Basic math functionality\n",
    "import numpy as np #Numpy for working with arrays\n",
    "import matplotlib.pyplot as plt #Plotting functionality \n",
    "#HTML('<center><iframe width=\"560\" height=\"315\" src=\"#\" frameborder=\"0\" allowfullscreen></iframe></center>')\n",
    "print(\"- Dependencies imported 👍\")\n",
    "print(\"- Remember to select 'Kernel-> Restart & Run All' on first load to show embedded Youtube videos 🎬\")\n",
    "print(\"- Author: Dr SPCarroll, Sept 2020, Rev 0\")"
   ]
  },
  {
   "cell_type": "markdown",
   "metadata": {},
   "source": [
    "# Week 3: Nonuniform Torsion, Stresses and Strains\n",
    "Reference: Chapter 3 of *Mechanics of Materials*, Gere and Goodno"
   ]
  },
  {
   "cell_type": "markdown",
   "metadata": {},
   "source": [
    "## Question 1"
   ]
  },
  {
   "cell_type": "markdown",
   "metadata": {},
   "source": [
    "Consider the stepped shaft shown below. The material has a shear modulus $G=76\\:kN/mm^2$. The parameters shown have the following values:\n",
    "- $d_1=58\\:mm$\n",
    "- $d_2= 45\\:mm$\n",
    "- $L_1=760\\:mm$\n",
    "- $L_2=510\\:mm$\n",
    "- $T_1 = 2300\\:Nm$\n",
    "- $T_2 = 900\\:Nm$\n",
    "\n",
    "\n",
    "- (a) determine the maximum shear stress in the shaft $\\tau_{\\text{max}}$\n",
    "- (b) the angle of twist in degrees at $C$"
   ]
  },
  {
   "cell_type": "markdown",
   "metadata": {},
   "source": [
    "![title](img/T2W3/img1.jpg)"
   ]
  },
  {
   "cell_type": "markdown",
   "metadata": {},
   "source": [
    "**Solution 1**"
   ]
  },
  {
   "cell_type": "markdown",
   "metadata": {},
   "source": [
    "(a) We must evaluate the shear stress between $A$ and $B$, then between $B$ and $C$. The torque in each region is evaluated by making a cut and evaluating moment equilibrium. The shear stress is then determined using,\n",
    "\n",
    "\\begin{equation}\n",
    "\\tau_{\\text{max}}= \\frac{Tr}{I_P}\n",
    "\\end{equation}"
   ]
  },
  {
   "cell_type": "code",
   "execution_count": 2,
   "metadata": {},
   "outputs": [
    {
     "name": "stdout",
     "output_type": "stream",
     "text": [
      "The maximum shear stress between A and B is 36.54 N/mm^2\n",
      "The maximum shear stress between B and C is 50.3 N/mm^2\n",
      "1(a) The maximum shear stress occurs between B and C and has a magnitude of 50.3 N/mm^2\n"
     ]
    }
   ],
   "source": [
    "# Region between A and B\n",
    "T_AB = 1400 #(Nm)\n",
    "d1 = 0.058 #(m)\n",
    "IP_AB = math.pi*(d1**4)/32\n",
    "tau_max_AB = T_AB*(d1/2)/IP_AB\n",
    "print('The maximum shear stress between A and B is {one} N/mm^2'.format(one=round(tau_max_AB*10**-6,2)))\n",
    "\n",
    "#Region between B and C\n",
    "T_BC = 900 #(Nm)\n",
    "d2 = 0.045 #(m)\n",
    "IP_BC = math.pi*(d2**4)/32\n",
    "tau_max_BC = T_BC*(d2/2)/IP_BC\n",
    "print('The maximum shear stress between B and C is {one} N/mm^2'.format(one=round(tau_max_BC*10**-6,2)))\n",
    "\n",
    "#Test for maximum\n",
    "if tau_max_AB>tau_max_BC:\n",
    "    print('1(a) The maximum shear stress occurs between A and B and has a magnitude of {one} N/mm^2'.format(one=round(tau_max_AB*10**-6,2)))\n",
    "else:\n",
    "    print('1(a) The maximum shear stress occurs between B and C and has a magnitude of {one} N/mm^2'.format(one=round(tau_max_BC*10**-6,2)))    "
   ]
  },
  {
   "cell_type": "markdown",
   "metadata": {},
   "source": [
    "(b) To determine the angle of twist at C, we evaluate the angles in each region individually using, \n",
    "\n",
    "\\begin{equation}\n",
    "\\phi=\\theta L = \\frac{TL}{GI_P}\n",
    "\\end{equation}\n",
    "\n",
    "and obtain the algebraic sum,\n",
    "\n",
    "\\begin{equation}\n",
    "\\phi_{\\text{total}} = \\sum_{i=1}^n \\phi_i\n",
    "\\end{equation}\n"
   ]
  },
  {
   "cell_type": "code",
   "execution_count": 3,
   "metadata": {},
   "outputs": [],
   "source": [
    "# Region between A and B\n",
    "G = 76*10**9 #(N/m^2)\n",
    "L1 = 0.76 #(m)\n",
    "phi_AB = (T_AB*L1)/(G*IP_AB)\n",
    "\n",
    "# Region between B and C\n",
    "L2 = 0.51 #(m)\n",
    "phi_BC = (T_BC*L2)/(G*IP_BC)"
   ]
  },
  {
   "cell_type": "markdown",
   "metadata": {},
   "source": [
    "Note that the torque between A and B will cause a clockwise rotation when viewed from end C. The torque between B and C will cause a counterclockwise rotation from the same viewpoint. If we assume the counter-clockwise rotation is positive, we can combine the angles of rotation as follows..."
   ]
  },
  {
   "cell_type": "code",
   "execution_count": 4,
   "metadata": {},
   "outputs": [
    {
     "name": "stdout",
     "output_type": "stream",
     "text": [
      "1(b) The angle of rotation at C is 0.14 degrees\n"
     ]
    }
   ],
   "source": [
    "phi_total = -phi_AB+phi_BC\n",
    "phi_total_deg = phi_total*(180/math.pi)\n",
    "print('1(b) The angle of rotation at C is {one} degrees'.format(one=round(phi_total_deg,2)))"
   ]
  },
  {
   "cell_type": "markdown",
   "metadata": {},
   "source": [
    "## Question 2"
   ]
  },
  {
   "cell_type": "markdown",
   "metadata": {},
   "source": [
    "Consider the stepped shaft shown below. The material has a shear modulus of $80\\:kN/mm^2$. The parameter shown have the following values:\n",
    "\n",
    "- $d_1 = 50\\:mm$\n",
    "- $d_2 = 40\\:mm$\n",
    "- $L_1 = 1.25\\:m$\n",
    "- $L_2 = 1\\:m$\n",
    "\n",
    "The maximum allowable shear stress is $30\\:N/mm^2$ and the angle of twist between ends cannot exceed $1.5^\\circ$. Determine the maximum allowable torque that will satisfy these conditions."
   ]
  },
  {
   "cell_type": "markdown",
   "metadata": {},
   "source": [
    "![title](img/T2W3/img2.jpg)"
   ]
  },
  {
   "cell_type": "markdown",
   "metadata": {},
   "source": [
    "**Solution 2**"
   ]
  },
  {
   "cell_type": "markdown",
   "metadata": {},
   "source": [
    "First solve for maximum torque based on $\\tau_{\\text{max, all}} = 30\\:N/mm^2$"
   ]
  },
  {
   "cell_type": "code",
   "execution_count": 5,
   "metadata": {},
   "outputs": [],
   "source": [
    "tau_max_all = 30 #(N/mm^2)\n",
    "\n",
    "# Region between A and B\n",
    "d1 = 0.05 #(m)\n",
    "IP_AB = math.pi*(d1**4)/32\n",
    "T_AB = tau_max_all*10**6*IP_AB/(d1/2)\n",
    "\n",
    "# Region between A and B\n",
    "d2 = 0.04 #(m)\n",
    "IP_BC = math.pi*(d2**4)/32\n",
    "T_BC = tau_max_all*10**6*IP_BC/(d2/2)\n",
    "\n",
    "#Test for maximum\n",
    "if T_AB<T_BC:\n",
    "    #Store selected torque limited by shear stress and associated message in variables for later use\n",
    "    T_tau = T_AB \n",
    "    message = '2. The maximum allowable torque is {one} Nm based on shear stress in segment AB N/mm^2'.format(one=round(T_AB,2))\n",
    "else:\n",
    "    T_tau = T_BC\n",
    "    message = '2. The maximum allowable torque is {one} Nm based on shear stress in segment BC N/mm^2'.format(one=round(T_BC,2))    "
   ]
  },
  {
   "cell_type": "markdown",
   "metadata": {},
   "source": [
    "Now solve for maximum torque based on $\\phi_{\\text{max,all}} = 1.5^\\circ$. Remember that the total angle of twist is the sum of angles across both prismatic segments,\n",
    "\n",
    "\\begin{equation}\n",
    "\\phi_{\\text{total}} = \\frac{TL_1}{G I_{P,AB}} + \\frac{TL_2}{G I_{P,BC}}\n",
    "\\end{equation}\n",
    "\n",
    "Now solve for $T$, remembering to convert $\\phi_{\\text{max,all}}$ into radians.  "
   ]
  },
  {
   "cell_type": "code",
   "execution_count": 6,
   "metadata": {},
   "outputs": [
    {
     "name": "stdout",
     "output_type": "stream",
     "text": [
      "2. The maximum allowable torque is 348.13 Nm based on angle of twist\n"
     ]
    }
   ],
   "source": [
    "phi_max = 1.5 #(degrees)\n",
    "phi_max_rad = phi_max*math.pi/180\n",
    "L1 = 1.25 #(m)\n",
    "L2 = 1 #(m)\n",
    "G = 80*10**9 #(N/m^2)\n",
    "T_phi = phi_max_rad/( (L1/(G*IP_AB)) + (L2/(G*IP_BC)) )\n",
    "\n",
    "if(T_tau<T_phi):\n",
    "    print(message)\n",
    "else:\n",
    "    print('2. The maximum allowable torque is {one} Nm based on angle of twist'.format(one=round(T_phi,2)))"
   ]
  },
  {
   "cell_type": "markdown",
   "metadata": {},
   "source": [
    "## Question 3"
   ]
  },
  {
   "cell_type": "markdown",
   "metadata": {},
   "source": [
    "The $2.4\\:m$ long tapered shaft shown below is subject to torques $T=2035\\:Nm$. The diameter of the shaft varies linearly between $d_A$ and $d_B$. The material the shaft is made of has shear modulus $G=27\\:kN/mm^2$, allowable shear stress of $52 \\:N/mm^2$ and an allowable angle of twist of $3^\\circ$.\n",
    "\n",
    "If the $d_B$ is 1.5 times $d_A$, what is the required diameter $d_A$."
   ]
  },
  {
   "cell_type": "markdown",
   "metadata": {},
   "source": [
    "![title](img/T2W3/img3.jpg)"
   ]
  },
  {
   "cell_type": "markdown",
   "metadata": {},
   "source": [
    "**Solution 3**"
   ]
  },
  {
   "cell_type": "markdown",
   "metadata": {},
   "source": [
    "First evaluate $d_A$ limited by $\\tau_{\\text{max,all}}$. This is done by considering the shear stress at location of the smallest diameter,\n",
    "\n",
    "\\begin{equation}\n",
    "\\tau_{\\text{max}}= \\frac{Tr}{I_P}\n",
    "\\end{equation}\n",
    "\n",
    "where, \n",
    "\n",
    "\\begin{equation}\n",
    "I_P = \\frac{\\pi d_A^4}{32}\n",
    "\\end{equation}\n",
    "\n",
    "Rearranging and solving for $d_A$,\n",
    "\n",
    "\\begin{equation}\n",
    "d_A = \\left(\\frac{16T}{\\pi \\tau_{\\text{max}}}\\right)^\\frac{1}{3}\n",
    "\\end{equation}"
   ]
  },
  {
   "cell_type": "code",
   "execution_count": 7,
   "metadata": {},
   "outputs": [
    {
     "name": "stdout",
     "output_type": "stream",
     "text": [
      "The diameter d_A based on maximum allowable shear stress is 0.058 m\n"
     ]
    }
   ],
   "source": [
    "T = 2035 #(Nm)\n",
    "tau_max = 52*10**6 #(N/m^2)\n",
    "d_A1 = ((16*T)/(math.pi*tau_max))**(1/3) #(m)\n",
    "print('The diameter d_A based on maximum allowable shear stress is {one} m'.format(one=round(d_A1,3)))"
   ]
  },
  {
   "cell_type": "markdown",
   "metadata": {},
   "source": [
    "To determine $d_A$ limited by angle of twist, we use the solution derived earlier in the lecture notes, \n",
    "\n",
    "\\begin{equation}\n",
    "\\phi = \\frac{32TL}{\\pi G}\\left(\\frac{d_A^2 + d_Ad_B + d_B^2}{3d_A^3d_B^3}\\right)\n",
    "\\end{equation}\n",
    "\n",
    "If we make the substitution $d_B = 1.5d_A$, we can rearrange and solve for $d_A$,\n",
    "\n",
    "\\begin{equation}\n",
    "\\phi = \\frac{32TL}{\\pi G}\\left(\\frac{4.75}{10.125 d_A^4}\\right)\n",
    "\\end{equation}\n",
    "\n",
    "\\begin{equation}\n",
    "d_A = \\left(\\frac{32\\times 4.75}{10.125}\\frac{TL}{\\pi G \\phi}\\right)^\\frac{1}{4}\n",
    "\\end{equation}"
   ]
  },
  {
   "cell_type": "code",
   "execution_count": 8,
   "metadata": {},
   "outputs": [
    {
     "name": "stdout",
     "output_type": "stream",
     "text": [
      "The diameter d_A based on maximum allowable angle of twist is 0.064 m\n",
      "3. The required diameter at A is 0.064 m, governed by the limiting angle of twist\n"
     ]
    }
   ],
   "source": [
    "phi_max = 3 #(degrees)\n",
    "phi_max__rad = phi_max*math.pi/180 #(radians)\n",
    "G = 27*10**9 #(N/m^2)\n",
    "L = 2.4 #(m)\n",
    "\n",
    "d_A2 = ((32*4.75/10.125)*((T*L)/(math.pi*G*phi_max__rad)))**0.25\n",
    "print('The diameter d_A based on maximum allowable angle of twist is {one} m'.format(one=round(d_A2,3)))\n",
    "\n",
    "#Test governing condition\n",
    "if(d_A2>d_A1):\n",
    "    print('3. The required diameter at A is {one} m, governed by the limiting angle of twist'.format(one=round(d_A2,3)))\n",
    "else:\n",
    "    print('3. The required diameter at A is {one} m, governed by the limiting shear stress'.format(one=round(d_A1,3)))"
   ]
  },
  {
   "cell_type": "markdown",
   "metadata": {},
   "source": [
    "## Question 4"
   ]
  },
  {
   "cell_type": "markdown",
   "metadata": {},
   "source": [
    "The solid circular bar shown below has a strain gauge orientated at $45^\\circ$ to the longitudinal axis of the bar. When the bar is subject to a torque $T=1300\\:Nm$, the strain gauge shows $\\epsilon=331\\times10^{-6}$. Determine the shear modulus for the bar."
   ]
  },
  {
   "cell_type": "markdown",
   "metadata": {},
   "source": [
    "![title](img/T2W3/img4.jpg)"
   ]
  },
  {
   "cell_type": "markdown",
   "metadata": {},
   "source": [
    "**Solution 4**"
   ]
  },
  {
   "cell_type": "markdown",
   "metadata": {},
   "source": [
    "We know that the shear modulus is given by,\n",
    "\n",
    "\\begin{equation}\n",
    "G = \\frac{\\tau}{\\gamma}\n",
    "\\end{equation}\n",
    "\n",
    "So we first determine the shear stress resulting from the applied torque."
   ]
  },
  {
   "cell_type": "code",
   "execution_count": 9,
   "metadata": {},
   "outputs": [],
   "source": [
    "d = 0.05 #(m)\n",
    "T = 1300 #(Nm)\n",
    "eps = 331*10**-6 #(unitless strain)\n",
    "Ip = math.pi*d**4/32 #(m^4)\n",
    "tau_max = T*(d/2)/Ip #(N/m^2)"
   ]
  },
  {
   "cell_type": "markdown",
   "metadata": {},
   "source": [
    "We can not determine the shear strain $\\gamma$ by recalling the relationship,\n",
    "\n",
    "\\begin{equation}\n",
    "\\epsilon = \\frac{\\gamma}{2}\n",
    "\\end{equation}"
   ]
  },
  {
   "cell_type": "code",
   "execution_count": 10,
   "metadata": {},
   "outputs": [
    {
     "name": "stdout",
     "output_type": "stream",
     "text": [
      "4. The shear modulus is 80 kN/mm^2\n"
     ]
    }
   ],
   "source": [
    "gamma = 2*eps \n",
    "G = tau_max/gamma #(N/m^2)\n",
    "print('4. The shear modulus is {one} kN/mm^2'.format(one=round(G*10**-9)))"
   ]
  },
  {
   "cell_type": "markdown",
   "metadata": {},
   "source": [
    "## Answers"
   ]
  },
  {
   "cell_type": "markdown",
   "metadata": {},
   "source": [
    "1. $50.3 \\:N/mm^2$, $0.14^\\circ$\n",
    "2. $348.13\\: Nm$\n",
    "3. $0.064 \\:m$\n",
    "4. $80 \\:kN/mm^2$"
   ]
  }
 ],
 "metadata": {
  "hide_input": false,
  "kernelspec": {
   "display_name": "Python 3",
   "language": "python",
   "name": "python3"
  },
  "language_info": {
   "codemirror_mode": {
    "name": "ipython",
    "version": 3
   },
   "file_extension": ".py",
   "mimetype": "text/x-python",
   "name": "python",
   "nbconvert_exporter": "python",
   "pygments_lexer": "ipython3",
   "version": "3.6.4"
  }
 },
 "nbformat": 4,
 "nbformat_minor": 2
}
