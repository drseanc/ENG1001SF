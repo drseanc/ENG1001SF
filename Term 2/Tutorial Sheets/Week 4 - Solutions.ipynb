{
 "cells": [
  {
   "cell_type": "code",
   "execution_count": 1,
   "metadata": {
    "deletable": false,
    "editable": false,
    "hide_input": true
   },
   "outputs": [
    {
     "name": "stdout",
     "output_type": "stream",
     "text": [
      "- Dependencies imported 👍\n",
      "- Remember to select 'Kernel-> Restart & Run All' on first load to show embedded Youtube videos 🎬\n",
      "- Author: Dr H Alwi & Dr SPCarroll, Sept 2020, Rev 0\n"
     ]
    }
   ],
   "source": [
    "#DEPENDENCIES & INITIALISATIONS\n",
    "from IPython.display import HTML #For embedding videos\n",
    "import math #Basic math functionality\n",
    "import numpy as np #Numpy for working with arrays\n",
    "import matplotlib.pyplot as plt #Plotting functionality \n",
    "#HTML('<center><iframe width=\"560\" height=\"315\" src=\"#\" frameborder=\"0\" allowfullscreen></iframe></center>')\n",
    "print(\"- Dependencies imported 👍\")\n",
    "print(\"- Remember to select 'Kernel-> Restart & Run All' on first load to show embedded Youtube videos 🎬\")\n",
    "print(\"- Author: Dr H Alwi & Dr SPCarroll, Sept 2020, Rev 0\")"
   ]
  },
  {
   "cell_type": "markdown",
   "metadata": {},
   "source": [
    "# Week 4: Straight-Line Motion\n",
    "Reference: Chapter 13 of Engineering Mechanics - Statics and Dynamics Principles, Bedford A. & Fowler, W., 2003"
   ]
  },
  {
   "cell_type": "markdown",
   "metadata": {},
   "source": [
    "## Question 1"
   ]
  },
  {
   "cell_type": "markdown",
   "metadata": {},
   "source": [
    "A car slows at a constant rate of deceleration from $70\\:m/s$ to $50\\:m/s$ over an $8$ second time interval. \n",
    "\n",
    "- (a) Calculate the rate of acceleration\n",
    "- (b) Calculate the distance covered during this time interval\n",
    "- (c) If this acceleration was maintained, how much further would the car travel before it stops?"
   ]
  },
  {
   "cell_type": "markdown",
   "metadata": {},
   "source": [
    "**Solution 1**"
   ]
  },
  {
   "cell_type": "markdown",
   "metadata": {},
   "source": [
    "(a) Since\n",
    "\n",
    "\\begin{equation*}\n",
    "a_0 = \\frac{\\mathrm{d}v}{\\mathrm{d}t}\n",
    "\\end{equation*}\n",
    "\n",
    "We can readily solve for $a_0$,"
   ]
  },
  {
   "cell_type": "code",
   "execution_count": 2,
   "metadata": {},
   "outputs": [
    {
     "name": "stdout",
     "output_type": "stream",
     "text": [
      "(a) The acceleration is -2.5 m/s^2\n"
     ]
    }
   ],
   "source": [
    "v0 = 70 #(m/s)\n",
    "v = 50 #(m/s)\n",
    "delT = 8 #(s)\n",
    "a0 = (v-v0)/delT #(m/s^2)\n",
    "print('(a) The acceleration is {one} m/s^2'.format(one=a0))"
   ]
  },
  {
   "cell_type": "markdown",
   "metadata": {},
   "source": [
    "(b) In order to determine the distance covered, since the acceleration is constant, we can use,\n",
    "\n",
    "\\begin{equation*}\n",
    "v^2=v_0^2 +2a_0(s-s_0)\n",
    "\\end{equation*}\n",
    "\n",
    "Solving for $s-s_0$,"
   ]
  },
  {
   "cell_type": "code",
   "execution_count": 3,
   "metadata": {},
   "outputs": [
    {
     "name": "stdout",
     "output_type": "stream",
     "text": [
      "(b) The distance covered is 480.0 m\n"
     ]
    }
   ],
   "source": [
    "delS = (v**2-v0**2)/(2*a0)\n",
    "print('(b) The distance covered is {one} m'.format(one=delS))"
   ]
  },
  {
   "cell_type": "markdown",
   "metadata": {},
   "source": [
    "(c) Using the same equation as for part (b) but now letting $v_0 = 50\\:m/s$ and $v=0\\: m/s$,"
   ]
  },
  {
   "cell_type": "code",
   "execution_count": 4,
   "metadata": {},
   "outputs": [
    {
     "name": "stdout",
     "output_type": "stream",
     "text": [
      "(c) The distance covered is 500.0 m\n"
     ]
    }
   ],
   "source": [
    "v0=50 #(m/s)\n",
    "v=0 #(m/s)\n",
    "delS = (v**2-v0**2)/(2*a0)\n",
    "print('(c) The distance covered is {one} m'.format(one=delS))"
   ]
  },
  {
   "cell_type": "markdown",
   "metadata": {},
   "source": [
    "## Question 2"
   ]
  },
  {
   "cell_type": "markdown",
   "metadata": {},
   "source": [
    "A car slows at a constant rate of acceleration from $70\\:km/h$ to a stop over a breaking distance of $38\\:m$. \n",
    "\n",
    "- (a) Calculate the time taken for the car to come to a stop\n",
    "- (b) Calculate the rate of deceleration\n",
    "- (c) After modifications are made to the braking system, the rate of deceleration is increased by $50\\%$. Calculate the new breaking distance from an initial velocity of $70\\:km/h$."
   ]
  },
  {
   "cell_type": "markdown",
   "metadata": {},
   "source": [
    "**Solution 2**"
   ]
  },
  {
   "cell_type": "markdown",
   "metadata": {},
   "source": [
    "(a) First we convert the initial velocity to $m/s$"
   ]
  },
  {
   "cell_type": "code",
   "execution_count": 5,
   "metadata": {},
   "outputs": [
    {
     "name": "stdout",
     "output_type": "stream",
     "text": [
      "The initial velocity is 19.44 m/s\n"
     ]
    }
   ],
   "source": [
    "v_kmph = 70 #(km/h)\n",
    "v = v_kmph*(1000/3600) #(m/s)\n",
    "print('The initial velocity is {one} m/s'.format(one=round(v,2)))"
   ]
  },
  {
   "cell_type": "markdown",
   "metadata": {},
   "source": [
    "We know the velocity varies linearly (constant acceleration) from its maximum value down to zero. Therefore the average velocity during this period is $v/2$. During this period, the distance travelled is $s=38\\:m$. Therefore the time taken to travel this distance at a known average velocity is easily obtained,\n",
    "\n",
    "\\begin{equation*}\n",
    "v_{\\text{avg}} = \\frac{v}{2}\n",
    "\\end{equation*}\n",
    "\n",
    "\\begin{equation*}\n",
    "t = \\frac{s}{v_{\\text{avg}}}\n",
    "\\end{equation*}\n"
   ]
  },
  {
   "cell_type": "code",
   "execution_count": 6,
   "metadata": {},
   "outputs": [
    {
     "name": "stdout",
     "output_type": "stream",
     "text": [
      "(a) The time taken is 3.91 s\n"
     ]
    }
   ],
   "source": [
    "v_avg = v/2 #(m/s)\n",
    "s = 38 #(m)\n",
    "t = s/v_avg\n",
    "print('(a) The time taken is {one} s'.format(one=round(t,2)))"
   ]
  },
  {
   "cell_type": "markdown",
   "metadata": {},
   "source": [
    "We can easily visualise this solution by plotting the velocity against time."
   ]
  },
  {
   "cell_type": "code",
   "execution_count": 7,
   "metadata": {},
   "outputs": [
    {
     "data": {
      "image/png": "[encoded data removed]",
      "text/plain": [
       "<Figure size 432x288 with 1 Axes>"
      ]
     },
     "metadata": {},
     "output_type": "display_data"
    }
   ],
   "source": [
    "#PLOTTING CODE\n",
    "fig = plt.figure() #Define a new figure\n",
    "axes = fig.add_axes([0.1,0.1,2,1]) #Add a set of axes to the figure defining axes location and size\n",
    "axes.plot([0,t],[v,0],'b') #Plot t versus v\n",
    "axes.set_xlabel('time (sec)') #set an x-label\n",
    "axes.set_ylabel('velocity (m/s)') #set a y-label\n",
    "axes.set_title('Velocity-time history') #set a title\n",
    "axes.set_xlim([0,t])\n",
    "axes.set_ylim([0,v])\n",
    "axes.grid() #Show a grid"
   ]
  },
  {
   "cell_type": "markdown",
   "metadata": {},
   "source": [
    "The distance travelled is equal to to the area under the velocity-time graph. This is a useful fact to remember ans often leads to a quick solution process.  "
   ]
  },
  {
   "cell_type": "markdown",
   "metadata": {},
   "source": [
    "(b) The acceleration is determined from the expression,\n",
    "\n",
    "\\begin{equation*}\n",
    "a=\\frac{\\mathrm{d}v}{\\mathrm{d}t} = \\frac{v-v_0}{\\Delta t}\n",
    "\\end{equation*}"
   ]
  },
  {
   "cell_type": "code",
   "execution_count": 8,
   "metadata": {},
   "outputs": [
    {
     "name": "stdout",
     "output_type": "stream",
     "text": [
      "(b) The acceleration is -4.97 m/s^2\n"
     ]
    }
   ],
   "source": [
    "v0 = 19.44 #(m/s)\n",
    "v=0 #(m/s)\n",
    "a = (v-v0)/t\n",
    "print('(b) The acceleration is {one} m/s^2'.format(one=round(a,2)))"
   ]
  },
  {
   "cell_type": "markdown",
   "metadata": {},
   "source": [
    "(c) The new breaking distance is obtained from the expression,\n",
    "\n",
    "\\begin{equation*}\n",
    "v^2=v_0^2 +2a_0(s-s_0)\n",
    "\\end{equation*}"
   ]
  },
  {
   "cell_type": "code",
   "execution_count": 9,
   "metadata": {},
   "outputs": [
    {
     "name": "stdout",
     "output_type": "stream",
     "text": [
      "(c) The new breaking diatnace is 25.33 m\n"
     ]
    }
   ],
   "source": [
    "a_new = 1.5*a #(m/s^2)\n",
    "delS = (v**2-v0**2)/(2*a_new)\n",
    "print('(c) The new breaking diatnace is {one} m'.format(one=round(delS,2)))"
   ]
  },
  {
   "cell_type": "markdown",
   "metadata": {},
   "source": [
    "## Question 3"
   ]
  },
  {
   "cell_type": "markdown",
   "metadata": {},
   "source": [
    "A cheetah has a top speed of $120.7\\:km/h$. If we assume a constant rate of acceleration and that the cheetah can reach its top speed in $4$ seconds, what distance can the cheetah cover in $10$ seconds?"
   ]
  },
  {
   "cell_type": "markdown",
   "metadata": {},
   "source": [
    "**Solution 3**"
   ]
  },
  {
   "cell_type": "markdown",
   "metadata": {},
   "source": [
    "There are two ways to approach this problem, an calculus approach and a graphical approach. We consider the calculus route first.\n",
    "\n",
    "We want to determine an expression for the velocity as a function of time. This expression can then be integrated between the relevant time limits. This expression is obtained from,\n",
    "\n",
    "\\begin{equation*}\n",
    "v=v_0 + a_0(t-t_0)\n",
    "\\end{equation*}\n",
    "\n",
    "Since $v_0=0$ and $t_0=0$ we have $v=a_0t$. We therefore need to evaluate the acceleration,\n",
    "\n",
    "\\begin{equation*}\n",
    "a=\\frac{\\mathrm{d}v}{\\mathrm{d}t} = \\frac{v-v_0}{\\Delta t}\n",
    "\\end{equation*}"
   ]
  },
  {
   "cell_type": "code",
   "execution_count": 10,
   "metadata": {},
   "outputs": [
    {
     "name": "stdout",
     "output_type": "stream",
     "text": [
      "The acceleration is 8.375 m/s^2\n"
     ]
    }
   ],
   "source": [
    "v = 33.5 #(m/s)\n",
    "delT = 4 #(s)\n",
    "a0 = v/delT #(m/s^2)\n",
    "print('The acceleration is {one} m/s^2'.format(one=a0))"
   ]
  },
  {
   "cell_type": "markdown",
   "metadata": {},
   "source": [
    "Now since,\n",
    "\n",
    "\\begin{equation*}\n",
    "v = \\frac{\\mathrm{d}s}{\\mathrm{d}t}\n",
    "\\end{equation*}\n",
    "\n",
    "we have,\n",
    "\n",
    "\\begin{equation*}\n",
    "\\int_0^s \\mathrm{d}s = \\int_0^4 a_0t\\:\\mathrm{d}t\n",
    "\\end{equation*}"
   ]
  },
  {
   "cell_type": "code",
   "execution_count": 11,
   "metadata": {},
   "outputs": [
    {
     "name": "stdout",
     "output_type": "stream",
     "text": [
      "The distance covered while the cheetah accelerates is 67.0 m\n"
     ]
    }
   ],
   "source": [
    "import sympy as sym #Import SymPy\n",
    "tsym = sym.Symbol('t') #Define symbol for 't' \n",
    "f=8.375*tsym #Function to integrate\n",
    "dist_A = sym.integrate(f, (tsym, 0, 4))\n",
    "print('The distance covered while the cheetah accelerates is {one} m'.format(one=round(dist_A,2)))"
   ]
  },
  {
   "cell_type": "markdown",
   "metadata": {},
   "source": [
    "Now we can evaluate th distance covered when the cheetah has a constant velocity (zero acceleration) for 6 seconds."
   ]
  },
  {
   "cell_type": "code",
   "execution_count": 12,
   "metadata": {},
   "outputs": [
    {
     "name": "stdout",
     "output_type": "stream",
     "text": [
      "The distance covered while the cheetah is at constant velocity is 201.0 m\n",
      "\n",
      "(b) The total distance covered in 10 seconds is 268.0 m\n"
     ]
    }
   ],
   "source": [
    "f=33.5 #Function to integrate (constant velocity)\n",
    "dist_B = sym.integrate(f, (tsym, 4, 10))\n",
    "print('The distance covered while the cheetah is at constant velocity is {one} m'.format(one=round(dist_B,2)))\n",
    "print('')\n",
    "print('(b) The total distance covered in 10 seconds is {one} m'.format(one=round((dist_A+dist_B),2)))"
   ]
  },
  {
   "cell_type": "markdown",
   "metadata": {},
   "source": [
    "To solve this problem graphically, we simply sketch out the velocity-time graph and sketch the area under the graph. As you know, that's all we were actually doing when we performed the integrations above."
   ]
  },
  {
   "cell_type": "code",
   "execution_count": 13,
   "metadata": {},
   "outputs": [
    {
     "data": {
      "image/png": "[encoded data removed]",
      "text/plain": [
       "<Figure size 432x288 with 1 Axes>"
      ]
     },
     "metadata": {},
     "output_type": "display_data"
    }
   ],
   "source": [
    "#PLOTTING CODE\n",
    "fig = plt.figure() #Define a new figure\n",
    "axes = fig.add_axes([0.1,0.1,2,1]) #Add a set of axes to the figure defining axes location and size\n",
    "axes.plot([0,4],[0,v],'b') #Plot t versus v\n",
    "axes.plot([4,10],[v,v],'b') #Plot t versus v\n",
    "axes.set_xlabel('time (sec)') #set an x-label\n",
    "axes.set_ylabel('velocity (m/s)') #set a y-label\n",
    "axes.set_title('Velocity-time history') #set a title\n",
    "axes.set_xlim([0,10])\n",
    "axes.set_ylim([0,40])\n",
    "axes.grid() #Show a grid"
   ]
  },
  {
   "cell_type": "code",
   "execution_count": 14,
   "metadata": {},
   "outputs": [
    {
     "name": "stdout",
     "output_type": "stream",
     "text": [
      "The area under the graph and therefore distance covered is 268.0 m\n"
     ]
    }
   ],
   "source": [
    "Area = 0.5*(4*v) + (6*v)\n",
    "print('The area under the graph and therefore distance covered is {one} m'.format(one=Area))"
   ]
  },
  {
   "cell_type": "markdown",
   "metadata": {},
   "source": [
    "## Question 4"
   ]
  },
  {
   "cell_type": "markdown",
   "metadata": {},
   "source": [
    "In terms of the distance $s$ from the centre of the earth, the magnitude of the acceleration due to gravity is $gR_E^2/s^2$, where $R_E$ is the radius of the earth. If a spacecraft is a distance $s_0$ from the centre of the earth, derive an expression for the outward velocity $v_0$ it must it be given to reach a specified height $h$ from the earth's centre? (Note: acceleration due to gravity is towards the earth, so assume it is a negative quantity in your derivation.)"
   ]
  },
  {
   "cell_type": "markdown",
   "metadata": {},
   "source": [
    "**Solution 4**"
   ]
  },
  {
   "cell_type": "markdown",
   "metadata": {},
   "source": [
    "In this question acceleration is a function of position, $a=a(s)$. We want to integrate to determine an expression for the velocity. To do this we use the chain rule as demonstrated previously,\n",
    "\n",
    "\\begin{equation*}\n",
    "a=\\frac{\\mathrm{d}v}{\\mathrm{d}t} = \\frac{\\mathrm{d}v}{\\mathrm{d}s}\\frac{\\mathrm{d}s}{\\mathrm{d}t} = \\frac{\\mathrm{d}v}{\\mathrm{d}s}v\n",
    "\\end{equation*}\n",
    "\n",
    "Now substituting in our expression for $a(s)$, taking the acceleration towards earth as a negative,\n",
    "\n",
    "\\begin{equation*}\n",
    "\\frac{\\mathrm{d}v}{\\mathrm{d}s}v = -g\\frac{R_E^2}{s^2}\n",
    "\\end{equation*}\n",
    "\n",
    "Separating variables and integrating,\n",
    "\n",
    "\\begin{equation*}\n",
    "\\int_{v_0}^v v\\:\\mathrm{d}v = -gR_E^2\\int_{s_0}^s \\frac{1}{s^2}\\:\\mathrm{d}s\n",
    "\\end{equation*}\n",
    "\n",
    "Letting $s=h$ and $v=0$, the integration between the limits becomes, \n",
    "\n",
    "\\begin{equation*}\n",
    "\\int_{v_0}^0 v\\:\\mathrm{d}v = -gR_E^2\\int_{s_0}^h \\frac{1}{s^2}\\:\\mathrm{d}s\n",
    "\\end{equation*}\n",
    "\n",
    "Evaluating the integration and solving for $v_0$,\n",
    "\n",
    "\\begin{equation*}\n",
    "\\boxed{\n",
    "v_0 = \\sqrt{2gR_E^2\\left(\\frac{1}{s_0} - \\frac{1}{h}\\right)}\n",
    "}\n",
    "\\end{equation*}\n",
    "\n",
    "**Note**\n",
    "\n",
    "Notice that as $h$ increases, the required velocity approaches a finite limit,\n",
    "\n",
    "\\begin{equation*}\n",
    "v_{\\text{esc}} = \\lim_{h\\to\\infty} v_0 = \\sqrt{\\frac{2gR_E^2}{s_0}}\n",
    "\\end{equation*}\n",
    "\n",
    "This is known as the escape velocity. If given this initial velocity an object will continue moving outward from earth indefinitely. Once escape velocity is reached, no additional energy is required (fuel burn) to keep progressing outward to space. The escape velocity from Earth's surface is about $11,186 \\:m/s$ <a href = 'https://en.wikipedia.org/wiki/Escape_velocity'>[ref]</a>."
   ]
  },
  {
   "cell_type": "markdown",
   "metadata": {},
   "source": [
    "## Question 5"
   ]
  },
  {
   "cell_type": "markdown",
   "metadata": {},
   "source": [
    "A train is travelling with an acceleration $a(t) = 2t\\:m/s^2$ between $t=2$ seconds and $t=4$ seconds. At $t=2$ seconds, its velocity is $180\\:km/h$. \n",
    "\n",
    "- (a) What is the train's velocity at $t=4$ seconds\n",
    "- (b) How far does the train travel between $t=2$ seconds and $t=4$ seconds?"
   ]
  },
  {
   "cell_type": "markdown",
   "metadata": {},
   "source": [
    "**Solution 5**"
   ]
  },
  {
   "cell_type": "markdown",
   "metadata": {},
   "source": [
    "(a) In this question the acceleration is a function of time, $a=a(t)$,\n",
    "\n",
    "\\begin{equation*}\n",
    "a=\\frac{\\mathrm{d}v}{\\mathrm{d}t}=2t\n",
    "\\end{equation*}\n",
    "\n",
    "To obtain an expression for the velocity as a function of time we integrate,\n",
    "\n",
    "\\begin{equation*}\n",
    "\\int_{v0}^v \\mathrm{d}v = \\int_{t_0}^t 2t\\:\\mathrm{d}t\n",
    "\\end{equation*}\n",
    "\n",
    "Converting the velocity at $t=2$ seconds to $m/s$,"
   ]
  },
  {
   "cell_type": "code",
   "execution_count": 15,
   "metadata": {},
   "outputs": [
    {
     "name": "stdout",
     "output_type": "stream",
     "text": [
      "The velocity is 50.0 m/s\n"
     ]
    }
   ],
   "source": [
    "v_kmph = 180 #(km/h)\n",
    "v0 = v_kmph*(1000/3600) #(m/s)\n",
    "print('The velocity is {one} m/s'.format(one=v0))"
   ]
  },
  {
   "cell_type": "markdown",
   "metadata": {},
   "source": [
    "Now completing the integration between the limits,\n",
    "\n",
    "\\begin{equation*}\n",
    "\\int_{50}^v \\mathrm{d}v = \\int_{2}^t 2t\\:\\mathrm{d}t\n",
    "\\end{equation*}\n",
    "\n",
    "\\begin{equation*}\n",
    "v=t^2+46\n",
    "\\end{equation*}\n",
    "\n",
    "This equation can now be calculated when $t=4$ seconds,"
   ]
  },
  {
   "cell_type": "code",
   "execution_count": 16,
   "metadata": {},
   "outputs": [
    {
     "name": "stdout",
     "output_type": "stream",
     "text": [
      "(a) At 4 seconds the velocity is 62 m/s\n"
     ]
    }
   ],
   "source": [
    "t = 4 #(s)\n",
    "v = t**2+46\n",
    "print('(a) At 4 seconds the velocity is {one} m/s'.format(one=v))"
   ]
  },
  {
   "cell_type": "markdown",
   "metadata": {},
   "source": [
    "(b) To determine how far the train travels we need an equation for the position as a function of time. We employ the same technique as above,\n",
    "\n",
    "\\begin{equation*}\n",
    "v=\\frac{\\mathrm{d}s}{\\mathrm{d}t}\n",
    "\\end{equation*}\n",
    "\n",
    "\\begin{equation*}\n",
    "\\mathrm{d}s = v\\:\\mathrm{d}t = (t^2+46)\\:\\mathrm{d}t\n",
    "\\end{equation*}\n",
    "\n",
    "Integrating,\n",
    "\n",
    "\\begin{equation*}\n",
    "\\int_0^s \\mathrm{d}s = \\int_2^t (t^2+46)\\:\\mathrm{d}t\n",
    "\\end{equation*}\n",
    "\n",
    "\\begin{equation*}\n",
    "s = \\frac{t^3}{3} + 46t-94.7\n",
    "\\end{equation*}\n",
    "\n",
    "Now we simply evaluate this expression for the appropriate time interval,"
   ]
  },
  {
   "cell_type": "code",
   "execution_count": 17,
   "metadata": {},
   "outputs": [
    {
     "name": "stdout",
     "output_type": "stream",
     "text": [
      "(b)The distance covered is 110.7 m\n"
     ]
    }
   ],
   "source": [
    "t1 = 2 #(s)\n",
    "t2 = 4 #(s)\n",
    "s1 = t1**3/3 + 46*t1 - 94.7 #(m)\n",
    "s2 = t2**3/3 + 46*t2 - 94.7 #(m)\n",
    "\n",
    "print('(b)The distance covered is {one} m'.format(one=round(s2-s1,1)))"
   ]
  },
  {
   "cell_type": "markdown",
   "metadata": {},
   "source": [
    "## Answers"
   ]
  },
  {
   "cell_type": "markdown",
   "metadata": {},
   "source": [
    "1. $-2.5 m/s^2$, $480.0 \\:m$, $500.0 \\:m$\n",
    "2. $3.91\\:s$, $-4.97 \\:m/s^2$, $25.33 \\:m$\n",
    "3. $268.0 \\:m$\n",
    "4. \n",
    "\\begin{equation*}\n",
    "v_0 = \\sqrt{2gR_E^2\\left(\\frac{1}{s_0} - \\frac{1}{h}\\right)}\n",
    "\\end{equation*}\n",
    "5. $62 \\:m/s$, $110.7 \\:m$"
   ]
  }
 ],
 "metadata": {
  "hide_input": false,
  "kernelspec": {
   "display_name": "Python 3",
   "language": "python",
   "name": "python3"
  },
  "language_info": {
   "codemirror_mode": {
    "name": "ipython",
    "version": 3
   },
   "file_extension": ".py",
   "mimetype": "text/x-python",
   "name": "python",
   "nbconvert_exporter": "python",
   "pygments_lexer": "ipython3",
   "version": "3.6.4"
  }
 },
 "nbformat": 4,
 "nbformat_minor": 2
}
