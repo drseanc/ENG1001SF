{
 "cells": [
  {
   "cell_type": "code",
   "execution_count": 1,
   "metadata": {
    "deletable": false,
    "editable": false,
    "hide_input": true
   },
   "outputs": [
    {
     "name": "stdout",
     "output_type": "stream",
     "text": [
      "- Dependencies imported 👍\n",
      "- Remember to select 'Kernel-> Restart & Run All' on first load to show embedded Youtube videos 🎬\n",
      "- Author: Dr SPCarroll, Sept 2020, Rev 0\n"
     ]
    }
   ],
   "source": [
    "#DEPENDENCIES & INITIALISATIONS\n",
    "from IPython.display import HTML #For embedding videos\n",
    "import math #Basic math functionality\n",
    "import numpy as np #Numpy for working with arrays\n",
    "import matplotlib.pyplot as plt #Plotting functionality \n",
    "#HTML('<center><iframe width=\"560\" height=\"315\" src=\"#\" frameborder=\"0\" allowfullscreen></iframe></center>')\n",
    "print(\"- Dependencies imported 👍\")\n",
    "print(\"- Remember to select 'Kernel-> Restart & Run All' on first load to show embedded Youtube videos 🎬\")\n",
    "print(\"- Author: Dr SPCarroll, Sept 2020, Rev 0\")"
   ]
  },
  {
   "cell_type": "markdown",
   "metadata": {},
   "source": [
    "# Week 9: Momentum-based Analysis Methods\n",
    "Reference: Chapter 16 of Engineering Mechanics - Statics and Dynamics Principles, Bedford A. & Fowler, W., 2003"
   ]
  },
  {
   "cell_type": "markdown",
   "metadata": {},
   "source": [
    "## Question 1"
   ]
  },
  {
   "cell_type": "markdown",
   "metadata": {},
   "source": [
    "Consider a motorcycle starting from rest at $t=0$ seconds and travelling on a circular track with radius $R=400\\:m$. The combined weight of the bike and rider is $150\\:kg$ The tangential component of the total force on the motorcycle between $0\\leq t \\leq 30$ is,\n",
    "\n",
    "\\begin{equation*}\n",
    "\\sum F_t = 200-6t\\:N\n",
    "\\end{equation*}\n",
    "\n",
    "- (a) What is the magnitude of the velocity at $t=30$ seconds\n",
    "- (b) What is the average of the tangential component of the total force from $t=0$ to $t=30$ seconds.\n",
    "- (c) What is the average of the normal component of the total force from $t=0$ to $t=30$ seconds."
   ]
  },
  {
   "cell_type": "markdown",
   "metadata": {},
   "source": [
    "**Solution 1(a)**"
   ]
  },
  {
   "cell_type": "markdown",
   "metadata": {},
   "source": [
    "Since we are considering the motion along a curved path, we can use the scalar form of the principle of impulse and momentum,\n",
    "\n",
    "\\begin{equation*}\n",
    "\\int_{t_1}^{t_2} \\sum F_t\\:\\mathrm{d}t = m v_2 - m v_1\n",
    "\\end{equation*}\n",
    "\n",
    "\\begin{equation*}\n",
    "\\int_{0}^{30} (200-6t)\\:\\mathrm{d}t = 150v_2\n",
    "\\end{equation*}\n",
    "\n",
    "Integrating between the limits and solving for $v_2$,\n",
    "\n",
    "\\begin{equation*}\n",
    "v_2 = 22\\:m/s\n",
    "\\end{equation*}"
   ]
  },
  {
   "cell_type": "markdown",
   "metadata": {},
   "source": [
    "**Solution 1(b)**"
   ]
  },
  {
   "cell_type": "markdown",
   "metadata": {},
   "source": [
    "We can use equation (6) to solve for the average force,\n",
    "\n",
    "\\begin{equation*}\n",
    "(t_2-t_1)\\sum F_{t,avg} = m v_2 - m v_1\n",
    "\\end{equation*}\n",
    "\n",
    "\\begin{equation*}\n",
    "(30-0)\\sum F_{t,avg} = (150)(22) \n",
    "\\end{equation*}\n",
    "\n",
    "\\begin{equation*}\n",
    "F_{t,avg} = 110\\:N\n",
    "\\end{equation*}"
   ]
  },
  {
   "cell_type": "markdown",
   "metadata": {},
   "source": [
    "**Solution 1(c)**"
   ]
  },
  {
   "cell_type": "markdown",
   "metadata": {},
   "source": [
    "We need to first determine an expression for the normal component of force. From part (a) above we can obtain an expression for the velocity as a function of time,\n",
    "\n",
    "\\begin{equation*}\n",
    "v = \\frac{200t - 3t^2}{150}\n",
    "\\end{equation*}\n",
    "\n",
    "We're dealing with circular motion and we have previously seen that the acceleration in the normal direction can be obtained as a function of the velocity,\n",
    "\n",
    "\\begin{equation*}\n",
    "a_n = \\frac{v^2}{R}\n",
    "\\end{equation*}\n",
    "\n",
    "Now considering Newton's second law in the normal direction we have,\n",
    "\n",
    "\\begin{equation*}\n",
    "\\sum F_n = m\\frac{v^2}{R}\n",
    "\\end{equation*}\n",
    "\n",
    "Noting that $R=400\\:m$ and $m=150\\:kg$, we obtain our expression for the normal force as a function of time,\n",
    "\n",
    "\\begin{equation*}\n",
    "\\sum F_n = \\frac{(200t-3t^2)^2(150)}{(150^2)(400)}\n",
    "\\end{equation*}\n",
    "\n",
    "Now, using the scalar form of equation (5) we have,\n",
    "\n",
    "\\begin{equation*}\n",
    "\\sum F_{n,avg} = \\frac{1}{30-0}\\int_{0}^{30} \\frac{(200t-3t^2)^2(150)}{(150^2)(400)}\\:\\mathrm{d}t\n",
    "\\end{equation*}\n",
    "\n",
    "Using SymPy to complete the integration,"
   ]
  },
  {
   "cell_type": "code",
   "execution_count": 2,
   "metadata": {},
   "outputs": [
    {
     "name": "stdout",
     "output_type": "stream",
     "text": [
      "1(c). The average of the normal component of force is 89.3 N\n"
     ]
    }
   ],
   "source": [
    "import sympy as sym #Import SymPy\n",
    "t = sym.Symbol('t') #Define symbol for t \n",
    "f = (150*(200*t - 3*t**2)**2)/(400*150**2) #Construct the function to integrate\n",
    "Fn = (1/30)*sym.integrate(f, (t, 0, 30)) #Evaluate integral between the limits\n",
    "print('1(c). The average of the normal component of force is {one} N'.format(one=round(Fn,1)))"
   ]
  },
  {
   "cell_type": "markdown",
   "metadata": {},
   "source": [
    "## Question 2"
   ]
  },
  {
   "cell_type": "markdown",
   "metadata": {},
   "source": [
    "A golfer striking golf balls in the lab is recorded by a high-speed camera that records an image every $0.001$ seconds. The golf balls have a diameter of $43\\:mm$ and weight $50\\:g$ (grammes). The club is in contact with the ball for $0.0006$ seconds. If the ball travels $49\\:mm$ between images on a linear trajectory orientated at $21^\\circ$ counterclockwise to the positive x-axis, determine the average value of the impulse force exerted on the ball during contact with the club, $\\sum \\mathbf{F}_{avg}$."
   ]
  },
  {
   "cell_type": "markdown",
   "metadata": {},
   "source": [
    "![title](img/T2W9/img2.jpg)\n",
    "<center>Question 2.</center>"
   ]
  },
  {
   "cell_type": "markdown",
   "metadata": {},
   "source": [
    "**Solution 2**"
   ]
  },
  {
   "cell_type": "markdown",
   "metadata": {},
   "source": [
    "We can obtain the average force over the duration using equation (6),\n",
    "\n",
    "\\begin{equation*}\n",
    "(t_2-t_1) \\sum \\mathbf{F}_{avg} = m\\mathbf{v}_2 - m\\mathbf{v}_1\n",
    "\\end{equation*}\n",
    "\n",
    "First we work out the magnitude of the ball's velocity in $m/s$."
   ]
  },
  {
   "cell_type": "code",
   "execution_count": 3,
   "metadata": {},
   "outputs": [
    {
     "name": "stdout",
     "output_type": "stream",
     "text": [
      "The velocity magnitude of the ball is 49.0 m/s\n"
     ]
    }
   ],
   "source": [
    "d = 0.049 #(m) Distance travelled in 0.001s\n",
    "vMag = d*1000 #(m/s) Distance travelled in 1 second (velocity)\n",
    "print('The velocity magnitude of the ball is {one} m/s'.format(one=round(vMag,1)))"
   ]
  },
  {
   "cell_type": "markdown",
   "metadata": {},
   "source": [
    "Next we need to determine the $x$ and $y$ component of the velocity in order to determine the velocity vector $\\mathbf{v}_2$."
   ]
  },
  {
   "cell_type": "code",
   "execution_count": 4,
   "metadata": {},
   "outputs": [
    {
     "name": "stdout",
     "output_type": "stream",
     "text": [
      "The horizontal component of the ball's velocity is 45.75 m/s\n",
      "The vertical component of the ball's velocity is 17.56 m/s\n"
     ]
    }
   ],
   "source": [
    "theta_deg = 21 #(degrees)\n",
    "theta = theta_deg*(math.pi/180)\n",
    "vx = vMag*math.cos(theta) #(m/s) Horizontal component of velocity\n",
    "vy = vMag*math.sin(theta) #(m/s) Vertical component of velocity\n",
    "print(\"The horizontal component of the ball's velocity is {one} m/s\".format(one=round(vx,2)))\n",
    "print(\"The vertical component of the ball's velocity is {one} m/s\".format(one=round(vy,2)))"
   ]
  },
  {
   "cell_type": "markdown",
   "metadata": {},
   "source": [
    "Therefore the velocity vector is $\\mathbf{v}_2 = 45.75\\:\\mathbf{i} + 17.56\\:\\mathbf{j}$. Noting that the ball starts from rest, $\\mathbf{v}_1=0$, we can now solve for $\\sum \\mathbf{F}_{avg}$."
   ]
  },
  {
   "cell_type": "code",
   "execution_count": 5,
   "metadata": {},
   "outputs": [
    {
     "name": "stdout",
     "output_type": "stream",
     "text": [
      "The horizontal component of force is 3812.1 N\n",
      "The vertical component of force is 1463.3 N\n"
     ]
    }
   ],
   "source": [
    "delT = 0.0006 #(s) Contact time t2-t1\n",
    "m = 50/1000 #(kg)\n",
    "Fx = (m/delT)*vx\n",
    "Fy = (m/delT)*vy\n",
    "print(\"The horizontal component of force is {one} N\".format(one=round(Fx,1)))\n",
    "print(\"The vertical component of force is {one} N\".format(one=round(Fy,1)))"
   ]
  },
  {
   "cell_type": "markdown",
   "metadata": {},
   "source": [
    "Therefore the average force vector is,\n",
    "\n",
    "\\begin{equation*}\n",
    "\\sum \\mathbf{F}_{avg} = (3812\\:\\mathbf{i} + 1463\\:\\mathbf{j})\\:N\n",
    "\\end{equation*}"
   ]
  },
  {
   "cell_type": "markdown",
   "metadata": {},
   "source": [
    "## Question 3"
   ]
  },
  {
   "cell_type": "markdown",
   "metadata": {},
   "source": [
    "The Apollo command service module (CSM) attempts to dock with the Soyuz capsule in July 15, 1975. Their masses are $m_A = 18000 \\:kg$ (CSM) and $m_B = 6600 \\:kg$ (Soyuz). The Soyuz can be considered stationary in this analysis. The CSM approaches with velocity\n",
    "\n",
    "\\begin{equation*}\n",
    "v_A = 0.2\\mathbf{i} + 0.03\\mathbf{j} - 0.02\\mathbf{k}\\:m/s\n",
    "\\end{equation*}\n",
    "\n",
    "- (a) If the first attempt at docking is successful, what is the velocity of the center of mass of the combined vehicles afterward?\n",
    "\n",
    "- (b) If the first attempt is unsuccessful and the coefficient of restitution of the resulting impact is $e = 0.95$, what are the velocities of the two spacecraft after the impact? Assume that a direct central impact occurs along the x-direction."
   ]
  },
  {
   "cell_type": "markdown",
   "metadata": {},
   "source": [
    "![title](img/T2W9/img1.jpg)\n",
    "<center>Question 3.</center>"
   ]
  },
  {
   "cell_type": "markdown",
   "metadata": {},
   "source": [
    "**Solution 3(a)**"
   ]
  },
  {
   "cell_type": "markdown",
   "metadata": {},
   "source": [
    "Since both masses can be considered as a single mass after the impact, we only have one unknown to solve for and can use equation (13) to solve for the velocity of the combined mass.\n",
    "\n",
    "\\begin{equation*}\n",
    "\\mathbf{v} = \\frac{m_A\\mathbf{v}_A + m_B\\mathbf{v}_B}{(m_A+m_B)}\n",
    "\\end{equation*}"
   ]
  },
  {
   "cell_type": "code",
   "execution_count": 6,
   "metadata": {},
   "outputs": [
    {
     "name": "stdout",
     "output_type": "stream",
     "text": [
      "The x-component of the velocity of the combined mass is 0.146 m/s\n",
      "The y-component of the velocity of the combined mass is 0.022 m/s\n",
      "The z-component of the velocity of the combined mass is -0.015 m/s\n"
     ]
    }
   ],
   "source": [
    "mA = 18000 #(kg)\n",
    "mB = 6600 #(kg)\n",
    "vAi = 0.2 #(m/s) x-component of velocity of mass A\n",
    "vAj = 0.03 #(m/s) y-component of velocity of mass A\n",
    "vAk = -0.02 #(m/s) z-component of velocity of mass A\n",
    "\n",
    "vx = (mA/(mA+mB))*vAi #(m/s) x-component of combined velocity post-docking\n",
    "vy = (mA/(mA+mB))*vAj #(m/s) y-component of combined velocity post-docking\n",
    "vz = (mA/(mA+mB))*vAk #(m/s) z-component of combined velocity post-docking\n",
    "\n",
    "print(\"The x-component of the velocity of the combined mass is {one} m/s\".format(one=round(vx,3)))\n",
    "print(\"The y-component of the velocity of the combined mass is {one} m/s\".format(one=round(vy,3)))\n",
    "print(\"The z-component of the velocity of the combined mass is {one} m/s\".format(one=round(vz,3)))"
   ]
  },
  {
   "cell_type": "markdown",
   "metadata": {},
   "source": [
    "\\begin{equation*}\n",
    "\\mathbf{v} = (0.146\\:\\mathbf{i} + 0.022\\:\\mathbf{j}-0.015\\:\\mathbf{k})\\:m/s\n",
    "\\end{equation*}"
   ]
  },
  {
   "cell_type": "markdown",
   "metadata": {},
   "source": [
    "**Solution 3(b)**"
   ]
  },
  {
   "cell_type": "markdown",
   "metadata": {},
   "source": [
    "Now we have two post-impact velocities to solve for and so we need two equations; the first will be the conservation of linear momentum equation in the $x$ direction,\n",
    "\n",
    "\\begin{equation*}\n",
    "m_A\\mathbf{v}_{A,x} + m_B\\mathbf{v}_{B,x} = m_A\\mathbf{v}'_{A,x} + m_B\\mathbf{v}'_{B,x}\n",
    "\\end{equation*}\n",
    "\n",
    "Noting the velocity of the Soyuz is zero before impact, $\\mathbf{v}_{B,x}=0$,\n",
    "\n",
    "\\begin{equation*}\n",
    "(18000)(0.2) + (6600)(0) = (18000)(\\mathbf{v}'_{A,x}) + (6600)(\\mathbf{v}'_{B,x})\n",
    "\\end{equation*}\n",
    "\n",
    "\\begin{equation*}\n",
    "18000\\mathbf{v}'_{A,x} + 6600\\mathbf{v}'_{B,x} = 3600\n",
    "\\end{equation*}\n",
    "\n"
   ]
  },
  {
   "cell_type": "markdown",
   "metadata": {},
   "source": [
    "To obtain our second equation, we use equation (23) for the coefficient of restitution, \n",
    "\n",
    "\\begin{equation*}\n",
    "e = \\frac{\\mathbf{v}'_{B,x} - \\mathbf{v}'_{A,x}}{\\mathbf{v}_{A,x}-\\mathbf{v}_{B,x}}\n",
    "\\end{equation*}\n",
    "\n",
    "\\begin{equation*}\n",
    "0.95 = \\frac{\\mathbf{v}'_{B,x} - \\mathbf{v}'_{A,x}}{0.2-0}\n",
    "\\end{equation*}\n",
    "\n",
    "\\begin{equation*}\n",
    "-\\mathbf{v}'_{A,x} + \\mathbf{v}'_{B,x} = 0.19\n",
    "\\end{equation*}\n",
    "\n",
    "Solving both equations simultaneously yields,\n",
    "\n",
    "\\begin{equation*}\n",
    "\\mathbf{v}'_{A} = (0.095\\mathbf{i} + 0.03\\mathbf{j}-0.02\\mathbf{k})\\:m/s\n",
    "\\end{equation*}\n",
    "\n",
    "\\begin{equation*}\n",
    "\\mathbf{v}'_{B} = 0.285\\mathbf{i}\\:m/s\n",
    "\\end{equation*}\n",
    "\n",
    "Note that only the $x$ or $\\mathbf{i}$ component of the velocity of each mass had been altered by the collision. "
   ]
  },
  {
   "cell_type": "markdown",
   "metadata": {},
   "source": [
    "## Question 4"
   ]
  },
  {
   "cell_type": "markdown",
   "metadata": {},
   "source": [
    "Suppose that you investigate an accident in which a $1300\\:kg$ car $A$ struck a parked $1200 \\:kg$ car $B$. All four of car $B$'s wheels were locked and skid marks indicate that it slid $8\\:m$ after the impact. If you estimate the coefficient of kinetic friction between $B$'s tires and the road to be $\\mu_k = 0.8$ and the coefficient of restitution of the impact to be $e = 0.4$, what was $A$'s velocity $v_A$ just before the impact?\n",
    "\n",
    "**Hint:** Start by finding the velocity of car B immediately after the impact.\n"
   ]
  },
  {
   "cell_type": "markdown",
   "metadata": {},
   "source": [
    "![title](img/T2W9/img3.jpg)\n",
    "<center>Question 4.</center>"
   ]
  },
  {
   "cell_type": "markdown",
   "metadata": {},
   "source": [
    "**Solution 4**"
   ]
  },
  {
   "cell_type": "markdown",
   "metadata": {},
   "source": [
    "We know how far car $B$ has moved after the impact so we can start by working back to determine its velocity immediately after the impact. Once we know the velocity of car $B$ after the impact we can use conservation of momentum to determine the velocity of car $A$ before the impact.\n",
    "\n",
    "Considering car $B$ post impact; the work done by the friction force between the wheels and road is,\n",
    "\n",
    "\\begin{equation*}\n",
    "U = m_B\\:g\\:\\mu_k\\:d\n",
    "\\end{equation*}\n",
    "\n",
    "where $d$ is the distance the car has skidded. We know this is equal to the change in kinetic energy and since the final velocity is zero, this is given by,\n",
    "\n",
    "\\begin{equation*}\n",
    "U = \\frac{1}{2} m_B v_B^2\n",
    "\\end{equation*}\n",
    "\n",
    "where $v_B$ is the post-impact velocity we are trying to find. "
   ]
  },
  {
   "cell_type": "code",
   "execution_count": 7,
   "metadata": {},
   "outputs": [
    {
     "name": "stdout",
     "output_type": "stream",
     "text": [
      "The post-impact velocity of car B is 11.21 m/s.\n"
     ]
    }
   ],
   "source": [
    "uk = 0.8 # Coefficient of friction\n",
    "d = 8 #(m) Skid distance\n",
    "vb = math.sqrt(2*9.81*uk*d) #(m/s) \n",
    "print(\"The post-impact velocity of car B is {one} m/s.\".format(one=round(vb,2)))"
   ]
  },
  {
   "cell_type": "markdown",
   "metadata": {},
   "source": [
    "We can now use conservation of momentum and the coefficient of restitution to determine $v_A$. Considering conservation of momentum first,\n",
    "\n",
    "\\begin{equation*}\n",
    "m_A\\:v_A + m_B\\:v_B = m_A\\:v_A' + m_B\\:v_B'\n",
    "\\end{equation*}\n",
    "\n",
    "Since car $B$ is stationary before the impact,\n",
    "\n",
    "\\begin{equation*}\n",
    "(1300)\\:v_A = (1300)\\:v_A' + (1200)\\:(11.21)\n",
    "\\end{equation*}\n",
    "\n",
    "\\begin{equation*}\n",
    "\\boxed{\n",
    "1300\\:v_A -1300\\:v_A' =13452\n",
    "}\n",
    "\\end{equation*}"
   ]
  },
  {
   "cell_type": "markdown",
   "metadata": {},
   "source": [
    "Now using the coefficient of restitution,\n",
    "\n",
    "\\begin{equation*}\n",
    "v_A\\:e = v_B'-v_A'\n",
    "\\end{equation*}\n",
    "\n",
    "\\begin{equation*}\n",
    "\\boxed{\n",
    "0.4\\:v_A + v_A' = 11.21\n",
    "}\n",
    "\\end{equation*}"
   ]
  },
  {
   "cell_type": "markdown",
   "metadata": {},
   "source": [
    "Solving the preceding two boxed equations yields $v_A'=5.05\\:m/s$ and $v_A = 15.4\\:m/s$ which is the velocity of car $A$ just before impact. "
   ]
  },
  {
   "cell_type": "markdown",
   "metadata": {},
   "source": [
    "## Question 5"
   ]
  },
  {
   "cell_type": "markdown",
   "metadata": {},
   "source": [
    "A ball bouncing on the ground achieves two successive bounce heights of $h_1=5.1\\:cm$ and $h_2 = 3.1\\:m$. Estimate the coefficient of restitution."
   ]
  },
  {
   "cell_type": "markdown",
   "metadata": {},
   "source": [
    "![title](img/T2W9/img4.jpg)\n",
    "<center>Question 5.</center>"
   ]
  },
  {
   "cell_type": "markdown",
   "metadata": {},
   "source": [
    "**Solution 5**"
   ]
  },
  {
   "cell_type": "markdown",
   "metadata": {},
   "source": [
    "We start by considering the sum of the kinetic and potential energy for the ball when it is at height $h_1$ and its velocity magnitude is zero,\n",
    "\n",
    "\\begin{equation*}\n",
    "\\frac{1}{2}m(0^2) + mgh_1 \n",
    "\\end{equation*}\n",
    "\n",
    "This must equal the sum of total energy when the ball has fallen, just before impact when it's height is zero and it has velocity $v_{\\text{ball}}$,\n",
    "\n",
    "\\begin{equation*}\n",
    "\\frac{1}{2}mv_{\\text{ball}}^2 + mg(0)\n",
    "\\end{equation*}\n",
    "\n",
    "Equating the energy statements,\n",
    "\n",
    "\\begin{equation*}\n",
    "v_{\\text{ball}} = \\sqrt{2gh_1}\n",
    "\\end{equation*}\n",
    "\n",
    "We can follow the same procedure for the post impact flight of the ball to a height of $h_2$ to yield an expression for the post impact velocity,\n",
    "\n",
    "\\begin{equation*}\n",
    "v_{\\text{ball}}' = \\sqrt{2gh_2}\n",
    "\\end{equation*}\n",
    "\n",
    "We can now consider our expression for the coefficient of restitution noting that the ground is stationary $(v_B = v_B'=0)$,\n",
    "\n",
    "\\begin{equation*}\n",
    "e=\\frac{-v_A'}{v_A} = \\sqrt{\\frac{h_2}{h_1}}\n",
    "\\end{equation*}"
   ]
  },
  {
   "cell_type": "code",
   "execution_count": 8,
   "metadata": {},
   "outputs": [
    {
     "name": "stdout",
     "output_type": "stream",
     "text": [
      "The coefficient of restitution is 0.78\n"
     ]
    }
   ],
   "source": [
    "h1 = 5.1\n",
    "h2 = 3.1\n",
    "e=math.sqrt(h2/h1)\n",
    "print('The coefficient of restitution is {one}'.format(one=round(e,2)))"
   ]
  },
  {
   "cell_type": "markdown",
   "metadata": {},
   "source": [
    "## Answers"
   ]
  },
  {
   "cell_type": "markdown",
   "metadata": {},
   "source": [
    "1. $22\\:m/s$, $110\\:N$, $89.3 \\:N$\n",
    "2. $\\sum \\mathbf{F}_{avg} = (3812\\:\\mathbf{i} + 1463\\:\\mathbf{j})\\:N$\n",
    "3.  - $\\mathbf{v} = (0.146\\:\\mathbf{i} + 0.022\\:\\mathbf{j}-0.015\\:\\mathbf{k})\\:m/s$, \n",
    "    - $\\mathbf{v}'_{A} = (0.095\\mathbf{i} + 0.03\\mathbf{j}-0.02\\mathbf{k})\\:m/s$\n",
    "    - $\\mathbf{v}'_{B} = 0.285\\mathbf{i}\\:m/s$\n",
    "4. $15.4\\:m/s$\n",
    "5. $0.78$"
   ]
  }
 ],
 "metadata": {
  "hide_input": false,
  "kernelspec": {
   "display_name": "Python 3",
   "language": "python",
   "name": "python3"
  },
  "language_info": {
   "codemirror_mode": {
    "name": "ipython",
    "version": 3
   },
   "file_extension": ".py",
   "mimetype": "text/x-python",
   "name": "python",
   "nbconvert_exporter": "python",
   "pygments_lexer": "ipython3",
   "version": "3.6.4"
  }
 },
 "nbformat": 4,
 "nbformat_minor": 2
}
