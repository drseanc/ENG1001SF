{
 "cells": [
  {
   "cell_type": "code",
   "execution_count": 1,
   "metadata": {
    "deletable": false,
    "editable": false,
    "hide_input": true
   },
   "outputs": [
    {
     "name": "stdout",
     "output_type": "stream",
     "text": [
      "- Dependencies imported 👍\n",
      "- Remember to select 'Kernel-> Restart & Run All' on first load to show embedded Youtube videos 🎬\n",
      "- Author: Dr H Alwi & Dr SPCarroll, Sept 2020, Rev 0\n"
     ]
    }
   ],
   "source": [
    "#DEPENDENCIES & INITIALISATIONS\n",
    "from IPython.display import HTML #For embedding videos\n",
    "import math #Basic math functionality\n",
    "import numpy as np #Numpy for working with arrays\n",
    "import matplotlib.pyplot as plt #Plotting functionality \n",
    "#HTML('<center><iframe width=\"560\" height=\"315\" src=\"#\" frameborder=\"0\" allowfullscreen></iframe></center>')\n",
    "print(\"- Dependencies imported 👍\")\n",
    "print(\"- Remember to select 'Kernel-> Restart & Run All' on first load to show embedded Youtube videos 🎬\")\n",
    "print(\"- Author: Dr H Alwi & Dr SPCarroll, Sept 2020, Rev 0\")"
   ]
  },
  {
   "cell_type": "markdown",
   "metadata": {},
   "source": [
    "# Week 5: Curvilinear and Angular Motion\n",
    "Reference: Chapter 13 of Engineering Mechanics - Statics and Dynamics Principles, Bedford A. & Fowler, W., 2003"
   ]
  },
  {
   "cell_type": "markdown",
   "metadata": {},
   "source": [
    "## Question 1"
   ]
  },
  {
   "cell_type": "markdown",
   "metadata": {},
   "source": [
    "The skier in the image below leaves the $20^{\\circ}$ surface at $10\\:m/s$. Determine the distance $d$ to the point where he lands. This is a tricky question - stick with it!\n",
    "\n",
    "**Hints:**\n",
    "\n",
    "- Establish an origin point at the skiers' location just before he departs the ramp.\n",
    "- Determine expressions for his $x$ and $y$ velocity components and integrate these to get $x$ and $y$ position as a function of time. \n",
    "- Then think about how you can use these expressions, combined with the geometry of the slope (given for a reason) to determine the time the skier lands. \n",
    "- Once you know **when** he lands it's easy to work out his position at this time.\n",
    "- Remember we're treating the skier as a projectile, so horizontal acceleration is zero and vertical acceleration is due to gravity."
   ]
  },
  {
   "cell_type": "markdown",
   "metadata": {},
   "source": [
    "![title](img/T2W5/img1.jpg)"
   ]
  },
  {
   "cell_type": "markdown",
   "metadata": {},
   "source": [
    "**Solution 1**"
   ]
  },
  {
   "cell_type": "markdown",
   "metadata": {},
   "source": [
    "First we need to determine the $x$ and $y$ components of velocity; since the magnitude is $10\\:m/s$ and the take-off angle is $20^\\circ$, we have,\n",
    "\n",
    "\\begin{align*}\n",
    "v_x &= 10\\cos 20^\\circ\\\\\n",
    "v_y &= -10\\sin 20^\\circ\n",
    "\\end{align*}"
   ]
  },
  {
   "cell_type": "code",
   "execution_count": 2,
   "metadata": {},
   "outputs": [
    {
     "name": "stdout",
     "output_type": "stream",
     "text": [
      "vx = 9.4 m/s\n",
      "vy = -3.42 m/s\n"
     ]
    }
   ],
   "source": [
    "vMag = 10 #(m/s)\n",
    "theta = 20 #(deg)\n",
    "theta_rad = theta*math.pi/180\n",
    "vx = 10*math.cos(theta_rad) #(m/s)\n",
    "vy = -10*math.sin(theta_rad) #(m/s)\n",
    "print('vx = {one} m/s'.format(one=round(vx,2)))\n",
    "print('vy = {one} m/s'.format(one=round(vy,2)))"
   ]
  },
  {
   "cell_type": "markdown",
   "metadata": {},
   "source": [
    "The $x$ component of acceleration, $a_x=0$, i.e. the velocity is constant therefore,\n",
    "\n",
    "\\begin{equation*}\n",
    "v_x = \\frac{\\mathrm{d}x}{\\mathrm{d}t} = 9.4\\:m/s\n",
    "\\end{equation*}\n",
    "\n",
    "Integrating,\n",
    "\n",
    "\\begin{equation*}\n",
    "\\int_0^x \\mathrm{d}x = \\int_0^t 9.4\\mathrm{d}t\n",
    "\\end{equation*}\n",
    "\n",
    "which yields,\n",
    "\n",
    "\\begin{equation*}\n",
    "\\boxed{\n",
    "x=9.4t\\:m\n",
    "}\n",
    "\\end{equation*}"
   ]
  },
  {
   "cell_type": "markdown",
   "metadata": {},
   "source": [
    "The $y$ component of acceleration is due to gravity,\n",
    "\n",
    "\\begin{equation*}\n",
    "a_y = \\frac{\\mathrm{d}v_y}{\\mathrm{d}t}=-9.81\\:m/s^2\n",
    "\\end{equation*}\n",
    "\n",
    "Therefore we need to integrate to determine $v_y$ as a function of time,\n",
    "\n",
    "\\begin{equation*}\n",
    "\\int_{-3.42}^{v_y} \\mathrm{d}v_y = \\int_0^t-9.81\n",
    "\\end{equation*}\n",
    "\n",
    "\\begin{equation*}\n",
    "v_y = \\frac{\\mathrm{d}y}{\\mathrm{d}t} = -3.42-9.81t\n",
    "\\end{equation*}\n",
    "\n",
    "Integrating again to determine $y$ as a function of $t$,\n",
    "\n",
    "\\begin{equation*}\n",
    "\\int_0^y \\mathrm{d}y = \\int_0^t(-3.42-9.81t)\\mathrm{d}t\n",
    "\\end{equation*}\n",
    "\n",
    "which yields,\n",
    "\n",
    "\\begin{equation*}\n",
    "\\boxed{\n",
    "y=-3.42t-4.905t^2\\:m\n",
    "}\n",
    "\\end{equation*}"
   ]
  },
  {
   "cell_type": "markdown",
   "metadata": {},
   "source": [
    "The next step is to build an equation that describes the slope (inclined blue line) the skier will land on, see below. Ultimately we are trying to determine where the skiers' trajectory intersects with this line."
   ]
  },
  {
   "cell_type": "markdown",
   "metadata": {},
   "source": [
    "![title](img/T2W5/img4.jpg)"
   ]
  },
  {
   "cell_type": "markdown",
   "metadata": {},
   "source": [
    "The slope of the line is,\n",
    "\n",
    "\\begin{equation*}\n",
    "\\text{slope}=\\frac{\\Delta x}{\\Delta y} = \\tan(45^\\circ) = -1 (\\text{negative because downwards})\n",
    "\\end{equation*}\n",
    "\n",
    "So the equation of the line is,\n",
    "\n",
    "\\begin{equation*}\n",
    "y=(-1)x + C\n",
    "\\end{equation*}\n",
    "\n",
    "where $C$ is a constant. We determine $C$ using the fact that $x=0$ and $y=-3$, therefore,\n",
    "\n",
    "\\begin{align*}\n",
    "-3&=(-1)0 + C\\\\\n",
    "-3&=C\n",
    "\\end{align*}\n",
    "\n",
    "Therefore the equation describing the $45^\\circ$ slope is,\n",
    "\n",
    "\\begin{equation*}\n",
    "\\boxed{\n",
    "y=-x-3\\:m\n",
    "}\n",
    "\\end{equation*}"
   ]
  },
  {
   "cell_type": "markdown",
   "metadata": {},
   "source": [
    "We now have three simultaneous equations; we can obtain the time at which the skier lands by substituting equations for $x$ and $y$ into our equation describing the slope,\n",
    "\n",
    "\\begin{align*}\n",
    "y &= -x-3\\\\\n",
    "-3.42t-4.905t^2 &= -(9.4t)-3\n",
    "\\end{align*}\n",
    "\n",
    "Solving for $t$ yields $t=1.6\\:s$. We can now evaluate expressions for $x$ and $y$ at $t=1.6\\:s$."
   ]
  },
  {
   "cell_type": "code",
   "execution_count": 3,
   "metadata": {},
   "outputs": [
    {
     "name": "stdout",
     "output_type": "stream",
     "text": [
      "The distance travelled in the x direction is 15.04 m\n",
      "The distance travelled in the y direction is -18.03 m\n"
     ]
    }
   ],
   "source": [
    "tLand = 1.6 #(s) Landing time\n",
    "x = 9.4*tLand #(m)\n",
    "y = -3.42*tLand - 4.905*tLand**2 #(m)\n",
    "print('The distance travelled in the x direction is {one} m'.format(one=round(x,2)))\n",
    "print('The distance travelled in the y direction is {one} m'.format(one=round(y,2)))"
   ]
  },
  {
   "cell_type": "markdown",
   "metadata": {},
   "source": [
    "![title](img/T2W5/img5.jpg)"
   ]
  },
  {
   "cell_type": "markdown",
   "metadata": {},
   "source": [
    "We can determine the distance $d$ as follows,\n",
    "\n",
    "\\begin{equation*}\n",
    "d=\\sqrt{15^2 + (18-3)^2}\n",
    "\\end{equation*}"
   ]
  },
  {
   "cell_type": "code",
   "execution_count": 4,
   "metadata": {},
   "outputs": [
    {
     "name": "stdout",
     "output_type": "stream",
     "text": [
      "The distance d is 21.24 m\n"
     ]
    }
   ],
   "source": [
    "d = (x**2 + (abs(18)-3)**2)**0.5\n",
    "print('The distance d is {one} m'.format(one=round(d,2)))"
   ]
  },
  {
   "cell_type": "markdown",
   "metadata": {},
   "source": [
    "## Question 2"
   ]
  },
  {
   "cell_type": "markdown",
   "metadata": {},
   "source": [
    "The rotor of a jet engine is rotating at $10000\\:rpm$ (revolutions per minute) when the fuel is cut off. The ensuing angular acceleration is $\\alpha=-0.02\\omega$, where $\\omega$ is the angular velocity in $rad/s$. \n",
    "\n",
    "- (a) How long does it take the rotor to slowdown to $1000\\:rpm$?\n",
    "- (b) How many revolutions does the rotor turn while decelerating to $1000\\:rpm?$\n",
    "\n",
    "**Hint:** Remember to employ the same solution strategies you would in the case of linear motion. "
   ]
  },
  {
   "cell_type": "markdown",
   "metadata": {},
   "source": [
    "![title](img/T2W5/img6.jpg)"
   ]
  },
  {
   "cell_type": "markdown",
   "metadata": {},
   "source": [
    "**Solution 2**"
   ]
  },
  {
   "cell_type": "markdown",
   "metadata": {},
   "source": [
    "First things first, we need to work out the conversion between revolutions per minute and rads/sec,\n",
    "\n",
    "\\begin{equation*}\n",
    "1\\:rpm = 1\\frac{\\text{revolution}}{\\text{min}}\\times\\frac{2\\pi\\:rad}{\\text{revolution}}\\times\\frac{1\\:\\text{min}}{60\\:s} = \\frac{\\pi}{30} rad/s \n",
    "\\end{equation*}\n",
    "\n",
    "(a) To determine the time taken for the velocity to reduce to $1000 \\:rpm$ we need an equation for angular velocity as a function of time. Therefore starting with an expression for acceleration as a function of velocity, we separate variables and integrate,\n",
    "\n",
    "\\begin{equation*}\n",
    "\\frac{\\mathrm{d}\\omega}{\\mathrm{d}t} = -0.02\\omega\n",
    "\\end{equation*}\n",
    "\n",
    "\\begin{equation*}\n",
    "\\frac{\\mathrm{d}\\omega}{\\omega} = -0.02\\:\\mathrm{d}t\n",
    "\\end{equation*}\n",
    "\n",
    "Now integrating with velocity limits set at the initials and final velocity,\n",
    "\n",
    "\\begin{equation*}\n",
    "\\int_{10,000\\pi/30}^{1000\\pi/30}\\frac{1}{\\omega}\\mathrm{d}\\omega = \\int_0^t-0.02\\mathrm{d}t\n",
    "\\end{equation*}"
   ]
  },
  {
   "cell_type": "markdown",
   "metadata": {},
   "source": [
    "Integrating and solving for $t$ yields,\n",
    "\n",
    "\\begin{equation*}\n",
    "t = \\frac{1}{0.02}\\ln\\left(\\frac{10,000\\frac{\\pi}{30}}{1000\\frac{\\pi}{30}}\\right)\n",
    "\\end{equation*}"
   ]
  },
  {
   "cell_type": "code",
   "execution_count": 5,
   "metadata": {},
   "outputs": [
    {
     "name": "stdout",
     "output_type": "stream",
     "text": [
      "(a) The time taken to slow is 115.1 s\n"
     ]
    }
   ],
   "source": [
    "t = (1/0.02)*math.log((10000*math.pi/30)/(1000*math.pi/30))\n",
    "print('(a) The time taken to slow is {one} s'.format(one=round(t,1)))"
   ]
  },
  {
   "cell_type": "markdown",
   "metadata": {},
   "source": [
    "(b) To determine the number of revolutions while decelerating we need an equation for angular displacement $\\theta$, as a function of angular velocity $\\omega$. Adopting the exact same strategy as for linear motion, we use the chain rule to separate variables,\n",
    "\n",
    "\\begin{equation*}\n",
    "\\frac{\\mathrm{d}\\omega}{\\mathrm{d}t} = \\frac{\\mathrm{d}\\omega}{\\mathrm{d}\\theta}\\frac{\\mathrm{d}\\theta}{\\mathrm{d}t} = \\frac{\\mathrm{d}\\omega}{\\mathrm{d}\\theta}\\omega = -0.02\\omega\n",
    "\\end{equation*}\n",
    "\n",
    "Therefore, \n",
    "\n",
    "\\begin{equation*}\n",
    "\\mathrm{d}\\omega = -0.02\\:\\mathrm{d}\\theta\n",
    "\\end{equation*}\n",
    "\n",
    "Integrating,\n",
    "\n",
    "\\begin{equation*}\n",
    "\\int_{10,000\\pi/30}^{1000\\pi/30}\\mathrm{d}\\omega - \\int_0^\\theta -0.02\\:\\mathrm{d}\\theta\n",
    "\\end{equation*}\n",
    "\n",
    "Evaluating the integral and solving for $\\theta$,\n",
    "\n",
    "\\begin{equation*}\n",
    "\\theta =\\frac{1}{0.02}\\left[\\left(10,000\\frac{\\pi}{30}\\right)-\\left(1000\\frac{\\pi}{30}\\right)\\right]\n",
    "\\end{equation*}"
   ]
  },
  {
   "cell_type": "code",
   "execution_count": 6,
   "metadata": {},
   "outputs": [
    {
     "name": "stdout",
     "output_type": "stream",
     "text": [
      "Angular 'distance' covered is 47123.89 radians\n"
     ]
    }
   ],
   "source": [
    "theta = (1/0.02)*((10000*math.pi/30)-(1000*math.pi/30)) #(rads)\n",
    "print(\"Angular 'distance' covered is {one} radians\".format(one=round(theta,2)))"
   ]
  },
  {
   "cell_type": "markdown",
   "metadata": {},
   "source": [
    "Since $1\\:\\text{rev} = 2\\pi$ radians,"
   ]
  },
  {
   "cell_type": "code",
   "execution_count": 7,
   "metadata": {},
   "outputs": [
    {
     "name": "stdout",
     "output_type": "stream",
     "text": [
      "(b) The engine completes 7500 revolutions while slowing down\n"
     ]
    }
   ],
   "source": [
    "revs = theta/(2*math.pi)\n",
    "print('(b) The engine completes {one} revolutions while slowing down'.format(one=round(revs)))"
   ]
  },
  {
   "cell_type": "markdown",
   "metadata": {},
   "source": [
    "## Question 3"
   ]
  },
  {
   "cell_type": "markdown",
   "metadata": {},
   "source": [
    "A satellite is in a circular orbit of radius $R$ around the earth. Determine an expression for the velocity of the satellite. Note that the magnitude of the acceleration due to gravity at a distance $R$ from the centre of the earth is,\n",
    "\n",
    "\\begin{equation*}\n",
    "g\\frac{R_E^2}{R^2}\n",
    "\\end{equation*}\n",
    "\n",
    "where $R_E$ is the radius of the earth."
   ]
  },
  {
   "cell_type": "markdown",
   "metadata": {},
   "source": [
    "![title](img/T2W5/img2.jpg)"
   ]
  },
  {
   "cell_type": "markdown",
   "metadata": {},
   "source": [
    "**Solution 3**"
   ]
  },
  {
   "cell_type": "markdown",
   "metadata": {},
   "source": [
    "We start by stating the expression for acceleration,\n",
    "\n",
    "\\begin{equation*}\n",
    "a = \\frac{\\mathrm{d}v}{\\mathrm{d}t}\\mathbf{e}_t+\\frac{v^2}{R}\\mathbf{e}_n\n",
    "\\end{equation*}\n",
    "\n",
    "This expression must equal the acceleration due to gravity towards the centre of the earth,\n",
    "\n",
    "\\begin{equation*}\n",
    "\\frac{\\mathrm{d}v}{\\mathrm{d}t}\\mathbf{e}_t+\\frac{v^2}{R}\\mathbf{e}_n=g\\frac{R_E^2}{R^2}\\mathbf{e}_n\n",
    "\\end{equation*}\n",
    "\n",
    "Note that the satellite doesn't have a tangential component of acceleration, only a normal component (gravity), from this we can conclude that the satellite's velocity along its circular orbital path is constant,\n",
    "\n",
    "\\begin{equation*}\n",
    "\\frac{\\mathrm{d}v}{\\mathrm{d}t} = 0\n",
    "\\end{equation*}\n",
    "\n",
    "We simply need to equate the normal components of acceleration and solve for $v$,\n",
    "\n",
    "\\begin{equation*}\n",
    "\\boxed{\n",
    "v = \\sqrt{\\frac{gR_E^2}{R}}\n",
    "}\n",
    "\\end{equation*}"
   ]
  },
  {
   "cell_type": "markdown",
   "metadata": {},
   "source": [
    "## Question 4"
   ]
  },
  {
   "cell_type": "markdown",
   "metadata": {},
   "source": [
    "A centrifuge used to subject engineering components to high acceleration has a radius of $8 \\:m$. It starts from rest at $t = 0$ seconds and during its two-minute acceleration phase it is programmed so that its angular acceleration $\\alpha$ is given as a function of time in seconds,\n",
    "\n",
    "\\begin{equation*}\n",
    "\\alpha = 0.192 - 0.0016t\\:rad/s\n",
    "\\end{equation*}\n",
    "\n",
    "At $t = 120$ seconds, what is the magnitude of the acceleration a component is subjected to (positioned on the end of the $8m$ long centrifuge arm)?"
   ]
  },
  {
   "cell_type": "markdown",
   "metadata": {},
   "source": [
    "![title](img/T2W5/img3.jpg)"
   ]
  },
  {
   "cell_type": "markdown",
   "metadata": {},
   "source": [
    "**Solution 4**"
   ]
  },
  {
   "cell_type": "markdown",
   "metadata": {},
   "source": [
    "To find the acceleration that a component will experience on the end of the $8\\:m$ centrifuge arm, we need to determine the normal and tangential components of acceleration at $t=120$ seconds. \n",
    "\n",
    "We have derived expressions that relate these accelerations components $[a_n, \\:a_t]$ to the angular velocity $\\omega$ and angular acceleration $\\alpha$,\n",
    "\n",
    "\\begin{equation*}\n",
    "a_t=R\\alpha\n",
    "\\end{equation*}\n",
    "\n",
    "\\begin{equation*}\n",
    "a_n=R\\omega^2\n",
    "\\end{equation*}"
   ]
  },
  {
   "cell_type": "markdown",
   "metadata": {},
   "source": [
    "So our first step is to integrate our expression for $\\alpha$ to determine $\\omega$,\n",
    "\n",
    "\\begin{equation*}\n",
    "\\alpha = \\frac{\\mathrm{d}\\omega}{\\mathrm{d}t}=0.192-0.0016t\n",
    "\\end{equation*}\n",
    "\n",
    "Separating variables and integrating,\n",
    "\n",
    "\\begin{equation*}\n",
    "\\int_0^{\\omega} \\mathrm{d}\\omega= \\int_0^{120} (0.192-0.0016t)\\:\\mathrm{d}t\n",
    "\\end{equation*}\n",
    "\n",
    "Evaluating the integral yields,\n",
    "\n",
    "\\begin{equation*}\n",
    "\\omega = 0.192t - \\frac{0.0016t^2}{2}\\biggr\\rvert_0^{120}\n",
    "\\end{equation*}"
   ]
  },
  {
   "cell_type": "code",
   "execution_count": 8,
   "metadata": {},
   "outputs": [
    {
     "name": "stdout",
     "output_type": "stream",
     "text": [
      "The angular velocity is 11.52 rad/s\n",
      "The angular acceleration is 0.0 rad/s^2\n"
     ]
    }
   ],
   "source": [
    "t=120 #(s)\n",
    "omega=0.192*t-(0.5*0.0016*t**2) #(rad/s) Angular velocity \n",
    "print('The angular velocity is {one} rad/s'.format(one=round(omega,2)))\n",
    "\n",
    "#Also need to determine alpha, angular acceleration at time t\n",
    "alpha = 0.192 - 0.0016*t\n",
    "print('The angular acceleration is {one} rad/s^2'.format(one=round(alpha,2)))"
   ]
  },
  {
   "cell_type": "markdown",
   "metadata": {},
   "source": [
    "Now we can determine the tangential and normal components of acceleration on the end of the $8\\:m$ arm using the equations above,"
   ]
  },
  {
   "cell_type": "code",
   "execution_count": 9,
   "metadata": {},
   "outputs": [
    {
     "name": "stdout",
     "output_type": "stream",
     "text": [
      "The tangential component of acceleration is 0.0 m/s^2\n",
      "The normal component of acceleration is 1061.68 m/s^2\n",
      "The total acceleration magnitude is 1061.68 m/s^2\n"
     ]
    }
   ],
   "source": [
    "R = 8 #(m)\n",
    "at = R*alpha #(m/s^2) Tangential component of acceleration\n",
    "an = R*omega**2 #(m/s^2) Normal component of acceleration\n",
    "\n",
    "a = (at**2 + an**2)**0.5\n",
    "\n",
    "print('The tangential component of acceleration is {one} m/s^2'.format(one=round(at,2)))\n",
    "print('The normal component of acceleration is {one} m/s^2'.format(one=round(an,2)))\n",
    "print('The total acceleration magnitude is {one} m/s^2'.format(one=round(a,2)))"
   ]
  },
  {
   "cell_type": "markdown",
   "metadata": {},
   "source": [
    "Note that the angular acceleration $\\alpha$ has units of $rad/s$ while the acceleration components $[a_n, \\:a_t]$ and their resultant have units of $m/s^2$. Be careful not to mix up these two quantities. Angular acceleration relates purely to the rate of change of angular velocity and is independent of the radius. This is distinct from the components of acceleration of a body traveling along a curved (circular in this case) path. "
   ]
  },
  {
   "cell_type": "markdown",
   "metadata": {},
   "source": [
    "## Answers"
   ]
  },
  {
   "cell_type": "markdown",
   "metadata": {},
   "source": [
    "1. $21.24 \\:m$\n",
    "2. $115.1\\:s$, $7500$\n",
    "3. $v = \\sqrt{\\frac{gR_E^2}{R}}$\n",
    "4. $1061.68 \\:m/s^2$"
   ]
  }
 ],
 "metadata": {
  "hide_input": false,
  "kernelspec": {
   "display_name": "Python 3",
   "language": "python",
   "name": "python3"
  },
  "language_info": {
   "codemirror_mode": {
    "name": "ipython",
    "version": 3
   },
   "file_extension": ".py",
   "mimetype": "text/x-python",
   "name": "python",
   "nbconvert_exporter": "python",
   "pygments_lexer": "ipython3",
   "version": "3.6.4"
  }
 },
 "nbformat": 4,
 "nbformat_minor": 2
}
