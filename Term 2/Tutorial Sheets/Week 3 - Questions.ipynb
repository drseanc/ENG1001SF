{
 "cells": [
  {
   "cell_type": "code",
   "execution_count": 4,
   "metadata": {
    "hide_input": true
   },
   "outputs": [
    {
     "name": "stdout",
     "output_type": "stream",
     "text": [
      "- Dependencies imported 👍\n",
      "- Remember to select 'Kernel-> Restart & Run All' on first load to show embedded Youtube videos 🎬\n",
      "- Author: Dr SPCarroll, Sept 2020, Rev 0\n"
     ]
    }
   ],
   "source": [
    "#DEPENDENCIES & INITIALISATIONS\n",
    "from IPython.display import HTML #For embedding videos\n",
    "import math #Basic math functionality\n",
    "import numpy as np #Numpy for working with arrays\n",
    "import matplotlib.pyplot as plt #Plotting functionality \n",
    "#HTML('<center><iframe width=\"560\" height=\"315\" src=\"#\" frameborder=\"0\" allowfullscreen></iframe></center>')\n",
    "print(\"- Dependencies imported 👍\")\n",
    "print(\"- Remember to select 'Kernel-> Restart & Run All' on first load to show embedded Youtube videos 🎬\")\n",
    "print(\"- Author: Dr SPCarroll, Sept 2020, Rev 0\")"
   ]
  },
  {
   "cell_type": "markdown",
   "metadata": {},
   "source": [
    "# Week 3: Nonuniform Torsion, Stresses and Strains\n",
    "Reference: Chapter 3 of *Mechanics of Materials*, Gere and Goodno"
   ]
  },
  {
   "cell_type": "markdown",
   "metadata": {},
   "source": [
    "## Question 1"
   ]
  },
  {
   "cell_type": "markdown",
   "metadata": {},
   "source": [
    "Consider the stepped shaft shown below. The material has a shear modulus $G=76\\:kN/mm^2$. The parameters shown have the following values:\n",
    "- $d_1=58\\:mm$\n",
    "- $d_2= 45\\:mm$\n",
    "- $L_1=760\\:mm$\n",
    "- $L_2=510\\:mm$\n",
    "- $T_1 = 2300\\:Nm$\n",
    "- $T_2 = 900\\:Nm$\n",
    "\n",
    "\n",
    "- (a) determine the maximum shear stress in the shaft $\\tau_{\\text{max}}$\n",
    "- (b) the angle of twist in degrees at $C$"
   ]
  },
  {
   "cell_type": "markdown",
   "metadata": {},
   "source": [
    "![title](img/T2W3/img1.jpg)"
   ]
  },
  {
   "cell_type": "markdown",
   "metadata": {},
   "source": [
    "## Question 2"
   ]
  },
  {
   "cell_type": "markdown",
   "metadata": {},
   "source": [
    "Consider the stepped shaft shown below. The material has a shear modulus of $80\\:kN/mm^2$. The parameter shown have the following values:\n",
    "\n",
    "- $d_1 = 50\\:mm$\n",
    "- $d_2 = 40\\:mm$\n",
    "- $L_1 = 1.25\\:m$\n",
    "- $L_2 = 1\\:m$\n",
    "\n",
    "The maximum allowable shear stress is $30\\:N/mm^2$ and the angle of twist between ends cannot exceed $1.5^\\circ$. Determine the maximum allowable torque that will satisfy these conditions."
   ]
  },
  {
   "cell_type": "markdown",
   "metadata": {},
   "source": [
    "![title](img/T2W3/img2.jpg)"
   ]
  },
  {
   "cell_type": "markdown",
   "metadata": {},
   "source": [
    "## Question 3"
   ]
  },
  {
   "cell_type": "markdown",
   "metadata": {},
   "source": [
    "The $2.4\\:m$ long tapered shaft shown below is subject to torques $T=2035\\:Nm$. The diameter of the shaft varies linearly between $d_A$ and $d_B$. The material the shaft is made of has shear modulus $G=27\\:kN/mm^2$, allowable shear stress of $52 \\:N/mm^2$ and an allowable angle of twist of $3^\\circ$.\n",
    "\n",
    "If the $d_B$ is 1.5 times $d_A$, what is the required diameter $d_A$."
   ]
  },
  {
   "cell_type": "markdown",
   "metadata": {},
   "source": [
    "![title](img/T2W3/img3.jpg)"
   ]
  },
  {
   "cell_type": "markdown",
   "metadata": {},
   "source": [
    "## Question 4"
   ]
  },
  {
   "cell_type": "markdown",
   "metadata": {},
   "source": [
    "The solid circular bar shown below has a strain gauge orientated at $45^\\circ$ to the longitudinal axis of the bar. When the bar is subject to a torque $T=1300\\:Nm$, the strain gauge shows $\\epsilon=331\\times10^{-6}$. Determine the shear modulus for the bar."
   ]
  },
  {
   "cell_type": "markdown",
   "metadata": {},
   "source": [
    "![title](img/T2W3/img4.jpg)"
   ]
  },
  {
   "cell_type": "markdown",
   "metadata": {},
   "source": [
    "## Answers"
   ]
  },
  {
   "cell_type": "markdown",
   "metadata": {},
   "source": [
    "1. $50.3 \\:N/mm^2$, $0.14^\\circ$\n",
    "2. $348.13\\: Nm$\n",
    "3. $0.064 \\:m$\n",
    "4. $80 \\:kN/mm^2$"
   ]
  }
 ],
 "metadata": {
  "hide_input": false,
  "kernelspec": {
   "display_name": "Python 3",
   "language": "python",
   "name": "python3"
  },
  "language_info": {
   "codemirror_mode": {
    "name": "ipython",
    "version": 3
   },
   "file_extension": ".py",
   "mimetype": "text/x-python",
   "name": "python",
   "nbconvert_exporter": "python",
   "pygments_lexer": "ipython3",
   "version": "3.6.4"
  }
 },
 "nbformat": 4,
 "nbformat_minor": 2
}
