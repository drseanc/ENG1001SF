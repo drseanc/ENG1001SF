{
 "cells": [
  {
   "cell_type": "code",
   "execution_count": 1,
   "metadata": {
    "hide_input": true
   },
   "outputs": [
    {
     "name": "stdout",
     "output_type": "stream",
     "text": [
      "- Dependencies imported 👍\n",
      "- Remember to select 'Kernel-> Restart & Run All' on first load to show embedded Youtube videos 🎬\n",
      "- Author: Dr SPCarroll, Sept 2020, Rev 0\n"
     ]
    }
   ],
   "source": [
    "#DEPENDENCIES & INITIALISATIONS\n",
    "from IPython.display import HTML #For embedding videos\n",
    "import math #Basic math functionality\n",
    "import numpy as np #Numpy for working with arrays\n",
    "import matplotlib.pyplot as plt #Plotting functionality \n",
    "#HTML('<center><iframe width=\"560\" height=\"315\" src=\"#\" frameborder=\"0\" allowfullscreen></iframe></center>')\n",
    "print(\"- Dependencies imported 👍\")\n",
    "print(\"- Remember to select 'Kernel-> Restart & Run All' on first load to show embedded Youtube videos 🎬\")\n",
    "print(\"- Author: Dr SPCarroll, Sept 2020, Rev 0\")"
   ]
  },
  {
   "cell_type": "markdown",
   "metadata": {},
   "source": [
    "# Week 2: Introduction to Torsion\n",
    "Reference: Chapter 3 of *Mechanics of Materials*, Gere and Goodno"
   ]
  },
  {
   "cell_type": "markdown",
   "metadata": {},
   "source": [
    "## Question 1"
   ]
  },
  {
   "cell_type": "markdown",
   "metadata": {},
   "source": [
    "A copper rod of length $L=610\\:mm$ is to be twisted by torques applied at each end until the angle of rotation between the rod ends is $\\phi = 4^\\circ$. If the allowable shear strain in the rod is $\\gamma_{\\text{max}} = 0.0008\\:rads$, what is the maximum permissible diameter of the rod? "
   ]
  },
  {
   "cell_type": "markdown",
   "metadata": {},
   "source": [
    "## Question 2"
   ]
  },
  {
   "cell_type": "markdown",
   "metadata": {},
   "source": [
    "A circular aluminium tube is subjected to pure torsion by torques $T$ applied at each end. It has outer radius $r_o$ and inner radius $r_i$. \n",
    "- (a) If the maximum shear strain in the tube is measured as $350\\times 10^{-6}\\: rads$, what is the shear strain at the inter surface, $\\gamma_i$? \n",
    "- (b) If the maximum allowable rate of twist is $0.5^\\circ/m$ and the maximum shear strain is to be maintained at $350\\times 10^{-6}\\:rads$ by adjusting the torque, what is the minimum required outer radius, $r_o$?"
   ]
  },
  {
   "cell_type": "markdown",
   "metadata": {},
   "source": [
    "## Question 3"
   ]
  },
  {
   "cell_type": "markdown",
   "metadata": {},
   "source": [
    "A circular steel tube of length $L=1.25\\:m$ is loaded in torsion by torques $T$. \n",
    "- (a) If the inner tube radius is $r_i = 38\\:mm$ and the measured angle of twist between ends is $0.6^\\circ$, what is the shear strain at the inner surface, $\\gamma_i$?\n",
    "- (b) If the maximum allowable shear strain is $0.0004\\: rads$ and the angle of twist is to be kept  to $0.6^\\circ$ by adjusting the torque, what is the maximum permissible outer radius $r_o$?"
   ]
  },
  {
   "cell_type": "markdown",
   "metadata": {},
   "source": [
    "## Question 4"
   ]
  },
  {
   "cell_type": "markdown",
   "metadata": {},
   "source": [
    "A circular aluminium tube with length $L=0.5\\:m$ has torques $T$ applied at each end. The bar has inner and outer diameters of $d_i = 30\\:mm$ and $d_o=40\\:mm$ respectively. The angle of twist between ends is $\\phi=3.57^\\circ$ when the torque is $600\\:Nm$.\n",
    "- (a) Calculate the maximum shear stress in the tube, $\\tau_{\\text{max}}$\n",
    "- (b) Calculate the shear modulus $G$\n",
    "- (c) Calculate the maximum shear strain, $\\gamma_{\\text{max}}$"
   ]
  },
  {
   "cell_type": "markdown",
   "metadata": {},
   "source": [
    "## Question 5"
   ]
  },
  {
   "cell_type": "markdown",
   "metadata": {},
   "source": [
    "A circular steel shaft is to be manufactured either as a solid bar or as a hollow tube. The shaft must transmit a torque of $1200\\:Nm$ without exceeding an allowable shear stress of $40\\:N/mm^2$ or an allowable rate of twist of $0.75^\\circ/m$. The shear modulus of elasticity is $78\\: GPa$. \n",
    "- (a) Determine the required diameter of the solid shaft, $d$\n",
    "- (b) Determine the required outer diameter of hollow shaft, $d_o$, if the wall thickness is one-tenth of the outer diameter. \n",
    "- (c) Determine the diameter ratio between shafts, $d_o/d$ and the ratio of weights of the hollow and solid shafts"
   ]
  },
  {
   "cell_type": "markdown",
   "metadata": {},
   "source": [
    "## Answers"
   ]
  },
  {
   "cell_type": "markdown",
   "metadata": {},
   "source": [
    "1. $0.014 \\:m$\n",
    "2. $0.000175 \\:rad$, $0.04 \\:m$\n",
    "3. $0.000318 rads$, $0.048 \\:m$\n",
    "4. $69.85 \\:N/mm^2$, $28.02 kN/mm^2$, $0.002492 rads$\n",
    "5. $0.059 \\:m$, $0.067 \\:m$, $1.14$, $0.47$\n"
   ]
  }
 ],
 "metadata": {
  "hide_input": false,
  "kernelspec": {
   "display_name": "Python 3",
   "language": "python",
   "name": "python3"
  },
  "language_info": {
   "codemirror_mode": {
    "name": "ipython",
    "version": 3
   },
   "file_extension": ".py",
   "mimetype": "text/x-python",
   "name": "python",
   "nbconvert_exporter": "python",
   "pygments_lexer": "ipython3",
   "version": "3.6.4"
  }
 },
 "nbformat": 4,
 "nbformat_minor": 2
}
