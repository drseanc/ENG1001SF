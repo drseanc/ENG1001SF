{
 "cells": [
  {
   "cell_type": "code",
   "execution_count": 1,
   "metadata": {
    "deletable": false,
    "editable": false,
    "hide_input": true
   },
   "outputs": [
    {
     "name": "stdout",
     "output_type": "stream",
     "text": [
      "- Dependencies imported 👍\n",
      "- Remember to select 'Kernel-> Restart & Run All' on first load to show embedded Youtube videos 🎬\n",
      "- Author: Dr SPCarroll, Sept 2020, Rev 0\n"
     ]
    }
   ],
   "source": [
    "#DEPENDENCIES & INITIALISATIONS\n",
    "from IPython.display import HTML #For embedding videos\n",
    "import math #Basic math functionality\n",
    "import numpy as np #Numpy for working with arrays\n",
    "import matplotlib.pyplot as plt #Plotting functionality \n",
    "#HTML('<center><iframe width=\"560\" height=\"315\" src=\"#\" frameborder=\"0\" allowfullscreen></iframe></center>')\n",
    "print(\"- Dependencies imported 👍\")\n",
    "print(\"- Remember to select 'Kernel-> Restart & Run All' on first load to show embedded Youtube videos 🎬\")\n",
    "print(\"- Author: Dr SPCarroll, Sept 2020, Rev 0\")"
   ]
  },
  {
   "cell_type": "markdown",
   "metadata": {
    "hide_input": false
   },
   "source": [
    "![title](img/T2W10/banner.jpg)"
   ]
  },
  {
   "cell_type": "markdown",
   "metadata": {
    "hide_input": true
   },
   "source": [
    "# Week 10: Introduction to Concrete"
   ]
  },
  {
   "cell_type": "markdown",
   "metadata": {},
   "source": [
    "This week we take a break from mechanics and instead explore construction materials. We start our discussion by considering concrete. This is one of the most important and ubiquitous materials in the construction industry globally. Twice as much concrete is used (by weight) as steel, wood, plastics and aluminium combined. Its global usage is estimates at 10 billion tons per year. \n",
    "\n",
    "⚠️ **As we'll see below, concrete is a mixture of cement, water, aggregate and sand. Do not make the mistake of confusing concrete and cement.** \n",
    "\n",
    "When mixed, they form a slurry or viscous liquid. The mixture undergoes a chemical reaction called hydration and gains strength slowly in a process called curing. We will discuss all of this in more detail below. \n",
    "\n",
    "You will find a number of links to Wikipedia references below. These provide extensive information on the historical usage of concrete and it's development. Rather than reproducing that information here, you are encourage to read those references directly for further context."
   ]
  },
  {
   "cell_type": "markdown",
   "metadata": {},
   "source": [
    "## 1. Historical usage"
   ]
  },
  {
   "cell_type": "markdown",
   "metadata": {},
   "source": [
    "Concrete has been in use as a construction material since the Roman era from about the second century BC. The Pantheon dome in Rome for example is the worlds largest unreinforced concrete dome and dates from c. 126 AD. [<a href=\"https://en.wikipedia.org/wiki/Roman_concrete\">1</a>]. "
   ]
  },
  {
   "cell_type": "markdown",
   "metadata": {},
   "source": [
    "![title](img/T2W10/img2.jpg)\n",
    "<center>Pantheon dome, Rome c. 126 AD.</center>"
   ]
  },
  {
   "cell_type": "markdown",
   "metadata": {},
   "source": [
    "Roman concrete structures were exceptionally durable due to their incorporation of pyroclastic rock and ash within the mix. These pyroclastic aggregates and ash react with seawater to form a durable crystaline structure. The Roman's use of concrete and their usage of admixtures that enhanced the durability of their concrete has meant that many of their structures have survived to the present day. After the Roman Empire collapsed, use of concrete became rare until the technology was redeveloped in the mid-18th century [<a href=\"https://en.wikipedia.org/wiki/Concrete\">2</a>]."
   ]
  },
  {
   "cell_type": "markdown",
   "metadata": {},
   "source": [
    "There was an explosion in the use of concrete with the introduction of Portland cement which was patented by Joseph Aspdin in 1824 [<a href=\"https://en.wikipedia.org/wiki/Portland_cement\">3</a>]. We will discuss cement below."
   ]
  },
  {
   "cell_type": "markdown",
   "metadata": {},
   "source": [
    "## 2. Concrete in modern construction"
   ]
  },
  {
   "cell_type": "markdown",
   "metadata": {},
   "source": [
    "Concrete has a number of characteristics that make it such an effective construction material:\n",
    "- As a viscous liquid it is 'pourable' which means it can be used to generate structural forms that would be difficult or impossible to achieve with other materials.\n",
    "- It has a high thermal mass which means that it retains heat and can act as a heat sink or heat storage *'device'* within structures - this is why underfloor heating is so effective. \n",
    "- When combined with steel in the form of *reinforced concrete* it has excellent load bearing capacity. Even without steel reinforcement, under the right conditions, unreinforced or *mass concrete* can have excellent load carrying capacity - remember the Roman Pantheon dome! \n",
    "- Depending on the constituents used in the *mix*, it can be tailored with different characteristics, e.g. high corrosion resistance and high compressive load capacity. Lightweight aggregates can be used to produce lightweight (and low compression capacity) concrete. \n",
    "- It is non-combustible meaning it provides excellent fire resistance which is of critical importance particularly in larger structures where premature failure in a fire could be catastrophic.\n",
    "- Due to their large mass, concrete structures are generally less dynamically excitable than if they were constructed from alternative materials, typically structural steel. "
   ]
  },
  {
   "cell_type": "markdown",
   "metadata": {},
   "source": [
    "![title](img/T2W10/img1.jpg)\n",
    "<center>Reinforced concrete structures.</center>"
   ]
  },
  {
   "cell_type": "markdown",
   "metadata": {},
   "source": [
    "## 3.0 Cement"
   ]
  },
  {
   "cell_type": "markdown",
   "metadata": {},
   "source": [
    "As mentioned above, Joseph Aspdin developed Portland cement and patented it in 1824. It was mass produced from 1877 with the introduction of the rotary kiln. It is a caustic, fine white/light grey powder produced by mixing and heating chalk and sand at very high temperature [<a href=\"https://en.wikipedia.org/wiki/Portland_cement\">4</a>]. It is the constituents of cement that bind aggregates together giving concrete its strength. "
   ]
  },
  {
   "cell_type": "markdown",
   "metadata": {},
   "source": [
    "Portland cement contains:\n",
    "- Tricalcium silicate $(C_3S) - 3CaO.SiO_2$\n",
    "- Dicalcium silicate $(C_2S) - 2CaO.SiO_2$\n",
    "- Tricalcium aluminate $(C_3A) - 3CaO.Al_2O_3$\n",
    "- Tetracalcium aluminoferrite $(C_4AF) - 4CaO. Al_2O_3 .Fe_2O_3$\n",
    "\n",
    "The proportion of the individual components varies depending on the type of cement but $C_3S$ and $C_2S$ make up over 70% of Ordinary Portland Cement (OPC). The calcium silicate reacts with water during curing in a chemical reaction called hydration. \n",
    "\n",
    "There are also a number of cement replacements in common use today. These can be used to partially replace the cement content in a mix. <a href=\"https://en.wikipedia.org/wiki/Fly_ash\">Pulverised fuel ash</a> (PFA) or fly ash and <a href=\"https://en.wikipedia.org/wiki/Ground_granulated_blast-furnace_slag\">granulated furnace slag</a> (GGBS) can be used as partial cement substitutes and have a number of advantages such as improving mix workability as well as being derived from waste products thereby improving the sustainability of the concrete. "
   ]
  },
  {
   "cell_type": "markdown",
   "metadata": {},
   "source": [
    "### 3.1 Hydration and strength gain"
   ]
  },
  {
   "cell_type": "markdown",
   "metadata": {},
   "source": [
    "The chemical reaction responsible for strength gain is called hydration. This is an exothermic reaction; the increase in temperature during curing can lead to significant residual stresses developing within the concrete which can lead to cracking. \n",
    "\n",
    "Care must be taken during curing to ensure heat can be dissipated - this is particularly important for large concrete pours where significant heat will be generated. The graph below shows the influence of pour depth on temperature rise over time. Heat of hydration is typically dissipated during curing by keeping the surface of the concrete moist. "
   ]
  },
  {
   "cell_type": "markdown",
   "metadata": {},
   "source": [
    "![title](img/T2W10/img3.jpg)\n",
    "<center>Heat generation as a function of time and pour depth, from \"Construction materials: Their nature and behaviour\", Soutsos M and Domone P, CRC Press, 5th Edition.</center>"
   ]
  },
  {
   "cell_type": "markdown",
   "metadata": {},
   "source": [
    "Upon mixing, when the cement comes into contact with water, the tricalcium aluminate $(C_3A)$ reacts with the water to form an aluminate-rich gel. This gel reacts with sulphates to form a crystalline structure called ettringite. This characterises the initial phase of the hydration reaction and lasts for several hours. As the curing process continues, the concrete mix becomes less and less workable. \n",
    "\n",
    "The process of hydration continues with the formation of calcium silicate hydrate and calcium hydroxide or calcite. This produces an alkaline environment that helps prevent steel reinforcement bars from corroding. "
   ]
  },
  {
   "cell_type": "markdown",
   "metadata": {},
   "source": [
    "![title](img/T2W10/img4.jpg)\n",
    "<center>Formation of the Portlandite crystaline structure during hydration, from \"Construction materials: Their nature and behaviour\", Soutsos M and Domone P, CRC Press, 5th Edition.</center>"
   ]
  },
  {
   "cell_type": "markdown",
   "metadata": {},
   "source": [
    "Concrete continues to gain strength over time as the hydration process continues. The initial rate of strength gain is high which can allow supporting structures (known as formwork and falsework) to be removed at 7 or 14 days after casting. \n",
    "\n",
    "At 28 days after casting the concrete has achieved almost all of its compression capacity. We typically specify concrete by its compression strength at 28 days (discussed further below). However, it will continue to gain strength at a slow rate for some time thereafter. "
   ]
  },
  {
   "cell_type": "markdown",
   "metadata": {},
   "source": [
    "![title](img/T2W10/img6.jpg)\n",
    "<center>Typical concrete strength gain over time.</center>"
   ]
  },
  {
   "cell_type": "markdown",
   "metadata": {},
   "source": [
    "### 3.2 Water/cement ratio"
   ]
  },
  {
   "cell_type": "markdown",
   "metadata": {},
   "source": [
    "The water/cement (w/c) ratio during mixing is a crucial determinant of the strength of the cured concrete. A high w/c ratio results in a low viscosity mix that is generally easier to pour. Such a mix would be referred to as being more *workable*. However, the resulting concrete will have a high porosity after hydration and therefore a lower compression strength. Conversely, lower w/c ratio mixes are more difficult to work but lead to less porosity and higher strengths. However, if the w/c ratio is too low, pouring the concrete can become difficult and this can lead to incomplete compaction leaving voids in the cured concrete. The influence of w/c ratio can be visualised below."
   ]
  },
  {
   "cell_type": "markdown",
   "metadata": {},
   "source": [
    "![title](img/T2W10/img5.jpg)\n",
    "<center>Influence of w/c ratio on concrete porosity, from \"Construction materials: Their nature and behaviour\", Soutsos M and Domone P, CRC Press, 5th Edition.</center>"
   ]
  },
  {
   "cell_type": "markdown",
   "metadata": {},
   "source": [
    "## 4. Aggregates"
   ]
  },
  {
   "cell_type": "markdown",
   "metadata": {},
   "source": [
    "Concrete is a combination of cement, course aggregate and fine aggregate. The aggregates constitute approximately $60\\%$ to $80\\%$ of the concrete by volume. A concrete mix should have a range of aggregate sizes. The selection of aggregates and their size distribution play an important role in the strength of concrete. Too uniform a distribution of aggregates leads to poor compaction and a high voids volume. To achieve lighter weight concretes, lightweight aggregates can be used."
   ]
  },
  {
   "cell_type": "markdown",
   "metadata": {},
   "source": [
    "![title](img/T2W10/img7.jpg)\n",
    "<center>Aggregate size distribution.</center>"
   ]
  },
  {
   "cell_type": "markdown",
   "metadata": {},
   "source": [
    "## 5. Concrete strength classification"
   ]
  },
  {
   "cell_type": "markdown",
   "metadata": {},
   "source": [
    "Concrete typically has a density of $2200-2400\\:kg/m^3$ with reinforced concrete (discussed below) being at the top of this range. Typical values for the compressive strength of concrete range from $20-40\\:N/mm^2$ but strengths as high as $60\\:N/mm^2$ can be found in high load applications. \n",
    "\n",
    "We've been using the term compressive strength quite loosely up to this point. The strength of concrete is indicated by its class. For example a concrete classed as C25/30 would have a *characteristic cylinder crushing strength* $(f_{ck})$ of $25\\:N/mm^2$ and a cube strength of $30\\:N/mm^2$. The 'C' indicates normal weight concrete whereas an 'LC' would indicate lightweight concrete. \n",
    "\n",
    "The cylinder strength is determined by crushing a sample concrete cylinder $150\\:mm$ in diameter and $300\\:mm$ high. The cube strength is determined by crushing a $150\\:mm$ cube. \n",
    "\n",
    "These values are the *characteristic values* obtained from crushing a number of sample specimens. The characteristic cylinder strength is the compressive stress below which less than $5\\%$ are likely to fail. Or put another way, $95\\%$ of samples would be expected to have a compressive capacity higher than the characteristic value. \n",
    "\n",
    "The image below shows data obtained from site testing of concrete specimens at $7$ and $28$ days. Note that this data was obtained by testing cubes rather than cylinders but the salient points remain the same. We can clearly see the increase in concrete strength with time, we also observe that the compression strength distribution is approximately normal. The characteristic strength is also indicated for each batch of tests (located 1.64 standard deviations away from the mean). "
   ]
  },
  {
   "cell_type": "markdown",
   "metadata": {},
   "source": [
    "![title](img/T2W10/img9.jpg)\n",
    "<center>Cube tests confirming the normal distribution of compressive stresses and indicating the characteristic cube strength.</center>"
   ]
  },
  {
   "cell_type": "markdown",
   "metadata": {},
   "source": [
    "The complete process of sample preparation and testing has been recorded and can be seen in the sequence of videos below. Note that these videos were originally prepared for another module so ignore any references to a lab report. These videos are provided here for your information only. "
   ]
  },
  {
   "cell_type": "markdown",
   "metadata": {},
   "source": [
    "1. <a href=\"https://recapexeter.cloud.panopto.eu/Panopto/Pages/Viewer.aspx?id=40dd0ef2-9c4c-4bdf-8fcb-acbb00cd7f97\">Sieve analysis of aggregate</a>\n",
    "2. <a href=\"https://recapexeter.cloud.panopto.eu/Panopto/Pages/Viewer.aspx?id=0f5fe685-074a-46d5-a052-accb00abdfea\">Material Measuring, Mixing and Cube Preparation</a>\n",
    "3. <a href=\"https://recapexeter.cloud.panopto.eu/Panopto/Pages/Viewer.aspx?id=e5eb0b61-4fea-4588-90d4-accb0115003c\">Tamping, Slump test and Cleaning</a>\n",
    "4. <a href=\"https://recapexeter.cloud.panopto.eu/Panopto/Pages/Viewer.aspx?id=8e1f3496-9d4e-4b99-8bd5-accc011488c8&start=1129\">Demoulding, Mould Care and Curing</a>\n",
    "5. <a href=\"https://recapexeter.cloud.panopto.eu/Panopto/Pages/Viewer.aspx?id=3d50892d-8f90-4f76-8eca-acd100e9f47c&start=265\">Cube and cylinder tests</a>"
   ]
  },
  {
   "cell_type": "markdown",
   "metadata": {},
   "source": [
    "## 6. Stress-strain behaviour"
   ]
  },
  {
   "cell_type": "markdown",
   "metadata": {},
   "source": [
    "Concrete is not a perfectly linearly-elastic material. This means that the relationship between concrete stress and strain is not strictly linear as it is for steel (up to the elastic limit). The image below (a) shows a typical stress versus strain curve obtained from testing a concrete specimen in compression."
   ]
  },
  {
   "cell_type": "markdown",
   "metadata": {},
   "source": [
    "![title](img/T2W10/img8.png)\n",
    "<center>Stress-strain behaviour for (a) concrete and (b) steel.</center>"
   ]
  },
  {
   "cell_type": "markdown",
   "metadata": {},
   "source": [
    "Unlike a perfectly linearly elastic material, the stress-strain relationship is characterised by a parabolic curve until a compressive strain of approximately 0.002 is reached, denoted by $\\epsilon_{c2}$. This is accompanied by an ultimate design compressive stress of:\n",
    "\\begin{equation}\n",
    "f_{cd} = \\frac{0.85\\:f_{ck}}{\\gamma_c}\n",
    "\\end{equation} \n",
    "\n",
    "where $f_{ck}$ is the characteristic compressive cylinder strength of the concrete at 28 days, $\\gamma_c$ is the material partial factor of safety for concrete and the factor $0.85$ allows for  long-term effects and the difference between the bending strength and the cylinder crushing strength of the concrete.\n",
    "\n",
    "We use partial material factors to represent the uncertainty of achieving the stated characteristic strength of the material (steel or concrete). Typically for concrete, $\\gamma_c = 1.5$, thus for a concrete mix with a specified cylinder strength of $f_{ck}= 30$ N/mm$^2$, the design compressive strength is reduced to,\n",
    "\n",
    "\\begin{equation}\n",
    "f_{cd} = \\frac{0.85\\times f_{ck}}{1.5} = 0.567\\:f_{ck} = 17\\:N/mm^2\n",
    "\\end{equation} \n",
    "\n",
    "Note that after the design compressive stress is reached, no further stress increase is observed, yet the strain continues increasing until a maximum strain value of approximately 0.0035 is reached, denoted by $\\epsilon_{cu,2}$. This is the ultimate compressive strain and represents the point at which concrete crushing will occur. The horizontal portion of the stress-strain graph represents classic plastic behaviour, whereby the strain is increasing at a constant level of stress. This has significant implications for the design of concrete (civil engineering students will explore this in great detail in later years).\n",
    "\n",
    "Figure (b) above shows a typical stress-strain graph obtained for a steel reinforcing bar. As can be seen from the diagram, steel is a linearly elastic material. The design yield stress is obtained as,\n",
    "\n",
    "\\begin{equation}\n",
    "f_{yd} = \\frac{f_{yk}}{\\gamma_s}\n",
    "\\end{equation} \n",
    "\n",
    "where the partial factor for steel is taken as $\\gamma_s = 1.15$. The steel used in reinforcing bars throughout Europe is high yield strength steel with a characteristic yield strength of $f_{yk} = 500$ N/mm$^2$ and a Young's modulus of $E = 200$ kN/mm$^2$. Therefore the corresponding yield strain is simply obtained as,\n",
    "\n",
    "\\begin{align*}\n",
    "\\epsilon_y &= 500/(1.15\\times 200\\: \\times 10^3)\\\\\n",
    "\\epsilon_y & =  0.00217\n",
    "\\end{align*}"
   ]
  },
  {
   "cell_type": "markdown",
   "metadata": {},
   "source": [
    "## 7. Shrinkage and thermal movement"
   ]
  },
  {
   "cell_type": "markdown",
   "metadata": {},
   "source": [
    "Concrete will shrink as it cures and continues to dry out over time. This loss of water through evaporation leads to a reduction in volume or shrinkage and can continue for months after casting. Subsequent wetting and drying of the concrete can also lead to expansion and contraction.\n",
    "\n",
    "Since hydration is an exothermic reaction, further *thermal shrinkage* can occur during curing. Thermal shrinkage can be reduced by managing the temperature during curing. There are a number of practical ways that this can be achieved,\n",
    "\n",
    "- Keeping the cement content as low as possible or using the cement replacements discussed above (PFA or GGBS) can reduce the heat of hydration. \n",
    "\n",
    "- Using chilled water during mixing and keeping aggregates cool before mixing.\n",
    "\n",
    "- Casting the concrete using steel shutters (forms into which the concrete is poured - see below) and spraying the shutters with water. The evaporating water will draw heat away from the curing concrete much the same way sweat on the skin cools the body.\n",
    "\n",
    "- Strike (remove) formwork (another name for forms concrete is cast into) early to allow heat to escape. "
   ]
  },
  {
   "cell_type": "markdown",
   "metadata": {},
   "source": [
    "![title](img/T2W10/img12.jpg)\n",
    "<center>Formwork used to cast a series of reinforced concrete walls.</center>"
   ]
  },
  {
   "cell_type": "markdown",
   "metadata": {},
   "source": [
    "Ultimately shrinkage due to water evaporation and thermal movement are problems because they cause changes in volume. Since concrete is a brittle material, this can lead to cracking. Cracking is unsightly and can expose internal steel reinforcement to corrosion. \n",
    "\n",
    "Changes in volume will only cause cracking of the concrete if it is restrained. If the concrete structure is free to contract, cracking should be minimal. However, this is usually not practical which is why efforts must be made to minimise heat buildup during hydration and premature drying out after casting. \n",
    "\n",
    "For larger more complex concrete structures significant attention must be given to how the concrete casting process should be phased and managed to reduce cracking. In addition to the measures discussed above, joints should be designed into the structure that allow shrinkage and thermal movement relieving stresses within the concrete that would otherwise lead to cracking."
   ]
  },
  {
   "cell_type": "markdown",
   "metadata": {},
   "source": [
    "## 8. Creep"
   ]
  },
  {
   "cell_type": "markdown",
   "metadata": {},
   "source": [
    "Creep is a slow continuous deformation of the concrete structure under the influence of sustained loading. Creep can be particularly apparent in long-span concrete beams and slabs. The image below illustrates a typical strain profile of concrete under constant loading. The initial elastic strain (and deflection) is observed relatively quickly. However, further creep strain is experienced at a much slower rate thereafter. Creep is a plastic deformation, i.e. it increases under constant loading. Therefore, if the loading is removed, only the elastic strain/deflections are recovered."
   ]
  },
  {
   "cell_type": "markdown",
   "metadata": {},
   "source": [
    "![title](img/T2W10/img11.png)\n",
    "<center>Typical strain profile for concrete under constant load.</center>"
   ]
  },
  {
   "cell_type": "markdown",
   "metadata": {},
   "source": [
    "In flexural members such as beams and slabs for example, creep can lead to large deflections. Creep deflection, sometimes referred to as long-term deflection, can be several times larger than elastic deflections. If not carefully considered at design stage, creep deflection can cause cracking, damage to non-structural elements as well as development of unintended load paths (e.g. slabs/beams bearing onto 'non-structural' partitions). Deflections due to creep are approximately proportional to the intensity of sustained loading and inversely proportional to concrete strength.  "
   ]
  },
  {
   "cell_type": "markdown",
   "metadata": {},
   "source": [
    "## 9. Environmental cost and sustainability"
   ]
  },
  {
   "cell_type": "markdown",
   "metadata": {},
   "source": [
    "Engineers and the choices they are involved in making have a significant impact on the environment. Engineers therefore have a responsibility to promote sustainable development and promote sustainable methods of construction and the use of sustainable materials, where possible. \n",
    "\n",
    "Concrete has a number of positive attributes from a sustainability point of view. It is typically manufactured locally to its point of use and utilised relatively plentiful raw materials. Therefore the $CO_2$ associated with transportation is relatively low. \n",
    "\n",
    "It has a high thermal mass, as such when this is taken into consideration in the services design of a building this can result in lower building heating and cooling costs as the concrete elements can absorb and retain heat.  \n",
    "\n",
    "Concrete structures are also exceptionally robust generally requiring little maintenance (e.g. Roman structures still with us). With long design lives, the cost of refurbishment and replacement can be reduced.\n",
    "\n",
    "However, these positive characteristics must be balanced against the large environmental cost of cement production which emits large quantities of $CO_2$. We have mentioned above that there are cement replacements such as PFA and GGBS that are byproducts from other manufacturing processed. These improve the sustainability of concrete however the vast majority of the worlds concrete still uses ordinary Portland cement which required high temperatures (and therefore energy usage) to produce. \n",
    "\n",
    "Cement production accounts for approximately $5\\%$ of global $CO_2$ emissions and is the third largest source of man-made $CO_2$ after transport and energy production. Approximately $900\\:kg$ of $CO_2$ are emitted for every ton of cement produced. This makes up $88\\%$ of the emissions associated with the average concrete mix [<a href=\"https://en.wikipedia.org/wiki/Environmental_impact_of_concrete\">5</a>].\n",
    "\n",
    "This actually compares favourably with steel which it's estimated generates approximately 1.5-2 tonnes of $CO_2$ per tonne of steel. However it's the vast quantities of concrete (and therefore cement) used globally that lead to concrete having such a large carbon footprint. As awareness of the need to adopt more sustainable construction practices continues to grow, you should expect to see greater justification being required for the use of concrete on construction projects. But for now there is very little that can compete with concrete in terms of versatility, availability and cost."
   ]
  },
  {
   "cell_type": "markdown",
   "metadata": {},
   "source": [
    "## 10. Reinforced Concrete"
   ]
  },
  {
   "cell_type": "markdown",
   "metadata": {},
   "source": [
    "Plain concrete **on its own** actually has quite limited value as a construction material. This is because concrete is brittle and has relatively low tensile capacity by comparison to its compression capacity. A typical concrete with a compressive strength of $30 \\:N/mm^2$ would experience cracking under tensile loading at a stress of approximately $2.5-3.5\\:N/mm^2$. \n",
    "\n",
    "For this reason, we introduce steel reinforcement as a means of resisting the tensile forces that develop in the concrete cross-section under bending. The inclusion of steel reinforcement also leads to ductile failures which are safer than sudden explosive brittle failures. The design of reinforced concrete is a topic that civil engineers will study extensively later in their degree course."
   ]
  },
  {
   "cell_type": "markdown",
   "metadata": {},
   "source": [
    "![title](img/T2W10/img13.jpg)\n",
    "<center>Steel reinforcement cages for columns before concrete is poured.</center>"
   ]
  },
  {
   "cell_type": "markdown",
   "metadata": {},
   "source": [
    "### 10.1 Steel reinforcement"
   ]
  },
  {
   "cell_type": "markdown",
   "metadata": {},
   "source": [
    "In a reinforced concrete structure, reinforcing steel or 'rebar' cages are used to provide the tension capacity required to balance the compression forces that develop in the concrete. Together the compression forces in the concrete and tension forced in the rebar form a couple that resists the moment generated by applied loading. \n",
    "\n",
    "Rebar in common use throughout Europe and the UK is high strength steel with a characteristic yield strength of $500\\:N/mm^2$. Although they are notionally circular in cross section they have a deformed surface to improve the mechanical bond between the steel and encasing concrete. They are supplied in common diameters; $[6, 8, 10,12,16,20,25,32,40]\\:mm$. The process of manually building rebar cages on site is a relatively slow and labour intensive task that requires a skilled workforce and extensive oversight. "
   ]
  },
  {
   "cell_type": "markdown",
   "metadata": {},
   "source": [
    "![title](img/T2W10/img14.jpg)\n",
    "<center>Deformed high-strength steel reinforcement bars.</center>"
   ]
  },
  {
   "cell_type": "markdown",
   "metadata": {},
   "source": [
    "### 10.2 Compaction"
   ]
  },
  {
   "cell_type": "markdown",
   "metadata": {},
   "source": [
    "During concrete pouring it is critical that voids do not develop within the body of the concrete. Heavily reinforced concrete with elaborate reinforcement cages are particularly prone to voids as it can be difficult to ensure the concrete flows completely around the cages. \n",
    "\n",
    "This must be avoided by 'compacting' the concrete during the pouring process. This involves manual vibration and tamping of the concrete to help it flow completely around the steel reinforcement cages and formwork. Voids can reduce the strength of the concrete and reduce the bond between concrete and steel, diminishing their composite action. Compaction is usually achieved with mechanical poker vibrators that are lowered into the concrete. Care must be taken not to over vibrate the concrete as this can lead to separation with water rising to the surface inhibiting the hydration reaction."
   ]
  },
  {
   "cell_type": "code",
   "execution_count": 3,
   "metadata": {
    "hide_input": true
   },
   "outputs": [
    {
     "data": {
      "text/html": [
       "<center><iframe width=\"560\" height=\"315\" src=\"https://www.youtube.com/embed/S-Puk4RorDo\" frameborder=\"0\" allowfullscreen></iframe></center>"
      ],
      "text/plain": [
       "<IPython.core.display.HTML object>"
      ]
     },
     "execution_count": 3,
     "metadata": {},
     "output_type": "execute_result"
    }
   ],
   "source": [
    "HTML('<center><iframe width=\"560\" height=\"315\" src=\"https://www.youtube.com/embed/S-Puk4RorDo\" frameborder=\"0\" allowfullscreen></iframe></center>')"
   ]
  },
  {
   "cell_type": "markdown",
   "metadata": {},
   "source": [
    "**There is no tutorial question sheet for this topic. Use your tutorial and office hours sessions this week to discuss the content in these notes or the content from previous weeks.**"
   ]
  }
 ],
 "metadata": {
  "hide_input": false,
  "kernelspec": {
   "display_name": "Python 3",
   "language": "python",
   "name": "python3"
  },
  "language_info": {
   "codemirror_mode": {
    "name": "ipython",
    "version": 3
   },
   "file_extension": ".py",
   "mimetype": "text/x-python",
   "name": "python",
   "nbconvert_exporter": "python",
   "pygments_lexer": "ipython3",
   "version": "3.6.4"
  },
  "toc": {
   "base_numbering": 1,
   "nav_menu": {},
   "number_sections": true,
   "sideBar": true,
   "skip_h1_title": false,
   "title_cell": "Table of Contents",
   "title_sidebar": "Contents",
   "toc_cell": false,
   "toc_position": {
    "height": "calc(100% - 180px)",
    "left": "10px",
    "top": "150px",
    "width": "165px"
   },
   "toc_section_display": true,
   "toc_window_display": false
  }
 },
 "nbformat": 4,
 "nbformat_minor": 2
}
