{
 "cells": [
  {
   "cell_type": "code",
   "execution_count": 1,
   "metadata": {
    "deletable": false,
    "editable": false,
    "hide_input": false
   },
   "outputs": [
    {
     "name": "stdout",
     "output_type": "stream",
     "text": [
      "- Dependencies imported 👍\n",
      "- Remember to select 'Kernel-> Restart & Run All' on first load to show embedded Youtube videos 🎬\n",
      "- Author: Dr SPCarroll, Sept 2020, Rev 0\n"
     ]
    }
   ],
   "source": [
    "#DEPENDENCIES & INITIALISATIONS\n",
    "from IPython.display import HTML #For embedding videos\n",
    "import math #Basic math functionality\n",
    "import numpy as np #Numpy for working with arrays\n",
    "import matplotlib.pyplot as plt #Plotting functionality \n",
    "#HTML('<center><iframe width=\"560\" height=\"315\" src=\"#\" frameborder=\"0\" allowfullscreen></iframe></center>')\n",
    "print(\"- Dependencies imported 👍\")\n",
    "print(\"- Remember to select 'Kernel-> Restart & Run All' on first load to show embedded Youtube videos 🎬\")\n",
    "print(\"- Author: Dr SPCarroll, Sept 2020, Rev 0\")"
   ]
  },
  {
   "cell_type": "markdown",
   "metadata": {
    "hide_input": true
   },
   "source": [
    "# Week 1: Pressure Vessels\n",
    "Reference: Chapter 8 of *Mechanics of Materials*, Gere"
   ]
  },
  {
   "cell_type": "markdown",
   "metadata": {
    "hide_input": false
   },
   "source": [
    "![title](img/T2W1/banner.jpg)"
   ]
  },
  {
   "cell_type": "markdown",
   "metadata": {
    "hide_input": true
   },
   "source": [
    "## 1.0 Introduction"
   ]
  },
  {
   "cell_type": "markdown",
   "metadata": {},
   "source": [
    "Continuing the theme of hydrostatics and the influence of pressure, this week we will consider the behaviour of *pressure vessels*. Pressure vessels are commonly found in everyday life, from soft drink cans to scuba tanks to large scale industrial containers processing plants. These are closed structures that contain liquid or gas under pressure. For the purpose of our discussion here we will assume a positive gauge pressure within the vessels under consideration. Our task is to understand the stresses that develop within the walls of these structures. \n",
    "\n",
    "We will find that a particular state of stress develops in the walls of these structures called **plane stress**. We will briefly introduce and demonstrate this concept here but you will study plane stress extensively in your Solid Mechanics module next year (see chapter 7 of *Mechanics of Materials* by Gere for a head start). \n",
    "\n",
    "All of the pressure vessels we consider here are **thin-walled**. This means their wall thickness, $t$ is small compared to their radius, $r$. We will loosely classify a pressure vessel as thin-walled if it has a ratio of radius to wall thickness, \n",
    "\\begin{equation}\n",
    "\\frac{r}{t}\\geq 10\n",
    "\\end{equation}\n",
    "\n",
    "If this condition is not satisfied, more sophisticated methods, beyond simple statics, are needed to model the stresses developed within the structure. "
   ]
  },
  {
   "cell_type": "markdown",
   "metadata": {},
   "source": [
    "## 2.0 Spherical pressure vessels"
   ]
  },
  {
   "cell_type": "markdown",
   "metadata": {},
   "source": [
    "We begin by considering a spherical pressure vessel, similar to that shown below. "
   ]
  },
  {
   "cell_type": "markdown",
   "metadata": {},
   "source": [
    "![title](img/T2W1/img2.jpg)\n",
    "<center>Spherical pressure vessel <a href=\"https://commons.wikimedia.org/wiki/File:BS_Kugelgasbehaelter.JPG\">[Wikipedia]</a></center>"
   ]
  },
  {
   "cell_type": "markdown",
   "metadata": {},
   "source": [
    "We will neglect the reaction forces imposed by the supports and any other externally applied forces. For now we simply consider a spherical tank with an internal gauge pressure $p$. Now imagine that we slice vertically through the sphere, dividing it equally into 2 hemi-spheres. The image below shows the cross-section, with internal pressure $p$ pressing against the walls of the sphere. "
   ]
  },
  {
   "cell_type": "markdown",
   "metadata": {},
   "source": [
    "![title](img/T2W1/img3.jpg)\n",
    "<center>Cross-section of the sphere indicating the internal pressure $p$.</center>"
   ]
  },
  {
   "cell_type": "markdown",
   "metadata": {},
   "source": [
    "We can now consider force equilibrium of the hemisphere, shown below. The internal pressure acts against the curved internal surface of the hemisphere. We know from our study of hydrostatics that the resultants force can be obtained by applying the pressure $p$ onto the vertical projection of the curved surface, which is the circle with radius $r$. Therefore the pressure resultant is obtained as,\n",
    "\n",
    "\\begin{equation}\n",
    "P = p\\times \\pi r^2\n",
    "\\end{equation}\n",
    "\n",
    "In response to the gauge pressure, tensile stresses develop in the walls of the tank. In making a vertical cut through the tank, we have revealed these internal tensile stresses, $\\sigma$. If we define $\\bar{r}$ as the mean radius, \n",
    "\n",
    "\\begin{equation}\n",
    "\\bar{r} = r + \\frac{t}{2}\n",
    "\\end{equation}\n",
    "\n",
    "the resultant tensile force in the sphere wall is,\n",
    "\n",
    "\\begin{equation}\n",
    "F_t = \\sigma\\times 2\\pi \\bar{r}\\times t\n",
    "\\end{equation}\n",
    "\n",
    "Now equation the forces $P$ and $F_t$ and solving for $sigma$ yields,\n",
    "\n",
    "\\begin{align}\n",
    "p\\times \\pi r^2 &= \\sigma\\times 2\\pi \\bar{r}\\times t\\\\\n",
    "\\sigma &= \\frac{pr^2}{2\\bar{r}t} \n",
    "\\end{align}\n",
    "\n",
    "Since we have made the initial assumption that $t<<r$, we can simplify our expression by replacing $\\bar{r}$ with the internal radius $r$. Although either value of radius will give an acceptable answer, using the internal radius yields an answer closer to the true value derived from a more in-depth analysis. Therefore we can state our approximation for the tensile stress in a thin walled spherical pressure vessel as,\n",
    "\n",
    "\\begin{equation}\n",
    "\\boxed{\n",
    "\\sigma=\\frac{pr}{2t}\n",
    "}\n",
    "\\end{equation}"
   ]
  },
  {
   "cell_type": "markdown",
   "metadata": {},
   "source": [
    "![title](img/T2W1/img4.jpg)\n",
    "<center>Hemisphere and liquid isolated by the cut.</center>"
   ]
  },
  {
   "cell_type": "markdown",
   "metadata": {},
   "source": [
    "It should be apparent that once we slice through the centre of the sphere, the orientation of the slice will not change the result. As such we can conclude that a uniform tensile stress $\\sigma$, develops in the walls of the spherical pressure vessel. We can visualise this by sketching mutually perpendicular (orthogonal) tensile stresses on a small *stressed element* on the surface of the sphere."
   ]
  },
  {
   "cell_type": "markdown",
   "metadata": {},
   "source": [
    "![title](img/T2W1/img5.jpg)\n",
    "<center>Tensile stresses developed in the wall of spherical pressure vessel.</center>"
   ]
  },
  {
   "cell_type": "markdown",
   "metadata": {},
   "source": [
    "### 2.1 Stresses at the outer surface"
   ]
  },
  {
   "cell_type": "markdown",
   "metadata": {},
   "source": [
    "We now consider a small stress element extracted from the outer surface of the sphere. We observe mutually perpendicular stresses, labeled in the figure below as $\\sigma_x$ and $\\sigma_y$. In this element, the $x$ and $y$ axes indicated are tangential to the surface of the sphere, while the z-axis is perpendicular to the surface. On the outer surface of the pressure vessel we note that there is no external forces acting and as such there is no stress developed on the z-direction. The only stresses developed on the outer surface are tensile stresses $\\sigma_x$ and $\\sigma_y$. We can say that this stress element and by extension, the outer surface is in a state of **biaxial stress**.   "
   ]
  },
  {
   "cell_type": "markdown",
   "metadata": {},
   "source": [
    "![title](img/T2W1/img6.jpg)\n",
    "<center>Stresses on the outer surface of the sphere.</center>"
   ]
  },
  {
   "cell_type": "markdown",
   "metadata": {},
   "source": [
    "### 2.2 Stresses at the inner surface"
   ]
  },
  {
   "cell_type": "markdown",
   "metadata": {},
   "source": [
    "If we now extract a cuboid stress element from the inner surface we see that we now have a pressure $p$ acting in the z-direction and as such an element at this location is in a state of triaxial stress. The stress in the z-direction, perpendicular to the surface, decreases from a value of $p$ at the inner surface to $0$ at the outer surface. \n",
    "\n",
    "Remember that our analysis has made the assumption that we can neglect the wall thickness, $t$. As such our model is an approximation of the actual behaviour of the structure. Consistent with this approximate approach, if the structure is thin-walled, the magnitude of $\\sigma_z$ will be small by comparison to $\\sigma_x$ and $\\sigma_y$. We therefore make the simplifying assumption that the inner surface is also in a state of biaxial stress. "
   ]
  },
  {
   "cell_type": "markdown",
   "metadata": {},
   "source": [
    "![title](img/T2W1/img7.jpg)\n",
    "<center>Stresses on the inneer surface of the sphere.</center>"
   ]
  },
  {
   "cell_type": "markdown",
   "metadata": {},
   "source": [
    "**Observations and limitations**\n",
    "- Our analysis has assumed a perfectly spherical vessel free from any point loads or discontinuities in its geometry. In reality, such a container will have supports, fittings etc. These will introduce **stress concentrations**. These are localised regions of higher magnitude stress. You should be aware that the formula derived above will only apply in regions free from stress concentrations. Other method of analysis, typically finite element analysis, are needed to model the influence of stress concentrations. \n",
    "- Remember the underlying assumption we made was that the wall thickness is small compared to the radius. This allows us to neglect the stress $(\\sigma_z)$ gradient between the inner and outer walls and assume the walls are in a state of biaxial or plane stress. \n",
    "- We have assumed a positive gauge pressure, i.e. the internal pressure acts like air in a balloon, pushing the walls outward. Insufficient gauge pressure could lead to inward buckling of the walls of the shell. \n",
    "- All of the stresses we have discussed are perpendicular to the faces of the stress element and are therefore known as **normal stresses**. Shear stresses *would* act perpendicular to the faces of the stress element. For now we will simply note that there are no in-plane shear stresses acting on the faces of the element. In your further study of stress analysis, you will see that $\\sigma_x$ and $\\sigma_y$ are in fact principal stresses and as such there can be no shear stresses acting on the same planes as $\\sigma_x$ and $\\sigma_y$. For now it is sufficient to concentrate on normal stresses identified above. "
   ]
  },
  {
   "cell_type": "markdown",
   "metadata": {},
   "source": [
    "## 3.0 Cylindrical pressure vessels"
   ]
  },
  {
   "cell_type": "markdown",
   "metadata": {},
   "source": [
    "Perhaps even more common than the spherical pressure vessel is the cylindrical pressure vessel, pictures below. In this section we will again use simple statics to determine the stresses that develop in the walls of these structures. The same assumptions discussed above regarding thin walls and stress concentrations also apply to cylindrical pressure vessels. "
   ]
  },
  {
   "cell_type": "markdown",
   "metadata": {},
   "source": [
    "![title](img/T2W1/img8.jpg)\n",
    "<center>Cylindrical pressure vessel. <a href=\"https://en.wikipedia.org/wiki/Storage_tank#/media/File:Modified_Hanson_steelwatertank.jpg\">[Wikipedia]</a></center>"
   ]
  },
  {
   "cell_type": "markdown",
   "metadata": {},
   "source": [
    "Let us consider a cylindrical pressure vessel free from any stress concentrations. A stress element on the surface of the tank with sides parallel and perpendicular to the logitudinal axis of the tank would have stresses $\\sigma_1$ and $\\sigma_2$ as shown below. These are principal stresses and no shear stresses act on these faces (you'll cover this in more depth in the future). However, unlike the spherical pressure vessel, $\\sigma_1 \\neq \\sigma_2$; $\\sigma_1$ is referred to and the **circumferential or hoop stress** while $\\sigma_2$ is referred to as the **longitudinal or axial stress**. "
   ]
  },
  {
   "cell_type": "markdown",
   "metadata": {},
   "source": [
    "![title](img/T2W1/img9.jpg)\n",
    "<center>Cylindrical pressure vessel with hoop and axial stress indicates as $\\sigma_1$ and $\\sigma_2$ respectively.</center>"
   ]
  },
  {
   "cell_type": "markdown",
   "metadata": {},
   "source": [
    "### 3.1 Hoop Stress"
   ]
  },
  {
   "cell_type": "markdown",
   "metadata": {},
   "source": [
    "Consider making cuts and isolating a segment of the pressure vessel (and its enclosed liquid) pictured below. In doing so, we reveal the internal hoop stresses. Just as we did for the spherical pressure vessel above, we can equate the tensile force generated by the hoop stress $F_{\\text{hoop}}$ with the force resultant $P_1$ from the internal liquid pressure $p$,\n",
    "\n",
    "\\begin{align}\n",
    "F_{\\text{hoop}} &= P_1\\\\\n",
    "\\sigma_1\\times 2bt &= p\\times 2rb\n",
    "\\end{align}\n",
    "\n",
    "From this we can extract an expression for the hoop stress in a thin-walled cylindrical pressure vessel,\n",
    "\n",
    "\\begin{equation}\n",
    "\\boxed{\n",
    "\\sigma_1 = \\frac{pr}{t}\n",
    "}\n",
    "\\end{equation}"
   ]
  },
  {
   "cell_type": "markdown",
   "metadata": {},
   "source": [
    "![title](img/T2W1/img10.jpg)\n",
    "<center>Segment and liquid/gas isolated by the cut revealing internal hoop stresses, $\\sigma_1$</center>"
   ]
  },
  {
   "cell_type": "markdown",
   "metadata": {},
   "source": [
    "### 3.2 Axial Stress"
   ]
  },
  {
   "cell_type": "markdown",
   "metadata": {},
   "source": [
    "To determine an expression for the axial stress we will again isolate a portion of the vessel and its liquid. Considering force equilibrium now in the axial direction,\n",
    "\n",
    "\\begin{align}\n",
    "F_{\\text{axial}} &= P_2\\\\\n",
    "\\sigma_2\\times 2\\pi r t &= p\\times \\pi r^2\n",
    "\\end{align}\n",
    "\n",
    "This yields an expression for the axial stress,\n",
    "\n",
    "\\begin{equation}\n",
    "\\boxed{\n",
    "\\sigma_2 = \\frac{pr}{2t}\n",
    "}\n",
    "\\end{equation}\n",
    "\n",
    "We note that the axial stress is equal to the tensile stress in a spherical pressure vessel. We also note that the hoop stress is two times larger than the axial stress for a cylindrical pressure vessel,\n",
    "\n",
    "\\begin{equation}\n",
    "\\boxed{\n",
    "\\sigma_1 = 2\\sigma_2\n",
    "}\n",
    "\\end{equation}\n"
   ]
  },
  {
   "cell_type": "markdown",
   "metadata": {},
   "source": [
    "![title](img/T2W1/img11.jpg)\n",
    "<center>Segment and liquid/gas isolated by the cut revealing internal axial stresses, $\\sigma_2$</center>"
   ]
  },
  {
   "cell_type": "markdown",
   "metadata": {},
   "source": [
    "### 3.3 Stresses on the inner and outer faces"
   ]
  },
  {
   "cell_type": "markdown",
   "metadata": {},
   "source": [
    "We can again compare the stresses that develop on the inner and outer faces of the pressure vessel. The same results apply that we observed for spherical pressure vessels in sections 2.1 and 2.2 above. The stress, $\\sigma_z = \\sigma_3$ normal to the surface of the wall, varies from $\\sigma_3 = -p$ at the inner surface to $\\sigma_3 = 0$ on the outer surface. However, in line with the thin-walled assumption, we can neglect this stress as it is small in comparison to the membrane stresses $\\sigma_1$ and $\\sigma_2$. The equations derived for hoop stress and axial stress are as mentioned above only valid in regions without stress concentrations. They are also limited to regions where there are no discontinuities in the geometry. Therefore they will not apply towards the ends of the cylinder near the end caps. More sophisticated methods of analysis are required to determine the stresses in these regions. "
   ]
  },
  {
   "cell_type": "markdown",
   "metadata": {},
   "source": [
    "### Example 1\n",
    "(Ref. Gere)"
   ]
  },
  {
   "cell_type": "markdown",
   "metadata": {},
   "source": [
    "A steel compressed air tank is formed by welding 2 hemispheres together and has inner diameter of $450\\:mm$ and a wall thickness of $7 mm$. \n",
    "- If the allowable tensile stress in the steel is $115\\: N/mm^2$, what is the maximum allowable pressure?\n",
    "- Tests on the weld show that it will fail if the load on the weld exceeds $1.5\\:MN/m$ of weld. If the required factor of safety against failure of the weld is 2.5, what is the maximum allowable pressure? You should assume the weld has the same depth as the vessel wall, i.e. it is a *full penetration butt weld*."
   ]
  },
  {
   "cell_type": "code",
   "execution_count": 9,
   "metadata": {},
   "outputs": [
    {
     "name": "stdout",
     "output_type": "stream",
     "text": [
      "- The allowable internal pressure based on steel failure is 7.16 N/mm^2\n"
     ]
    }
   ],
   "source": [
    "#Steel Failure - Rearrange equation for tensile stress in spherical pressure vessel\n",
    "r = 450/2 #(mm) Vessel radius\n",
    "t = 7 #(mm) Wall thickness\n",
    "sigma_all = 115 #(N/mm^2) Allowable tensile stress in the steel\n",
    "p_all_1 = 2*t*sigma_all/r #(N/mm^2) Allowable internal pressure\n",
    "print(\"- The allowable internal pressure based on steel failure is {one} N/mm^2\".format(one=round(p_all_1,2)))"
   ]
  },
  {
   "cell_type": "code",
   "execution_count": 12,
   "metadata": {},
   "outputs": [
    {
     "name": "stdout",
     "output_type": "stream",
     "text": [
      "- The allowable internal pressure based on weld failure is 5.33 N/mm^2\n"
     ]
    }
   ],
   "source": [
    "#Weld Failure\n",
    "T_all = 1.5/2.5*10**3 #(N/mm) Allowable load on the weld per mm\n",
    "sigma_all = (T_all*1)/(t*1) #(N/mm^2) Allowable stress in the self (force/area)\n",
    "p_all_2 = 2*t*sigma_all/r #(N/mm^2) Allowable internal pressure\n",
    "print(\"- The allowable internal pressure based on weld failure is {one} N/mm^2\".format(one=round(p_all_2,2)))\n"
   ]
  },
  {
   "cell_type": "markdown",
   "metadata": {},
   "source": [
    "Therefore the maximum internal pressure in the vessel is $5.33\\:N/mm^2$. Note that this analysis has not taken into consideration any shear stresses that develop within the walls of the vessel on planes other than the principle planes (upon which the principal tensile stresses develop)."
   ]
  },
  {
   "cell_type": "markdown",
   "metadata": {},
   "source": [
    "**You should now download the question sheet for this week and attempt all questions. You will have an opportunity to to get help in your tutorial session and worked solutions will be released next week.**  "
   ]
  }
 ],
 "metadata": {
  "hide_input": false,
  "kernelspec": {
   "display_name": "Python 3",
   "language": "python",
   "name": "python3"
  },
  "language_info": {
   "codemirror_mode": {
    "name": "ipython",
    "version": 3
   },
   "file_extension": ".py",
   "mimetype": "text/x-python",
   "name": "python",
   "nbconvert_exporter": "python",
   "pygments_lexer": "ipython3",
   "version": "3.6.4"
  },
  "toc": {
   "base_numbering": 1,
   "nav_menu": {},
   "number_sections": true,
   "sideBar": true,
   "skip_h1_title": false,
   "title_cell": "Table of Contents",
   "title_sidebar": "Contents",
   "toc_cell": false,
   "toc_position": {
    "height": "calc(100% - 180px)",
    "left": "10px",
    "top": "150px",
    "width": "165px"
   },
   "toc_section_display": true,
   "toc_window_display": false
  }
 },
 "nbformat": 4,
 "nbformat_minor": 2
}
