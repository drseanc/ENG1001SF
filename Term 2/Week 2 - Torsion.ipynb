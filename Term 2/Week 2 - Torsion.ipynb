{
 "cells": [
  {
   "cell_type": "code",
   "execution_count": 1,
   "metadata": {
    "deletable": false,
    "editable": false,
    "hide_input": false
   },
   "outputs": [
    {
     "name": "stdout",
     "output_type": "stream",
     "text": [
      "- Dependencies imported 👍\n",
      "- Remember to select 'Kernel-> Restart & Run All' on first load to show embedded Youtube videos 🎬\n",
      "- Author: Dr SPCarroll, Sept 2020, Rev 0\n"
     ]
    }
   ],
   "source": [
    "#DEPENDENCIES & INITIALISATIONS\n",
    "from IPython.display import HTML #For embedding videos\n",
    "import math #Basic math functionality\n",
    "import numpy as np #Numpy for working with arrays\n",
    "import matplotlib.pyplot as plt #Plotting functionality \n",
    "#HTML('<center><iframe width=\"560\" height=\"315\" src=\"#\" frameborder=\"0\" allowfullscreen></iframe></center>')\n",
    "print(\"- Dependencies imported 👍\")\n",
    "print(\"- Remember to select 'Kernel-> Restart & Run All' on first load to show embedded Youtube videos 🎬\")\n",
    "print(\"- Author: Dr SPCarroll, Sept 2020, Rev 0\")"
   ]
  },
  {
   "cell_type": "markdown",
   "metadata": {
    "hide_input": true
   },
   "source": [
    "# Week 2: Introduction to Torsion\n",
    "Reference: Chapter 3 of *Mechanics of Materials*, Gere and Goodno"
   ]
  },
  {
   "cell_type": "markdown",
   "metadata": {
    "hide_input": false
   },
   "source": [
    "![title](img/T2W2/banner.jpg)"
   ]
  },
  {
   "cell_type": "markdown",
   "metadata": {
    "hide_input": true
   },
   "source": [
    "## 1.0 Introduction"
   ]
  },
  {
   "cell_type": "markdown",
   "metadata": {},
   "source": [
    "At the beginning of term 1, we discussed trusses and observed that the members that make up a truss experience only axial force. We could say that the *action* on these members was axial force. We then discussed structural elements whose primary actions were shear force and bending (beams and frames). What distinguished an axial force from a shear force was the axis along which the force was applied; axial forces were applied parallel to the logitudinal axis of the member while shear forces were applied perpendicular to this axis. When discussing bending moments, we didn't labour the point at the time, but the moments considered were all about an axis perpendicular to the page or perpendicular to the plane of the member considered, see below.  "
   ]
  },
  {
   "cell_type": "markdown",
   "metadata": {},
   "source": [
    "![title](img/T2W2/img1.jpg)\n",
    "<center>Beam subject to shearing force $F_y$, axial force $F_x$ and bending moment $M_z$. All of these actions have been discussed in term 1.</center>"
   ]
  },
  {
   "cell_type": "markdown",
   "metadata": {},
   "source": [
    "In this section we introduce another action - torsion. This is simply a bending moment applied about a different axis - the logitudinal axis. Torsion tends to cause twisting about the longitudinal axis and is a very common form of loading that we need to be able to analyse. We often refer to torsional moments as torques (we can use the terms *torsional moment* and *torque* interchangeably). "
   ]
  },
  {
   "cell_type": "markdown",
   "metadata": {},
   "source": [
    "![title](img/T2W2/img2.jpg)\n",
    "<center>Beam subject to a torsional moment, $M_x$ about the longitudinal x-axis.</center>"
   ]
  },
  {
   "cell_type": "markdown",
   "metadata": {},
   "source": [
    "We can represent torsion (or any moment) with the curved arrow you're familiar with or with a double headed arrow - which is typically more convenient for representing torsion. To determine the sense of rotation indicated by a double headed arrow, we use the **right hand screw rule**. According to this sign convention, if you point the thumb or your right hand in the direction of the double headed arrow, your fingers will curve around matching the positive sense of rotation of the moment. This will be an important convention to understand and keep in mind."
   ]
  },
  {
   "cell_type": "markdown",
   "metadata": {},
   "source": [
    "![title](img/T2W2/img3.jpg)\n",
    "<center>The double-headed arrow indicates the torque being applied through this screw-driver with the right hand. Notice that the double-headed arrow points in the same direction as the out-stretched thumb of the right hand (if it were out-stretched). The rotational arrow (bottom) indicates the sense of the applied torque. © Cengage Learning. 2009</center>"
   ]
  },
  {
   "cell_type": "markdown",
   "metadata": {},
   "source": [
    "## 2.0 Torsional Deformation"
   ]
  },
  {
   "cell_type": "markdown",
   "metadata": {},
   "source": [
    "We will now explore the concept of strain as it applies to circular bars and derive an equation that relates the strain to the angle of twist in the bar. First we state the following assumptions:\n",
    "- the bar is circular in cross-section and prismatic (same cross-section shape throughout).\n",
    "- the angle of twist, $\\phi$ between both ends of the bar is small.\n",
    "- the applied torque is constant throughout the length of the bar and it is therefore in pure torsion.\n",
    "- angles of twist are measured in radians $(\\pi\\: \\text{radians}=180^\\circ)$. \n",
    "\n",
    "Consider the bar pictured below that is fixed against torsional rotation at end $p$. The applied torque, $T$ induces an angle of twist $\\phi$ such that point $q$ moves to point $q'$ at the free end of the bar. The angle of twist varies linearly between $x=0$ and $x=L$. "
   ]
  },
  {
   "cell_type": "markdown",
   "metadata": {},
   "source": [
    "![title](img/T2W2/img4.jpg)\n",
    "<center>(a) Prismatic circular bar subject to torque $T$, (b) bar cross-section showing full angle of twist $\\phi$. © Cengage Learning. 2009</center>"
   ]
  },
  {
   "cell_type": "markdown",
   "metadata": {},
   "source": [
    "We now consider a small sub-section of bar with length $\\mathrm{d}x$, pictured below. We note that the right cross-section rotates relative to the left cross-section by an amount $\\mathrm{d}\\phi$. As a result, the original element $abcd$ becomes $ab'c'd$ with $b$ rotating to $b'$ and $c$ rotating to $c'$. Because we have made the initial assumption that the angle of rotation between the ends of the bar is small, we can say that the lengths of the sides $ab'$ and $dc'$ remain unchanged. From this we can can conclude that the deformation of the element $abcd$ is completely defined by the decrease in the angle $bad$. We recognise this as a shear deformation and conclude that the element is in pure shear (i.e. only experiencing shear strain). "
   ]
  },
  {
   "cell_type": "markdown",
   "metadata": {},
   "source": [
    "![title](img/T2W2/img5.jpg)\n",
    "<center>(a) Prismatic circular bar in a state of pure torsion. (b) Sub-length $\\mathrm{d}x$ experiencing an angle of twist $\\mathrm{d}\\theta$ giving rise to a shear deformation $\\gamma_{\\text{max}}$ on the outer surface of the bar. © Cengage Learning. 2009</center>"
   ]
  },
  {
   "cell_type": "markdown",
   "metadata": {},
   "source": [
    "We can see from the figure above that the magnitude of the shear strain $\\gamma_{\\text{max}}$ is given by,\n",
    "\n",
    "\\begin{equation}\n",
    "\\gamma_{\\text{max}} = \\frac{bb'}{\\mathrm{d}x}\n",
    "\\end{equation}\n",
    "\n",
    "We note that for small angles we can replace the distance $bb'$ with $r\\mathrm{d}\\theta$ yielding,\n",
    "\n",
    "\\begin{equation}\n",
    "\\gamma_{\\text{max}} = \\frac{r\\mathrm{d}\\theta}{\\mathrm{d}x}\n",
    "\\end{equation}"
   ]
  },
  {
   "cell_type": "markdown",
   "metadata": {},
   "source": [
    "The quantity $\\mathrm{d}\\theta/\\mathrm{d}x$ is the **rate of twist or twist per unit length** and is replaced by $\\theta$,\n",
    "\n",
    "\\begin{equation}\n",
    "\\theta = \\frac{\\mathrm{d}\\theta}{\\mathrm{d}x}\n",
    "\\end{equation}\n",
    "\n",
    "As a result we obtain the equation for the shear strain at radius $r$,\n",
    "\n",
    "\\begin{equation}\n",
    "\\boxed{\\gamma_{\\text{max}} = r\\theta}\n",
    "\\end{equation}\n",
    "\n",
    "Note that for elements of length $L$ experiencing pure torsion (constant torque magnitude throughout the bar), $\\theta = \\phi/L$ and **for pure torsion only** we have,\n",
    "\n",
    "\\begin{equation}\n",
    "\\boxed{\\gamma_{\\text{max}} = \\frac{r\\phi}{L}}\n",
    "\\end{equation}"
   ]
  },
  {
   "cell_type": "markdown",
   "metadata": {},
   "source": [
    "We can see from the preceding equations that for any given cross-section the shear stress varies linearly with radius. For hollow circular tubes we obtain the shear stress magnitude at the inner and outer walls simply by substituting the relevant value for the radius, (see below). Therefore, the *max* in the subscript $\\gamma_{\\text{max}}$ refers to the fact that this shear stress was evaluated for the outer surface of the bar, where the radius and therefore shear stress are a maximum."
   ]
  },
  {
   "cell_type": "markdown",
   "metadata": {},
   "source": [
    "![title](img/T2W2/img6.jpg)\n",
    "<center>Shear stress $\\gamma$ varying linearly with radius. © Cengage Learning. 2009</center>"
   ]
  },
  {
   "cell_type": "markdown",
   "metadata": {},
   "source": [
    "## 3.0 Torsion in linearly elastic circular bars"
   ]
  },
  {
   "cell_type": "markdown",
   "metadata": {},
   "source": [
    "If the material the bar is made of is linearly elastic, we know the shear stress will be linearly proportional to the shear strain. In the case of shear (as-opposed to tension and compression) the stress $(\\tau)$ and strain $(\\gamma)$ are related by the shear modulus of elasticity, $G$,\n",
    "\n",
    "\\begin{equation}\n",
    "\\tau = G\\gamma\n",
    "\\end{equation}\n",
    "\n",
    "We can therefore state the shear stress, $\\tau$ at a radius $r$ as,\n",
    "\n",
    "\\begin{equation}\n",
    "\\boxed{\\tau = G r \\theta}\n",
    "\\end{equation}\n",
    "\n",
    "If we wish to determine the shear stress at some internal radius $\\rho$ we could do so as follows,\n",
    "\n",
    "\\begin{equation}\n",
    "\\tau = \\frac{\\rho}{r}\\tau_{\\text{max}}\n",
    "\\end{equation}\n",
    "\n",
    "where, $\\tau_{\\text{max}}$ is the maximum shear stress on the outer surface.\n",
    "\n",
    "The bar in image (a) below shows a bar in pure torsion and an enlarged stress element with the directions of the resulting shear stresses at the surface indicated. In image (b) we can see the shear stresses and corresponding shear deformation on the element. We again see in image (c) that the shear stress varies linearly with radius."
   ]
  },
  {
   "cell_type": "markdown",
   "metadata": {},
   "source": [
    "![title](img/T2W2/img7.jpg)\n",
    "<center>(a) Bar in pure torsion, (b) resulting stresses and strains reflected on an element taken from the bar, (c) cross-section of the bar showing linear variation of shear stress with radius. © Cengage Learning. 2009</center>"
   ]
  },
  {
   "cell_type": "markdown",
   "metadata": {},
   "source": [
    "### 3.1 Relating shear stress with torque"
   ]
  },
  {
   "cell_type": "markdown",
   "metadata": {},
   "source": [
    "We now wish to derive the **torsion formula** that relates the applied torque $T$ with the shear stress produced $\\tau$. We start by considering the stressed cross-section and an element of area within this cross-section $\\mathrm{d}A$. This area is located at radius $\\rho$ and experiences a shear stress, $\\tau$. Therefore we can calculate the force experienced by $\\mathrm{d}A$ as $\\tau \\mathrm{d}A$. This force generates a moment about the axis of the bar, $\\mathrm{d}M$. \n",
    "\n",
    "\\begin{equation}\n",
    "\\mathrm{d}M = \\tau \\rho \\mathrm{d}A\n",
    "\\end{equation}\n",
    "\n",
    "Replacing $\\tau$ with the expression we derived previously yields,\n",
    "\n",
    "\\begin{equation}\n",
    "\\mathrm{d}M = \\frac{\\tau_{\\text{max}}}{r} \\rho^2 \\mathrm{d}A\n",
    "\\end{equation}\n",
    "\n",
    "Note that the summation of all of the moments acting on all elements of area $\\mathrm{d}A$ equals the applied torque, $T$. We can perform this summation by integrating $\\mathrm{d}M$ over the full cross-sectional area,\n",
    "\n",
    "\\begin{equation}\n",
    "T = \\int_A \\mathrm{d}M = \\frac{\\tau_{\\text{max}}}{r}\\int_A \\rho^2 \\mathrm{d}A\n",
    "\\end{equation}\n",
    "\n",
    "We now define the **polar moment of inertia** of the circular cross-section, $I_P$,\n",
    "\n",
    "\\begin{equation}\n",
    "I_P = \\int_A \\rho^2 \\mathrm{d}A\n",
    "\\end{equation}\n",
    "\n",
    "It is a property of the cross-section shape (similar to the second moment of area we've seen before) and for a circle with diameter $d$ is given by,\n",
    "\n",
    "\\begin{equation}\n",
    "I_P = \\frac{\\pi d^4}{32}\n",
    "\\end{equation}\n",
    "\n",
    "Therefore we have, \n",
    "\n",
    "\\begin{equation}\n",
    "T = \\frac{\\tau_{\\text{max}}}{r}I_P\n",
    "\\end{equation}\n",
    "\n",
    "Rearranging we obtain the torsion formula,\n",
    "\n",
    "\\begin{equation}\n",
    "\\boxed{\\tau_{\\text{max}} = \\frac{T r}{I_p}}\n",
    "\\end{equation}"
   ]
  },
  {
   "cell_type": "markdown",
   "metadata": {},
   "source": [
    "![title](img/T2W2/img8.jpg)\n",
    "<center>Cross-section of a bar in pure torsion showing an element of area $\\mathrm{d}A$ experiencing a torsional stress $\\tau$. © Cengage Learning. 2009</center>"
   ]
  },
  {
   "cell_type": "markdown",
   "metadata": {},
   "source": [
    "If we recall our expression from above, $\\tau_{\\text{max}} = Gr\\theta$ where $\\theta$ was the rate of twist or twist per unit length, we can combine this with the torsion formula to obtain,\n",
    "\n",
    "\\begin{equation}\n",
    "\\theta = \\frac{T}{GI_P}\n",
    "\\end{equation}\n",
    "\n",
    "In the above equation, the quantity $GI_P$ is known as the torsional rigidity and is analogous to the flexural rigidity $EI$ for bending. "
   ]
  },
  {
   "cell_type": "markdown",
   "metadata": {},
   "source": [
    "**Limitations**"
   ]
  },
  {
   "cell_type": "markdown",
   "metadata": {},
   "source": [
    "Our discussion and derivations so far have assumed the material remains linearly elastic and at no time is the applied torque such that the proportional limit for the material is exceeded. As with our discussion of pressure vessels last week, our derivations are also only valid in the absence of stress concentrations that result from discontinuities in geometry or at points of load application. "
   ]
  },
  {
   "cell_type": "markdown",
   "metadata": {},
   "source": [
    "### 3.2 Example 1"
   ]
  },
  {
   "cell_type": "markdown",
   "metadata": {},
   "source": [
    "A solid circular steel bar experiencing pure torsion with applied torque $T=340\\:Nm$ and has the following parameters values:\n",
    "- diameter $d = 40\\:mm$\n",
    "- length $L=1.3\\:m$\n",
    "- shear modulus $G = 80\\:kN/mm^2$\n",
    "\n",
    "(a) Determine the maximum shear stress in the bar.\n",
    "\n",
    "(b) Determine the angle of twist between bar ends.\n",
    "\n",
    "(c) If the maximum allowable shear stress is $42 \\:N/mm^2$ and the maximum allowable angle of twist is $2.5^\\circ$, what is the maximum allowable torque?"
   ]
  },
  {
   "cell_type": "markdown",
   "metadata": {},
   "source": [
    "**Solution**\n",
    "\n",
    "(a) The maximum shear stress is obtained using,\n",
    "\n",
    "\\begin{equation*}\n",
    "\\tau_{\\text{max}} = \\frac{T r}{I_p}\n",
    "\\end{equation*}"
   ]
  },
  {
   "cell_type": "code",
   "execution_count": 2,
   "metadata": {},
   "outputs": [
    {
     "name": "stdout",
     "output_type": "stream",
     "text": [
      "(a) The maximum shear stress is 27.1 N/mm^2\n"
     ]
    }
   ],
   "source": [
    "G = 80*10**9 #(N/m^2)\n",
    "L = 1.3 #(m)\n",
    "T = 340 #(Nm)\n",
    "d = 0.04 #(m)\n",
    "r = d/2 #(m)\n",
    "Ip = math.pi*d**4/32 #(m^4)\n",
    "tau_max = T*r/Ip #(N/m^2)\n",
    "print('(a) The maximum shear stress is {one} N/mm^2'.format(one=round(tau_max/10**6,1)))"
   ]
  },
  {
   "cell_type": "markdown",
   "metadata": {},
   "source": [
    "(b) The angle of twist is obtained using,\n",
    "\n",
    "\\begin{equation*}\n",
    "\\phi = \\frac{TL}{GI_P}\n",
    "\\end{equation*}"
   ]
  },
  {
   "cell_type": "code",
   "execution_count": 3,
   "metadata": {},
   "outputs": [
    {
     "name": "stdout",
     "output_type": "stream",
     "text": [
      "(b) The angle of twist between ends is 0.022 radians or 1.26 degrees\n"
     ]
    }
   ],
   "source": [
    "theta_radians = T*L/(G*Ip) #(rads)\n",
    "theta_deg = theta_radians*180/math.pi\n",
    "print('(b) The angle of twist between ends is {one} radians or {two} degrees'.format(one=round(theta_radians,3), two=round(theta_deg,2)))"
   ]
  },
  {
   "cell_type": "markdown",
   "metadata": {},
   "source": [
    "(c) Let's first assume the torque is limited by the maximum allowable shear stress, $\\tau_{\\text{max}}=42\\:N/mm^2$. In this case we can solve for the maximum torque by rearranging the torsion formula as follows,\n",
    "\n",
    "\\begin{equation*}\n",
    "T = \\frac{\\tau_{\\text{max}}I_p}{r}\n",
    "\\end{equation*}"
   ]
  },
  {
   "cell_type": "code",
   "execution_count": 4,
   "metadata": {},
   "outputs": [
    {
     "name": "stdout",
     "output_type": "stream",
     "text": [
      "- The maximum torque limited by shear stress is 527.8 Nm\n"
     ]
    }
   ],
   "source": [
    "tau_max = 42 #(N/mm^2)\n",
    "T_max_1 = (tau_max*10**6)*Ip/r\n",
    "print('- The maximum torque limited by shear stress is {one} Nm'.format(one=round(T_max_1,1)))"
   ]
  },
  {
   "cell_type": "markdown",
   "metadata": {},
   "source": [
    "Now we can test what the maximum torque would be if angle of twist was the limiting criteria using,\n",
    "\n",
    "\\begin{equation*}\n",
    "T = \\frac{\\phi G I_p}{L}\n",
    "\\end{equation*}"
   ]
  },
  {
   "cell_type": "code",
   "execution_count": 5,
   "metadata": {},
   "outputs": [
    {
     "name": "stdout",
     "output_type": "stream",
     "text": [
      "- The maximum torque limited by angle of twist is 674.8 Nm\n"
     ]
    }
   ],
   "source": [
    "phi_max_deg = 2.5 #(degrees)\n",
    "phi_max_rad = phi_max_deg*math.pi/180\n",
    "T_max_2 = phi_max_rad*G*Ip/L\n",
    "print('- The maximum torque limited by angle of twist is {one} Nm'.format(one=round(T_max_2,1)))"
   ]
  },
  {
   "cell_type": "code",
   "execution_count": 6,
   "metadata": {},
   "outputs": [
    {
     "name": "stdout",
     "output_type": "stream",
     "text": [
      "(c) The maximum allowable torque is 527.8 Nm, limited by shear stress\n"
     ]
    }
   ],
   "source": [
    "#Test which is the limiting factor\n",
    "if(T_max_1<T_max_2):\n",
    "    print('(c) The maximum allowable torque is {one} Nm, limited by shear stress'.format(one=round(T_max_1,1)))\n",
    "elif(T_max_1>T_max_2):\n",
    "    print('(c) The maximum allowable torque is {one} Nm, limited by angle of twist'.format(one=round(T_max_2,1)))\n",
    "else:\n",
    "    print('(c) The allowable torque is {one} Nm and simultaneously limited by shear stress and angle of twist'.format(one=round(T_max_1,1)))"
   ]
  },
  {
   "cell_type": "markdown",
   "metadata": {},
   "source": [
    "### 3.3 Example 2"
   ]
  },
  {
   "cell_type": "markdown",
   "metadata": {},
   "source": [
    "Consider two shafts, one hollow and one solid. Both have an outer diameter $R$ while the hollow shaft has an inner diameter of $0.6R$. Both shafts experience a torque $T$. \n",
    "\n",
    "Determine the ratio of the following properties for each shaft:\n",
    "\n",
    "(a) shear stress\n",
    "\n",
    "(b) angle of twist \n",
    "\n",
    "(c) weight"
   ]
  },
  {
   "cell_type": "markdown",
   "metadata": {},
   "source": [
    "**Solution**\n",
    "\n",
    "(a) If the torque and outer radius are the same, the shear stress is proportional to $1/I_P$. Therefore we simply need to compare the ratio of $I_P$ values to obtain a ratio for shear stress for the shafts. For the solid shaft,\n",
    "\n",
    "\\begin{equation}\n",
    "I_P = \\frac{\\pi R^4}{2}\n",
    "\\end{equation}\n",
    "\n",
    "For the hollow shaft, \n",
    "\n",
    "\\begin{equation}\n",
    "I_P = \\frac{\\pi R^4}{2} - \\frac{\\pi (0.6R)^4}{2}\n",
    "\\end{equation}"
   ]
  },
  {
   "cell_type": "code",
   "execution_count": 7,
   "metadata": {},
   "outputs": [
    {
     "name": "stdout",
     "output_type": "stream",
     "text": [
      "(a) The ratio of maximum shear stress in the hollow shaft to that on the solid shaft is 1.15\n",
      "In other words the hollow shaft experiences a 15% larger maximum stress for the same applied torque\n"
     ]
    }
   ],
   "source": [
    "R_outer = 1 #Arbitrary value used to calculate a 'baseline' value for outer diameter (any number >0 will do)\n",
    "R_ratio = 0.6 #Ratio of radii, R_inner/R_outer\n",
    "\n",
    "Ip_solid = (math.pi*R_outer**4)/2\n",
    "Ip_hollow = Ip_solid - (math.pi*(R_ratio*R_outer)**4)/2\n",
    "\n",
    "tau_ratio = (1/Ip_hollow)/(1/Ip_solid)\n",
    "print('(a) The ratio of maximum shear stress in the hollow shaft to that on the solid shaft is {one}'.format(one=round(tau_ratio,2)))\n",
    "print('In other words the hollow shaft experiences a {one}% larger maximum stress for the same applied torque'.format(one=round(100*(tau_ratio-1))))"
   ]
  },
  {
   "cell_type": "markdown",
   "metadata": {},
   "source": [
    "(b) Because both shafts are the same length and made of the same material, the angles of twist are also proportional to the inverse of the polar moment of inertia, therefore...  "
   ]
  },
  {
   "cell_type": "code",
   "execution_count": 8,
   "metadata": {},
   "outputs": [
    {
     "name": "stdout",
     "output_type": "stream",
     "text": [
      "(b) The ratio of angle of twist in the hollow shaft to that on the solid shaft is also 1.15\n",
      "Again, the hollow shaft experiences 15% more rotation for the same applied torque\n"
     ]
    }
   ],
   "source": [
    "print('(b) The ratio of angle of twist in the hollow shaft to that on the solid shaft is also {one}'.format(one=round(tau_ratio,2)))\n",
    "print('Again, the hollow shaft experiences {one}% more rotation for the same applied torque'.format(one=round(100*(tau_ratio-1))))"
   ]
  },
  {
   "cell_type": "markdown",
   "metadata": {},
   "source": [
    "(c) The weights of the shafts are proportional to their cross-sectional areas. "
   ]
  },
  {
   "cell_type": "code",
   "execution_count": 9,
   "metadata": {},
   "outputs": [
    {
     "name": "stdout",
     "output_type": "stream",
     "text": [
      "(c) The ratio of weight of the hollow shaft to that of the solid shaft is 0.64\n",
      "The hollow shaft is 36% lighter than the equivalent diameter solid shaft\n"
     ]
    }
   ],
   "source": [
    "A_solid = math.pi*R_outer**2\n",
    "A_hollow = A_solid - math.pi*(R_ratio*R_outer)**2\n",
    "weight_ratio = A_hollow/A_solid\n",
    "print('(c) The ratio of weight of the hollow shaft to that of the solid shaft is {one}'.format(one=weight_ratio))\n",
    "print('The hollow shaft is {one}% lighter than the equivalent diameter solid shaft'.format(one=round(100*(1-weight_ratio))))"
   ]
  },
  {
   "cell_type": "markdown",
   "metadata": {},
   "source": [
    "From this analysis we can see the inherent efficiency offered by a hollow shaft. Although it developed a larger magnitude of stress under the same magnitude of torsion as well as a larger rotation, it is significantly lighter. "
   ]
  },
  {
   "cell_type": "markdown",
   "metadata": {},
   "source": [
    "**You should now download the question sheet for this week and attempt all questions. You will have an opportunity to to get help in your tutorial session and worked solutions will be released next week.**  "
   ]
  }
 ],
 "metadata": {
  "hide_input": false,
  "kernelspec": {
   "display_name": "Python 3",
   "language": "python",
   "name": "python3"
  },
  "language_info": {
   "codemirror_mode": {
    "name": "ipython",
    "version": 3
   },
   "file_extension": ".py",
   "mimetype": "text/x-python",
   "name": "python",
   "nbconvert_exporter": "python",
   "pygments_lexer": "ipython3",
   "version": "3.6.4"
  },
  "toc": {
   "base_numbering": 1,
   "nav_menu": {},
   "number_sections": true,
   "sideBar": true,
   "skip_h1_title": false,
   "title_cell": "Table of Contents",
   "title_sidebar": "Contents",
   "toc_cell": false,
   "toc_position": {
    "height": "calc(100% - 180px)",
    "left": "10px",
    "top": "150px",
    "width": "165px"
   },
   "toc_section_display": true,
   "toc_window_display": false
  }
 },
 "nbformat": 4,
 "nbformat_minor": 2
}
