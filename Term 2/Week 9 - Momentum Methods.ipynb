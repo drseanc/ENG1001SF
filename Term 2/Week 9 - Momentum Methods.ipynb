{
 "cells": [
  {
   "cell_type": "code",
   "execution_count": 1,
   "metadata": {
    "deletable": false,
    "editable": false,
    "hide_input": true
   },
   "outputs": [
    {
     "name": "stdout",
     "output_type": "stream",
     "text": [
      "- Dependencies imported 👍\n",
      "- Remember to select 'Kernel-> Restart & Run All' on first load to show embedded Youtube videos 🎬\n",
      "- Author: Dr H Alwi & Dr SPCarroll, Sept 2020, Rev 0\n"
     ]
    }
   ],
   "source": [
    "#DEPENDENCIES & INITIALISATIONS\n",
    "from IPython.display import HTML #For embedding videos\n",
    "import math #Basic math functionality\n",
    "import numpy as np #Numpy for working with arrays\n",
    "import matplotlib.pyplot as plt #Plotting functionality \n",
    "#HTML('<center><iframe width=\"560\" height=\"315\" src=\"#\" frameborder=\"0\" allowfullscreen></iframe></center>')\n",
    "print(\"- Dependencies imported 👍\")\n",
    "print(\"- Remember to select 'Kernel-> Restart & Run All' on first load to show embedded Youtube videos 🎬\")\n",
    "print(\"- Author: Dr H Alwi & Dr SPCarroll, Sept 2020, Rev 0\")"
   ]
  },
  {
   "cell_type": "markdown",
   "metadata": {
    "hide_input": false
   },
   "source": [
    "![title](img/T2W9/banner.jpg)"
   ]
  },
  {
   "cell_type": "markdown",
   "metadata": {
    "hide_input": true
   },
   "source": [
    "# Week 9: Momentum-based Analysis Methods"
   ]
  },
  {
   "cell_type": "markdown",
   "metadata": {},
   "source": [
    "This week we will discuss the *principle of impulse and momentum* and its applications in the modelling and analysis of motion. We will see that this principle is a very useful tool, particularly when evaluating the influence of short duration impulse forces. An impulse is a short duration, large magnitude force, e.g. the force imparted when striking a ball for example. "
   ]
  },
  {
   "cell_type": "markdown",
   "metadata": {
    "hide_input": true
   },
   "source": [
    "## 1.0 The Principle of Impulse and Momentum"
   ]
  },
  {
   "cell_type": "markdown",
   "metadata": {},
   "source": [
    "The principle of impulse and momentum says that the impulse applied to an object during an interval of time is equal to the change in the the object's linear momentum. We will unpack this statement by first considering Newton's second law,\n",
    "\n",
    "\\begin{equation}\n",
    "\\sum \\textbf{F} = m\\frac{\\mathrm{d}\\mathbf{v}}{\\mathrm{d}t}\n",
    "\\end{equation}\n",
    "\n",
    "If we integrate this equation with respect to time we obtain,\n",
    "\n",
    "\\begin{equation}\n",
    "\\boxed{\n",
    "\\int_{t_1}^{t_2} \\sum \\textbf{F}\\: \\mathrm{d}t= m\\mathbf{v}_2 - m\\mathbf{v}_1\n",
    "}\n",
    "\\end{equation}\n",
    "\n",
    "where $\\mathbf{v}_1$ and $\\mathbf{v}_2$ are the velocities of the mass at times $t_1$ and $t_2$. The term on the left of the equal sign is the **linear impulse** and the term on the right is the **change in linear momentum**. This equation is the principle of impulse and momentum. With this equation, we can determine the change in an object's velocity if the external forces are known as **functions of time**. We can also analyse impacts between objects as we'll see below. \n",
    "\n",
    "Notice the similarities between the principle of impulse and momentum above and the principle of work and energy we discussed last week,\n",
    "\n",
    "\\begin{equation}\n",
    "\\int_{\\mathbf{r}_1}^{\\mathbf{r}_2}\\sum\\mathbf{F}\\cdot \\mathrm{d}\\mathbf{r} = \\frac{1}{2}mv_2^2 - \\frac{1}{2}mv_1^2\n",
    "\\end{equation}\n",
    "\n",
    "The principle of impulse and momentum requires the force as a function of time while the principle of work and energy requires the force as a function of position. Also note the principle of work and energy is a scalar equation that contains only the change in the magnitude of velocity while the principle of impulse and momentum is a vector equation that captures the change in both magnitude and direction of velocity.  \n"
   ]
  },
  {
   "cell_type": "markdown",
   "metadata": {},
   "source": [
    "**Impulsive Force**"
   ]
  },
  {
   "cell_type": "markdown",
   "metadata": {},
   "source": [
    "The principle of impulse and momentum can also be expressed in terms of average force. Recall from above that we said an impulse force acts over a small interval of time but exerts a significant linear impulse. Determining an average force that imparts a change in linear momentum equal to that imparted by an impulse force is a useful conversion. "
   ]
  },
  {
   "cell_type": "markdown",
   "metadata": {},
   "source": [
    "![title](img/T2W9/img1.jpg)\n",
    "<center>Impulse force (dark blue line), equivalent constant magnitude average force (light blue box).</center>"
   ]
  },
  {
   "cell_type": "markdown",
   "metadata": {},
   "source": [
    "The average force acting on an object between $t_1$ and $t_2$ is,\n",
    "\n",
    "\\begin{equation}\n",
    "\\sum \\mathbf{F}_{avg} = \\frac{1}{t_2-t_1}\\int_{t_1}^{t_2}\\sum \\mathbf{F}\\:\\mathrm{d}t\n",
    "\\end{equation}\n",
    "\n",
    "Multiplying both sides by $(t_2-t_1)$,\n",
    "\n",
    "\\begin{equation}\n",
    "(t_2-t_1) \\sum \\mathbf{F}_{avg} = \\int_{t_1}^{t_2}\\sum \\mathbf{F}\\:\\mathrm{d}t\n",
    "\\end{equation}\n",
    "\n",
    "Substituting equation (5) into equation (3) yields,\n",
    "\n",
    "\\begin{equation}\n",
    "\\boxed{\n",
    "(t_2-t_1) \\sum \\mathbf{F}_{avg} = m\\mathbf{v}_2 - m\\mathbf{v}_1\n",
    "}\n",
    "\\end{equation}\n",
    "\n",
    "This is an expression of the principle of impulse and momentum in terms of average force applied between $t_1$ and $t_2$. This is useful as it allows us to evaluate an equivalent constant magnitude average force applied provided we know the the object's velocities $\\mathbf{v}_1$ and $\\mathbf{v}_2$."
   ]
  },
  {
   "cell_type": "markdown",
   "metadata": {},
   "source": [
    "### Example 1"
   ]
  },
  {
   "cell_type": "markdown",
   "metadata": {},
   "source": [
    "Consider a helicopter with a mass of $1200\\:kg$ starting from rest at $t=0$ seconds. \n",
    "\n",
    "(a) In the time interval $0\\leq t\\leq10$, the components of the total force acting on the helicopter are:\n",
    "- $\\sum F_x = 720t$\n",
    "- $\\sum F_y = 2160-360t$\n",
    "- $\\sum F_z = 0$\n",
    "\n",
    "Determine the helicopter's velocity at $t=10$ seconds.\n",
    "\n",
    "(b) At $t=20$ seconds, the helicopter's velocity is $36\\mathbf{i} + 8\\mathbf{j}\\:m/s$. What is the average of the total force acting on the helicopter from $t=10$ seconds to $t=20$ seconds?"
   ]
  },
  {
   "cell_type": "markdown",
   "metadata": {},
   "source": [
    "**Solution (a)**\n",
    "\n",
    "The helicopter starts from rest, therefore $\\mathbf{v}_1=0$. We also note that the forces are provided as functions of time, so the principle of impulse and momentum is suitable to deploy. First we need to construct the total force vector, $\\sum \\mathbf{F}$,\n",
    "\n",
    "\\begin{equation*}\n",
    "\\sum \\mathbf{F} = 720t\\:\\mathbf{i} + (2160-360t)\\:\\mathbf{j}\n",
    "\\end{equation*}\n",
    "\n",
    "Substituting this into equation (2) and noting the limits of integration, $t_1 = 0$ and $t_2=10$,\n",
    "\n",
    "\\begin{equation*}\n",
    "\\int_0^{10} \\left[720t\\:\\mathbf{i} + (2160-360t)\\:\\mathbf{j}\\right]\\:\\mathrm{d}t = 1200\\:\\mathbf{v}_2 - (1200)(0)\n",
    "\\end{equation*}\n",
    "\n",
    "Evaluating the integration between the limits yields,\n",
    "\n",
    "\\begin{equation*}\n",
    "36000\\:\\mathbf{i} + 3600\\:\\mathbf{j} = 1200\\:\\mathbf{v}_2\n",
    "\\end{equation*}\n",
    "\n",
    "Therefore the velocity vector, $\\mathbf{v}_2$ at $t=10$ seconds is,\n",
    "\n",
    "\\begin{equation*}\n",
    "\\mathbf{v}_2 = 30\\:\\mathbf{i} + 3\\:\\mathbf{j} \\:m/s\n",
    "\\end{equation*}"
   ]
  },
  {
   "cell_type": "markdown",
   "metadata": {},
   "source": [
    "**Solution (b)**\n",
    "\n",
    "To determine the average force during the specified time interval, considering we know the velocities at each end of the interval, we can use equation (6).\n",
    "\n",
    "\\begin{equation*}\n",
    "(20-10)\\sum \\mathbf{F}_{avg} = (1200)(36\\:\\mathbf{i} + 8\\:\\mathbf{j}) - (1200)(30\\:\\mathbf{i} + 3\\:\\mathbf{j})\n",
    "\\end{equation*}\n",
    "\n",
    "Solving for $\\sum \\mathbf{F}_{avg}$,\n",
    "\n",
    "\\begin{equation*}\n",
    "\\sum \\mathbf{F}_{avg} = 720\\:\\mathbf{i} + 600\\:\\mathbf{j} \\:N\n",
    "\\end{equation*}"
   ]
  },
  {
   "cell_type": "markdown",
   "metadata": {},
   "source": [
    "Remember that this force represents the average force required to cause the change in linear momentum specified by velocities $v_1$ and $v_2$. The actual force may not have been constant during this interval. "
   ]
  },
  {
   "cell_type": "markdown",
   "metadata": {},
   "source": [
    "## 2.0 Conservation of Linear Momentum"
   ]
  },
  {
   "cell_type": "markdown",
   "metadata": {},
   "source": [
    "When considering a system of bodies, if the influence if external forces can be neglected, the total linear momentum of the objects can is conserved. In this context, external forces are any forces that are not imposed by the objects under consideration. Conservation of momentum is a powerful tool, particularly in the analysis of objects in contact. \n",
    "\n",
    "Consider the two bodies pictured below. Let $\\mathbf{F}_{AB}$ be the force exerted on $A$ by $B$ and let $\\mathbf{F}_{BA}$ be the force exerted on $B$ by $A$. According to Newton's third law, \n",
    "\n",
    "\\begin{equation}\n",
    "\\mathbf{F}_{AB} = -\\mathbf{F}_{BA}\n",
    "\\end{equation}"
   ]
  },
  {
   "cell_type": "markdown",
   "metadata": {},
   "source": [
    "![title](img/T2W9/img2.jpg)\n",
    "<center>Two bodies and the forces they exert on each other.</center>"
   ]
  },
  {
   "cell_type": "markdown",
   "metadata": {},
   "source": [
    "Assuming there are no other external forces at play, we can apply the principle of impulse and momentum to each mass,\n",
    "\n",
    "\\begin{equation}\n",
    "\\int_{t_1}^{t_2} \\mathbf{F}_{AB}\\:\\mathrm{d}t = m_A\\mathbf{v}_{A,2} - m_A\\mathbf{v}_{A,1}\n",
    "\\end{equation}\n",
    "\n",
    "\\begin{equation}\n",
    "\\int_{t_1}^{t_2} \\mathbf{F}_{BA}\\:\\mathrm{d}t = m_B\\mathbf{v}_{B,2} - m_B\\mathbf{v}_{B,1}\n",
    "\\end{equation}\n",
    "\n",
    "We know from equation (7) that $\\mathbf{F}_{AB} + \\mathbf{F}_{BC} = 0$, adding equations (8) and (9) we obtain,\n",
    "\n",
    "\\begin{equation}\n",
    "m_A\\mathbf{v}_{A,1} + m_B\\mathbf{v}_{B,1} = m_A\\mathbf{v}_{A,2} + m_B\\mathbf{v}_{B,2}\n",
    "\\end{equation}\n",
    "\n",
    "From this we conclude that,\n",
    "\n",
    "\\begin{equation}\n",
    "\\boxed{\n",
    "m_A\\mathbf{v}_A + m_B\\mathbf{v}_B = \\text{constant}\n",
    "}\n",
    "\\end{equation}\n",
    "\n",
    "i.e. the total linear momentum of A and B is conserved. Remember that this assumes that there are no external forces acting or that any external forces are negligible in comparison to $\\mathbf{F}_{AB}$ and $\\mathbf{F}_{BA}$. "
   ]
  },
  {
   "cell_type": "markdown",
   "metadata": {},
   "source": [
    "**Combined Centre of Mass**\n",
    "\n",
    "If we define the position of the centres of mass of $A$ and $B$ relative to some origin point using vectors $\\mathbf{r}_A$ and $\\mathbf{r}_B$, the location of the combined centre of mass $\\mathbf{r}$ is obtained as,\n",
    "\n",
    "\\begin{equation}\n",
    "\\mathbf{r} = \\frac{m_A\\mathbf{r}_A + m_B\\mathbf{r}_B}{m_A+m_B}\n",
    "\\end{equation}\n",
    "\n",
    "Differentiating both sides with respect to time yields,\n",
    "\n",
    "\\begin{equation}\n",
    "\\mathbf{v}(m_A+m_B) = m_A\\mathbf{v}_A + m_B\\mathbf{v}_B = \\text{constant}\n",
    "\\end{equation}\n",
    "\n",
    "where $\\mathbf{v}$ is the velocity of the combined centre of mass. "
   ]
  },
  {
   "cell_type": "markdown",
   "metadata": {},
   "source": [
    "To demonstrate conservation of momentum, consider a person with mass $m_p$ standing on a floating barge with mass $m_B$. "
   ]
  },
  {
   "cell_type": "markdown",
   "metadata": {},
   "source": [
    "![title](img/T2W9/img3.jpg)\n",
    "<center>Person standing on a floating barge.</center>"
   ]
  },
  {
   "cell_type": "markdown",
   "metadata": {},
   "source": [
    "If the person starts to run to the right with velocity $v_p$ relative to the water, we can use conservation of momentum to determine an expression for the velocity of the barge relative to the water $v_B$. "
   ]
  },
  {
   "attachments": {},
   "cell_type": "markdown",
   "metadata": {},
   "source": [
    "![title](img/T2W9/img4.jpg)\n",
    "<center>Velocity of the person and barge.</center>"
   ]
  },
  {
   "cell_type": "markdown",
   "metadata": {},
   "source": [
    "The first observation to make is that the only forces within the *system* are those exerted between the person and barge. From this we can conclude that the total linear momentum in the horizontal direction is conserved. \n",
    "\n",
    "If the total linear moment is zero before the person starts running, it must be zero after the person starts running therefore,\n",
    "\n",
    "\\begin{equation*}\n",
    "m_p v_p + m_B (-v_B) = 0\n",
    "\\end{equation*}\n",
    "\n",
    "Therefore the velocity of the barge is,\n",
    "\n",
    "\\begin{equation*}\n",
    "v_B = \\left(\\frac{m_p}{m_B}\\right)v_p\n",
    "\\end{equation*}"
   ]
  },
  {
   "cell_type": "markdown",
   "metadata": {},
   "source": [
    "### 2.1 Impacts"
   ]
  },
  {
   "cell_type": "markdown",
   "metadata": {},
   "source": [
    "Now we will consider impacts between masses and how velocities of the system of masses are altered by the impact. We again assume that our system of colliding masses is not subject to any external forces. This allows us to conclude that the total linear momentum of the system must be the same before and after the impact. Consider two masses $A$ and $B$ on a collision course and let the velocities before impact be $\\mathbf{v}_A$ and $\\mathbf{v}_B$ and their velocities after impact be $\\mathbf{v}'_A$ and $\\mathbf{v}'_B$. Now let $\\mathbf{v}$ be the velocity of their combined centre of mass. "
   ]
  },
  {
   "cell_type": "markdown",
   "metadata": {},
   "source": [
    "![title](img/T2W9/img5.jpg)\n",
    "<center>Masses $A$ and $B$ before and after impact.</center>"
   ]
  },
  {
   "cell_type": "markdown",
   "metadata": {},
   "source": [
    "Since linear momentum is conserved,\n",
    "\n",
    "\\begin{equation}\n",
    "m_A\\mathbf{v}_{A} + m_B\\mathbf{v}_{B} = m_A\\mathbf{v}'_{A} + m_B\\mathbf{v}'_{B}\n",
    "\\end{equation}"
   ]
  },
  {
   "cell_type": "markdown",
   "metadata": {},
   "source": [
    "We also know from equation (13) that the velocity of the combined centre of mass is constant and therefore the same before and after the impact. If the masses remain together (in contact) after the collision, the collision is said to be perfectly plastic and $\\mathbf{v}'_A = \\mathbf{v}'_B = \\mathbf{v}$. In this case we simply need to know the pre-impact velocities to determine the combined post-impact velocity. If the masses do not remain together post-impact, conservation of linear momentum alone is not sufficient to determine all object velocities. "
   ]
  },
  {
   "cell_type": "markdown",
   "metadata": {},
   "source": [
    "![title](img/T2W9/img6.jpg)\n",
    "<center>Perfectly plastic impact in which masses $A$ and $B$ remain together after impact.</center>"
   ]
  },
  {
   "cell_type": "markdown",
   "metadata": {},
   "source": [
    "### 2.2 Direct Central Impacts"
   ]
  },
  {
   "cell_type": "markdown",
   "metadata": {},
   "source": [
    "We will now consider a specific collision scenario called *direct central impact*. In this specific case the two masses $A$ and $B$ travel in a straight line with velocities $\\mathbf{v}_A$ and $\\mathbf{v}_B$ before their impact. Let $R$ be the contact force between $A$ and $B$ and note that $R$ is parallel to the direction of travel. After their impact, $A$ and $B$ continue to travel along the same straight line with velocities $\\mathbf{v}'_A$ and $\\mathbf{v}'_B$."
   ]
  },
  {
   "cell_type": "markdown",
   "metadata": {},
   "source": [
    "![title](img/T2W9/img7.jpg)\n",
    "<center>Direct central impact.</center>"
   ]
  },
  {
   "cell_type": "markdown",
   "metadata": {},
   "source": [
    "If the effects of external forces are negligible, linear momentum is conserved,\n",
    "\n",
    "\\begin{equation}\n",
    "m_A \\:v_A + m_B\\:v_B = m_A \\:v_A' + m_B\\:v_B' \n",
    "\\end{equation}"
   ]
  },
  {
   "cell_type": "markdown",
   "metadata": {},
   "source": [
    "However, in order to determine the two unknown velocities after impact $v'_A$ and $v'_B$, another equation is required. To obtain it, we consider the impact in more detail. We break the contact into two phases separated by three distinct times. Let $t_1$ be the time that $A$ and $B$ first come into contact. Upon first contact the centre of mass of $A$ and $B$ will continue moving towards each other as the masses compress. \n",
    "\n",
    "At time $t_C$ the centres of mass will have reached their closest proximity to each other and the relative velocity between masses will be zero. Both masses briefly have the same velocity, $v_C$ This marks the end of the first phase of contact. The second phase of contact now begin where the masses begin moving away from other (decompressing) while remaining in contact. Time $t_2$ marks the end of the second phase when the masses finally separate. "
   ]
  },
  {
   "cell_type": "markdown",
   "metadata": {},
   "source": [
    "![title](img/T2W9/img8.jpg)\n",
    "<center>Approaching and departing phases of contact.</center>"
   ]
  },
  {
   "cell_type": "markdown",
   "metadata": {},
   "source": [
    "We now apply the principle of impulse and momentum to each mass during each phase of the contact. Considering mass $A$ first noting that the contact force $R$ opposes the direction of travel,\n",
    "\n",
    "\\begin{equation}\n",
    "\\int_{t_1}^{t_C} -R\\:\\mathrm{d}t = m_A\\:v_C - m_A\\:v_A\n",
    "\\end{equation}\n",
    "\n",
    "\\begin{equation}\n",
    "\\int_{t_C}^{t_2} -R\\:\\mathrm{d}t = m_A\\:v'_A - m_A\\:v_C\n",
    "\\end{equation}\n",
    "\n",
    "Now applying this to mass $B$, noting the contact force now points in the same direction as the direction of travel,\n",
    "\n",
    "\\begin{equation}\n",
    "\\int_{t_1}^{t_C} R\\:\\mathrm{d}t = m_B\\:v_C - m_B\\:v_B\n",
    "\\end{equation}\n",
    "\n",
    "\\begin{equation}\n",
    "\\int_{t_C}^{t_2} R\\:\\mathrm{d}t = m_B\\:v'_B - m_B\\:v_C\n",
    "\\end{equation}\n",
    "\n",
    "As a result of the impact some kinetic energy is lost due to potential permanent deformation, heat and sound and as a result the impulse imparted on each mass in typically smaller between $t_2$ and $t_C$ that that imparted between $t_C$ and $t_2$. We now define the **coefficient of restitution** $e$ as the ratio of impulses imparted during each phase,\n",
    "\n",
    "\\begin{equation}\n",
    "e = \\frac{\\int_{t_C}^{t_2}R\\:\\mathrm{d}t}{\\int_{t_1}^{t_C}R\\:\\mathrm{d}t}\n",
    "\\end{equation}\n"
   ]
  },
  {
   "cell_type": "markdown",
   "metadata": {},
   "source": [
    "The coefficient of restitution depends on the material properties of the objects and as well as their impact orientation. This is most readily obtained through experiment. Dividing equation (17) by (16) yields,\n",
    "\n",
    "\\begin{equation}\n",
    "e = \\frac{v'_A- v_C}{v_C-v_A}\n",
    "\\end{equation}\n",
    "\n",
    "And dividing equation (19) by (18) yields,\n",
    "\n",
    "\\begin{equation}\n",
    "e = \\frac{v'_B- v_C}{v_C-v_B}\n",
    "\\end{equation}"
   ]
  },
  {
   "cell_type": "markdown",
   "metadata": {},
   "source": [
    "Finally, subtracting equation (21) from (22) yields and expression for $e$ without $v_C$,\n",
    "\n",
    "\\begin{equation}\n",
    "\\boxed{\n",
    "e = \\frac{v'_B - v'_A}{v_A-v_B}\n",
    "}\n",
    "\\end{equation}\n",
    "\n",
    "**This equation provides a ratio of the velocity difference between objects $A$ and $B$ after and before impact**. If $e$ is known, this equation along with the conservation of linear momentum equation, can be used to determine object velocities after impact, $v'_A$ and $v'_B$. If $e=0$, then $v'_B = v'_A$ and the objects remain together in contact after collision. This is referred to as a **perfecly plastic impact** as mentioned above. If $e=1$, the kinetic energy before and after impact remains the same. This is a **perfectly elastic impact**. In reality, no impact is perfectly elastic and there will be some loss of energy, even if only through conversion to sound. "
   ]
  },
  {
   "cell_type": "markdown",
   "metadata": {},
   "source": [
    "### Example 2"
   ]
  },
  {
   "cell_type": "markdown",
   "metadata": {},
   "source": [
    "Consider the two $4\\:kg$ masses travelling along a smooth linear bearing shown below. Determine their velocities after they collide if:\n",
    "- (a) they are coated in an adhesive and stick together after contact.\n",
    "- (b) there is no adhesive and the coefficient of restitution is $e=0.8$."
   ]
  },
  {
   "cell_type": "markdown",
   "metadata": {},
   "source": [
    "![title](img/T2W9/img9.jpg)\n",
    "<center>Two masses moving along a linear bearing.</center>"
   ]
  },
  {
   "cell_type": "markdown",
   "metadata": {},
   "source": [
    "**Solution (a)**"
   ]
  },
  {
   "cell_type": "markdown",
   "metadata": {},
   "source": [
    "If the masses stick together, then their velocity is the same after the collision, $v'_A = v'_B = v'$ and conservation of momentum alone is sufficient to determine the single post-impact velocity. Using conservation of linear momentum,\n",
    "\n",
    "\\begin{equation*}\n",
    "m_A v_A + m_B v_B = m_A v'_A + m_B v'_B = (m_A + m_B)v'\n",
    "\\end{equation*}\n",
    "\n",
    "\\begin{equation*}\n",
    "(4\\times 10) + (4\\times -5) = (4+4)v\n",
    "\\end{equation*}\n",
    "\n",
    "Solving for $v$,\n",
    "\\begin{equation*}\n",
    "v=2.5\\:m/s\n",
    "\\end{equation*}\n",
    "\n",
    "The positive number here indicates that the combined mass moves to the right. "
   ]
  },
  {
   "cell_type": "markdown",
   "metadata": {},
   "source": [
    "**Solution (b)**\n",
    "\n",
    "For part (b) there are two post-collision velocities to identify therefore we use conservation of linear momentum and our expression for the coefficient of restitution, giving us two equations from which to determine the two unknown post-collision velocities. \n",
    "\n",
    "From conservation of linear momentum,\n",
    "\n",
    "\\begin{equation*}\n",
    "m_A v_A + m_B v_B = m_A v'_A + m_B v'_B\n",
    "\\end{equation*}\n",
    "\n",
    "\\begin{equation*}\n",
    "(4\\times 10) + (4\\times -5) = 4v'_A + 4v'_B\n",
    "\\end{equation*}\n",
    "\n",
    "Using the fact that the coefficient of restitution is $e=0.8$,\n",
    "\n",
    "\\begin{equation*}\n",
    "0.8 = \\frac{v'_B-v'_A}{10-(-5)}\n",
    "\\end{equation*}"
   ]
  },
  {
   "cell_type": "markdown",
   "metadata": {},
   "source": [
    "Both equations can be solved simultaneously to yield,\n",
    "\n",
    "\\begin{equation*}\n",
    "v'_A = -3.5\\:m/s\\:(\\text{moving left})\n",
    "\\end{equation*}\n",
    "\n",
    "\\begin{equation*}\n",
    "v'_B = 8.5\\:m/s\\:(\\text{moving right})\n",
    "\\end{equation*}"
   ]
  },
  {
   "cell_type": "markdown",
   "metadata": {},
   "source": [
    "**You should now download the question sheet for this week and attempt all questions. You will have an opportunity to to get help in your tutorial session and worked solutions will be released next week.**  "
   ]
  }
 ],
 "metadata": {
  "hide_input": false,
  "kernelspec": {
   "display_name": "Python 3",
   "language": "python",
   "name": "python3"
  },
  "language_info": {
   "codemirror_mode": {
    "name": "ipython",
    "version": 3
   },
   "file_extension": ".py",
   "mimetype": "text/x-python",
   "name": "python",
   "nbconvert_exporter": "python",
   "pygments_lexer": "ipython3",
   "version": "3.6.4"
  },
  "toc": {
   "base_numbering": 1,
   "nav_menu": {},
   "number_sections": true,
   "sideBar": true,
   "skip_h1_title": false,
   "title_cell": "Table of Contents",
   "title_sidebar": "Contents",
   "toc_cell": false,
   "toc_position": {
    "height": "calc(100% - 180px)",
    "left": "10px",
    "top": "150px",
    "width": "165px"
   },
   "toc_section_display": true,
   "toc_window_display": false
  }
 },
 "nbformat": 4,
 "nbformat_minor": 2
}
