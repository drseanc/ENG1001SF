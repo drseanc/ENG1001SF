{
 "cells": [
  {
   "cell_type": "code",
   "execution_count": 1,
   "metadata": {
    "deletable": false,
    "editable": false,
    "hide_input": false
   },
   "outputs": [
    {
     "name": "stdout",
     "output_type": "stream",
     "text": [
      "- Dependencies imported 👍\n",
      "- Remember to select 'Kernel-> Restart & Run All' on first load to show embedded Youtube videos 🎬\n",
      "- Author: Dr H Alwi & Dr SPCarroll, Sept 2020, Rev 0\n"
     ]
    }
   ],
   "source": [
    "#DEPENDENCIES & INITIALISATIONS\n",
    "from IPython.display import HTML #For embedding videos\n",
    "import math #Basic math functionality\n",
    "import numpy as np #Numpy for working with arrays\n",
    "import matplotlib.pyplot as plt #Plotting functionality \n",
    "#HTML('<center><iframe width=\"560\" height=\"315\" src=\"#\" frameborder=\"0\" allowfullscreen></iframe></center>')\n",
    "print(\"- Dependencies imported 👍\")\n",
    "print(\"- Remember to select 'Kernel-> Restart & Run All' on first load to show embedded Youtube videos 🎬\")\n",
    "print(\"- Author: Dr H Alwi & Dr SPCarroll, Sept 2020, Rev 0\")"
   ]
  },
  {
   "cell_type": "markdown",
   "metadata": {
    "hide_input": false
   },
   "source": [
    "![title](img/T2W5/banner.jpg)"
   ]
  },
  {
   "cell_type": "markdown",
   "metadata": {
    "hide_input": true
   },
   "source": [
    "# Week 5: Curvilinear and Angular Motion\n",
    "Reference: Chapter 13 of Engineering Mechanics - Statics and Dynamics Principles, Bedford A. & Fowler, W., 2003"
   ]
  },
  {
   "cell_type": "markdown",
   "metadata": {
    "hide_input": true
   },
   "source": [
    "## 1.0 Curvilinear Motion"
   ]
  },
  {
   "cell_type": "markdown",
   "metadata": {},
   "source": [
    "In this first section we will investigate curvilinear motion which describes motion along a curved path using **cartesian coordinates**. A common application of this theory is the analysis of projectiles which follow a parabolic trajectory or path. "
   ]
  },
  {
   "cell_type": "markdown",
   "metadata": {},
   "source": [
    "### 1.1 Cartesian coordinates"
   ]
  },
  {
   "cell_type": "markdown",
   "metadata": {},
   "source": [
    "Before analysing the trajectory of projectiles we briefly consider the cartesian coordinate system. Consider a point $P$ with position vector $\\mathbf{r}$ within a reference frame with origin $O$. The position, $\\mathbf{r}$ is given by,\n",
    "\n",
    "\\begin{equation}\n",
    "\\boxed{\n",
    "\\mathbf{r} = x\\mathbf{i} +y\\mathbf{j} +z\\mathbf{k}\n",
    "}\n",
    "\\end{equation}\n",
    "\n",
    "where $\\mathbf{i}$, $\\mathbf{j}$ and $\\mathbf{k}$ are unit vectors as shown below."
   ]
  },
  {
   "cell_type": "markdown",
   "metadata": {},
   "source": [
    "![title](img/T2W5/img1.jpg)\n",
    "<center>Position vector $\\mathbf{r}$ in a 3-dimensional reference frame with origin $O$.</center>"
   ]
  },
  {
   "cell_type": "markdown",
   "metadata": {},
   "source": [
    "The velocity of $P$ is given by,\n",
    "\n",
    "\\begin{equation}\n",
    "v = \\frac{\\mathrm{d}r}{\\mathrm{d}t} = \\frac{\\mathrm{d}x}{\\mathrm{d}t}\\mathbf{i} + \\frac{\\mathrm{d}y}{\\mathrm{d}t}\\mathbf{j} + \\frac{\\mathrm{d}z}{\\mathrm{d}t}\\mathbf{k}\n",
    "\\end{equation}\n",
    "\n",
    "\\begin{equation}\n",
    "\\boxed{\n",
    "v =v_x\\mathbf{i} + v_y\\mathbf{j} + v_z\\mathbf{k}\n",
    "}\n",
    "\\end{equation}"
   ]
  },
  {
   "cell_type": "markdown",
   "metadata": {},
   "source": [
    "Similarly, the acceleration is given by,\n",
    "\n",
    "\\begin{equation}\n",
    "a = \\frac{\\mathrm{d}v}{\\mathrm{d}t} = \\frac{\\mathrm{d}v_x}{\\mathrm{d}t}\\mathbf{i} + \\frac{\\mathrm{d}v_y}{\\mathrm{d}t}\\mathbf{j} + \\frac{\\mathrm{d}v_z}{\\mathrm{d}t}\\mathbf{k}\n",
    "\\end{equation}\n",
    "\n",
    "\\begin{equation}\n",
    "\\boxed{\n",
    "a =a_x\\mathbf{i} + a_y\\mathbf{j} + a_z\\mathbf{k}\n",
    "}\n",
    "\\end{equation}\n"
   ]
  },
  {
   "cell_type": "markdown",
   "metadata": {},
   "source": [
    "The equations describing motion in each coordinate direction are identical to the motion of a point along a straight line. As such, **we can analyse the motion in each direction using the methods discussed last week for straight line motion**. "
   ]
  },
  {
   "cell_type": "markdown",
   "metadata": {},
   "source": [
    "### 1.2 Projectile analysis"
   ]
  },
  {
   "cell_type": "markdown",
   "metadata": {},
   "source": [
    "We now consider the *'projectile problem'*, which is a classic example of curvilinear motion. In our analysis we will assume that the acceleration in the vertical y-direction is due to gravity, i.e. $a_y = -g = -9.81\\:m/s^2$ and that there is no acceleration in the horizontal $x$ direction. \n",
    "\n",
    "Consider a projectile launched with an initial velocity $v_0$ in the $x-y$ plane at an angle $\\theta_0$ to the horizontal axis. "
   ]
  },
  {
   "cell_type": "markdown",
   "metadata": {},
   "source": [
    "![title](img/T2W5/img2.jpg)\n",
    "<center>Projectile launched with initial velocity $v_0$ at an angle $\\theta_0$.</center>"
   ]
  },
  {
   "cell_type": "markdown",
   "metadata": {},
   "source": [
    "At time $t=0$, $x=0$, $y=0$ and the corresponding velocities in the $x$ and $y$ direction are, \n",
    "\n",
    "\\begin{align}\n",
    "v_{x0} &= v_0\\cos\\theta_0\\\\\n",
    "v_{y0} &= v_0\\sin\\theta_0\\\\\n",
    "\\end{align}"
   ]
  },
  {
   "cell_type": "markdown",
   "metadata": {},
   "source": [
    "We now consider the motion in the $x$ and $y$ directions independently. \n",
    "\n",
    "**x-direction**\n",
    "\n",
    "Recall that we stated at the outset that the acceleration in the x-direction was zero. Therefore the velocity is constant. \n",
    "\n",
    "\\begin{equation}\n",
    "v_x = \\frac{\\mathrm{d}x}{\\mathrm{d}t} = v_0\\cos\\theta_0\n",
    "\\end{equation}\n",
    "\n",
    "We can integrate to obtain the x-position as a function of time,\n",
    "\n",
    "\\begin{equation}\n",
    "\\int_0^x\\mathrm{d}x = \\int_0^t v_0\\cos\\theta_0\\:\\mathrm{d}t\n",
    "\\end{equation}\n",
    "\n",
    "\\begin{equation}\n",
    "\\boxed{\n",
    "x =  \\left(v_0\\cos\\theta_0\\right)t\n",
    "}\n",
    "\\end{equation}\n",
    "\n",
    "**y-direction**\n",
    "\n",
    "The acceleration in the y-direction is,\n",
    "\n",
    "\\begin{equation}\n",
    "a_y = \\frac{\\mathrm{d}v_y}{\\mathrm{d}t} = -g\n",
    "\\end{equation}\n",
    "\n",
    "Integrating,\n",
    "\n",
    "\\begin{equation}\n",
    "\\int_{v_0\\sin\\theta_0}^{v_y} \\mathrm{d}v_y = -g\\int_0^t\\mathrm{d}t\n",
    "\\end{equation}\n",
    "\n",
    "Evaluating the integral and solving for $v_y$,\n",
    "\n",
    "\\begin{equation}\n",
    "v_y = v_0\\sin\\theta_0 - gt = \\frac{\\mathrm{d}y}{\\mathrm{d}t}\n",
    "\\end{equation}\n",
    "\n",
    "Integrating again,\n",
    "\n",
    "\\begin{equation}\n",
    "\\int_0^y \\mathrm{d}y = \\int_0^t\\left(v_0\\sin\\theta_0-gt\\right)\\:\\mathrm{d}t\n",
    "\\end{equation}\n",
    "\n",
    "\\begin{equation}\n",
    "\\boxed{\n",
    "y = \\left(v_0\\sin\\theta_0 \\right)t - \\frac{1}{2}gt^2\n",
    "}\n",
    "\\end{equation}"
   ]
  },
  {
   "cell_type": "markdown",
   "metadata": {},
   "source": [
    "Now that we have expressions for $x(t)$ and $y(t)$ we can plot the trajectory. Although not strictly necessary to plot the trajectory, we will first rearranging equation (10),\n",
    "\n",
    "\\begin{equation}\n",
    "t = \\frac{x}{v_0\\cos \\theta_0}\n",
    "\\end{equation}\n",
    "\n",
    "now substituting this expression into equation (15) yields an expression for vertical position as function of horizontal position, $y(x)$\n",
    "\n",
    "\\begin{equation}\n",
    "y = x\\tan\\theta_0 - \\frac{g}{2v_0^2\\cos^2\\theta_0}x^2\n",
    "\\end{equation}\n",
    "\n",
    "We now plot the trajectory below at equal intervals of $x$ and since $x$ is a scalar multiple of $t$ from equation (10), we can say that the data-points (positions) plotted are also the positions at equal time intervals,\n",
    "\n",
    "\\begin{equation}\n",
    "\\Delta_x = v_0\\cos\\theta_0\\Delta_t\n",
    "\\end{equation}"
   ]
  },
  {
   "cell_type": "code",
   "execution_count": 2,
   "metadata": {},
   "outputs": [
    {
     "data": {
      "image/png": "[encoded data removed]",
      "text/plain": [
       "<Figure size 432x288 with 1 Axes>"
      ]
     },
     "metadata": {},
     "output_type": "display_data"
    }
   ],
   "source": [
    "#INPUT PARAMETERS\n",
    "theta_0_deg = 50 #(deg) Initial trajectory angle\n",
    "v_0 = 35 #(m/s) Initial velocity magnitude\n",
    "\n",
    "theta_0_rad = theta_0_deg*math.pi/180 #(rads) Initial trajectory angle in radians\n",
    "x = np.arange(0,120,5) # (m) Range of x values\n",
    "y = x*np.tan(theta_0_rad) - ((9.81)/(2*v_0**2*np.cos(theta_0_rad)**2))*x**2#(m)\n",
    "\n",
    "#PLOTTING CODE\n",
    "fig = plt.figure() #Define a new figure\n",
    "axes = fig.add_axes([0.1,0.1,2,1]) #Add a set of axes to the figure defining axes location and size\n",
    "axes.set_aspect('equal') #Set equal horizontal and vertical axis scale\n",
    "\n",
    "axes.plot(x,y,'-o') #Plot trajectory\n",
    "\n",
    "#Plot equally spaced vertical lines for each data point\n",
    "for n, i in enumerate(x):\n",
    "    axes.plot([i,i],[0,y[n]],'-g', lw=0.75) #Plot vertical line at each data point\n",
    "\n",
    "#Plot equally spaced vertical lines for each data point\n",
    "for n, i in enumerate(y):\n",
    "    axes.plot([0,x[n]],[i,i],'-r', lw=0.75) #Plot vertical line at each data point\n",
    "    \n",
    "axes.set_xlabel('x (m)') #set an x-label\n",
    "axes.set_ylabel('y (m)') #set a y-label\n",
    "axes.set_title('Parabolic trajectory of projectile') #set a title\n",
    "axes.set_xlim([min(x),max(x)+5])\n",
    "axes.set_ylim([min(y),max(y)+5])\n",
    "axes.grid() #Show a grid\n",
    "\n",
    "plt.savefig('Traj.png',dpi=100, bbox_inches='tight')"
   ]
  },
  {
   "cell_type": "markdown",
   "metadata": {},
   "source": [
    "If we consider the velocity vector at different points along the trajectory path, we observe that the horizontal velocity vector is constant (equation 8) while the vertical velocity vector varies as a function of time due to the influence of gravity (equation 13)."
   ]
  },
  {
   "cell_type": "markdown",
   "metadata": {},
   "source": [
    "![title](img/T2W5/img3.jpg)\n",
    "<center>Projectile launched with initial velocity $v_0$ at an angle $\\theta_0$ showing vector components of velocity.</center>"
   ]
  },
  {
   "cell_type": "markdown",
   "metadata": {},
   "source": [
    "### Example"
   ]
  },
  {
   "cell_type": "markdown",
   "metadata": {},
   "source": [
    "An accelerometer is a device used to estimate acceleration (there is at least one in your smart phone). While mounted to a helicopter, an accelerometer indicates that the components of acceleration from $t=0$ to $t=10$ seconds are closely approximated by the following functions:\n",
    "\n",
    "\\begin{align*}\n",
    "a_x &= 0.6t\\:m/s^2\\\\\n",
    "a_y &= 1.8-0.36t\\:m/s^2\\\\\n",
    "a_z &= 0\n",
    "\\end{align*}\n",
    "\n",
    "Determine the helicopter's velocity and position as functions of time."
   ]
  },
  {
   "cell_type": "markdown",
   "metadata": {},
   "source": [
    "**Solution**\n",
    "\n",
    "Our approach to solving this question will be to integrate the expressions for acceleration to get velocity and integrate again to get position as a function of time. This problem again emphasises the fact that we can treat motion in each direction independently.\n",
    "\n",
    "**x-direction**\n",
    "\n",
    "\\begin{equation*}\n",
    "a_x = \\frac{\\mathrm{d}v_x}{\\mathrm{d}t} = 0.6t\\:m/s^2\n",
    "\\end{equation*}\n",
    "\n",
    "Integrating,\n",
    "\n",
    "\\begin{equation*}\n",
    "\\int_0^{v_x}\\mathrm{d}v_x = \\int_0^t 0.6t\\:\\mathrm{d}t\n",
    "\\end{equation*}\n",
    "\n",
    "\\begin{equation*}\n",
    "v_x = \\frac{\\mathrm{d}x}{\\mathrm{d}t} = 0.3t^2\\:m/s\n",
    "\\end{equation*}\n",
    "\n",
    "Integrating again,\n",
    "\n",
    "\\begin{equation*}\n",
    "\\int_0^{x}\\mathrm{d}x = \\int_0^t 0.3t^2\\:\\mathrm{d}t\n",
    "\\end{equation*}\n",
    "\n",
    "which yields,\n",
    "\n",
    "\\begin{equation*}\n",
    "\\boxed{\n",
    "x=0.1t^3\\:m\n",
    "}\n",
    "\\end{equation*}\n",
    "\n",
    "\n",
    "**y-direction**\n",
    "\n",
    "\\begin{equation*}\n",
    "a_y = \\frac{\\mathrm{d}v_y}{\\mathrm{d}t} = 1.8-0.36t \\:m/s^2\n",
    "\\end{equation*}\n",
    "\n",
    "Integrating,\n",
    "\n",
    "\\begin{equation*}\n",
    "\\int_0^{v_y}\\mathrm{d}v_y = \\int_0^t (1.8-0.36t)\\:\\mathrm{d}t\n",
    "\\end{equation*}\n",
    "\n",
    "\\begin{equation*}\n",
    "v_y = \\frac{\\mathrm{d}y}{\\mathrm{d}t} = 1.8t - 0.18t^2 \\:m/s\n",
    "\\end{equation*}\n",
    "\n",
    "Integrating again,\n",
    "\n",
    "\\begin{equation*}\n",
    "\\int_0^{y}\\mathrm{d}y = \\int_0^t (1.8t-0.18t^2) \\:\\mathrm{d}t\n",
    "\\end{equation*}\n",
    "\n",
    "which yields,\n",
    "\n",
    "\\begin{equation*}\n",
    "\\boxed{\n",
    "y= 0.9t^2 - 0.06t^3 \\:m\n",
    "}\n",
    "\\end{equation*}\n",
    "\n",
    "\n",
    "**z-direction**\n",
    "\n",
    "Since $a_z = 0\\:m/2^2$, $v_z=0$ and $a_z = 0$. \n",
    "\n",
    "\n",
    "We can now plot the trajectory of the helicopter over the first 10 seconds of flight."
   ]
  },
  {
   "cell_type": "code",
   "execution_count": 3,
   "metadata": {},
   "outputs": [
    {
     "data": {
      "image/png": "[encoded data removed]",
      "text/plain": [
       "<Figure size 432x288 with 1 Axes>"
      ]
     },
     "metadata": {},
     "output_type": "display_data"
    }
   ],
   "source": [
    "t = np.arange(0,11,1)\n",
    "x = 0.1*t**3 #(m) Horizontal position\n",
    "y = 0.9*t**2 - 0.06*t**3 #(Vertical position)\n",
    "\n",
    "#PLOTTING CODE\n",
    "fig = plt.figure() #Define a new figure\n",
    "axes = fig.add_axes([0.1,0.1,2,1]) #Add a set of axes to the figure defining axes location and size\n",
    "axes.set_aspect('equal') #Set equal horizontal and vertical axis scale\n",
    "\n",
    "axes.plot(x,y,'-o') #Plot trajectory\n",
    "  \n",
    "axes.set_xlabel('x (m)') #set an x-label\n",
    "axes.set_ylabel('y (m)') #set a y-label\n",
    "axes.set_title('Helicopter trajectory') #set a title\n",
    "axes.set_xlim([min(x),max(x)+5])\n",
    "axes.set_ylim([min(y),max(y)+5])\n",
    "axes.grid() #Show a grid"
   ]
  },
  {
   "cell_type": "markdown",
   "metadata": {},
   "source": [
    "## 2.0 Angular Motion"
   ]
  },
  {
   "cell_type": "markdown",
   "metadata": {},
   "source": [
    "![title](img/T2W5/img4.jpg)\n",
    "<center>Jet turbine engine.</center>"
   ]
  },
  {
   "cell_type": "markdown",
   "metadata": {},
   "source": [
    "In the previous section we analysed motion in a cartesian coordinate system. Problems involving circular motion can be more readily analysed in an alternative coordinate system characterised by an angle $\\theta$. Consider the position of the line $L$ shown below relative to the reference line $L_0$. We can define the position using the angle $\\theta$ (in radians),"
   ]
  },
  {
   "cell_type": "markdown",
   "metadata": {},
   "source": [
    "![title](img/T2W5/img5.jpg)\n",
    "<center>Angular position of a line $L$ on a 2D plane defined by angle $\\theta$.</center>"
   ]
  },
  {
   "cell_type": "markdown",
   "metadata": {},
   "source": [
    "The angular velocity of $L$ relative to $L_0$ is defined in $rads/s$ as,\n",
    "\n",
    "\\begin{equation}\n",
    "\\omega = \\frac{\\mathrm{d}\\theta}{\\mathrm{d}t}\n",
    "\\end{equation}\n",
    "\n",
    "Similarly, the angular acceleration in $rads/s^2$ is given by,\n",
    "\n",
    "\\begin{equation}\n",
    "\\alpha = \\frac{\\mathrm{d}\\omega}{\\mathrm{d}t} = \\frac{\\mathrm{d}^2\\theta}{\\mathrm{d}t^2}\n",
    "\\end{equation}\n",
    "\n",
    "Note that the relationships between position, velocity and acceleration are the same for angular motion as for linear motion so the same solution techniques may be employed. "
   ]
  },
  {
   "cell_type": "markdown",
   "metadata": {},
   "source": [
    "### 2.1 Rotating Unit Vector, $\\mathbf{e}$"
   ]
  },
  {
   "cell_type": "markdown",
   "metadata": {},
   "source": [
    "Recall that for a cartesian coordinate system, the position of a point can be obtained from equation (1), repeated below,\n",
    "\n",
    "\\begin{equation*}\n",
    "\\mathbf{r} = x\\mathbf{i} +y\\mathbf{j} +z\\mathbf{k}\n",
    "\\end{equation*}\n",
    "\n",
    "where $\\mathbf{i}$, $\\mathbf{j}$ and $\\mathbf{k}$ are unit vectors (refer back to the image at the start of these notes). Note that the direction of the unit vectors is fixed. In the coordinate system that describes angular motion, the unit vector $\\mathbf{e}$ that describes the motion of a point rotates as the point moves. "
   ]
  },
  {
   "cell_type": "markdown",
   "metadata": {},
   "source": [
    "![title](img/T2W5/img6.jpg)\n",
    "<center>Rotating unit vector $\\mathbf{e}$ and reference line $L_0$</center>"
   ]
  },
  {
   "cell_type": "markdown",
   "metadata": {},
   "source": [
    "To obtain the expression for velocity and acceleration in this coordinate system, we need to know the time derivative of the rotating unit vector. The time derivative of $\\mathbf{e}$ is defined as,\n",
    "\n",
    "\\begin{equation}\n",
    "\\frac{\\mathrm{d}\\mathbf{e}}{\\mathrm{d}t} = \\lim_{\\Delta t\\rightarrow 0} \\frac{\\mathbf{e}(t+\\Delta t)-\\mathbf{e}(t)}{\\Delta t}\n",
    "\\end{equation}\n",
    "\n",
    "This relationship can be visualised below."
   ]
  },
  {
   "cell_type": "markdown",
   "metadata": {},
   "source": [
    "![title](img/T2W5/img7.jpg)\n",
    "<center>The change $\\Delta \\mathbf{e}$ in $\\mathbf{e}$ from $t$ to $t+\\Delta t$.</center>"
   ]
  },
  {
   "cell_type": "markdown",
   "metadata": {},
   "source": [
    "From this we observe $\\Delta \\mathbf{e}$ as the vector $\\mathbf{e}(t+\\Delta t)-\\mathbf{e}(t)$ and the angle $\\Delta \\theta = \\theta(t+\\Delta t) - \\theta(t)$. We note that since the triangle made up of all three vectors is isosceles (two sides of equal length), we can state,\n",
    "\n",
    "\\begin{equation}\n",
    "|\\Delta \\mathbf{e}| = 2|\\mathbf{e}|\\sin\\left(\\frac{\\Delta \\theta}{2}\\right) = 2\\sin\\left(\\frac{\\Delta \\theta}{2}\\right)\n",
    "\\end{equation}"
   ]
  },
  {
   "cell_type": "markdown",
   "metadata": {},
   "source": [
    "Now, we will introduce a unit vector $\\mathbf{n}$ that lies in the same direction as the vector $\\Delta \\mathbf{e}$ and thereby 'captures' its direction,\n",
    "\n",
    "\\begin{equation}\n",
    "\\Delta \\mathbf{e} = |\\Delta \\mathbf{e}|\\:\\mathbf{n}\n",
    "\\end{equation}"
   ]
  },
  {
   "cell_type": "markdown",
   "metadata": {},
   "source": [
    "![title](img/T2W5/img8.jpg)\n",
    "<center>Vector $\\mathbf{n}$ introduced in direction of $\\Delta\\mathbf{e}$.</center>"
   ]
  },
  {
   "cell_type": "markdown",
   "metadata": {},
   "source": [
    "This allows us to use equation (22) to write an expression for $\\Delta \\mathbf{e}$ that contains $\\Delta \\theta$,\n",
    "\n",
    "\\begin{equation}\n",
    "\\Delta \\mathbf{e} = |\\Delta \\mathbf{e}|\\:\\mathbf{n} = 2\\sin\\left(\\frac{\\Delta \\theta}{2}\\right) \\mathbf{n}\n",
    "\\end{equation}\n",
    "\n",
    "The time derivative of $\\mathbf{e}$ from equation (21) above can now be written using equation (24),\n",
    "\n",
    "\\begin{equation}\n",
    "\\frac{\\mathrm{d}\\mathbf{e}}{\\mathrm{d}t} = \\lim_{\\Delta t\\rightarrow 0} \\frac{\\Delta\\mathbf{e}}{\\Delta t} = \\frac{2\\sin\\left(\\frac{\\Delta \\theta}{2}\\right) \\mathbf{n}}{\\Delta t}\n",
    "\\end{equation}\n",
    "\n",
    "After multiplying the numerator and denominator by $\\Delta\\theta/2$, this can be rearranged to,\n",
    "\n",
    "\\begin{equation}\n",
    "\\frac{\\mathrm{d}\\mathbf{e}}{\\mathrm{d}t} = \\lim_{\\Delta t\\rightarrow 0} \\frac{\\sin\\left(\\Delta \\theta/2\\right)}{\\Delta \\theta/2} \\frac{\\Delta \\theta}{\\Delta t}\\mathbf{n}\n",
    "\\end{equation}\n",
    "\n",
    "In the limit as $\\Delta t \\rightarrow 0$, \n",
    "\n",
    "\\begin{equation}\n",
    "\\frac{\\sin\\left(\\Delta \\theta/2\\right)}{\\Delta \\theta/2}=1\n",
    "\\end{equation}\n",
    "\n",
    "\\begin{equation}\n",
    "\\frac{\\Delta \\theta}{\\Delta t} = \\frac{\\mathrm{d}\\theta}{\\mathrm{d}t}\n",
    "\\end{equation}"
   ]
  },
  {
   "cell_type": "markdown",
   "metadata": {
    "hide_input": true
   },
   "source": [
    "Therefore we have the time derivative of $\\mathbf{e}$,\n",
    "\n",
    "\\begin{equation}\n",
    "\\frac{\\mathrm{d}\\mathbf{e}}{\\mathrm{d}t} =\\frac{\\mathrm{d}\\theta}{\\mathrm{d}t} \\mathbf{n}\n",
    "\\end{equation}\n",
    "\n",
    "now substituting in equation (19) for the angular velocity we obtain,\n",
    "\n",
    "\\begin{equation}\n",
    "\\boxed{\n",
    "\\frac{\\Delta \\theta}{\\Delta t} = \\frac{\\mathrm{d}\\theta}{\\mathrm{d}t} = \\omega\\mathbf{n}\n",
    "}\n",
    "\\end{equation}\n",
    "\n",
    "where $\\mathbf{n}$ is the unit vector perpendicular to $\\mathbf{e}$ and points in the positive $\\theta$ direction. This expression will be used in the evaluation of velocity and acceleration at a point below. "
   ]
  },
  {
   "cell_type": "markdown",
   "metadata": {},
   "source": [
    "![title](img/T2W5/img9.jpg)\n",
    "<center>Time derivative of rotating unit vector $\\mathbf{e}$.</center>"
   ]
  },
  {
   "cell_type": "markdown",
   "metadata": {},
   "source": [
    "### Example\n",
    "\n",
    "The angular acceleration of a rotating line $L$ relative to a reference line $L_0$ is given by the following function, \n",
    "\n",
    "\\begin{equation*}\n",
    "\\alpha = 2.5 - 1.2t\\:rads/s\n",
    "\\end{equation*}\n",
    "\n",
    "At $t=0$, $\\theta=0$ and the angular velocity of $L$ relative to $L_0$ is $\\omega=5\\:rads/s$. Determine $\\theta$ and $\\omega$ at $t=3$ seconds."
   ]
  },
  {
   "cell_type": "markdown",
   "metadata": {},
   "source": [
    "**Solution**\n",
    "\n",
    "Remember that the differential relationships between angular position, velocity and acceleration are the same as for linear position, velocity and acceleration. Therefore we employ the same solution strategy. First integrate $\\alpha$ to obtain an expression for angular velocity $\\omega$.\n",
    "\n",
    "\\begin{equation*}\n",
    "\\omega = 2.5t-0.6t^2 + c_1\n",
    "\\end{equation*}\n",
    "\n",
    "Use the initial condition, $\\omega(t=0)=5 \\:rads/s$ yields $c_1 = 5$, therefore we have,\n",
    "\n",
    "\\begin{equation*}\n",
    "\\boxed{\n",
    "\\omega = 2.5t-0.6t^2 + 5\n",
    "}\n",
    "\\end{equation*}\n",
    "\n",
    "Integrating again to determine $\\theta$ yields,\n",
    "\n",
    "\\begin{equation*}\n",
    "\\theta = 1.25t^2 - 0.2t^3 +5t +c_2\n",
    "\\end{equation*}\n",
    "\n",
    "Employing the initial condition $\\theta(t=0)=0$ yields, $c_2=0$, therefore,\n",
    "\n",
    "\\begin{equation*}\n",
    "\\boxed{\n",
    "\\theta = 1.25t^2 - 0.2t^3 +5t\n",
    "}\n",
    "\\end{equation*}\n",
    "\n",
    "These expression can now be evaluated at $t=3$ seconds,"
   ]
  },
  {
   "cell_type": "code",
   "execution_count": 4,
   "metadata": {},
   "outputs": [
    {
     "name": "stdout",
     "output_type": "stream",
     "text": [
      "1. The angular velocity at 3 seconds is 17.1 rad/s\n",
      "2. The angular position at 3 seconds is 20.85 rad\n"
     ]
    }
   ],
   "source": [
    "t=3 #(s)\n",
    "omega = 2.5*t - 0.6*t**2 + 5*t #(rads/s)\n",
    "theta = 1.25*t**2 - 0.2*t**3 +5*t #(rads)\n",
    "\n",
    "print('1. The angular velocity at {one} seconds is {two} rad/s'.format(one=3,two=omega))\n",
    "print('2. The angular position at {one} seconds is {two} rad'.format(one=3,two=theta))"
   ]
  },
  {
   "cell_type": "markdown",
   "metadata": {},
   "source": [
    "## 3.0 Normal and Tangential Components of Motion"
   ]
  },
  {
   "cell_type": "markdown",
   "metadata": {},
   "source": [
    "We now consider an alternative method of describing curvilinear motion along a path; by expressing velocity and acceleration in terms of their components tangential and normal (perpendicular) to the path. \n",
    "\n",
    "\n",
    "\n",
    "\n"
   ]
  },
  {
   "cell_type": "markdown",
   "metadata": {},
   "source": [
    "![title](img/T2W5/img10.jpg)\n",
    "<center>Normal and tangential components of the motion of $P$ as it moves along a circular path.</center>"
   ]
  },
  {
   "cell_type": "markdown",
   "metadata": {},
   "source": [
    "### 3.1 Velocity along a curved path"
   ]
  },
  {
   "cell_type": "markdown",
   "metadata": {},
   "source": [
    "We now consider this representation in detail. Consider point $P$ moving along a curvilinear path relative to some reference frame $O$. The vector $\\mathbf{r}$ specifies the position of $P$ relative to the reference point $O$ and $s$ measures the position of $P$ along the path relative to some point $O'$."
   ]
  },
  {
   "cell_type": "markdown",
   "metadata": {},
   "source": [
    "![title](img/T2W5/img12.jpg)\n",
    "<center>Point $P$ along a curved path.</center>"
   ]
  },
  {
   "cell_type": "markdown",
   "metadata": {},
   "source": [
    "As we've seen previously, the velocity of $P$ relative to $O$ is obtained as the differential of the position $\\mathbf{r}$ with respect to time,\n",
    "\n",
    "\\begin{equation}\n",
    "\\mathbf{v} = \\frac{\\mathrm{d}\\mathbf{r}}{\\mathrm{d}t} = \\lim_{\\Delta t \\rightarrow 0}\\left(\\frac{\\mathbf{r}(t+\\Delta t) - \\mathbf{r}(t)}{\\Delta t}\\right) = \\lim_{\\Delta t \\rightarrow 0}\\left( \\frac{\\Delta \\mathbf{r}}{\\Delta t}\\right)\n",
    "\\end{equation}\n",
    "\n",
    "If we now let $\\Delta s$ be the distance traveled along the path between $t$ and $t+\\Delta t$ and let $\\mathbf{e}$ be a unit vector that points in the direction of $\\Delta \\mathbf{r}$, we can decouple the magnitude of the velocity from its direction,\n",
    "\n",
    "\\begin{equation}\n",
    "\\mathbf{v} = \\lim_{\\Delta_t \\rightarrow 0}\\left( \\frac{\\Delta s}{\\Delta t} \\right)\\:\\mathbf{e}\n",
    "\\end{equation}\n",
    "\n"
   ]
  },
  {
   "cell_type": "markdown",
   "metadata": {},
   "source": [
    "![title](img/T2W5/img13.jpg)\n",
    "<center>Point $P$ along a curved path with unit vector $\\mathbf{e}$ capturing the direction of $\\Delta\\mathbf{r}$.</center>"
   ]
  },
  {
   "cell_type": "markdown",
   "metadata": {},
   "source": [
    "As $\\Delta t \\rightarrow 0$, \n",
    "\\begin{equation}\n",
    "\\frac{\\Delta s}{\\Delta t} \\rightarrow \\frac{\\mathrm{d}s}{\\mathrm{d}t}\n",
    "\\end{equation}\n",
    "\n",
    "and $\\mathbf{e} \\rightarrow \\mathbf{e}_t$, i.e. $\\mathbf{e}$ becomes a unit vector tangent to the curved path at the point $P$ at time $t$. Therefore,\n",
    "\n",
    "\\begin{equation}\n",
    "\\boxed{\n",
    "\\mathbf{v} = \\frac{\\mathrm{d}s}{\\mathrm{d}t}\\mathbf{e}_t = v\\:\\mathbf{e}_t\n",
    "}\n",
    "\\end{equation}"
   ]
  },
  {
   "cell_type": "markdown",
   "metadata": {},
   "source": [
    "![title](img/T2W5/img14.jpg)\n",
    "<center>$\\mathbf{e}_t$, the unit vector tangent to the curved path at the location of point $P$ at time $t$.</center>"
   ]
  },
  {
   "cell_type": "markdown",
   "metadata": {},
   "source": [
    "We again note that the velocity vector for a point travelling along a curved path can be considered to have a magnitude $v$ and a direction defined by the unit vector $\\mathbf{e}_t$, which is a tangent to the path at a given point."
   ]
  },
  {
   "cell_type": "markdown",
   "metadata": {},
   "source": [
    "![title](img/T2W5/img15.jpg)\n",
    "<center>Velocity vector of a point traveling along a curved path.</center>"
   ]
  },
  {
   "cell_type": "markdown",
   "metadata": {},
   "source": [
    "### 3.2 Acceleration along a curved path"
   ]
  },
  {
   "cell_type": "markdown",
   "metadata": {},
   "source": [
    "As we know, acceleration is the differential of velocity with respect to time, therefore we can state,\n",
    "\n",
    "\\begin{equation}\n",
    "a=\\frac{\\mathrm{d}\\mathbf{v}}{\\mathrm{d}t} = \\frac{\\mathrm{d}(v\\mathbf{e}_t)}{\\mathrm{d}t} = \\frac{\\mathrm{d}v}{\\mathrm{d}t}\\mathbf{e}_t + v\\frac{\\mathrm{d}\\mathbf{e}_t}{\\mathrm{d}t}\n",
    "\\end{equation}\n",
    "\n",
    "If the path is not straight, $\\mathbf{e}_t$ will rotate through an angle $\\theta$ as $P$ moves. Therefore,\n",
    "\n",
    "\\begin{equation}\n",
    "\\frac{\\mathrm{d}\\mathbf{e}_t}{\\mathrm{d}t} \\neq 0\n",
    "\\end{equation}"
   ]
  },
  {
   "cell_type": "markdown",
   "metadata": {},
   "source": [
    "![title](img/T2W5/img16.jpg)\n",
    "<center>Rotation of vector $\\mathbf{e}_t$ as $P$ moves along a curved path.</center>"
   ]
  },
  {
   "cell_type": "markdown",
   "metadata": {},
   "source": [
    "We've dealt with rotating lines above when discussing angular motion, so from equation (31) above, we can state,\n",
    "\n",
    "\\begin{equation}\n",
    "\\frac{\\mathrm{d}\\mathbf{e}_t}{\\mathrm{d}t} = \\frac{\\mathrm{d}\\mathbf{\\theta}}{\\mathrm{d}t}\\mathbf{e}_n = \\omega \\mathbf{e}_n\n",
    "\\end{equation}\n",
    "\n",
    "where, $\\mathbf{e}_n$ is perpendicular to $\\mathbf{e}_t$. Substituting equation (37) into (35) we have,\n",
    "\n",
    "\\begin{equation}\n",
    "\\boxed{\n",
    "\\mathbf{a} = \\frac{\\mathrm{d}v}{\\mathrm{d}t}\\mathbf{e}_t + v\\frac{\\mathrm{d}\\mathbf{\\theta}}{\\mathrm{d}t}\\mathbf{e}_n\n",
    "}\n",
    "\\end{equation}"
   ]
  },
  {
   "cell_type": "markdown",
   "metadata": {},
   "source": [
    "Recall from our discussion of angular motion that the time derivative of a rotating vector $\\mathbf{e}$ is the product of the time derivative of the angle of rotation and a **perpendicular unit vector**. If this has confused you, go back and review section 2.1 above. From equation (38) we can see that the acceleration of the point $P$ has two orthogonal (perpendicular) components, one tangential to the path, with direction given by $\\mathbf{e}_t$ and a normal/perpendicular component with direction given by $\\mathbf{e}_n$. "
   ]
  },
  {
   "cell_type": "markdown",
   "metadata": {},
   "source": [
    "![title](img/T2W5/img19.jpg)\n",
    "<center>Normal and tangential components of acceleration of a point moving along a curved path.</center>"
   ]
  },
  {
   "cell_type": "markdown",
   "metadata": {},
   "source": [
    "The tangential component of acceleration, $\\mathrm{d}v/\\mathrm{d}t = a_t$, arises from **the rate of change of the magnitude of velocity** along the curved path. The normal component of acceleration, $v\\:\\mathrm{d}\\theta/\\mathrm{d}t = a_n$ arises from **the rate of change in the direction of the velocity vector**. Note that if $\\theta =0$, the path is a straight line and $a_n=0$."
   ]
  },
  {
   "cell_type": "markdown",
   "metadata": {},
   "source": [
    "### 3.3 Instantaneous radius of curvature of the path"
   ]
  },
  {
   "cell_type": "markdown",
   "metadata": {},
   "source": [
    "Now we will examine the influence of path curvature on the acceleration of a point moving along the path. The figure below shows two points along a path reached by $P$ at time $t$ and $t+\\mathrm{d}t$. For a curved path, we can construct straight lines from points along the path that are perpendicular to the path as shown. These lines will intersect at a point called **the instantaneous centre of curvature**. The distance between a point $P$ and the instantaneous centre of curvature is called the **instantaneous radius of curvature, $\\rho$**. If the path is circular, $\\rho$ would be the radius of the circle. Therefore with reference to the image below, we could state,\n",
    "\n",
    "\\begin{equation}\n",
    "\\mathrm{d}s = \\rho\\mathrm{d}\\theta\n",
    "\\end{equation}\n",
    "\n",
    "Dividing by $\\mathrm{d}t$,\n",
    "\n",
    "\\begin{align}\n",
    "\\frac{\\mathrm{d}s}{\\mathrm{d}t} &= \\rho\\frac{\\mathrm{d}\\theta}{\\mathrm{d}t}\\\\\n",
    "v &= \\rho\\: \\omega\n",
    "\\end{align}\n",
    "\n",
    "Therefore,\n",
    "\n",
    "\\begin{equation}\n",
    "\\frac{\\mathrm{d}\\theta}{\\mathrm{d}t} = \\frac{v}{\\rho}\n",
    "\\end{equation}\n",
    "\n",
    "and the normal component of the acceleration of $P$ can be written as,\n",
    "\n",
    "\\begin{equation}\n",
    "\\boxed{\n",
    "a_n = v\\frac{\\mathrm{d}\\theta}{\\mathrm{d}t} = \\frac{v^2}{\\rho}\n",
    "}\n",
    "\\end{equation}\n",
    "\n",
    "From this we note that the normal component of the acceleration is proportional to the square of the speed and inversely proportional to the instantaneous radius of curvature. This is why tend to drive more slowly around tight bends in the road. "
   ]
  },
  {
   "cell_type": "markdown",
   "metadata": {},
   "source": [
    "![title](img/T2W5/img17.jpg)\n",
    "<center></center>"
   ]
  },
  {
   "cell_type": "markdown",
   "metadata": {},
   "source": [
    "Note that $\\mathbf{e}_n$ always points towards the centre of the (virtual) circle, as shown below. "
   ]
  },
  {
   "cell_type": "markdown",
   "metadata": {},
   "source": [
    "![title](img/T2W5/img18.jpg)\n",
    "<center>Normal and tangential components of velocity and acceleration with normal component always pointing towards the centre of the imaginary circle.</center>"
   ]
  },
  {
   "cell_type": "markdown",
   "metadata": {},
   "source": [
    "### 3.4 Circular motion"
   ]
  },
  {
   "cell_type": "markdown",
   "metadata": {},
   "source": [
    "The specific case of motion along a circular path is so common that it is worth considering specifically. If a point $P$ moves along as circular path as opposed to a curved path more generally, the distance covered is,\n",
    "\n",
    "\\begin{equation}\n",
    "s=R\\theta\n",
    "\\end{equation}"
   ]
  },
  {
   "cell_type": "markdown",
   "metadata": {},
   "source": [
    "![title](img/T2W5/img20.jpg)\n",
    "<center>Point $P$ moving along a circular path.</center>"
   ]
  },
  {
   "cell_type": "markdown",
   "metadata": {},
   "source": [
    "As a result we can redefine the velocity of the point in terms of $\\theta$,\n",
    "\n",
    "\\begin{equation}\n",
    "v=\\frac{\\mathrm{d}s}{\\mathrm{d}t} = R\\frac{\\mathrm{d}\\theta}{\\mathrm{d}t} = R\\omega\n",
    "\\end{equation}\n",
    "\n",
    "Thus we have a relationship between linear velocity along the arc of the circle, $v$ and angular velocity $\\omega$, or the rate of change of the angle $\\theta$. The acceleration can be similarly redefined, \n",
    "\n",
    "\\begin{equation}\n",
    "\\boxed{\n",
    "a_t = \\frac{\\mathrm{d}v}{\\mathrm{d}t}  = R\\frac{\\mathrm{d}\\omega}{\\mathrm{d}t} = R\\alpha \n",
    "}\n",
    "\\end{equation}\n",
    "\n",
    "This relates the tangential component of acceleration $a_t$ to the angular acceleration $\\alpha$. From equation (43), replaceing $\\rho$ with the circle radius $R$ we have,\n",
    "\n",
    "\\begin{equation}\n",
    "\\boxed{\n",
    "a_n = \\frac{v^2}{R} = R\\omega^2\n",
    "}\n",
    "\\end{equation}"
   ]
  },
  {
   "cell_type": "markdown",
   "metadata": {},
   "source": [
    "### Example"
   ]
  },
  {
   "cell_type": "markdown",
   "metadata": {},
   "source": [
    "A motorcycle starts from rest at $t=0$ seconds on  circular track with radius $400\\:m$. The tangential component of the acceleration is, $a_t = 2+0.2t\\:m/s^2$. "
   ]
  },
  {
   "cell_type": "markdown",
   "metadata": {},
   "source": [
    "![title](img/T2W5/img11.jpg)\n"
   ]
  },
  {
   "cell_type": "markdown",
   "metadata": {},
   "source": [
    "At $t=10$ seconds, determine:\n",
    "- (a) The distance the motorcycle has moved along the track.\n",
    "- (b) The magnitude of its acceleration."
   ]
  },
  {
   "cell_type": "markdown",
   "metadata": {},
   "source": [
    "**Solution**\n",
    "\n",
    "To determine the distance traveled, we're interested in the tangential component of the acceleration, $a_t$. In the usual way, we'll integrate this twice to determine an expression for the displacement as a function of time.\n",
    "\n",
    "\\begin{equation*}\n",
    "a_t = \\frac{\\mathrm{d}v}{\\mathrm{d}t} = 2+0.2t\n",
    "\\end{equation*}\n",
    "\n",
    "Integrating,\n",
    "\n",
    "\\begin{equation*}\n",
    "\\int_0^v \\mathrm{d}v = \\int_0^t(2+0.2t)\\:\\mathrm{d}t\n",
    "\\end{equation*}\n",
    "\n",
    "\\begin{equation*}\n",
    "v=2t + 0.1t^2 = \\frac{\\mathrm{d}s}{\\mathrm{d}t}\n",
    "\\end{equation*}\n",
    "\n",
    "Integrating again,\n",
    "\n",
    "\\begin{equation*}\n",
    "\\int_0^s \\mathrm{d}s = \\int_0^t(2t+0.1t^2)\\:\\mathrm{d}t\n",
    "\\end{equation*}\n",
    "\n",
    "\\begin{equation*}\n",
    "s=t^2 + \\frac{0.1}{3}t^3\n",
    "\\end{equation*}\n",
    "\n",
    "Evaluating at $t=10$ seconds,"
   ]
  },
  {
   "cell_type": "code",
   "execution_count": 5,
   "metadata": {},
   "outputs": [
    {
     "name": "stdout",
     "output_type": "stream",
     "text": [
      "(a) The distance covered in 10 seconds is 133.3 m\n"
     ]
    }
   ],
   "source": [
    "t=10\n",
    "s = t**2 + (0.1/3)*t**3\n",
    "print('(a) The distance covered in {one} seconds is {two} m'.format(one=t, two=round(s,1)))"
   ]
  },
  {
   "cell_type": "markdown",
   "metadata": {},
   "source": [
    "In order to determine the magnitude of the acceleration, we need to evaluate its two components, $a_t$ and $a_n$. We can determine $a_t$ immediately, "
   ]
  },
  {
   "cell_type": "code",
   "execution_count": 6,
   "metadata": {},
   "outputs": [
    {
     "name": "stdout",
     "output_type": "stream",
     "text": [
      "The tangential acceleration a_t is 4.0 m/s^2\n"
     ]
    }
   ],
   "source": [
    "at = 2+0.2*t #(m/s^2)\n",
    "print('The tangential acceleration a_t is {one} m/s^2'.format(one=round(at,1)))"
   ]
  },
  {
   "cell_type": "markdown",
   "metadata": {},
   "source": [
    "To determine the normal component we use,\n",
    "\n",
    "\\begin{equation*}\n",
    "a_n = \\frac{v^2}{\\rho}\n",
    "\\end{equation*}\n",
    "\n",
    "where $\\rho$ is the radius of the circular track. So evaluating the velocity magnitude $v$ first,"
   ]
  },
  {
   "cell_type": "code",
   "execution_count": 7,
   "metadata": {},
   "outputs": [
    {
     "name": "stdout",
     "output_type": "stream",
     "text": [
      "The velocity magnitude is 30.0 m/s\n"
     ]
    }
   ],
   "source": [
    "v=2*t + 0.1*t**2 #(m/s)\n",
    "print('The velocity magnitude is {one} m/s'.format(one=round(v,1)))"
   ]
  },
  {
   "cell_type": "markdown",
   "metadata": {},
   "source": [
    "Therefore the normal component of acceleration is,"
   ]
  },
  {
   "cell_type": "code",
   "execution_count": 8,
   "metadata": {},
   "outputs": [
    {
     "name": "stdout",
     "output_type": "stream",
     "text": [
      "The normal component of acceleration a_n is 2.25 m/s^2\n"
     ]
    }
   ],
   "source": [
    "rho = 400 #(m) track radius\n",
    "an = v**2/rho #(m/s^2)\n",
    "print('The normal component of acceleration a_n is {one} m/s^2'.format(one=round(an,2)))"
   ]
  },
  {
   "cell_type": "markdown",
   "metadata": {},
   "source": [
    "We determine the magnitude as the length of the vector obtained by adding $a_t$ and $a_n$,\n",
    "\n",
    "\\begin{equation*}\n",
    "|a| = \\sqrt{a_t^2 + a_n^2}\n",
    "\\end{equation*}"
   ]
  },
  {
   "cell_type": "code",
   "execution_count": 9,
   "metadata": {},
   "outputs": [
    {
     "name": "stdout",
     "output_type": "stream",
     "text": [
      "The acceleration magnitude is 4.59 m/s^2\n"
     ]
    }
   ],
   "source": [
    "aMag = (at**2 + an**2)**0.5 #(m/s^2)\n",
    "print('The acceleration magnitude is {one} m/s^2'.format(one=round(aMag,2)))"
   ]
  },
  {
   "cell_type": "markdown",
   "metadata": {},
   "source": [
    "**You should now download the question sheet for this week and attempt all questions. You will have an opportunity to to get help in your tutorial session and worked solutions will be released next week.**  "
   ]
  }
 ],
 "metadata": {
  "hide_input": false,
  "kernelspec": {
   "display_name": "Python 3",
   "language": "python",
   "name": "python3"
  },
  "language_info": {
   "codemirror_mode": {
    "name": "ipython",
    "version": 3
   },
   "file_extension": ".py",
   "mimetype": "text/x-python",
   "name": "python",
   "nbconvert_exporter": "python",
   "pygments_lexer": "ipython3",
   "version": "3.6.4"
  },
  "toc": {
   "base_numbering": 1,
   "nav_menu": {},
   "number_sections": true,
   "sideBar": true,
   "skip_h1_title": false,
   "title_cell": "Table of Contents",
   "title_sidebar": "Contents",
   "toc_cell": false,
   "toc_position": {
    "height": "calc(100% - 180px)",
    "left": "10px",
    "top": "150px",
    "width": "165px"
   },
   "toc_section_display": true,
   "toc_window_display": false
  }
 },
 "nbformat": 4,
 "nbformat_minor": 2
}
