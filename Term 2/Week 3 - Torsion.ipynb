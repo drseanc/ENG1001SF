{
 "cells": [
  {
   "cell_type": "code",
   "execution_count": 1,
   "metadata": {
    "deletable": false,
    "editable": false,
    "hide_input": true
   },
   "outputs": [
    {
     "name": "stdout",
     "output_type": "stream",
     "text": [
      "- Dependencies imported 👍\n",
      "- Remember to select 'Kernel-> Restart & Run All' on first load to show embedded Youtube videos 🎬\n",
      "- Author: Dr SPCarroll, Sept 2020, Rev 1\n"
     ]
    }
   ],
   "source": [
    "#DEPENDENCIES & INITIALISATIONS\n",
    "from IPython.display import HTML #For embedding videos\n",
    "import math #Basic math functionality\n",
    "import numpy as np #Numpy for working with arrays\n",
    "import matplotlib.pyplot as plt #Plotting functionality \n",
    "#HTML('<center><iframe width=\"560\" height=\"315\" src=\"#\" frameborder=\"0\" allowfullscreen></iframe></center>')\n",
    "print(\"- Dependencies imported 👍\")\n",
    "print(\"- Remember to select 'Kernel-> Restart & Run All' on first load to show embedded Youtube videos 🎬\")\n",
    "print(\"- Author: Dr SPCarroll, Sept 2020, Rev 1\")"
   ]
  },
  {
   "cell_type": "markdown",
   "metadata": {
    "hide_input": true
   },
   "source": [
    "# Week 3: Nonuniform Torsion, Stresses and Strains\n",
    "Reference: Chapter 3 of *Mechanics of Materials*, Gere and Goodno"
   ]
  },
  {
   "cell_type": "markdown",
   "metadata": {
    "hide_input": false
   },
   "source": [
    "![title](img/T2W3/banner.jpg)"
   ]
  },
  {
   "cell_type": "markdown",
   "metadata": {},
   "source": [
    "## 1.0 Nonuniform Torsion"
   ]
  },
  {
   "cell_type": "markdown",
   "metadata": {},
   "source": [
    "Last week we discussed pure torsion. This required the shaft to be prismatic and subject to a constant magnitude torque throughout its length. We will start this week by expanding to consider nonuniform torsion. Our discussion  will accommodate shafts that are not necessarily prismatic or subject to uniform torque throughout their length. \n",
    "\n",
    "We will explore three cases of nonuniform torsion:\n",
    "- Case 1 - Shafts that consist of prismatic segments with constant values of torque applied to each segment\n",
    "- Case 2 - Shafts with continuously varying cross-section and constant torque throughout their length\n",
    "- Case 3 - Shafts with continuously varying cross-section and torque"
   ]
  },
  {
   "cell_type": "markdown",
   "metadata": {},
   "source": [
    "### 1.1 Case 1"
   ]
  },
  {
   "cell_type": "markdown",
   "metadata": {},
   "source": [
    "Consider the nonprismatic shaft shown below subject to a range of different torques throughout its length. With the exception of the tapered section (which we shall ignore for now) this shaft can be subdivided into prismatic sub-lengths subject to a constant torque. As such, we can deploy the equations derived last week for pure torsion to each segment. \n",
    "\n",
    "The shear stress developed in any segment can therefore be determined using the torsion formula discussed previously using the appropriate values of $T$, $r$ and $I_P$, for the segment under consideration.\n",
    "\n",
    "\\begin{equation}\n",
    "\\tau_{\\text{max}} = \\frac{T r}{I_p}\n",
    "\\end{equation}"
   ]
  },
  {
   "cell_type": "markdown",
   "metadata": {},
   "source": [
    "![title](img/T2W3/img1.jpg)\n",
    "<center>Nonprismatic shaft subject to nonuniform torsion. © Cengage Learning. 2009</center>"
   ]
  },
  {
   "cell_type": "markdown",
   "metadata": {},
   "source": [
    "We can obtain the value of the internal torque in a given segment by making a cut through that segment and considering moment equilibrium. For example, to obtain the internal torque between $C$ and $D$, we could make a cut to reveal the internal torque generated in this segment, pictured below."
   ]
  },
  {
   "cell_type": "markdown",
   "metadata": {},
   "source": [
    "![title](img/T2W3/img2.jpg)\n",
    "<center>Internal torque $T_{CD}$ revealed by the cut. © Cengage Learning. 2009</center>"
   ]
  },
  {
   "cell_type": "markdown",
   "metadata": {},
   "source": [
    "If we assume double-headed torque arrows that point away from the cut section are positive, then evaluating the sum of the moments about the longitudinal axis,\n",
    "\n",
    "\\begin{align*}\n",
    "\\sum M_x &= 0\\\\\n",
    "T_1 + T_2 - T_3 + T_{CD} &= 0\\\\\n",
    "T_{CD} &= T_3-T_1-T_2\n",
    "\\end{align*}\n",
    "\n",
    "$T_{CD}$ can now be used in the torsion formula to evaluate the shear stresses in the segment between $C$ and $D$. "
   ]
  },
  {
   "cell_type": "markdown",
   "metadata": {},
   "source": [
    "The same approach can be taken to evaluate the internal torque developed in the remaining segments of the shaft (pictured below). This approach yields,\n",
    "\n",
    "\\begin{align*}\n",
    "T_{BC} &= -T_1-T_2\\\\\n",
    "T_{AB} &= -T_1\n",
    "\\end{align*}"
   ]
  },
  {
   "cell_type": "markdown",
   "metadata": {},
   "source": [
    "![title](img/T2W3/img3.jpg)\n",
    "<center>Internal torques $T_{BC}$ and $T_{AB}$ revealed by cuts. © Cengage Learning. 2009</center>"
   ]
  },
  {
   "cell_type": "markdown",
   "metadata": {},
   "source": [
    "To obtain the angle of twist, $\\phi$ in any segment we can again deploy our equation derived for pure torsion, \n",
    "\n",
    "\\begin{equation}\n",
    "\\phi = \\frac{TL}{GI_P}\n",
    "\\end{equation}\n",
    "\n",
    "selecting values appropriate for the segment under consideration. The angle of twist for the full bar consisting of $i$ prismatic segments can be obtained as the algebraic sum of individual angles of twist in each segment,\n",
    "\n",
    "\\begin{equation}\n",
    "\\phi_{\\text{total}} = \\sum_{i=1}^n \\phi_i\n",
    "\\end{equation}"
   ]
  },
  {
   "cell_type": "markdown",
   "metadata": {},
   "source": [
    "### 1.2 Case 2"
   ]
  },
  {
   "cell_type": "markdown",
   "metadata": {},
   "source": [
    "In this case we have a bar with a constant torque but linearly changing cross-section."
   ]
  },
  {
   "cell_type": "markdown",
   "metadata": {},
   "source": [
    "![title](img/T2W3/img4.jpg)\n",
    "<center>Nonuniform torque in a shaft with continuously varying cross-section and constant applied torque. © Cengage Learning. 2009</center>"
   ]
  },
  {
   "cell_type": "markdown",
   "metadata": {},
   "source": [
    "To obtain the maximum shear stresses developed in the bar we simply evaluate the cross-section with the smallest diameter. Due to the presence of the polar moment of inertia $I_P$ in the denominator of the torsion formula, we can see that this is where the maximum shear stress will occur. "
   ]
  },
  {
   "cell_type": "markdown",
   "metadata": {},
   "source": [
    "In order to determine the angle of twist we take the approach of considering the angle of twist over a short length $\\mathrm{d}x$,\n",
    "\n",
    "\\begin{equation}\n",
    "\\mathrm{d}\\phi = \\frac{T\\mathrm{d}x}{G I_P(x)}\n",
    "\\end{equation}\n",
    "\n",
    "Noting that it is only the polar moment of inertia that varies along the length, we obtain the total angle of twist by integrating over the length of the bar,\n",
    "\n",
    "\\begin{equation}\n",
    "\\phi = \\frac{T}{G}\\int_0^L \\frac{1}{I_P(x)}\\mathrm{d}x\n",
    "\\end{equation}\n",
    "\n",
    "Depending on the complexity of the expression for $I_P(x)$, this integration can be completed analytically or numerically. "
   ]
  },
  {
   "cell_type": "markdown",
   "metadata": {},
   "source": [
    "### 1.3 Case 3"
   ]
  },
  {
   "cell_type": "markdown",
   "metadata": {},
   "source": [
    "In this case both the applied torque and cross-section can vary continuously. In the image below, the shaft is subject to a distributed torque of magnitude $t$ per unit length (analogous to a uniformly distributed load). As a result the internal torque varies as a function of $x$ (just like the internal shear in a beam subject to a uniformly distributed load). "
   ]
  },
  {
   "cell_type": "markdown",
   "metadata": {},
   "source": [
    "![title](img/T2W3/img5.jpg)\n",
    "<center>Nonuniform torque in a shaft with continuously varying cross-section and continuously varying applied torque. © Cengage Learning. 2009</center>"
   ]
  },
  {
   "cell_type": "markdown",
   "metadata": {},
   "source": [
    "An expression for the internal torque as a function of $x$ can be evaluated by making a cut at a distance $x$ from one end. Expressions for $r(x)$ and $I_P(x)$ can also be determined, yielding an expression for $\\tau_{\\text{max}}(x)$,\n",
    "\n",
    "\\begin{equation}\n",
    "\\tau_{\\text{max}}(x) = \\frac{T(x) r(x)}{I_P(x)}\n",
    "\\end{equation}\n",
    "\n",
    "The location and magnitude of any local maximum in this expression can readily be identified using the usual calculus approach.\n",
    "\n",
    "To obtain the angle of twist, we again consider a short segment of length $\\mathrm{d}x$ and integrate the expression for $\\mathrm{d}\\phi$ over the length as we did for case 2. However, this time the internal torque, is also a function of $x$,\n",
    "\n",
    "\\begin{equation}\n",
    "\\phi = \\frac{1}{G}\\int_0^L \\frac{T(x)}{I_P(x)}\\mathrm{d}x\n",
    "\\end{equation}\n"
   ]
  },
  {
   "cell_type": "markdown",
   "metadata": {},
   "source": [
    "### 1.4 Example 1"
   ]
  },
  {
   "cell_type": "markdown",
   "metadata": {},
   "source": [
    "Consider the bar pictured below subject to a torque $T$. The diameter of the bar varies linearly between $A$ and $B$. Determine expressions for the maximum shear stress and angle of twist between $A$ and $B$. "
   ]
  },
  {
   "cell_type": "markdown",
   "metadata": {},
   "source": [
    "![title](img/T2W3/img6.jpg)\n",
    "<center>Tapered shaft subject to torque $T$. © Cengage Learning. 2009</center>"
   ]
  },
  {
   "cell_type": "markdown",
   "metadata": {},
   "source": [
    "**Solution**\n",
    "\n",
    "We know that the maximum shear stress will occur at the cross-section with the smallest diameter, $d_A$. Therefore\n",
    "\n",
    "\\begin{align*}\n",
    "r &=\\frac{d_A}{2}\\\\\n",
    "I_P &= \\frac{\\pi d_A^4}{32}\n",
    "\\end{align*}\n",
    "\n",
    "and\n",
    "\n",
    "\\begin{align*}\n",
    "\\tau_{\\text{max}} = \\frac{Tr}{I_P} = \\frac{16T}{\\pi d_A^3}\n",
    "\\end{align*}"
   ]
  },
  {
   "cell_type": "markdown",
   "metadata": {},
   "source": [
    "To obtain the angle of twist $\\phi$ we note that this corresponds to case 2 above. Therefore we need to determine an expression for $I_P(x)$ and evaluate,\n",
    "\n",
    "\\begin{equation*}\n",
    "\\phi = \\frac{T}{G}\\int_0^L \\frac{1}{I_P(x)}\\mathrm{d}x\n",
    "\\end{equation*}\n",
    "\n",
    "We start by first evaluating an expression for the change in diameter as a function of $x$, \n",
    "\n",
    "\\begin{equation*}\n",
    "d(x) = d_A + \\frac{d_B-d_A}{L}x\n",
    "\\end{equation*}\n",
    "\n",
    "This can then be used to determine $I_P(x)$,\n",
    "\n",
    "\\begin{equation*}\n",
    "I_P(x) = \\frac{\\pi d^4}{32} = \\frac{\\pi}{32}\\left(d_A + \\frac{d_B-d_A}{L} x\\right)^4\n",
    "\\end{equation*}\n",
    "\n",
    "Our expression for the angle of twist is therefore determined by evaluating,\n",
    "\n",
    "\\begin{equation*}\n",
    "\\phi = \\frac{32T}{\\pi G} \\int_0^L \\frac{1}{\\left(d_A + \\frac{d_B-d_A}{L} x\\right)^4} \\mathrm{d}x\n",
    "\\end{equation*}\n",
    "\n",
    "Now we must determine the integral. Since the study of integration is not our objective here - we will let the Python SymPy library do the hard work for us. Extracting the part requiring integration we have,\n",
    "\n",
    "\\begin{equation*}\n",
    "\\int_0^L \\frac{1}{\\left(d_A + \\frac{d_B-d_A}{L} x\\right)^4} \\mathrm{d}x\n",
    "\\end{equation*}\n",
    "\n",
    "The symbolic integrated can be performed as follows..."
   ]
  },
  {
   "cell_type": "code",
   "execution_count": 2,
   "metadata": {},
   "outputs": [
    {
     "name": "stdout",
     "output_type": "stream",
     "text": [
      "SymPy generated the following expression for the definite integral:\n"
     ]
    },
    {
     "data": {
      "text/plain": [
       "L*(dA**2 + dA*dB + dB**2)/(3*dA**3*dB**3)"
      ]
     },
     "execution_count": 2,
     "metadata": {},
     "output_type": "execute_result"
    }
   ],
   "source": [
    "import sympy as sym #Import SymPy\n",
    "#Define some symbols \n",
    "da = sym.Symbol('dA')\n",
    "db = sym.Symbol('dB')\n",
    "L = sym.Symbol('L')\n",
    "x = sym.Symbol('s')\n",
    "\n",
    "#Construct the function to integrate\n",
    "f = 1/(da + ((db-da)/L)*x)**4 \n",
    "\n",
    "#Use SymPy to get the definite itegral with respect to x between 0 and L\n",
    "defInt = sym.integrate(f,(x,0,L)) \n",
    "\n",
    "print('SymPy generated the following expression for the definite integral:')\n",
    "sym.simplify(defInt) #Attempt to siplify the definite integral"
   ]
  },
  {
   "cell_type": "markdown",
   "metadata": {},
   "source": [
    "Combining this with our full expression for the angle of twist we obtain,\n",
    "\n",
    "\\begin{equation}\n",
    "\\phi = \\frac{32TL}{\\pi G}\\left(\\frac{d_A^2 + d_Ad_B + d_B^2}{3d_A^3d_B^3}\\right)\n",
    "\\end{equation}"
   ]
  },
  {
   "cell_type": "markdown",
   "metadata": {},
   "source": [
    "Alternatively we could note that the integral is of the form,\n",
    "\n",
    "\\begin{equation}\n",
    "\\int \\frac{\\mathrm{d}x}{(a + bx)^4} = -\\frac{1}{3b(a+bx^3)}\n",
    "\\end{equation}\n",
    "\n",
    "where,\n",
    "\n",
    "\\begin{align*}\n",
    "a &= d_A\\\\\n",
    "b &=\\frac{d_B-d_A}{L}\n",
    "\\end{align*}\n",
    "\n",
    "Unless the objective is specifically to prove knowledge of integration techniques (not our focus here!) either approach to solving the integral is perfectly acceptable. Using SymPy might not always give the most concise expression, but it will in almost all cases be faster to 'code' the solution than work it out by hand...the choice is yours."
   ]
  },
  {
   "cell_type": "markdown",
   "metadata": {
    "hide_input": true
   },
   "source": [
    "## 2.0 Stresses and Strains"
   ]
  },
  {
   "cell_type": "markdown",
   "metadata": {},
   "source": [
    "Our final task in the study of torsion is to take a closer look at the stresses and strains induced as a result of torsion. We have touched this topic last week but we will take a deeper dive here before moving on. Consider the bar pictured below in pure torsion. We've already seen that a stress element on the face of the bar (b) will be in a state of pure shear because only shear stresses act on it. \n",
    "\n",
    "With reference to the shear stresses acting on the sides of a stressed element with its sides parallel and perpendicular to the x-y axes, we define the following sign convention for shear stress:\n",
    "- A shear stress acting on the positive face* of an element is positive if it acts in the positive direction and negative if it acts in the negative direction of one of the coordinate axes,\n",
    "    - $+ve$ direction $\\times$ $+ve$ face $=$ $+ve$ shear\n",
    "    - $-ve$ direction $\\times$ $+ve$ face $=$ $-ve$ shear\n",
    "- A shear stress acting on the negative face* of an element is positive if it acts in the negative direction and negative if it acts in the positive direction of one of the coordinate axes,\n",
    "    - $+ve$ direction $\\times$ $-ve$ face $=$ $-ve$ shear\n",
    "    - $-ve$ direction $\\times$ $-ve$ face $=$ $+ve$ shear\n",
    "\n",
    "*a face is considered positive if its outward pointing normal points in the positive direction of an axis and vice versa. Therefore all shear stresses shown on the element below are considered positive shear stresses.\n"
   ]
  },
  {
   "cell_type": "markdown",
   "metadata": {},
   "source": [
    "![title](img/T2W3/img7.jpg)\n",
    "<center>(a) Bar in pure torsion (b) stress element within the bar. © Cengage Learning. 2009</center>"
   ]
  },
  {
   "cell_type": "markdown",
   "metadata": {},
   "source": [
    "### 2.1 Stresses on inclined planes"
   ]
  },
  {
   "cell_type": "markdown",
   "metadata": {},
   "source": [
    "So far we have only considered the stresses that develop on an element with sides parallel and perpendicular to the longitudinal axis of the bar. For such an element, only shear stresses are present and no normal stresses develop, this is why we say the element is in a state of pure shear. \n",
    "\n",
    "However this doesn't give us the full picture, we will now consider the stresses that develop on mutually perpendicular planes at different orientations, i.e. the stresses on elements with sides orientated at some angle $\\theta$ to the horizontal axis of the bar. The image (a) below shows the same element as above. We now imagine making a cut through the element at some angle $\\theta$ as shown in (b). This cut reveals a shear stress $\\tau_\\theta$ and normal (perpendicular) stress $\\sigma_\\theta$ on the new cut plane. **Note** that the sign convention for shear stresses acting on inclined planes is **different** to the one described above for shear stresses acting on the sides of a rectangular element orientated to an x-y axis system. Shear stresses on inclined planes, $\\tau_\\theta$ are considered positive when they tend to produce counter-clockwise rotation and negative when they tend to produce clockwise rotation.\n",
    "\n",
    "We now state that the area of the vertical face of the stressed element is $A_0$. Therefore the area of the horizontal and inclined faces is $A_0\\tan\\theta$ and $A_0\\sec\\theta$ respectively. By multiplying the area of each face by the stress acting on the face we obtain the force on each face, shown in (c) below."
   ]
  },
  {
   "cell_type": "markdown",
   "metadata": {},
   "source": [
    "![title](img/T2W3/img8.jpg)\n",
    "<center>(a) Stress element in pure shear (b) wedge element creating by cutting through the original element at an angle $\\theta$ (c) the forces acting on the wedge element. © Cengage Learning. 2009</center>"
   ]
  },
  {
   "cell_type": "markdown",
   "metadata": {},
   "source": [
    "Since the element is in a state of equilibrium, we can now consider the sum of the forces parallel and perpendicular to the inclined plane. Note that this requires us to resolve the vertical and horizontal forces into components parallel and perpendicular to the inclined plane. Evaluating the sum of the forces perpendicular to the inclined plane yields,\n",
    "\n",
    "\\begin{equation}\n",
    "\\sigma_\\theta A_0\\sec\\theta = \\tau A_0 \\sin\\theta + \\tau A_0\\tan\\theta\\cos\\theta\n",
    "\\end{equation}\n",
    "\n",
    "Which simplifies to,\n",
    "\n",
    "\\begin{equation}\n",
    "\\sigma_\\theta = 2\\tau\\sin\\theta\\cos\\theta\n",
    "\\end{equation}"
   ]
  },
  {
   "cell_type": "markdown",
   "metadata": {},
   "source": [
    "No evaluating force equilibrium parallel to the cut plane yields,\n",
    "\n",
    "\\begin{equation}\n",
    "\\tau_\\theta A_0 \\sec\\theta = \\tau A_0\\cos\\theta-\\tau A_0 \\tan\\theta\\sin\\theta\n",
    "\\end{equation}\n",
    "\n",
    "Which simplifies to,\n",
    "\n",
    "\\begin{equation}\n",
    "\\tau_\\theta = \\tau(\\cos^2\\theta-\\sin^2\\theta)\n",
    "\\end{equation}"
   ]
  },
  {
   "cell_type": "markdown",
   "metadata": {},
   "source": [
    "Equations (11) and (12) are called transformation equations as they allow us to determine the normal and shear stress on inclined planes once we know the angle of inclination $\\theta$ and the shear stress acting on the x and y planes. These transformation equations can be further reduced by introducing the following trigonometric identities,\n",
    "\n",
    "\\begin{align}\n",
    "\\sin 2\\theta &= 2\\sin\\theta\\cos\\theta\\\\\n",
    "\\cos 2\\theta &= \\cos^2\\theta-\\sin^2\\theta\n",
    "\\end{align}\n",
    "\n",
    "Our transformation equations become,\n",
    "\n",
    "\\begin{equation}\n",
    "\\boxed{\n",
    "\\sigma_\\theta = \\tau\\sin 2\\theta\n",
    "}\n",
    "\\end{equation}\n",
    "\n",
    "\\begin{equation}\n",
    "\\boxed{\n",
    "\\tau_\\theta = \\tau\\cos 2\\theta\n",
    "}\n",
    "\\end{equation}"
   ]
  },
  {
   "cell_type": "markdown",
   "metadata": {},
   "source": [
    "We can plot both equations to get a better sense of what they're telling us. "
   ]
  },
  {
   "cell_type": "code",
   "execution_count": 3,
   "metadata": {},
   "outputs": [
    {
     "data": {
      "image/png": "[encoded data removed]",
      "text/plain": [
       "<Figure size 432x288 with 1 Axes>"
      ]
     },
     "metadata": {},
     "output_type": "display_data"
    }
   ],
   "source": [
    "stress = 1 #Normalise the stress by the maximum value (+/- 1 indicates maximum +ve/-ve magniude)\n",
    "theta = np.arange(-90,91,1) #Define a range of theta values\n",
    "theta_rad = (math.pi/180)*theta #Convert to radians\n",
    "sig_theta = stress*np.sin(2*theta_rad) #Calculate normal stress value for each value of theta\n",
    "tau_theta = stress*np.cos(2*theta_rad) #Calculate shear stress value for each value of theta\n",
    "\n",
    "#PLOTTING\n",
    "fig = plt.figure() #Define a new figure\n",
    "axes = fig.add_axes([0.1,0.1,2,1.5]) #Add a set of axes to the figure defining axes location and size\n",
    "axes.plot(theta,sig_theta, label='Normal stress') #Plot x versus M with a blue line with circles indicated data points\n",
    "axes.plot(theta,tau_theta, label='Shear stress') #Plot x versus M with a blue line with circles indicated data points\n",
    "\n",
    "axes.set_xlabel(r'$\\theta ^\\circ$') #set an x-label\n",
    "axes.set_ylabel(r'$\\sigma_\\theta$ or $\\tau_\\theta$') #set a y-label\n",
    "axes.set_title('Normal and shear stress versus angle of plane') #set a title\n",
    "axes.set_xlim(-90,90)\n",
    "axes.legend()\n",
    "axes.grid() #Show a grid"
   ]
  },
  {
   "cell_type": "markdown",
   "metadata": {},
   "source": [
    "Notice that when $\\theta=0$, the shear stress is a positive maximum $\\tau = \\tau_{\\text{max}}$ and the normal stress is zero, $\\sigma = 0$. A cut at this angle corresponds to the right vertical face of the element parallel with the y-axis. According to our shear sign convention, the positive sign indicates counter-clockwise rotation i.e. the shear stress on this face points upwards. This is consistent with the rectangular element in image (a) above. \n",
    "\n",
    "The horizontal top face of the element corresponds to a cut at $\\theta=90^\\circ$. In this case, the shear stress is a negative maximum $\\tau = -\\tau_{\\text{max}}$, indicating clockwise rotation, or a shear stress pointing to the right on this top horizontal face, again consistent with our rectangular element shown above. \n",
    "\n",
    "We note that for faces orientated at $45^\\circ$, the shear stress is zero and the normal stress is a positive maximum. The sign convention for normal stress defines tension stress as positive and compression stress as negative. From this we can conclude that on a $45^\\circ$ plane, the normal stress is tensile and numerically equal to the maximum shear stress $\\tau_{\\text{max}}$. We can visualise the maximum shear and normal stresses along with the planes on which they occur below."
   ]
  },
  {
   "cell_type": "markdown",
   "metadata": {},
   "source": [
    "![title](img/T2W3/img9.jpg)\n",
    "<center>(a) Stress element orientated at an angle $\\theta=0^\\circ$ which experiences the largest shear stress (b) stress element orientated at $\\theta=45^\\circ$ on which largest magnitude normal stresses occur. © Cengage Learning. 2009</center>"
   ]
  },
  {
   "cell_type": "markdown",
   "metadata": {},
   "source": [
    "Planes orientated at angles other than $0^\\circ$ or $45^\\circ$ will experience both normal and shear stresses. Note also that if the applied torque is reversed and applied in the opposite direction, all of the stresses pictured above will flip directions. \n",
    "\n",
    "The fact that maximum tensile stresses and therefore strains occur at $45^\\circ$ to the longitudinal axis explains the failure pattern of members in torsion. This is particularly so for shafts made from brittle materials. The tensile stresses will tend to force cracks to open along the $45^\\circ$ plane, see below."
   ]
  },
  {
   "cell_type": "markdown",
   "metadata": {},
   "source": [
    "![title](img/T2W3/img10.jpg)\n",
    "<center>Torsion failure of a brittle material by tension cracking along a $45^\\circ$ helical plane. © Cengage Learning. 2009</center>"
   ]
  },
  {
   "cell_type": "markdown",
   "metadata": {},
   "source": [
    "### 2.2 Strains on inclined planes"
   ]
  },
  {
   "cell_type": "markdown",
   "metadata": {},
   "source": [
    "We can now consider the strains that accompany the shear and normal stresses discussed above. The figure below shows the shear deformation for an element in pure shear (orientated at $\\theta=0^\\circ$). This is a familiar pattern of shear distortion whereby the strain is captured by the change in angle $\\gamma$. Remember that the shear strain is related to the shear stress through the shear modulus, \n",
    "\n",
    "\\begin{equation}\n",
    "\\tau = G\\gamma\n",
    "\\end{equation}"
   ]
  },
  {
   "cell_type": "markdown",
   "metadata": {},
   "source": [
    "![title](img/T2W3/img11.jpg)\n",
    "<center>Shear strain for an element in pure shear. © Cengage Learning. 2009</center>"
   ]
  },
  {
   "cell_type": "markdown",
   "metadata": {},
   "source": [
    "Similarly, for an element orientated at $\\theta=45^\\circ$, we can visualise the normal strains $(\\epsilon)$ below. "
   ]
  },
  {
   "cell_type": "markdown",
   "metadata": {},
   "source": [
    "![title](img/T2W3/img12.jpg)\n",
    "<center>Normal strain for an element in pure shear. © Cengage Learning. 2009</center>"
   ]
  },
  {
   "cell_type": "markdown",
   "metadata": {},
   "source": [
    "For the element oriented at $\\theta=45^\\circ$, we can summarise the strains produced as a result of $\\sigma_{\\text{max}}$ and $\\sigma_{\\text{min}}$. Consider the influence of $\\sigma_{\\text{max}}$ first. It produces a positive strain in the $\\theta=45^\\circ$ direction,\n",
    "\n",
    "\\begin{equation}\n",
    "\\epsilon_{45,\\sigma_{\\text{max}}} = \\frac{\\sigma_{\\text{max}}}{E} = \\frac{\\tau}{E}\n",
    "\\end{equation}\n",
    "\n",
    "Due to the Poisson effect, it also produces a negative strain in the perpendicular direction $(\\theta=135^\\circ)$,\n",
    "\n",
    "\\begin{equation}\n",
    "\\epsilon_{135,\\sigma_{\\text{max}}} = \\frac{-\\nu\\sigma_{\\text{max}}}{E} = \\frac{-\\nu\\tau}{E}\n",
    "\\end{equation}\n",
    "\n",
    "Where $\\nu$ is Poisson's ratio for the material. Similarly, we can obtain the strains in both directions due to $\\sigma_{\\text{min}}$ acting at $\\theta=135^\\circ$,\n",
    "\n",
    "\\begin{equation}\n",
    "\\epsilon_{135,\\sigma_{\\text{min}}} = \\frac{\\sigma_{\\text{min}}}{E} = \\frac{-\\tau}{E}\n",
    "\\end{equation}\n",
    "\n",
    "\\begin{equation}\n",
    "\\epsilon_{45,\\sigma_{\\text{min}}} = \\frac{\\nu\\sigma_{\\text{min}}}{E} = \\frac{\\nu\\tau}{E}\n",
    "\\end{equation}\n",
    "\n",
    "At this point we can say that the total strain in the $\\theta=45^\\circ$ direction due to contributions from $\\sigma_{\\text{max}}$ and $\\sigma_{\\text{min}}$ is,\n",
    "\n",
    "\\begin{equation}\n",
    "\\epsilon_{\\text{max}} = \\frac{\\tau}{E} + \\frac{\\nu\\tau}{E}\n",
    "\\end{equation}\n",
    "\n",
    "\\begin{equation}\n",
    "\\boxed{\n",
    "\\epsilon_{\\text{max}} = \\frac{\\tau}{E}(1+\\nu)\n",
    "}\n",
    "\\end{equation}"
   ]
  },
  {
   "cell_type": "markdown",
   "metadata": {},
   "source": [
    "In the perpendicular direction, the strain $\\epsilon_{\\text{min}}$ will be the negative of $\\epsilon_{\\text{max}}$. This equation conveniently allows us to determine the maximum and minimum normal strains knowing the shear strain and material properties. "
   ]
  },
  {
   "cell_type": "markdown",
   "metadata": {},
   "source": [
    "### 2.3 Example"
   ]
  },
  {
   "cell_type": "markdown",
   "metadata": {},
   "source": [
    "Consider the hollow prismatic circular shaft below. It is made of a material with a shear modulus $G=27\\:kN/mm^2$,  Young's modulus $E = 72\\:kN/mm^2$ and Poisson's ratio $\\nu=0.33$.\n",
    "\n",
    "(a) Determine the maximum shear, tensile and compressive stresses in the tube and show them on properly orientated stress elements.\n",
    "\n",
    "(b) Determine the corresponding maximum strains and sketch these on deformed elements.\n",
    "\n",
    "\n"
   ]
  },
  {
   "cell_type": "markdown",
   "metadata": {},
   "source": [
    "![title](img/T2W3/img13.jpg)\n",
    "<center>Hollow circular prismatic shaft subject to torque $T$. © Cengage Learning. 2009</center>"
   ]
  },
  {
   "cell_type": "markdown",
   "metadata": {},
   "source": [
    "**Solution**\n",
    "\n"
   ]
  },
  {
   "cell_type": "markdown",
   "metadata": {},
   "source": [
    "(a) The maximum normal and shear stresses are all numerically equal (ignoring signs). We can identify $\\tau_{\\text{max}}$ using the torsion formula,\n",
    "\n",
    "\\begin{equation}\n",
    "\\tau_{\\text{max}} = \\frac{T r}{I_p}\n",
    "\\end{equation}"
   ]
  },
  {
   "cell_type": "code",
   "execution_count": 4,
   "metadata": {},
   "outputs": [
    {
     "name": "stdout",
     "output_type": "stream",
     "text": [
      "The maximum shear stress is 58.2 N/mm^2\n",
      "The maximum tensile stress is 58.2 N/mm^2\n",
      "The maximum compressive stress is -58.2 N/mm^2\n"
     ]
    }
   ],
   "source": [
    "d_inner = 0.06 #(m)\n",
    "d_outer = 0.08 #(m)\n",
    "Ip = math.pi/32*(d_outer**4 - d_inner**4) #(m^4)\n",
    "r = d_outer/2 #(m)\n",
    "T = 4*10**3 #(Nm)\n",
    "\n",
    "tau_max = T*r/Ip #(N/m^2)\n",
    "tau_max = tau_max*10**-6\n",
    "print('The maximum shear stress is {one} N/mm^2'.format(one=round(tau_max,1)))\n",
    "print('The maximum tensile stress is {one} N/mm^2'.format(one=round(tau_max,1)))\n",
    "print('The maximum compressive stress is {one} N/mm^2'.format(one=round(-tau_max,1)))"
   ]
  },
  {
   "cell_type": "markdown",
   "metadata": {},
   "source": [
    "These stresses act on planes orientated as indicated below."
   ]
  },
  {
   "cell_type": "markdown",
   "metadata": {},
   "source": [
    "![title](img/T2W3/img14.jpg)\n",
    "<center>(a) Maximum shear stresses acting on planes orientated parallel and perpendicular to the longitudinal axis (b) maximum normal stresses acting on planes orientated at $45^\\circ$. © Cengage Learning. 2009</center>"
   ]
  },
  {
   "cell_type": "markdown",
   "metadata": {},
   "source": [
    "(b) The corresponding strains can be identified using the relevant material modulus. "
   ]
  },
  {
   "cell_type": "code",
   "execution_count": 5,
   "metadata": {},
   "outputs": [
    {
     "name": "stdout",
     "output_type": "stream",
     "text": [
      "The shear strain is 0.0022 radians\n"
     ]
    }
   ],
   "source": [
    "G = 27*10**3 #(N/mm^2)\n",
    "E = 72*10**3 #(N/mm^2)\n",
    "v = 0.33 #Poisson's ratio\n",
    "gamma = tau_max/G\n",
    "print('The shear strain is {one} radians'.format(one=round(gamma,4)))"
   ]
  },
  {
   "cell_type": "markdown",
   "metadata": {},
   "source": [
    "We can determine the normal strain using the equation derived above and repeated below, \n",
    "\n",
    "\\begin{equation*}\n",
    "\\epsilon_{\\text{max}} = \\frac{\\tau}{E}(1+\\nu)\n",
    "\\end{equation*}"
   ]
  },
  {
   "cell_type": "code",
   "execution_count": 6,
   "metadata": {},
   "outputs": [
    {
     "name": "stdout",
     "output_type": "stream",
     "text": [
      "The tensile strain is 0.0011\n",
      "The compression strain is -0.0011\n"
     ]
    }
   ],
   "source": [
    "epsilon_t = (tau_max/E)*(1+v)\n",
    "print('The tensile strain is {one}'.format(one=round(epsilon_t,4)))\n",
    "print('The compression strain is {one}'.format(one=round(-epsilon_t,4)))"
   ]
  },
  {
   "cell_type": "markdown",
   "metadata": {},
   "source": [
    "Similarly, we can determine the normal strain using the standard expression for Hooke's law for biaxial stress (last seen in the tutorial questions in week 1),\n",
    "\n",
    "\\begin{equation}\n",
    "\\epsilon_x = \\frac{1}{E}(\\sigma_x-\\nu\\sigma_y)\n",
    "\\end{equation}\n",
    "\n",
    "noting that $\\sigma_x = \\tau_{\\text{max}}$ and $\\sigma_y = -\\tau_{\\text{max}}$."
   ]
  },
  {
   "cell_type": "code",
   "execution_count": 7,
   "metadata": {},
   "outputs": [
    {
     "name": "stdout",
     "output_type": "stream",
     "text": [
      "The tensile strain is 0.0011\n",
      "The compression strain is -0.0011\n"
     ]
    }
   ],
   "source": [
    "epsilon_t = (tau_max-v*(-tau_max))/E\n",
    "print('The tensile strain is {one}'.format(one=round(epsilon_t,4)))\n",
    "print('The compression strain is {one}'.format(one=round(-epsilon_t,4)))"
   ]
  },
  {
   "cell_type": "markdown",
   "metadata": {},
   "source": [
    "These strains are visualised below."
   ]
  },
  {
   "cell_type": "markdown",
   "metadata": {},
   "source": [
    "![title](img/T2W3/img15.jpg)\n",
    "<center>(a) Maximum shear strain (b) maximum normal strains. © Cengage Learning. 2009</center>"
   ]
  },
  {
   "cell_type": "markdown",
   "metadata": {},
   "source": [
    "### 2.4 Relationship between Shear Modulus, G and Young's Modulus, E"
   ]
  },
  {
   "cell_type": "markdown",
   "metadata": {},
   "source": [
    "Finally, we will spend some time determining an expression that relates $E$, $G$ and $\\nu$. This will allow us to determine any one of these properties if we know the other two. We start by considering a square shaped element subjected to pure shear. We can see the familiar shearing distortion in (b) below."
   ]
  },
  {
   "cell_type": "markdown",
   "metadata": {},
   "source": [
    "![title](img/T2W3/img16.jpg)\n",
    "<center>(a) Undeformed stress element (b) Deformed element under pure shear (c) one half of the deformed element. © Cengage Learning. 2009</center>"
   ]
  },
  {
   "cell_type": "markdown",
   "metadata": {},
   "source": [
    "Now look at the distance between $b$ and $d$, $L_{bd}$; its original length is $h\\sqrt{2}$. But under shear distortion it gets longer, due to the normal strain in the $\\theta=45^\\circ$ direction. So, its deformed length is, \n",
    "\n",
    "\\begin{equation}\n",
    "L_{bd} = \\underbrace{h\\sqrt{2}}_{\\text{original length}}\\times \\underbrace{(1+\\epsilon_{\\text{max}})}_{\\text{elongation due to }\\epsilon_{\\text{max}}}\n",
    "\\end{equation}"
   ]
  },
  {
   "cell_type": "markdown",
   "metadata": {},
   "source": [
    "If we now look at the triangle in (c) above noting the lengths of the sides and corresponding angles, we can apply the cosine rule which for a triangle with sides of length $a$, $b$, $c$ states,\n",
    "\n",
    "\\begin{equation}\n",
    "c^2 = a^2 + b^2-2ab\\cos\\beta\n",
    "\\end{equation}\n",
    "\n",
    "where $\\beta$ is the angle opposite side $c$. Applying this to our triangle (half of the deformed element), we obtain,\n",
    "\n",
    "\\begin{equation}\n",
    "L_{bd}^2 = h^2 + h^2 - 2h^2\\cos\\left(\\frac{\\pi}{2} + \\gamma \\right)\n",
    "\\end{equation}"
   ]
  },
  {
   "cell_type": "markdown",
   "metadata": {},
   "source": [
    "Substituting in our expression for $L_{bd}$ above and simplifying, we obtain,\n",
    "\n",
    "\\begin{equation}\n",
    "(1+\\epsilon_{\\text{max}})^2 = 1-\\cos\\left(\\frac{\\pi}{2}+\\gamma \\right)\n",
    "\\end{equation}\n",
    "\n",
    "Expanding the term on the left and noting that $\\cos(\\pi/2+\\gamma)=-\\sin \\gamma$,\n",
    "\n",
    "\\begin{equation}\n",
    "1+2\\epsilon_{\\text{max}} + \\epsilon_{\\text{max}}^2 = 1+\\sin\\gamma\n",
    "\\end{equation}"
   ]
  },
  {
   "cell_type": "markdown",
   "metadata": {},
   "source": [
    "Since $\\epsilon_{\\text{max}}$ and $\\gamma$ are small quantities, we can disregard $\\epsilon_{\\text{max}}^2$ and replace $\\sin\\gamma$ with $\\gamma$ yielding,\n",
    "\n",
    "\\begin{equation}\n",
    "\\boxed{\n",
    "\\epsilon_{\\text{max}} = \\frac{\\gamma}{2}\n",
    "}\n",
    "\\end{equation}\n",
    "\n",
    "Note that we observed this result numerically in our previous worked example. If we now make the substitutions,\n",
    "\n",
    "\\begin{equation*}\n",
    "\\gamma = \\frac{\\tau}{G}\n",
    "\\end{equation*}\n",
    "\n",
    "\\begin{equation*}\n",
    "\\epsilon_{\\text{max}} = \\frac{\\tau}{E}(1+\\nu)\n",
    "\\end{equation*}\n",
    "\n",
    "we finally obtain,\n",
    "\n",
    "\\begin{equation}\n",
    "\\boxed{\n",
    "G = \\frac{E}{2(1+\\nu)}\n",
    "}\n",
    "\\end{equation}\n",
    "\n",
    "This expression links together three of the fundamental material properties and will be useful throughout your study of stress and strain."
   ]
  },
  {
   "cell_type": "markdown",
   "metadata": {},
   "source": [
    "**You should now download the question sheet for this week and attempt all questions. You will have an opportunity to to get help in your tutorial session and worked solutions will be released next week.**  "
   ]
  }
 ],
 "metadata": {
  "hide_input": false,
  "kernelspec": {
   "display_name": "Python 3",
   "language": "python",
   "name": "python3"
  },
  "language_info": {
   "codemirror_mode": {
    "name": "ipython",
    "version": 3
   },
   "file_extension": ".py",
   "mimetype": "text/x-python",
   "name": "python",
   "nbconvert_exporter": "python",
   "pygments_lexer": "ipython3",
   "version": "3.6.4"
  },
  "toc": {
   "base_numbering": 1,
   "nav_menu": {},
   "number_sections": true,
   "sideBar": true,
   "skip_h1_title": false,
   "title_cell": "Table of Contents",
   "title_sidebar": "Contents",
   "toc_cell": false,
   "toc_position": {
    "height": "calc(100% - 180px)",
    "left": "10px",
    "top": "150px",
    "width": "165px"
   },
   "toc_section_display": true,
   "toc_window_display": false
  }
 },
 "nbformat": 4,
 "nbformat_minor": 2
}
