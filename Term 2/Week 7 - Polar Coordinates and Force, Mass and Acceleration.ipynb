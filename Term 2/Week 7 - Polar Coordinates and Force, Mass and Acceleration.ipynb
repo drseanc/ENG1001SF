{
 "cells": [
  {
   "cell_type": "code",
   "execution_count": 1,
   "metadata": {
    "deletable": false,
    "editable": false,
    "hide_input": true
   },
   "outputs": [
    {
     "name": "stdout",
     "output_type": "stream",
     "text": [
      "- Dependencies imported 👍\n",
      "- Remember to select 'Kernel-> Restart & Run All' on first load to show embedded Youtube videos 🎬\n",
      "- Author: Dr H Alwi & Dr SPCarroll, Sept 2020, Rev 1\n"
     ]
    }
   ],
   "source": [
    "#DEPENDENCIES & INITIALISATIONS\n",
    "from IPython.display import HTML #For embedding videos\n",
    "import math #Basic math functionality\n",
    "import numpy as np #Numpy for working with arrays\n",
    "import matplotlib.pyplot as plt #Plotting functionality \n",
    "#HTML('<center><iframe width=\"560\" height=\"315\" src=\"#\" frameborder=\"0\" allowfullscreen></iframe></center>')\n",
    "print(\"- Dependencies imported 👍\")\n",
    "print(\"- Remember to select 'Kernel-> Restart & Run All' on first load to show embedded Youtube videos 🎬\")\n",
    "print(\"- Author: Dr H Alwi & Dr SPCarroll, Sept 2020, Rev 1\")"
   ]
  },
  {
   "cell_type": "markdown",
   "metadata": {
    "hide_input": true
   },
   "source": [
    "![title](img/T2W7/banner.jpg)"
   ]
  },
  {
   "cell_type": "markdown",
   "metadata": {
    "hide_input": true
   },
   "source": [
    "# Week 7: Polar Coordinates & Force, Mass and Acceleration"
   ]
  },
  {
   "cell_type": "markdown",
   "metadata": {
    "hide_input": true
   },
   "source": [
    "## 1.0 Polar Coordinates"
   ]
  },
  {
   "cell_type": "markdown",
   "metadata": {},
   "source": [
    "The first topic we discuss this week is the **Polar Coordinate** system. This is an alternative method of representing the position of a point in the $x-y$ plane. It is often used as the preferred method of positioning in navigation. To explore this coordinate system, we start by considering a point $P$ in the $x-y$ plane. The location of $P$ can be specified by its cartesian coordinates, $(x,y)$ or by its polar coordinates $(r,\\theta)$ where $\\theta$ represents the angle about a *pole*, $O$ and $r$ represents the distance from the pole."
   ]
  },
  {
   "cell_type": "markdown",
   "metadata": {},
   "source": [
    "![title](img/T2W7/img1.jpg)\n",
    "<center>Cartesian $(x,y)$ and polar $(r,\\theta)$ coordinates of point $P$ in the $x-y$ plane.</center>"
   ]
  },
  {
   "cell_type": "markdown",
   "metadata": {},
   "source": [
    "### 1.1 Velocity Vector in Polar Coordinates"
   ]
  },
  {
   "cell_type": "markdown",
   "metadata": {},
   "source": [
    "In order to consider the velocity and acceleration of point $P$ in polar coordinates, we need to first think about how to represents vectors in this system (remember, velocity and acceleration are vector quantities). \n",
    "\n",
    "We start by defining two unit vectors:\n",
    "- $\\mathbf{e}_r$: unit vector along a **radial** direction from $O$ to $P$.\n",
    "- $\\mathbf{e}_{\\theta}$: unit vector perpendicular to $\\mathbf{e}_r$ in the **transverse** direction and points in the direction of increasing $\\theta$."
   ]
  },
  {
   "cell_type": "markdown",
   "metadata": {},
   "source": [
    "![title](img/T2W7/img2.jpg)\n",
    "<center>Unit vectors $\\mathbf{e}_r$ and $\\mathbf{e}_{\\theta}$</center>"
   ]
  },
  {
   "cell_type": "markdown",
   "metadata": {},
   "source": [
    "We can now define the position vector from $O$ to $P$ as,\n",
    "\n",
    "\\begin{equation}\n",
    "\\mathbf{r} = r\\mathbf{e}_r\n",
    "\\end{equation}\n",
    "\n",
    "where $r$ represents the magnitude or distance from $O$ and $\\mathbf{e}_r$ represents the direction. The velocity is therefore,\n",
    "\n",
    "\\begin{equation}\n",
    "\\mathbf{v} = \\frac{\\mathrm{d}\\mathbf{r}}{\\mathrm{d}t} = \\frac{\\mathrm{d}(r\\mathbf{e}_r)}{\\mathrm{d}t}\n",
    "\\end{equation}\n",
    "\n",
    "From equation (5) in week 4, we can restate the expression on the right hand side as,\n",
    "\n",
    "\\begin{equation}\n",
    "\\mathbf{v} = \\frac{\\mathrm{d}r}{\\mathrm{d}t}\\mathbf{e}_r + r\\frac{\\mathrm{d}\\mathbf{e}_r}{\\mathrm{d}t}\n",
    "\\end{equation}\n",
    "\n",
    "Focus for a moment on the final derivative on the right hand side of the preceding equation; this is the time derivative of a rotating unit vector. We saw last week that this is equal to the time derivative of the angle of rotation $\\theta$ multiplied by a perpendicular vector (equation (29) last week), so in this context the perpendicular vector (pointing in the transverse direction) would be $\\mathbf{e}_{\\theta}$,\n",
    "\n",
    "\\begin{equation}\n",
    "\\frac{\\mathrm{d}\\mathbf{e}_r}{\\mathrm{d}t} = \\frac{\\mathrm{d}\\theta}{\\mathrm{d}t}\\mathbf{e}_{\\theta}\n",
    "\\end{equation}\n",
    "\n",
    "Substituting this expression back into equation (3) yields,\n",
    "\n",
    "\\begin{equation}\n",
    "\\mathbf{v} = \\frac{\\mathrm{d}r}{\\mathrm{d}t}\\mathbf{e}_r + r \\frac{\\mathrm{d}\\theta}{\\mathrm{d}t}\\mathbf{e}_{\\theta}\n",
    "\\end{equation}\n",
    "\n",
    "\\begin{equation}\n",
    "\\mathbf{v} = \\frac{\\mathrm{d}r}{\\mathrm{d}t}\\mathbf{e}_r + r \\omega\\mathbf{e}_{\\theta}\n",
    "\\end{equation}\n",
    "\n",
    "Now using equation (45) from last week to replace $r\\omega$ with $v_{\\theta}$, the transverse velocity magnitude, we obtain our expression for the velocity of a point in terms of a radial vector $\\mathbf{e}_r$ and its perpendicular compliment in the transverse direction $\\mathbf{e}_\\theta$\n",
    "\n",
    "\\begin{equation}\n",
    "\\boxed{\n",
    "\\mathbf{v} = v_r\\mathbf{e}_r + v_{\\theta}\\mathbf{e}_\\theta\n",
    "}\n",
    "\\end{equation}\n",
    "\n",
    "where $v_r$ represents the velocity magnitude in the radial direction while $v_\\theta$ represents the transverse velocity in the perpendicular direction. We represent these graphically below."
   ]
  },
  {
   "cell_type": "markdown",
   "metadata": {},
   "source": [
    "![title](img/T2W7/img3.jpg)\n",
    "<center>Velocity vectors $v_r\\mathbf{e}_r$ and $v_\\theta\\mathbf{e}_{\\theta}$</center>"
   ]
  },
  {
   "cell_type": "markdown",
   "metadata": {},
   "source": [
    "### 1.2 Acceleration Vector in Polar Coordinates"
   ]
  },
  {
   "cell_type": "markdown",
   "metadata": {},
   "source": [
    "In order to obtain an expression for the acceleration vector $\\mathbf{a}$, we can differentiate one of our expressions for the velocity vector $\\mathbf{v}$; we will differentiate equation (5). To carry out the differentiation we will use the product rule which will require us to determine the derivatives of the unit vectors, $\\mathbf{e}_r$ and $\\mathbf{e}_\\theta$. Let's consider these in isolation first."
   ]
  },
  {
   "cell_type": "markdown",
   "metadata": {},
   "source": [
    "As point $P$ moves, the unit vector $\\mathbf{e}_\\theta$ also rotates with angular velocity $\\frac{\\mathrm{d}\\theta}{\\mathrm{d}t}$, therefore by the same logic used to obtain equation (4) above,\n",
    "\n",
    "\\begin{equation}\n",
    "\\frac{\\mathrm{d}\\mathbf{e}_{\\theta}}{\\mathrm{d}t} = -\\frac{\\mathrm{d}\\theta}{\\mathrm{d}t}\\mathbf{e}_r\n",
    "\\end{equation}\n",
    "\n",
    "Note the $-ve$ sign arises beacause the vector perpendicular to $\\mathbf{e}_\\theta$ now points in the opposite direction to $\\mathbf{e}_r$ (see image below). From before we have the time derivative of $\\mathbf{e}_r$, equation (4) above."
   ]
  },
  {
   "cell_type": "markdown",
   "metadata": {},
   "source": [
    "![title](img/T2W7/img4.jpg)\n",
    "<center>Time derivative of unit vectors $\\mathbf{e}_r$ and $\\mathbf{e}_{\\theta}$</center>"
   ]
  },
  {
   "cell_type": "markdown",
   "metadata": {},
   "source": [
    "Now we can work our way through differentiating equation (5) above, we'll make the process a little more manageable by breaking the differentiation into 2 parts,\n",
    "\n",
    "\\begin{equation}\n",
    "\\mathbf{a} = \\frac{\\mathrm{d}\\mathbf{v}}{\\mathrm{d}t} = \\underbrace{\\frac{\\mathrm{d}}{\\mathrm{d}t}\\left(\\frac{\\mathrm{d}r}{\\mathrm{d}t}\\mathbf{e}_r \\right)}_{\\text{Part 1}} + \\underbrace{\\frac{\\mathrm{d}}{\\mathrm{d}t}\\left(r\\frac{\\mathrm{d}\\theta}{\\mathrm{d}t}\\mathbf{e}_\\theta \\right)}_{\\text{Part 2}}\n",
    "\\end{equation}"
   ]
  },
  {
   "cell_type": "markdown",
   "metadata": {},
   "source": [
    "**Part 1**\n",
    "\n",
    "\\begin{equation}\n",
    "\\frac{\\mathrm{d}}{\\mathrm{d}t}\\left(\\frac{\\mathrm{d}r}{\\mathrm{d}t}\\mathbf{e}_r \\right) = \\frac{\\mathrm{d}r}{\\mathrm{d}t}\\frac{\\mathrm{d}\\mathbf{e}_r}{\\mathrm{d}t} + \\mathbf{e}_r\\frac{\\mathrm{d}^2r}{\\mathrm{d}t^2}\n",
    "\\end{equation}\n",
    "\n",
    "\\begin{equation}\n",
    "\\frac{\\mathrm{d}}{\\mathrm{d}t}\\left(\\frac{\\mathrm{d}r}{\\mathrm{d}t}\\mathbf{e}_r \\right) = \\frac{\\mathrm{d}r}{\\mathrm{d}t}\\frac{\\mathrm{d}\\theta}{\\mathrm{d}t}\\mathbf{e}_\\theta + \\mathbf{e}_r\\frac{\\mathrm{d}^2r}{\\mathrm{d}t^2}\n",
    "\\end{equation}"
   ]
  },
  {
   "cell_type": "markdown",
   "metadata": {},
   "source": [
    "**Part 2**\n",
    "\n",
    "\\begin{equation}\n",
    "\\frac{\\mathrm{d}}{\\mathrm{d}t}\\left(r\\frac{\\mathrm{d}\\theta}{\\mathrm{d}t}\\mathbf{e}_\\theta \\right) = \\frac{\\mathrm{d}r}{\\mathrm{d}t}\\frac{\\mathrm{d}\\theta}{\\mathrm{d}t}\\mathbf{e}_\\theta + r\\frac{\\mathrm{d}^2\\theta}{\\mathrm{d}t^2}\\mathbf{e}_\\theta + r\\frac{\\mathrm{d}\\theta}{\\mathrm{d}t}\\frac{\\mathrm{d}\\mathbf{e}_\\theta}{\\mathrm{d}t}\n",
    "\\end{equation}\n",
    "\n",
    "\\begin{equation}\n",
    "\\frac{\\mathrm{d}}{\\mathrm{d}t}\\left(r\\frac{\\mathrm{d}\\theta}{\\mathrm{d}t}\\mathbf{e}_\\theta \\right) = \\frac{\\mathrm{d}r}{\\mathrm{d}t}\\frac{\\mathrm{d}\\theta}{\\mathrm{d}t}\\mathbf{e}_\\theta + r\\frac{\\mathrm{d}^2\\theta}{\\mathrm{d}t^2}\\mathbf{e}_\\theta - r\\left(\\frac{\\mathrm{d}\\theta}{\\mathrm{d}t}\\right)^2\\mathbf{e}_r\n",
    "\\end{equation}"
   ]
  },
  {
   "cell_type": "markdown",
   "metadata": {},
   "source": [
    "Combine parts 1 and 2,\n",
    "\n",
    "\\begin{equation}\n",
    "\\mathbf{a} = \\left[\\frac{\\mathrm{d}^2r}{\\mathrm{d}t^2} - r\\left( \\frac{\\mathrm{d}\\theta}{\\mathrm{d}t}\\right)^2\\right]\\mathbf{e}_r + \\left[r\\frac{\\mathrm{d}^2\\theta}{\\mathrm{d}t^2} +2 \\frac{\\mathrm{d}r}{\\mathrm{d}t}\\frac{\\mathrm{d}\\theta}{\\mathrm{d}t} \\right]\\mathbf{e}_\\theta\n",
    "\\end{equation}\n",
    "\n",
    "\\begin{equation}\n",
    "\\mathbf{a} = \\left[\\frac{\\mathrm{d}^2r}{\\mathrm{d}t^2} - r\\omega^2\\right]\\mathbf{e}_r + \\left[r\\alpha +2 \\frac{\\mathrm{d}r}{\\mathrm{d}t}\\omega \\right]\\mathbf{e}_\\theta\n",
    "\\end{equation}\n",
    "\n",
    "Replacing the terms on square brackets with $a_r$ and $a_{\\theta}$ we have,\n",
    "\n",
    "\\begin{equation}\n",
    "\\boxed{\n",
    "\\mathbf{a} = a_r\\mathbf{e}_r + a_{\\theta}\\mathbf{e}_\\theta\n",
    "}\n",
    "\\end{equation}\n",
    "\n",
    "where,\n",
    "\n",
    "\\begin{align}\n",
    "a_r &= \\frac{\\mathrm{d}^2r}{\\mathrm{d}t^2} - r\\omega^2\\\\\n",
    "a_\\theta &= r\\alpha +2 \\frac{\\mathrm{d}r}{\\mathrm{d}t}\\omega\n",
    "\\end{align}"
   ]
  },
  {
   "cell_type": "markdown",
   "metadata": {},
   "source": [
    "![title](img/T2W7/img5.jpg)\n",
    "<center>Acceleration vectors $a_r\\mathbf{e}_r$ and $a_\\theta\\mathbf{e}_{\\theta}$</center>"
   ]
  },
  {
   "cell_type": "markdown",
   "metadata": {},
   "source": [
    "### 1.3 Circular Motion"
   ]
  },
  {
   "cell_type": "markdown",
   "metadata": {},
   "source": [
    "Last week we saw that we could represent the circular motion of a point using **normal and tangential components**. We can also represent this motion using radial and transverse components introduced this week. Now we'll compare these two representations."
   ]
  },
  {
   "cell_type": "markdown",
   "metadata": {},
   "source": [
    "![title](img/T2W7/img6.jpg)\n",
    "<center>Circular motion represented using (a) radial and transverse components $[\\mathbf{e}_r, \\mathbf{e}_\\theta]$ and (b) normal and tangential components $[\\mathbf{e}_n, \\mathbf{e}_t]$.</center>"
   ]
  },
  {
   "cell_type": "markdown",
   "metadata": {},
   "source": [
    "**Velocity**"
   ]
  },
  {
   "cell_type": "markdown",
   "metadata": {},
   "source": [
    "Since we're dealing with circular motion, $r=R=\\text{constant}$, therefore $\\frac{\\mathrm{d}r}{\\mathrm{d}t} = 0$. Therefore from equation (6), in terms of polar coordinates the velocity is,\n",
    "\n",
    "\\begin{equation}\n",
    "\\mathbf{v} = r\\omega\\mathbf{e}_\\theta = R\\omega\\mathbf{e}_\\theta \n",
    "\\end{equation}"
   ]
  },
  {
   "cell_type": "markdown",
   "metadata": {},
   "source": [
    "In terms of normal and tangential components, from equation (34) last week, we have,\n",
    "\n",
    "\\begin{equation}\n",
    "\\mathbf{v} = \\frac{\\mathrm{d}s}{\\mathrm{d}t}\\mathbf{e}_t = v\\:\\mathbf{e}_t\n",
    "\\end{equation}\n",
    "\n",
    "Comparing equations (19) and (20),\n",
    "\n",
    "\\begin{equation}\n",
    "v\\:\\mathbf{e}_t = R\\omega\\mathbf{e}_\\theta\n",
    "\\end{equation}\n",
    "\n",
    "Since $\\mathbf{e}_\\theta=\\mathbf{e}_t$, we have,\n",
    "\n",
    "\\begin{equation}\n",
    "v=R\\omega\n",
    "\\end{equation}\n",
    "\n",
    "Which is consistent with equation (45) from our discussion of circular motion last week. "
   ]
  },
  {
   "cell_type": "markdown",
   "metadata": {},
   "source": [
    "**Acceleration**"
   ]
  },
  {
   "cell_type": "markdown",
   "metadata": {},
   "source": [
    "Again noting that for circular motion, $\\frac{\\mathrm{d}r}{\\mathrm{d}t} = 0$, equation (15) above for the acceleration vector becomes,\n",
    "\n",
    "\\begin{equation}\n",
    "\\mathbf{a} = -R\\omega^2\\mathbf{e}_r + R\\alpha\\mathbf{e}_\\theta\n",
    "\\end{equation}\n",
    "\n",
    "By combining equations (38) and (43) from last week, we have the corresponding expression for acceleration in terms of normal and tangential components,\n",
    "\n",
    "\\begin{equation}\n",
    "\\mathbf{a} = \\frac{\\mathrm{d}v}{\\mathrm{d}t}\\mathbf{e}_t + \\frac{v^2}{R}\\mathbf{e}_n\n",
    "\\end{equation}\n",
    "\n",
    "Consider first the radial and normal components; note that $\\mathbf{e}_r = -\\mathbf{e}_n$ (from the diagram above). This is confirmed when we note that $v=R\\omega$, therefore $\\frac{v^2}{R} = R\\omega^2$.\n",
    "\n",
    "Now comparing the transverse and tangential components,\n",
    "\n",
    "\\begin{equation}\n",
    "\\frac{\\mathrm{d}v}{\\mathrm{d}t} = R\\alpha\n",
    "\\end{equation}\n",
    "\n",
    "Which is consistent with equation (46) from last week. Based on the preceding discussion we can see the relationship between a polar (radial/transverse) and normal/tangent representation of motion."
   ]
  },
  {
   "cell_type": "markdown",
   "metadata": {},
   "source": [
    "### Example"
   ]
  },
  {
   "cell_type": "markdown",
   "metadata": {},
   "source": [
    "Consider a person walking along the radial line of a disk with constant velocity magnitude $v_0$. Now consider the fact that the disk is rotating with an angular velocity $\\omega_0$. Determine the walker's velocity and acceleration as a function of radius $r$ and disk angular velocity $\\omega_0$."
   ]
  },
  {
   "cell_type": "markdown",
   "metadata": {},
   "source": [
    "![title](img/T2W7/img7.jpg)\n",
    "<center>Walking with linear velocity $v_0$ on a disk rotating with angular velocity $\\omega_0$.</center>"
   ]
  },
  {
   "cell_type": "markdown",
   "metadata": {},
   "source": [
    "**Solution**\n",
    "\n",
    "What this question is really asking us to do is determine the velocity and acceleration in polar coordinates; remember the velocity and acceleration vectors in polar coordinates are functions of $r$ and $\\omega$,\n",
    "\n",
    "\\begin{equation*}\n",
    "\\mathbf{v} = \\frac{\\mathrm{d}r}{\\mathrm{d}t}\\mathbf{e}_r + r \\omega\\mathbf{e}_{\\theta}\n",
    "\\end{equation*}\n",
    "\n",
    "\\begin{equation*}\n",
    "\\mathbf{a} = \\left[\\frac{\\mathrm{d}^2r}{\\mathrm{d}t^2} - r\\omega^2\\right]\\mathbf{e}_r + \\left[r\\alpha +2 \\frac{\\mathrm{d}r}{\\mathrm{d}t}\\omega \\right]\\mathbf{e}_\\theta\n",
    "\\end{equation*}"
   ]
  },
  {
   "cell_type": "markdown",
   "metadata": {},
   "source": [
    "![title](img/T2W7/img8.jpg)\n",
    "<center>Polar coordinates of motion.</center>"
   ]
  },
  {
   "cell_type": "markdown",
   "metadata": {},
   "source": [
    "**Velocity**\n",
    "\n",
    "The walker's speed along the radial line is,\n",
    "\n",
    "\\begin{equation*}\n",
    "v_0 = \\frac{\\mathrm{d}r}{\\mathrm{d}t}  \n",
    "\\end{equation*}\n",
    "\n",
    "Since by definition,\n",
    "\n",
    "\\begin{equation*}\n",
    "\\omega_0 = \\frac{\\mathrm{d}\\theta}{\\mathrm{d}t}  \n",
    "\\end{equation*}\n",
    "\n",
    "we can express the walker's velocity vector as,\n",
    "\n",
    "\\begin{equation*}\n",
    "\\boxed{\n",
    "\\mathbf{v} = v_0\\mathbf{e}_r + r\\omega_0\\mathbf{e}_\\theta\n",
    "}\n",
    "\\end{equation*}\n",
    "\n",
    "Again we note the two orthogonal components of the velocity vector; although we're walking with linear speed $v_0$, the rotating platform, due to its angular velocity $\\omega_0$, introduces a transverse component to the full velocity vector. Notice also how the transverse component of the velocity increases the further we move out along the radius."
   ]
  },
  {
   "cell_type": "markdown",
   "metadata": {},
   "source": [
    "**Acceleration**\n",
    "\n",
    "Because the linear and angular velocities are constant we can say,\n",
    "\n",
    "\\begin{equation*}\n",
    "\\frac{\\mathrm{d}^2r}{\\mathrm{d}t^2} = 0\n",
    "\\end{equation*}\n",
    "\n",
    "\\begin{equation*}\n",
    "\\alpha = \\frac{\\mathrm{d}\\omega}{\\mathrm{d}t} = 0\n",
    "\\end{equation*}\n",
    "\n",
    "The walker's acceleration vector in polar coordinates is therefore,\n",
    "\n",
    "\\begin{equation*}\n",
    "\\boxed{\n",
    "\\mathbf{a} = -r\\omega^2\\mathbf{e}_r + 2v_0\\omega_0\\mathbf{e}_\\theta\n",
    "}\n",
    "\\end{equation*}"
   ]
  },
  {
   "cell_type": "code",
   "execution_count": null,
   "metadata": {},
   "outputs": [],
   "source": []
  },
  {
   "cell_type": "code",
   "execution_count": null,
   "metadata": {},
   "outputs": [],
   "source": []
  },
  {
   "cell_type": "markdown",
   "metadata": {},
   "source": [
    "## 2.0 Force, Mass and Acceleration"
   ]
  },
  {
   "cell_type": "markdown",
   "metadata": {},
   "source": [
    "One of the most fundamental equations in classical mechanics is,\n",
    "\n",
    "\\begin{equation}\n",
    "f=m\\times a\n",
    "\\end{equation}\n",
    "\n",
    "where, $f$ is the force required to generate an acceleration $a$ on a particle with mass $m$. This is an expression of Newton's second law, which states that, the rate of change of a particle's velocity (i.e. acceleration) is proportional to the force causing it. \n",
    "\n",
    "Another way to word this would be to say that the total force experienced by a particle is equal to the rate of change of its linear momentum,\n",
    "\n",
    "\\begin{equation}\n",
    "f = \\frac{\\mathrm{d}}{\\mathrm{d}t}(mv)\n",
    "\\end{equation}\n",
    "\n",
    "where $v$ is the particle's velocity. If the mass is constant we have, \n",
    "\n",
    "\\begin{equation}\n",
    "f=m\\frac{\\mathrm{d}v}{\\mathrm{d}t} = ma\n",
    "\\end{equation}\n",
    "\n",
    "As we've seen over the last two weeks, motion can be resolved into different components based on the coordinate system selected. For example we can consider the forces acting on a particle in each coordinate direction in a cartesian coordinate system,\n",
    "\n",
    "\\begin{equation}\n",
    "\\sum \\mathbf{F} = m\\mathbf{a}\n",
    "\\end{equation}\n",
    "\n",
    "\\begin{equation}\n",
    "\\sum F_x i + \\sum F_y j + \\sum F_z k = m\\left(a_x i + a_y  j +  a_z k\\right)\n",
    "\\end{equation}\n"
   ]
  },
  {
   "cell_type": "markdown",
   "metadata": {},
   "source": [
    "![title](img/T2W7/img9.jpg)\n",
    "<center>Force and resulting acceleration resolved into three orthogonal components.</center>"
   ]
  },
  {
   "cell_type": "markdown",
   "metadata": {},
   "source": [
    "### Example"
   ]
  },
  {
   "cell_type": "markdown",
   "metadata": {},
   "source": [
    "A $6500 \\:kg$ aircraft lands on the deck of an aircraft carrier with a horizontal velocity magnitude of $v_x=50\\:m/s$. The arresting cable exerts a horizontal force $T_x = 10000v \\:N$. \n",
    "\n",
    "- (a) What is the maximum horizontal force that the arresting gear exerts on the plane?\n",
    "- (b) Ignoring any **other** horizontal forces (drag, breaking etc), what distance does the plane travel before coming to rest?"
   ]
  },
  {
   "cell_type": "markdown",
   "metadata": {},
   "source": [
    "![title](img/T2W7/img10.jpg)\n",
    "<center>Aircraft landing on an aircraft carrier with cable arresting device to bring the plane to a stop.</center>"
   ]
  },
  {
   "cell_type": "markdown",
   "metadata": {},
   "source": [
    "**Solution**\n",
    "\n",
    "As with any force analysis, its a good idea to start with a free-body diagram that clearly states all of the forces at play. In the diagram below, $N$ represents the reaction force transmitted through the landing gear wheels. "
   ]
  },
  {
   "cell_type": "markdown",
   "metadata": {},
   "source": [
    "![title](img/T2W7/img11.jpg)\n",
    "<center>Free-body diagram.</center>"
   ]
  },
  {
   "cell_type": "markdown",
   "metadata": {},
   "source": [
    "(a) The plane begins to decelerate when it contacts the arresting gear, therefore the maximum force occurs when $v_x=50\\:m/s$. As there are no other forces acting in the $x$-direction, we have,\n",
    "\n",
    "\\begin{equation*}\n",
    "\\sum F_x = -T_x = -10000v\n",
    "\\end{equation*}\n",
    "\n",
    "\\begin{equation*}\n",
    "T_x = 10000\\times 50 = 500000\\:N\n",
    "\\end{equation*}\n",
    "\n"
   ]
  },
  {
   "cell_type": "markdown",
   "metadata": {},
   "source": [
    "(b) In order to determine the distance traveled while the plane experienced the arresting force, we construct the equation of motion,\n",
    "\n",
    "\\begin{equation*}\n",
    "\\sum F_x = -T_x = ma_x\n",
    "\\end{equation*}\n",
    "\n",
    "\\begin{equation*}\n",
    "-10000v_x = ma_x\n",
    "\\end{equation*}\n",
    "\n",
    "In this case the plane's acceleration is a function of its velocity. So we employ our familiar solution strategies, \n",
    "\n",
    "\\begin{equation*}\n",
    "ma_x = m\\frac{\\mathrm{d}v_x}{\\mathrm{d}t} = m\\frac{\\mathrm{d}v_x}{\\mathrm{d}x}\\frac{\\mathrm{d}x}{\\mathrm{d}t}\n",
    "\\end{equation*}\n",
    "\n",
    "\\begin{equation*}\n",
    "-10000v_x = m\\frac{\\mathrm{d}v_x}{\\mathrm{d}x}v_x\n",
    "\\end{equation*}"
   ]
  },
  {
   "cell_type": "markdown",
   "metadata": {},
   "source": [
    "Integrating between appropriate limits on each side,\n",
    "\n",
    "\\begin{equation*}\n",
    "\\int_0^x -10000\\:\\mathrm{d}x = \\int_{50}^0 m\\:\\mathrm{d}v_x\n",
    "\\end{equation*}\n",
    "\n",
    "\\begin{equation*}\n",
    "10000x = 50\\:m\n",
    "\\end{equation*}\n",
    "\n",
    "Solving for $x$,\n",
    "\n",
    "\\begin{equation*}\n",
    "x = \\frac{50\\times6500}{10000} = 32.5\\:m\n",
    "\\end{equation*}"
   ]
  },
  {
   "cell_type": "markdown",
   "metadata": {},
   "source": [
    "### 2.1 Other coordinate systems"
   ]
  },
  {
   "cell_type": "markdown",
   "metadata": {},
   "source": [
    "As mentioned above, we can resolve forces and consider equations of motion $(F=ma)$ in all three directions of a 3D cartesian coordinate system. We can also resolve forces in the normal/tangential directions or radial/transverse (polar coordinate system) direction for an object moving on a curved path. "
   ]
  },
  {
   "cell_type": "markdown",
   "metadata": {},
   "source": [
    "**Normal/Tangential**\n",
    "\n",
    "\\begin{equation}\n",
    "\\sum F_t\\mathbf{e}_t + \\sum F_n\\mathbf{e}_n = m\\left(a_t\\mathbf{e}_t + a_n\\mathbf{e}_n\\right)\n",
    "\\end{equation}\n",
    "\n",
    "We know from last week,\n",
    "\n",
    "\\begin{equation}\n",
    "a_t = \\frac{\\mathrm{d}v}{\\mathrm{d}t}\n",
    "\\end{equation}\n",
    "\n",
    "\\begin{equation}\n",
    "a_n = \\frac{v^2}{\\rho}\n",
    "\\end{equation}\n",
    "\n",
    "Therefore resolving into normal and tangential components,\n",
    "\n",
    "\\begin{equation}\n",
    "\\boxed{\n",
    "\\sum F_t = ma_t = m\\frac{\\mathrm{d}v}{\\mathrm{d}t}\n",
    "}\n",
    "\\end{equation}\n",
    "\n",
    "\\begin{equation}\n",
    "\\boxed{\n",
    "\\sum F_n = ma_n = m\\frac{v^2}{\\rho}\n",
    "}\n",
    "\\end{equation}"
   ]
  },
  {
   "cell_type": "markdown",
   "metadata": {},
   "source": [
    "![title](img/T2W7/img12.jpg)\n",
    "<center>Force and resulting acceleration resolved into normal and tangential components.</center>"
   ]
  },
  {
   "cell_type": "markdown",
   "metadata": {},
   "source": [
    "**Radial/Transverse (Polar coordinates)**\n",
    "\n",
    "\\begin{equation}\n",
    "\\sum F_r\\mathbf{e}_r + \\sum F_\\theta\\mathbf{e}_\\theta = m\\left(a_r\\mathbf{e}_r + a_\\theta\\mathbf{e}_\\theta\\right)\n",
    "\\end{equation}\n",
    "\n",
    "From our discussion this week we know,\n",
    "\n",
    "\\begin{align*}\n",
    "a_r &= \\frac{\\mathrm{d}^2r}{\\mathrm{d}t^2} - r\\omega^2\\\\\n",
    "a_\\theta &= r\\alpha +2 \\frac{\\mathrm{d}r}{\\mathrm{d}t}\\omega\n",
    "\\end{align*}\n",
    "\n",
    "Therefore resolving into radial and transverse components,\n",
    "\n",
    "\\begin{equation}\n",
    "\\boxed{\n",
    "\\sum F_r = ma_r = m\\left(\\frac{\\mathrm{d}^2r}{\\mathrm{d}t^2} - r\\omega^2 \\right)\n",
    "}\n",
    "\\end{equation}\n",
    "\n",
    "\\begin{equation}\n",
    "\\boxed{\n",
    "\\sum F_\\theta = ma_\\theta = m\\left(r\\alpha +2 \\frac{\\mathrm{d}r}{\\mathrm{d}t}\\omega \\right)\n",
    "}\n",
    "\\end{equation}"
   ]
  },
  {
   "cell_type": "markdown",
   "metadata": {},
   "source": [
    "**You should now download the question sheet for this week and attempt all questions. You will have an opportunity to to get help in your tutorial session and worked solutions will be released next week.**  "
   ]
  }
 ],
 "metadata": {
  "hide_input": true,
  "kernelspec": {
   "display_name": "Python 3",
   "language": "python",
   "name": "python3"
  },
  "language_info": {
   "codemirror_mode": {
    "name": "ipython",
    "version": 3
   },
   "file_extension": ".py",
   "mimetype": "text/x-python",
   "name": "python",
   "nbconvert_exporter": "python",
   "pygments_lexer": "ipython3",
   "version": "3.6.4"
  },
  "toc": {
   "base_numbering": 1,
   "nav_menu": {},
   "number_sections": true,
   "sideBar": true,
   "skip_h1_title": false,
   "title_cell": "Table of Contents",
   "title_sidebar": "Contents",
   "toc_cell": false,
   "toc_position": {
    "height": "calc(100% - 180px)",
    "left": "10px",
    "top": "150px",
    "width": "165px"
   },
   "toc_section_display": true,
   "toc_window_display": false
  }
 },
 "nbformat": 4,
 "nbformat_minor": 2
}
