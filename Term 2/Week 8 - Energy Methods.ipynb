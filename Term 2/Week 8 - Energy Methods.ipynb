{
 "cells": [
  {
   "cell_type": "code",
   "execution_count": 1,
   "metadata": {
    "deletable": false,
    "editable": false,
    "hide_input": true
   },
   "outputs": [
    {
     "name": "stdout",
     "output_type": "stream",
     "text": [
      "- Dependencies imported 👍\n",
      "- Remember to select 'Kernel-> Restart & Run All' on first load to show embedded Youtube videos 🎬\n",
      "- Author: Dr H Alwi & Dr SPCarroll, Sept 2020, Rev 1\n"
     ]
    }
   ],
   "source": [
    "#DEPENDENCIES & INITIALISATIONS\n",
    "from IPython.display import HTML #For embedding videos\n",
    "import math #Basic math functionality\n",
    "import numpy as np #Numpy for working with arrays\n",
    "import matplotlib.pyplot as plt #Plotting functionality \n",
    "#HTML('<center><iframe width=\"560\" height=\"315\" src=\"#\" frameborder=\"0\" allowfullscreen></iframe></center>')\n",
    "print(\"- Dependencies imported 👍\")\n",
    "print(\"- Remember to select 'Kernel-> Restart & Run All' on first load to show embedded Youtube videos 🎬\")\n",
    "print(\"- Author: Dr H Alwi & Dr SPCarroll, Sept 2020, Rev 1\")"
   ]
  },
  {
   "cell_type": "markdown",
   "metadata": {
    "hide_input": false
   },
   "source": [
    "![title](img/T2W8/banner.jpg)"
   ]
  },
  {
   "cell_type": "markdown",
   "metadata": {
    "hide_input": true
   },
   "source": [
    "# Week 8: Energy-based Analysis Methods"
   ]
  },
  {
   "cell_type": "markdown",
   "metadata": {},
   "source": [
    "This week we will discuss the concept of energy and conservation of energy. These are fundamental concepts in classical mechanics and provide us with a different perspective through which we can consider and analyse dynamic behaviour. "
   ]
  },
  {
   "cell_type": "markdown",
   "metadata": {
    "hide_input": true
   },
   "source": [
    "## 1.0 The Principle of Work and Energy"
   ]
  },
  {
   "cell_type": "markdown",
   "metadata": {},
   "source": [
    "We will now consider the Principle of Work and Energy and derive an equation that relates the work done on a mass to the change in its kinetic energy. Consider a body with mass $m$ that experiences a total force $\\sum\\mathbf{F}$; we can state the vector form of Newton's second law for the mass,\n",
    "\n",
    "\\begin{equation}\n",
    "\\sum \\mathbf{F} = m\\frac{\\mathrm{d}\\mathbf{v}}{\\mathrm{d}t}\n",
    "\\end{equation}\n",
    "\n",
    "Now take the dot product of both sides with the velocity vector $\\mathbf{v}$,\n",
    "\n",
    "\\begin{equation}\n",
    "\\sum \\mathbf{F}\\cdot\\mathbf{v} = m\\frac{\\mathrm{d}\\mathbf{v}}{\\mathrm{d}t}\\cdot \\mathbf{v}\n",
    "\\end{equation}\n",
    "\n",
    "Using the vector calculus identity,\n",
    "\n",
    "\\begin{equation}\n",
    "\\frac{\\mathrm{d}\\mathbf{v}}{\\mathrm{d}t}\\cdot \\mathbf{v} = \\frac{1}{2}\\frac{\\mathrm{d}}{\\mathrm{d}t}(\\mathbf{v}\\cdot\\mathbf{v})\n",
    "\\end{equation}\n",
    "\n",
    "and writing the left side of equation (2) in terms of $\\mathbf{r}$ we have,\n",
    "\n",
    "\\begin{equation}\n",
    "\\sum\\mathbf{F}\\cdot \\frac{\\mathrm{d}\\mathbf{r}}{\\mathrm{d}t} = \\frac{m}{2} \\frac{\\mathrm{d}}{\\mathrm{d}t}(\\mathbf{v}\\cdot\\mathbf{v})\n",
    "\\end{equation}\n",
    "\n",
    "Dividing by $\\mathrm{d}t$ and noting that $\\mathbf{v}\\cdot\\mathbf{v} = v^2$ (where $v$ is the scalar magnitude of the vector $\\mathbf{v}$) we obtain,\n",
    "\n",
    "\\begin{equation}\n",
    "\\sum\\mathbf{F}\\cdot \\mathrm{d}\\mathbf{r} = \\frac{m}{2}\\mathrm{d}(v^2)\n",
    "\\end{equation}\n",
    "\n",
    "The term on the left of equation (5), $\\sum\\mathbf{F}\\cdot \\mathrm{d}\\mathbf{r}$ is the infinitesimal work done by the total force vector $\\sum\\mathbf{F}$ as it moves through the infinitesimal distance described by the $\\mathrm{d}\\mathbf{r}$. To obtain the total work done as the mass moves from position $\\mathbf{r}_1$ to $\\mathbf{r}_2$, we integrate both sides,\n",
    "\n",
    "\\begin{equation}\n",
    "\\int_{\\mathbf{r}_1}^{\\mathbf{r}_2}\\sum\\mathbf{F}\\cdot \\mathrm{d}\\mathbf{r} = \\frac{1}{2}mv_2^2 - \\frac{1}{2}mv_1^2\n",
    "\\end{equation}\n",
    "\n",
    "where $v_1$ and $v_2$ are the magnitudes of the velocities of the mass when it is at positions $\\mathbf{r}_1$ and $\\mathbf{r}_2$ respectively. Note the the term $\\frac{1}{2}mv^2$ is the kinetic energy of a mass $m$ with velocity magnitude $v$.\n",
    "\n",
    "Finally, letting $U_{12}$ denote the total work done,\n",
    "\n",
    "\\begin{equation}\n",
    "U_{12} =  \\int_{\\mathbf{r}_1}^{\\mathbf{r}_2}\\sum\\mathbf{F}\\cdot \\mathrm{d}\\mathbf{r} \n",
    "\\end{equation}\n",
    "\n",
    "we obtain the expression for the principle of work and energy,\n",
    "\n",
    "\\begin{equation}\n",
    "\\boxed{\n",
    "U_{12} = \\frac{1}{2}mv_2^2 - \\frac{1}{2}mv_1^2\n",
    "}\n",
    "\\end{equation}\n",
    "\n",
    "i.e. **the work done on a mass as it moves between two positions equals the change in its kinetic energy**. One of the reasons this is useful is that if the work done on an object as it moves between two positions can be evaluated, the change in the magnitude of the object's velocity can be determined.\n",
    "\n",
    "Note that we cannot use this principle to obtain other information about the motion of the object such as the time it takes to move between the 2 positions. Also, we can evaluate work only if the forces are known as functions of position since the work is an integral with respect to position. Despite these limitations the principle is extremely useful, particularly when the work can be easily determined. "
   ]
  },
  {
   "cell_type": "markdown",
   "metadata": {},
   "source": [
    "### 1.1 Evaluating Work"
   ]
  },
  {
   "cell_type": "markdown",
   "metadata": {},
   "source": [
    "Now we consider the work done as an object moves between two points along a curved path (curvilinear motion). We define its position $s$ from the origin $O$. "
   ]
  },
  {
   "cell_type": "markdown",
   "metadata": {},
   "source": [
    "![title](img/T2W8/img1.jpg)\n",
    "<center>Point moving along a curved path.</center>"
   ]
  },
  {
   "cell_type": "markdown",
   "metadata": {},
   "source": [
    "The object's velocity is given by,\n",
    "\n",
    "\\begin{equation}\n",
    "\\mathbf{v} = \\frac{\\mathrm{d}s}{\\mathrm{d}t} \\mathbf{e}_t\n",
    "\\end{equation}"
   ]
  },
  {
   "cell_type": "markdown",
   "metadata": {},
   "source": [
    "Since $\\mathbf{v} = \\mathrm{d}\\mathbf{r}/\\mathrm{d}t$,\n",
    "\n",
    "\\begin{equation}\n",
    "\\mathrm{d}\\mathbf{r} = \\mathbf{v}\\:\\mathrm{d}t = \\mathrm{d}s\\:\\mathbf{e}_t\n",
    "\\end{equation}\n",
    "\n",
    "As we've seen above, the work done is,\n",
    "\n",
    "\\begin{equation}\n",
    "\\sum \\mathbf{F}\\cdot\\mathrm{d}\\mathbf{r} = \\left(\\sum \\mathbf{F}\\cdot \\mathbf{e}_t \\right)\\mathrm{d}s\n",
    "\\end{equation}"
   ]
  },
  {
   "cell_type": "markdown",
   "metadata": {},
   "source": [
    "![title](img/T2W8/img2.jpg)\n",
    "<center>Point moving a distance $\\mathrm{d}s$ along a curved path with $\\mathrm{d}\\mathbf{r}$ representing the vector change in position.</center>"
   ]
  },
  {
   "cell_type": "markdown",
   "metadata": {},
   "source": [
    "If we define $\\sum F_t$ as the tangential component of the total force vector (note the lack of bold font meanting $F_t$ is a scalar), our expression for work done becomes,\n",
    "\n",
    "\\begin{equation}\n",
    "\\sum \\mathbf{F}\\cdot\\mathrm{d}\\mathbf{r} = \\sum F_t\\:\\mathrm{d}s\n",
    "\\end{equation}\n",
    "\n",
    "Therefore the total work done as the object moves from position $s_1$ to $s_2$ is ,\n",
    "\n",
    "\\begin{equation}\n",
    "\\boxed{\n",
    "U_{12} = \\int_{s_1}^{s_2} \\sum F_t\\:\\mathrm{d}s\n",
    "}\n",
    "\\end{equation}\n",
    "\n",
    "We observe from this that the total work done between $s_1$ and $s_2$ is governed by the **tangential component of the external force**. Components of force perpendicular to the path do no work."
   ]
  },
  {
   "cell_type": "markdown",
   "metadata": {},
   "source": [
    "![title](img/T2W8/img3.jpg)\n",
    "<center>Work done between $s_1$ and $s_2$ determined by the tangential component of the external force.</center>"
   ]
  },
  {
   "cell_type": "markdown",
   "metadata": {},
   "source": [
    "We also note that the work done can be obtained from a plot of $\\sum F_t$ against $s$. If $\\sum F_t$ is opposite the direction of motion, the work done is negative and finally, if $\\sum F_t$ is constant, the work done is the product of the total tangential force and the displacement,\n",
    "\n",
    "\\begin{equation}\n",
    "U_{12} = \\sum F_t(s_2-s_1)\n",
    "\\end{equation}"
   ]
  },
  {
   "cell_type": "markdown",
   "metadata": {},
   "source": [
    "![title](img/T2W8/img4.jpg)\n",
    "<center>(a) positive and (b) negative work done by variable magnitude tangential force, (c) work done by a constant magnitude tangential force.</center>"
   ]
  },
  {
   "cell_type": "markdown",
   "metadata": {},
   "source": [
    "### 1.2 Power"
   ]
  },
  {
   "cell_type": "markdown",
   "metadata": {},
   "source": [
    "We now consider **Power** $P$ which is the rate at which work is done or the work per unit time. Power can either be transferred to $(+\\:ve)$ or from $(-\\:ve)$ an object.\n",
    "\n",
    "\\begin{equation*}\n",
    "P = \\sum \\mathbf{F}\\cdot\\frac{\\mathrm{d}\\mathbf{r}}{\\mathrm{d}t}\n",
    "\\end{equation*}\n",
    "\n",
    "\\begin{equation*}\n",
    "\\boxed{\n",
    "P = \\sum \\mathbf{F}\\cdot\\mathbf{v}\n",
    "}\n",
    "\\end{equation*}\n",
    "\n",
    "Power therefore has units of $Nm/s$ or Joules per sec $J/s$ or watt $W$ where, $1\\:W = 1\\:J/s = 1\\:Nm/s$."
   ]
  },
  {
   "cell_type": "markdown",
   "metadata": {},
   "source": [
    "Recall equation (5) from above (repeated below),\n",
    "\n",
    "\\begin{equation*}\n",
    "\\sum\\mathbf{F}\\cdot \\mathrm{d}\\mathbf{r} = \\frac{m}{2}\\mathrm{d}(v^2)\n",
    "\\end{equation*}\n",
    "\n",
    "Dividing through by $\\mathrm{d}t$ yields,\n",
    "\n",
    "\\begin{equation}\n",
    "P = \\frac{\\mathrm{d}}{\\mathrm{d}t}\\left(  \\frac{mv^2}{2} \\right)\n",
    "\\end{equation}"
   ]
  },
  {
   "cell_type": "markdown",
   "metadata": {},
   "source": [
    "Therefore power is associated with a change in kinetic energy. More specifically, transferring power to an object causes its kinetic energy to increase while drawing power away reduces the kinetic energy. We can determine the average power transferred to or from an object during a time interval as,\n",
    "\n",
    "\\begin{align}\n",
    "P_{\\text{avg}} &= \\frac{1}{t_2-t_1}\\int_{t_1}^{t^2}P\\:\\mathrm{d}t\\\\\n",
    "&= \\frac{1}{t_2-t_1}\\int_{v_1^2}^{v_2^2}\\frac{m}{2}\\mathrm{d}(v^2)\\\\\n",
    "&= \\frac{\\frac{m}{2}v_2^2 - \\frac{m}{2}v_1^2}{t_2-t_1}\n",
    "\\end{align}\n",
    "\n",
    "\\begin{equation}\n",
    "\\boxed{\n",
    "P_{\\text{avg}} = \\frac{U_{12}}{t_2-t_1}\n",
    "}\n",
    "\\end{equation}"
   ]
  },
  {
   "cell_type": "markdown",
   "metadata": {},
   "source": [
    "i.e. the average power transferred during a time interval is the change in kinetic energy or work done divided by the time interval."
   ]
  },
  {
   "cell_type": "markdown",
   "metadata": {},
   "source": [
    "### Example 1"
   ]
  },
  {
   "cell_type": "markdown",
   "metadata": {},
   "source": [
    "Consider the $180 \\:kg$ mass attached to a hydraulic ram, pictured below. The mass starts from rest at position $s=0$. The hydraulic ram exerts a force described by the function,\n",
    "\n",
    "\\begin{equation*}\n",
    "F=700-150\\:s\n",
    "\\end{equation*}\n",
    "\n",
    "If the coefficient of friction between the mass and the ground is $\\mu = 0.26$, determine the velocity of the mass when its position is $s=1\\:m$. "
   ]
  },
  {
   "cell_type": "markdown",
   "metadata": {},
   "source": [
    "![title](img/T2W8/img5.jpg)\n",
    "<center>Hydraulic piston applying force to a mass.</center>"
   ]
  },
  {
   "cell_type": "markdown",
   "metadata": {},
   "source": [
    "**Solution**"
   ]
  },
  {
   "cell_type": "markdown",
   "metadata": {},
   "source": [
    "To solve this problem we will use the principle of work and energy, i.e. the total work done is equal to the change in kinetic energy,\n",
    "\n",
    "\\begin{equation*}\n",
    "U_{12} = \\int_{s_1}^{s_2} \\sum F_t\\:\\mathrm{d}s = \\frac{m}{2}v_2^2 - \\frac{m}{2}v_1^2\n",
    "\\end{equation*}\n",
    "\n",
    "We know that only forces applied in the direction of motion do work, so we can establish a free-body diagram to identify the relevant forces."
   ]
  },
  {
   "cell_type": "markdown",
   "metadata": {},
   "source": [
    "![title](img/T2W8/img6.jpg)\n",
    "<center>Free-body diagram.</center>"
   ]
  },
  {
   "cell_type": "markdown",
   "metadata": {},
   "source": [
    "Therefore the total force in the direction of motion $F_t$ is,\n",
    "\n",
    "\\begin{align*}\n",
    "F_t = F-\\mu N &= (700-150\\:s) - (\\mu\\times 180\\times 9.81 )\\\\\n",
    "&=240.9-150\\:s\n",
    "\\end{align*}\n",
    "\n",
    "Integrating between $s_1=0$ and $s_2=1$ to obtain the total work done,\n",
    "\n",
    "\\begin{align*}\n",
    "U_{12} &= \\int_{0}^{1} F_t\\:\\mathrm{d}s = \\int_{0}^{1} (240.9-150\\:s)\\:\\mathrm{d}s\\\\\n",
    "U_{12} &= 166\\:Nm\n",
    "\\end{align*}\n",
    "\n",
    "Now we can equate this to the change in kinetic energy with $v_1 = 0$ and solve for $v_2$,\n",
    "\n",
    "\\begin{equation*}\n",
    "166 = \\frac{180}{2}v_2^2\n",
    "\\end{equation*}\n",
    "\n",
    "\\begin{equation*}\n",
    "\\therefore v_2 = 1.36\\:m/s\n",
    "\\end{equation*}"
   ]
  },
  {
   "cell_type": "markdown",
   "metadata": {},
   "source": [
    "### 1.3 Path independence"
   ]
  },
  {
   "cell_type": "markdown",
   "metadata": {},
   "source": [
    "For some forces, the work done can be determined without knowing the path. One example of such a force is weight due to gravity. Since we are only concerned with motion in the direction of the force, the change in height is the only relevant component of position. "
   ]
  },
  {
   "cell_type": "markdown",
   "metadata": {},
   "source": [
    "![title](img/T2W8/img7.jpg)\n",
    "<center>Work done due to self-weight force.</center>"
   ]
  },
  {
   "cell_type": "markdown",
   "metadata": {},
   "source": [
    "Consider the product $\\mathbf{F}\\:\\mathrm{d}\\mathbf{r}$,\n",
    "\n",
    "\\begin{align}\n",
    "\\mathbf{F}\\cdot\\mathrm{d}\\mathbf{r} &= (-mg\\:\\mathbf{j})(\\mathrm{d}x\\:\\mathbf{i} + \\mathrm{d}y\\:\\mathbf{j} + \\mathrm{d}z\\:\\mathbf{k})\\\\\n",
    "&= -mg\\:\\mathrm{d}y\n",
    "\\end{align}\n",
    "\n",
    "Therefore the work done as the object moves from position $1$ to $2$ is,\n",
    "\n",
    "\\begin{equation}\n",
    "U_{12} = \\int_{r_1}^{r_2} \\mathbf{F}\\cdot\\mathrm{d}\\mathbf{r} = -mg\\int_{y_1}^{y_2} \\mathrm{d}y = -mg(y_2-y_1)\n",
    "\\end{equation}\n",
    "\n",
    "\\begin{equation}\n",
    "\\boxed{\n",
    "U_{12} = -mg(y_2-y_1)\n",
    "}\n",
    "\\end{equation}"
   ]
  },
  {
   "cell_type": "markdown",
   "metadata": {},
   "source": [
    "### Example 2 "
   ]
  },
  {
   "cell_type": "markdown",
   "metadata": {},
   "source": [
    "Consider the skier pictured below. At position $1$, the skier is approaching the jump at $15 \\:m/s$. When they reach the horizontal end of the ramp at position $2$ ($20\\: m$ below position $1$), they jump upward, achieving a vertical velocity component of $3\\: m/s$.\n",
    "\n",
    "- (a) What is the magnitude of the skier’s velocity as they leave the ramp at position $2$?\n",
    "- (b) At the highest point of their jump, position $3$, what is the magnitude of their velocity and the height of their centre of mass above position $2$?\n",
    "\n",
    "You may neglect aerodynamic drag and any frictional forces on the skis. "
   ]
  },
  {
   "cell_type": "markdown",
   "metadata": {},
   "source": [
    "![title](img/T2W8/img8.jpg)\n",
    "<center>Skier on a ramp.</center>"
   ]
  },
  {
   "cell_type": "markdown",
   "metadata": {},
   "source": [
    "**Solution**"
   ]
  },
  {
   "cell_type": "markdown",
   "metadata": {},
   "source": [
    "(a) The only force acting on the skier between $1$ and $2$ is their own self-weight. Therefore based on the previous discussion, all we need to know to determine the work done between $1$ and $2$ is the change in height,\n",
    "\n",
    "\\begin{equation*}\n",
    "U_{12} = -mg(y_2-y_1) = \\frac{m}{2}(v_{2}^2 - v_1^2)\n",
    "\\end{equation*}"
   ]
  },
  {
   "cell_type": "markdown",
   "metadata": {},
   "source": [
    "We know $y_1 = 20\\:m$, $y_2 = 0\\:m$ and $v_1 = 15\\:m/s$ so we can solve for the horizontal velocity at $2$ just before the skier leaves the ramp, using the equation above,\n",
    "\n",
    "\\begin{equation*}\n",
    "-g(0-20) = \\frac{1}{2}(v_{2,x}^2 - 15^2)\n",
    "\\end{equation*}\n",
    "\n",
    "Therefore the horizontal velocity at $2$ is $v_{2,x} = 24.8\\:m/s$. We are told that the skier achieves a vertical velocity of $v_{2,y} = 3\\:m/s$ upon leaving the ramp at $2$. The velocity magnitude $v_2$ (after they leave the ramp) is therefore, \n",
    "\n",
    "\\begin{align*}\n",
    "v_2 &=\\sqrt{24.8^2 + 3^2}\\\\\n",
    "v_2 &= 25\\:m/s\n",
    "\\end{align*}"
   ]
  },
  {
   "cell_type": "markdown",
   "metadata": {},
   "source": [
    "(b) Once the skier leaves the ramp they are a projectile; i.e. their horizontal velocity is constant but their vertical velocity is influenced by gravity. From this (and our study of projectiles in week 5) we can deduce that at the point of maximum height, the horizontal velocity will be $v_x = v_{2,x} = 24.8\\:m/s$ but their vertical velocity, $v_y = 0\\:m/s$ (review the parabolic trajectory plot from week 5). Therefore the magnitude of their velocity when they reach the max height (position $3$) is $v_3 = 24.8\\:m/s$. \n",
    "\n",
    "We can again use the principle of work and energy to solve for the max height reached, $y_3$.\n",
    "\n",
    "\\begin{equation*}\n",
    "U_{23} = -mg(y_3-y_2) = \\frac{m}{2}(v_3^2 - v_2^2)\n",
    "\\end{equation*}\n",
    "\n",
    "\\begin{equation*}\n",
    "U_{23} = -9.81(y_3-0) = \\frac{1}{2}(24.8^2 - 25^2)\n",
    "\\end{equation*}\n",
    "\n",
    "Finally, solve for $y_3 = 0.508\\:m$."
   ]
  },
  {
   "cell_type": "markdown",
   "metadata": {},
   "source": [
    "## 2.0 Conservation of Energy"
   ]
  },
  {
   "cell_type": "markdown",
   "metadata": {},
   "source": [
    "So far we have discussed kinetic energy as the energy associates with a change in velocity magnitude. We now introduce **Potential Energy**. We will see below that for an object being acted upon by a *conservative* force (discussed below), the sum of the object's kinetic and potential energy is constant. We call this the **Conservation of Energy Principle**. For systems acted upon by conservative forces, we can use this principle to model and analyse mechanical behaviour. "
   ]
  },
  {
   "cell_type": "markdown",
   "metadata": {},
   "source": [
    "### 2.1 Potential Energy"
   ]
  },
  {
   "cell_type": "markdown",
   "metadata": {},
   "source": [
    "We will start by establishing the equation that captures the Conservation of Energy principle. Recall the equation for the principle of work and energy; combining equations (7) and (8) from above,\n",
    "\n",
    "\\begin{equation}\n",
    "U_{12} =  \\int_{\\mathbf{r}_1}^{\\mathbf{r}_2}\\sum\\mathbf{F}\\cdot \\mathrm{d}\\mathbf{r}  = \\frac{1}{2}mv_2^2 - \\frac{1}{2}mv_1^2\n",
    "\\end{equation}\n"
   ]
  },
  {
   "cell_type": "markdown",
   "metadata": {},
   "source": [
    "Now, consider some scalar function, $V$ which will be a function of the object's position such that,\n",
    "\n",
    "\\begin{equation}\n",
    "\\mathrm{d}V = -\\sum\\mathbf{F}\\cdot \\mathrm{d}\\mathbf{r} \n",
    "\\end{equation}"
   ]
  },
  {
   "cell_type": "markdown",
   "metadata": {},
   "source": [
    "If we now integrate both sides, noting that the integral of the right hand side yields the total work done, $U_{12}$,\n",
    "\n",
    "\\begin{equation}\n",
    "U_{12} = \\int_{\\mathbf{r}_1}^{\\mathbf{r}_2}\\sum\\mathbf{F}\\cdot \\mathrm{d}\\mathbf{r}  = \\int_{V_1}^{V_2}-\\mathrm{d}V\n",
    "\\end{equation}\n",
    "\n",
    "\\begin{equation}\n",
    "\\frac{1}{2}mv_2^2 - \\frac{1}{2}mv_1^2 = -(V_2-V_1)\n",
    "\\end{equation}\n",
    "\n",
    "Rearranging,\n",
    "\n",
    "\\begin{equation}\n",
    "\\frac{1}{2}mv_1^2 + V_1 = \\frac{1}{2}mv_2^2  + V_2\n",
    "\\end{equation}\n",
    "\n",
    "From this we conclude that, \n",
    "\n",
    "\\begin{equation}\n",
    "\\boxed{\n",
    "\\frac{1}{2}mv^2 + V = \\text{constant}\n",
    "}\n",
    "\\end{equation}\n",
    "\n",
    "where $V$ represents the potential energy. This equation is a statement of the principle of Conservation of Energy. If the kinetic energy increases, the potential energy must decrease, and vice versa. We can think of the potential energy $V$ as a *reservoir* of potential energy required to ensure the total amount of energy remains constant as the kinetic energy fluctuates, hence the name! \n",
    "\n",
    "The conservation of energy equation (29) is used to solve problems involving velocity, displacement and **conservative force systems**. For conservative systems, we can use the principle of conservation of energy instead of the principle of work and energy. In doing so, we model the mechanical behaviour by relating the change in position to the change in kinetic energy. Both approaches are essentially equivalent as we obtain the same information, but it could be argued that greater insight is provided by the conservation of energy approach as we are interpreting the mechanical behaviour in terms of fundamental transformations between potential and kinetic energy. "
   ]
  },
  {
   "cell_type": "markdown",
   "metadata": {},
   "source": [
    "We can easily determine an expression for $V$ by substituting equation (21) into equation (25), \n",
    "\n",
    "\\begin{equation}\n",
    "\\mathrm{d}V = - (-mg\\mathrm{d}y)\n",
    "\\end{equation}\n",
    "\n",
    "Rearranging,\n",
    "\n",
    "\\begin{equation}\n",
    "\\frac{\\mathrm{d}V}{\\mathrm{d}y} = mg\n",
    "\\end{equation}\n",
    "\n",
    "Integrating yields,\n",
    "\n",
    "\\begin{equation}\n",
    "V = mgy + C\n",
    "\\end{equation}\n",
    "\n",
    "Where $C$ is an arbitrary constant of integration which we can let equal to zero since (32) satisfies (31) for any value of $C$. The equation for potential energy is therefore,\n",
    "\n",
    "\\begin{equation}\n",
    "\\boxed{V = mgy}\n",
    "\\end{equation}"
   ]
  },
  {
   "cell_type": "markdown",
   "metadata": {
    "hide_input": true
   },
   "source": [
    "### 2.2 Conservative force"
   ]
  },
  {
   "cell_type": "markdown",
   "metadata": {},
   "source": [
    "We have mentioned several times that for the conservation of energy principle to be applied, all forces considered must be conservative. Unfortunately, this does somewhat limit the scope of application of the conservation of energy principle. \n",
    "\n",
    "A force is conservative when the work done by the force in moving an object from one point to another is independent of the path followed by the object. This relates directly to the discussion in 1.3 above on path independence. From this we immediately identify weight due to gravity as a conservative force, i.e. the work done by the weight of an object is independent of the path and depends only on the vertical displacement. \n",
    "\n",
    "If we ignore negligible energy dissipation due to temperature change, spring forces are also conservative. The force depends only on the  extension or compression of the spring. Consider the spring below with position indicated in polar coordinates."
   ]
  },
  {
   "cell_type": "markdown",
   "metadata": {},
   "source": [
    "![title](img/T2W8/img9.jpg)\n",
    "<center>Spring with position indicated in polar coordinates.</center>"
   ]
  },
  {
   "cell_type": "markdown",
   "metadata": {},
   "source": [
    "The spring force is,\n",
    "\n",
    "\\begin{equation}\n",
    "F = -k(r-r_0)\\:\\mathbf{e}_r\n",
    "\\end{equation}\n",
    "\n",
    "If we define the stretch in the spring as $S = r-r_0$,\n",
    "\n",
    "\\begin{equation}\n",
    "\\mathrm{d}V = -F\\mathrm{d}r = kS\\:\\mathrm{d}S\n",
    "\\end{equation}\n",
    "\n",
    "Integrating both sides of this equation yields the expression for the potential energy in a spring, \n",
    "\n",
    "\\begin{equation}\n",
    "\\boxed{\n",
    "V = \\frac{1}{2}kS^2\n",
    "}\n",
    "\\end{equation}"
   ]
  },
  {
   "cell_type": "markdown",
   "metadata": {},
   "source": [
    "In contrast to the conservative weight and spring force, friction forces are nonconservative as the friction force exerted on a moving object by a fixed surface depends on the path of the object. i.e. the longer the path, the greater the work done by the friction force. Energy is dissipated (lost, not conserved within the system) from the object as heat. "
   ]
  },
  {
   "cell_type": "markdown",
   "metadata": {},
   "source": [
    "Deploying the principle of conservation of energy to model a mechanical system typically involves three steps:\n",
    "1. Determine whether the system is conservative\n",
    "    - Draw a free-body diagram to identify the forces that do work and confirm that they are conservative\n",
    "2. Determine the potential energy\n",
    "    - Evaluate the potential energies of the forces in terms of the positions of the system\n",
    "3. Apply conservation of energy\n",
    "    - Equate the sum of the kinetic and potential energies of the system at two positions to obtain an expression for the change in the kinetic energy. "
   ]
  },
  {
   "cell_type": "markdown",
   "metadata": {},
   "source": [
    "### Example 3"
   ]
  },
  {
   "cell_type": "markdown",
   "metadata": {},
   "source": [
    "Pictured below is a mechanical hammer system. The hammer weighs $40\\:kg$ and is raised to position 2. The springs are used to pull the hammer down such that it strikes the workpiece with a force that would be larger than if it were simply allowed to fall under its own weight. The spring constant is $k=1500\\:N/m$. The springs are not stretched when the hammer is in position 2. Use the principle of conservation of energy to determine the hammer's velocity when it strikes the workpiece at position 2. "
   ]
  },
  {
   "cell_type": "markdown",
   "metadata": {},
   "source": [
    "![title](img/T2W8/img10.jpg)\n",
    "<center>Example 3</center>"
   ]
  },
  {
   "cell_type": "markdown",
   "metadata": {},
   "source": [
    "**Solution**"
   ]
  },
  {
   "cell_type": "markdown",
   "metadata": {},
   "source": [
    "**Step 1 - Determine whether the system is conservative**\n",
    "\n",
    "First we consider a free-body diagram of the mass to determine the forces that do work. In this case the forces are spring forces and the self-weight which we have already identified as examples of conservative forces. Therefore the system is conservative. "
   ]
  },
  {
   "cell_type": "markdown",
   "metadata": {},
   "source": [
    "![title](img/T2W8/img11.jpg)\n",
    "<center>Free-body diagram</center>"
   ]
  },
  {
   "cell_type": "markdown",
   "metadata": {},
   "source": [
    "**Step 2 - Determine the potential energy**\n",
    "\n",
    "We have two springs, each with a potential energy given by equation (36), therefore the total spring potential energy in the system is,\n",
    "\n",
    "\\begin{equation*}\n",
    "V_{\\text{spring}} = kS^2\n",
    "\\end{equation*}\n",
    "\n",
    "Next we use basic geometry to determine the elongation in the springs when the hammer is at position 1, $S_1$, compared to when the hammer is in position 2, and the elongation is zero, $S_2 = 0$. \n",
    "\n",
    "\\begin{equation*}\n",
    "S_1 = \\sqrt{0.3^2+0.4^2}-0.3 =0.2\\:m\n",
    "\\end{equation*}"
   ]
  },
  {
   "cell_type": "markdown",
   "metadata": {},
   "source": [
    "The potential energy associated with the weight is,\n",
    "\n",
    "\\begin{equation*}\n",
    "V_{\\text{weight}} = mgy\n",
    "\\end{equation*}\n",
    "\n",
    "where $y$ is the height relative to a convenient datum. "
   ]
  },
  {
   "cell_type": "markdown",
   "metadata": {},
   "source": [
    "**Step 3 - Apply conservation of energy**\n",
    "\n",
    "Applying the principle of conservation of energy means equating the sum of energies at two different positions, $1$ and $2$\n",
    "\n",
    "\\begin{equation*}\n",
    "\\underbrace{kS_1^2 + mgy_1}_{\\text{potential}} + \\underbrace{\\frac{m}{2}v_1^2}_{\\text{kinetic}} = \\underbrace{kS_2^2 + mgy_2}_{\\text{potential}} + \\underbrace{\\frac{m}{2}v_2^2}_{\\text{kinetic}}\n",
    "\\end{equation*}"
   ]
  },
  {
   "cell_type": "markdown",
   "metadata": {},
   "source": [
    "Noting that $v_1 = 0$, we can solve for $v_2$,\n",
    "\n",
    "\\begin{equation*}\n",
    "1500\\times 0.2^2 + (40\\times 9.81\\times 0.4) + \\frac{40}{2}\\times 0^2 = 1500\\times 0^2 + (40\\times 9.81\\times 0) + \\frac{40}{2}\\times v_2^2\n",
    "\\end{equation*}\n",
    "\n",
    "\\begin{equation*}\n",
    "v_2 = 3.29\\:m/s\n",
    "\\end{equation*}"
   ]
  },
  {
   "cell_type": "markdown",
   "metadata": {},
   "source": [
    "**You should now download the question sheet for this week and attempt all questions. You will have an opportunity to to get help in your tutorial session and worked solutions will be released next week.**  "
   ]
  }
 ],
 "metadata": {
  "hide_input": false,
  "kernelspec": {
   "display_name": "Python 3",
   "language": "python",
   "name": "python3"
  },
  "language_info": {
   "codemirror_mode": {
    "name": "ipython",
    "version": 3
   },
   "file_extension": ".py",
   "mimetype": "text/x-python",
   "name": "python",
   "nbconvert_exporter": "python",
   "pygments_lexer": "ipython3",
   "version": "3.6.4"
  },
  "toc": {
   "base_numbering": 1,
   "nav_menu": {},
   "number_sections": true,
   "sideBar": true,
   "skip_h1_title": false,
   "title_cell": "Table of Contents",
   "title_sidebar": "Contents",
   "toc_cell": false,
   "toc_position": {
    "height": "calc(100% - 180px)",
    "left": "10px",
    "top": "150px",
    "width": "165px"
   },
   "toc_section_display": true,
   "toc_window_display": false
  }
 },
 "nbformat": 4,
 "nbformat_minor": 2
}
