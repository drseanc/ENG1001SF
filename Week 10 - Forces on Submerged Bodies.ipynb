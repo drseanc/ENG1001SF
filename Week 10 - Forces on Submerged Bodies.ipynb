{
 "cells": [
  {
   "cell_type": "code",
   "execution_count": 2,
   "metadata": {
    "deletable": false,
    "editable": false,
    "hide_input": false
   },
   "outputs": [
    {
     "name": "stdout",
     "output_type": "stream",
     "text": [
      "- Dependencies imported 👍\n",
      "- Remember to select 'Kernel-> Restart & Run All' on first load to show embedded Youtube videos 🎬\n",
      "- Author: Dr SPCarroll, Sept 2020, Rev 2\n"
     ]
    }
   ],
   "source": [
    "#DEPENDENCIES & INITIALISATIONS\n",
    "from IPython.display import HTML #For embedding videos\n",
    "import math #Basic math functionality\n",
    "import numpy as np #Numpy for working with arrays\n",
    "import matplotlib.pyplot as plt #Plotting functionality \n",
    "#HTML('<iframe width=\"560\" height=\"315\" src=\"#\" frameborder=\"0\" allowfullscreen></iframe>')\n",
    "print(\"- Dependencies imported 👍\")\n",
    "print(\"- Remember to select 'Kernel-> Restart & Run All' on first load to show embedded Youtube videos 🎬\")\n",
    "print(\"- Author: Dr SPCarroll, Sept 2020, Rev 2\")"
   ]
  },
  {
   "cell_type": "markdown",
   "metadata": {
    "hide_input": true
   },
   "source": [
    "# Week 10: Forces on submerged bodies\n",
    "Reference: Chapter 3, Douglas, Gasiorek and Swaffield"
   ]
  },
  {
   "cell_type": "markdown",
   "metadata": {},
   "source": [
    "![title](img/T1W10/banner.jpg)"
   ]
  },
  {
   "cell_type": "markdown",
   "metadata": {},
   "source": [
    "## 1.0 Pressure on submerged surfaces"
   ]
  },
  {
   "cell_type": "markdown",
   "metadata": {},
   "source": [
    "We saw in last week's notes that hydrostatic pressure varies with depth and at a point it acts equally in all directions. This week we will consider the influence of hydrostatic pressure on submerged bodies. Consider a submerged plane of area $A$. If we imagine an infinitesimal element of area $\\delta A$, it will be subject to a pressure $p_1$.\n",
    "\n",
    "Therefore the element of area experiences a force, \n",
    "\n",
    "\\begin{equation}\n",
    "p_1\\delta A\n",
    "\\end{equation}\n",
    "\n",
    "This force acts perpendicular to the element of area $\\delta A$. If we sum up all of the forces acting on all elements of area $\\delta A$ across the full area $A$, we would obtain the resultant hydrostatic force acting on the area. This force would also act perpendicular to the plane and would act at a location called the **Centre of Pressure**."
   ]
  },
  {
   "cell_type": "markdown",
   "metadata": {},
   "source": [
    "## 2.0 Resultant force and centre of pressure"
   ]
  },
  {
   "cell_type": "markdown",
   "metadata": {},
   "source": [
    "Consider a plane $PQ$, submerged in a liquid with mass density, $\\rho$, pictured below.  "
   ]
  },
  {
   "cell_type": "markdown",
   "metadata": {},
   "source": [
    "![title](img/T1W10/image1.jpg)\n",
    "<center>Plane surface immersed in a fluid. © Douglas et al. 2001</center>"
   ]
  },
  {
   "cell_type": "markdown",
   "metadata": {},
   "source": [
    "If we imagine an element of area, $\\delta A$, located at a distance $y$ below the free surface, it would be subject to a force,\n",
    "\n",
    "\\begin{equation}\n",
    "\\delta F = \\rho g y \\delta A\n",
    "\\end{equation}\n",
    "\n",
    "We would obtain the resultant force, $R$ acting on the whole area by summing all of the forces on each element $\\delta A$,\n",
    "\n",
    "\\begin{equation}\n",
    "R = \\rho g \\sum y \\delta A\n",
    "\\end{equation}\n",
    "\n",
    "Note that the quantity $\\sum y \\delta A$ is the *first moment of area* of the plane $PQ$ about the free surface of the liquid. We can represent the first moment of area as follows,\n",
    "\n",
    "\\begin{equation}\n",
    "\\sum y \\delta A = A \\bar{y}\n",
    "\\end{equation}\n",
    "\n",
    "where $A$ is the total area of the plane and $\\bar{y}$ is the distance from the axis (in this case the surface of the liquid) to the centroid of the area. Therefore we can state that the resultant hydrostatic force, $R$ as,\n",
    "\n",
    "\\begin{equation}\n",
    "\\boxed{R = \\rho g A \\bar{y}}\n",
    "\\end{equation}\n",
    "\n",
    "Our task now is to determine the location of the Centre of Pressure, the point through which $R$ can be considered to act. At this point, make sure you recognise the fact that we have been discussing two distinct points on the surface:\n",
    "- the centroid or geometric centroid, <mark>$G$</mark>\n",
    "- the centre of pressure, <mark>$C$</mark>\n",
    "\n",
    "The centroid is purely a function of the shape of the plane. It is literally the geometric centre of the area. The centre of pressure on the other hand, is the position through which the resultant hydrostatic force acts and depends on how the hydrostatic pressure varies across the area. Note that for the area shown above, the centroid <mark>$G$</mark> is above the centre of pressure <mark>$C$</mark>. \n",
    "\n",
    "To find the centre of pressure for the submerged plane above, we will take moments about point $O$. As stated above, the force acting on an element $\\delta A$ is,\n",
    "\n",
    "\\begin{equation}\n",
    "\\delta F = \\rho g y \\delta A\n",
    "\\end{equation}\n",
    "\n",
    "If we replace $y$ with $s\\:\\sin \\phi$, we obtain,\n",
    "\n",
    "\\begin{equation}\n",
    "\\delta F = \\rho g s\\:\\sin \\phi \\: \\delta A\n",
    "\\end{equation}\n",
    "\n",
    "Noting that the lever arm for $\\delta F$ about $O$ is $s$, and summing for all elements of area, we obtain an expression for the moment of the resultant of all forces about $O$,\n",
    "\n",
    "\\begin{equation}\n",
    "M = \\rho g \\sin\\phi\\sum s^2\\:\\delta A\n",
    "\\end{equation}\n",
    "\n",
    "The quantity $\\sum s^2\\:\\delta A$ is called *the second moment of area* of the plane $PQ$ about the free surface of the liquid. Both the first and second moment of area are geometric properties of an area and are calculated with respect to a given axis. In this case the axis runs through point $O$ and is perpendicular to the page/screen.\n",
    "\n",
    "Remember, we're trying to find an expression for $D$, the depth to the centre of pressure. We now construct an alternative expression for the moment of $R$ about $O$,\n",
    "\n",
    "\\begin{align}\n",
    "M &= R\\times \\overbrace{\\frac{D}{\\sin \\phi}}^{\\text{lever arm}}\\\\\n",
    "M &= \\rho g A \\bar{y}\\:\\frac{D}{\\sin \\phi}\n",
    "\\end{align}\n",
    "\n",
    "Equating both expressions for moment, $M$, \n",
    "\n",
    "\\begin{equation}\n",
    "\\rho g \\sin\\phi\\sum s^2\\:\\delta A =  \\rho g A \\bar{y}\\:\\frac{D}{\\sin \\phi}\n",
    "\\end{equation}\n",
    "\n",
    "If we let,\n",
    "\n",
    "\\begin{equation}\n",
    "\\sum s^2\\:\\delta A = I_O\n",
    "\\end{equation}\n",
    "\n",
    "we can obtain an expression for $D$,\n",
    "\n",
    "\\begin{equation}\n",
    "\\boxed{D = \\sin^2 \\phi \\frac{I_O}{A\\bar{y}}}\n",
    "\\end{equation}\n",
    "\n",
    "This equation for $D$ contains $I_O$ which as we said is the second moment of area of the plane about an axis running through $O$. It is usually more convenient to express $D$ as a function of $I_G$, the second moment of area for the plane about an axis running through its centroid. We can do this with the help of the parallel axis theorem.\n",
    "\n",
    "Note that the centre of pressure will always be below the centroid of the area, except for when the plane is horizontal $(\\phi=0)$."
   ]
  },
  {
   "cell_type": "markdown",
   "metadata": {},
   "source": [
    "### 2.1 The Parallel Axis Theorem\n",
    "\n",
    "The parallel axis theorem says that the second moment of area about an axis parallel to the centroidal axis $I_O$, is obtained as,\n",
    "\n",
    "\\begin{equation}\n",
    "I_O = I_G + A\\bar{d}^2\n",
    "\\end{equation}\n",
    "\n",
    "Where $I_G$ is the second moment of area about a centroidal axis and $\\bar{d}$ is the distance between the two axes. So in this case, we can replace $d$,\n",
    "\n",
    "\\begin{equation}\n",
    "d = \\frac{\\bar{y}}{\\sin \\phi}\n",
    "\\end{equation}\n",
    "\n",
    "and our expression for $D$ becomes,\n",
    "\n",
    "\\begin{equation}\n",
    "\\boxed{D = \\sin^2\\phi\\:\\frac{I_G}{A\\bar{y}} + \\bar{y}}\n",
    "\\end{equation}\n",
    "\n",
    "From this expression we can see that the centre of pressure <mark>$C$</mark> is always located below the centroid <mark>$G$</mark>, except when the plane is horizontal and $\\phi = 0$.\n",
    "\n",
    "We note that as the depth of the plane increases, the centre of pressure will move closer to the centroid. Remember the location of the centroid is fixed and independent of pressure. The reason that the centre of pressure moves towards the centroid is that as depth increases, the variation in pressure across the area reduces in comparison to the mean pressure. Thus the pressure applied across the area becomes more uniform. "
   ]
  },
  {
   "cell_type": "markdown",
   "metadata": {},
   "source": [
    "### 2.2 Geometric properties of areas"
   ]
  },
  {
   "cell_type": "markdown",
   "metadata": {},
   "source": [
    "We said above that the centroid of an area is the geometric centre of the area. For a square or rectangle this is easy to visualise. For a triangle this can be less intuitive, nevertheless we can visualise this below for a right angle triangle."
   ]
  },
  {
   "cell_type": "markdown",
   "metadata": {},
   "source": [
    "![title](img/T1W10/image3.jpg)\n",
    "<center>Geometric centroid of a right angle triangle.</center>"
   ]
  },
  {
   "cell_type": "markdown",
   "metadata": {},
   "source": [
    "For a general triangle with vertex coordinates $(x_1, y_1)$, $(x_2, y_2)$, $(x_3, y_3)$,"
   ]
  },
  {
   "cell_type": "markdown",
   "metadata": {},
   "source": [
    "![title](img/T1W10/image4.jpg)\n",
    "<center>Geometric centroid of a general triangle.</center>"
   ]
  },
  {
   "cell_type": "markdown",
   "metadata": {},
   "source": [
    "The centroid has coordinates, \n",
    "\n",
    "\\begin{equation}\n",
    "(\\frac{x_1+x_2+x_3}{3},\\:\\frac{y_1+y_2+y_3}{3})\n",
    "\\end{equation}"
   ]
  },
  {
   "cell_type": "markdown",
   "metadata": {},
   "source": [
    "The purpose of identifying the location of the centroid is to determine the second moment of area with respect to an axis that passes through the centroid. However, for most common areas we can obtain expressions for the location of the centroid, the area and the second moment of area. For compound areas (areas made up from a collection of sub areas) we can obtain geometric properties relatively easily using the parallel axis theorem (we'll see an example of this further below). \n",
    "\n",
    "Pictured below is a table of some common areas and their geometric properties. A more exhaustive list of shapes and their properties can be obtained from text books."
   ]
  },
  {
   "cell_type": "markdown",
   "metadata": {},
   "source": [
    "![title](img/T1W10/image2.jpg)\n",
    "<center>Properties of common areas. © Douglas et al. 2001</center>"
   ]
  },
  {
   "cell_type": "markdown",
   "metadata": {},
   "source": [
    "### Example 1"
   ]
  },
  {
   "cell_type": "markdown",
   "metadata": {},
   "source": [
    "The figure below shows a hinged gate that retains water $(\\rho=1000\\:kg/m^3)$ within a tank. All relevant dimensions are shown. Determine the moment required about the hinge at $B$ required stop the gate from opening."
   ]
  },
  {
   "cell_type": "markdown",
   "metadata": {},
   "source": [
    "![title](img/T1W10/image5.jpg)\n",
    "<center>Trapezoidal gate. © Douglas et al. 2001</center>"
   ]
  },
  {
   "cell_type": "markdown",
   "metadata": {},
   "source": [
    "**Part 1**"
   ]
  },
  {
   "cell_type": "code",
   "execution_count": 3,
   "metadata": {
    "hide_input": true
   },
   "outputs": [
    {
     "data": {
      "text/html": [
       "<center><iframe width=\"560\" height=\"315\" src=\"https://www.youtube.com/embed/zPCLeACFgwI\" frameborder=\"0\" allowfullscreen></iframe></center>"
      ],
      "text/plain": [
       "<IPython.core.display.HTML object>"
      ]
     },
     "execution_count": 3,
     "metadata": {},
     "output_type": "execute_result"
    }
   ],
   "source": [
    "HTML('<center><iframe width=\"560\" height=\"315\" src=\"https://www.youtube.com/embed/zPCLeACFgwI\" frameborder=\"0\" allowfullscreen></iframe></center>')"
   ]
  },
  {
   "cell_type": "markdown",
   "metadata": {},
   "source": [
    "**Part 2**"
   ]
  },
  {
   "cell_type": "code",
   "execution_count": 4,
   "metadata": {
    "hide_input": true
   },
   "outputs": [
    {
     "data": {
      "text/html": [
       "<center><iframe width=\"560\" height=\"315\" src=\"https://www.youtube.com/embed/M5oVm3Vov1M\" frameborder=\"0\" allowfullscreen></iframe></center>"
      ],
      "text/plain": [
       "<IPython.core.display.HTML object>"
      ]
     },
     "execution_count": 4,
     "metadata": {},
     "output_type": "execute_result"
    }
   ],
   "source": [
    "HTML('<center><iframe width=\"560\" height=\"315\" src=\"https://www.youtube.com/embed/M5oVm3Vov1M\" frameborder=\"0\" allowfullscreen></iframe></center>')"
   ]
  },
  {
   "cell_type": "markdown",
   "metadata": {},
   "source": [
    "### Example 2"
   ]
  },
  {
   "cell_type": "markdown",
   "metadata": {},
   "source": [
    "Consider the schematic of a lock gate shown below. The water level is at a higher level on the *'upstream side'* of the gate. The left image shows a plane view of the gate where, $P$ represents the resultant hydrostatic force on one gate, $F$ represents the force imposed by the other gate and $R$ represents the resultant reaction provided by two hinges located $0.6\\:m$ from the top and bottom of the gate. We must determine the magnitude of the reaction force developed at the top and bottom hinges for one gate. \n",
    "\n",
    "Before attempting to solve this problem, we must make two assumptions:\n",
    "1. First, we are assuming there is no friction force developed between the gates at their contact point. The only force transmitted from one gate to the other is the direct bearing force, $F$. \n",
    "2. Second, all forces, $F$, $P$ and $R$ are **coplanar**, i.e. they all act in the same horizontal plane. The level of this plane, is the level at which the resultant hydrostatic force develops. "
   ]
  },
  {
   "cell_type": "markdown",
   "metadata": {},
   "source": [
    "![title](img/T1W10/image6.jpg)\n",
    "<center>Lock gate. © Douglas et al. 2001</center>"
   ]
  },
  {
   "cell_type": "markdown",
   "metadata": {},
   "source": [
    "**Part 1**"
   ]
  },
  {
   "cell_type": "code",
   "execution_count": 5,
   "metadata": {
    "hide_input": true
   },
   "outputs": [
    {
     "data": {
      "text/html": [
       "<center><iframe width=\"560\" height=\"315\" src=\"https://www.youtube.com/embed/rUvs8sPjro0\" frameborder=\"0\" allowfullscreen></iframe></center>"
      ],
      "text/plain": [
       "<IPython.core.display.HTML object>"
      ]
     },
     "execution_count": 5,
     "metadata": {},
     "output_type": "execute_result"
    }
   ],
   "source": [
    "HTML('<center><iframe width=\"560\" height=\"315\" src=\"https://www.youtube.com/embed/rUvs8sPjro0\" frameborder=\"0\" allowfullscreen></iframe></center>')"
   ]
  },
  {
   "cell_type": "markdown",
   "metadata": {},
   "source": [
    "**Part 2**"
   ]
  },
  {
   "cell_type": "code",
   "execution_count": 6,
   "metadata": {
    "hide_input": true
   },
   "outputs": [
    {
     "data": {
      "text/html": [
       "<center><iframe width=\"560\" height=\"315\" src=\"https://www.youtube.com/embed/CVqinNXnAMw\" frameborder=\"0\" allowfullscreen></iframe></center>"
      ],
      "text/plain": [
       "<IPython.core.display.HTML object>"
      ]
     },
     "execution_count": 6,
     "metadata": {},
     "output_type": "execute_result"
    }
   ],
   "source": [
    "HTML('<center><iframe width=\"560\" height=\"315\" src=\"https://www.youtube.com/embed/CVqinNXnAMw\" frameborder=\"0\" allowfullscreen></iframe></center>')"
   ]
  },
  {
   "cell_type": "markdown",
   "metadata": {},
   "source": [
    "## 3.0 Pressure diagrams"
   ]
  },
  {
   "cell_type": "markdown",
   "metadata": {},
   "source": [
    "So far we have determined the resultant hydrostatic force, $P$ and the centre of pressure depth, $D$ using the following two equations respectively,\n",
    "\n",
    "\\begin{equation}\n",
    "P = \\rho g A \\bar{y}\n",
    "\\end{equation}\n",
    "\n",
    "\\begin{equation}\n",
    "D = \\sin^2\\phi\\:\\frac{I_G}{A\\bar{y}} + \\bar{y}\n",
    "\\end{equation}\n",
    "\n",
    "However, there is an alternative graphical method we can use to determine these parameters that will be particularly convenient when dealing with surfaces of constant height. Consider the example below in which liquid is retained by a vertical wall."
   ]
  },
  {
   "cell_type": "markdown",
   "metadata": {},
   "source": [
    "![title](img/T1W10/image7.jpg)\n",
    "<center>Liquid retained by a vertical surface. © Douglas et al. 2001</center>"
   ]
  },
  {
   "cell_type": "markdown",
   "metadata": {},
   "source": [
    "We can obtain the resultant hydrostatic force per unit width (into the page) by determining the area of the pressure diagram,\n",
    "\n",
    "\\begin{align}\n",
    "R &= \\rho g H\\times H \\times \\frac{1}{2}\\:\\text{per unit width}\\\\\n",
    "R &=\\frac{\\rho g H^2}{2}\\:\\text{per unit width}\n",
    "\\end{align}\n",
    "\n",
    "The resultant will act through the centroid of the triangular pressure diagram and therefore act $\\frac{2}{3}H$ from the top as shown above. This is completely consistent with the equation we derived for the depth to the resultant, \n",
    "\n",
    "\\begin{equation}\n",
    "D = \\sin^2\\phi\\:\\frac{I_G}{A\\bar{y}} + \\bar{y}\n",
    "\\end{equation}\n",
    "\n",
    "For example in this case, $\\phi=0$, $I_G = \\frac{bH^3}{12}$, $A=bH$, $\\bar{y} = \\frac{H}{2}$, therefore, \n",
    "\n",
    "\\begin{align}\n",
    "D &= \\frac{bH^3}{12}\\times \\frac{1}{bH}\\times \\frac{2}{H} + \\frac{H}{2}\\\\\n",
    "D &= \\frac{2}{3}H\n",
    "\\end{align}"
   ]
  },
  {
   "cell_type": "markdown",
   "metadata": {},
   "source": [
    "### Example 3"
   ]
  },
  {
   "cell_type": "markdown",
   "metadata": {},
   "source": [
    "The image below shows water inside a pressurised tank. If the side wall of the tank measures $3\\:m$ (into the page), what is the magnitude of the pressure resultant and its height from the base of the tank.\n",
    "\n",
    "![title](img/T1W10/image8.jpg)\n",
    "<center>Water within a pressurised tank. © Douglas et al. 2001</center>"
   ]
  },
  {
   "cell_type": "code",
   "execution_count": 2,
   "metadata": {},
   "outputs": [
    {
     "data": {
      "text/html": [
       "<center><iframe width=\"560\" height=\"315\" src=\"https://www.youtube.com/embed/qB2GrimaIvI\" frameborder=\"0\" allowfullscreen></iframe></center>"
      ],
      "text/plain": [
       "<IPython.core.display.HTML object>"
      ]
     },
     "execution_count": 2,
     "metadata": {},
     "output_type": "execute_result"
    }
   ],
   "source": [
    "HTML('<center><iframe width=\"560\" height=\"315\" src=\"https://www.youtube.com/embed/qB2GrimaIvI\" frameborder=\"0\" allowfullscreen></iframe></center>')"
   ]
  },
  {
   "cell_type": "markdown",
   "metadata": {},
   "source": [
    "## 4.0 Forces on submerged curved surfaces"
   ]
  },
  {
   "cell_type": "markdown",
   "metadata": {},
   "source": [
    "Consider a curved surface under the influence of a hydrostatic pressure. If we now imagine the resultant force, $\\delta F_1$ acting on a small element of area $\\delta A_1$, it acts perpendicular to the element of area. If we now consider an adjacent area $\\delta A_2$, is also experiences a perpendicular force, $\\delta A_2$. However since the overall surface is curved, $\\delta F_1$ and $\\delta F_2$ are not parallel. To obtain the resultant force, these components must be combined vectorially by considering the components in a common reference frame (typically horizontal and vertical components).\n",
    "\n",
    "The figure (a) below, shows a submerged curved surface with liquid above the surface. In (b), the liquid is below the surface. In both cases, $R$ is the resultant hydrostatic force acting on the curved surface while $R_h$ and $R_v$ are its horizontal and vertical components respectively.\n",
    "\n",
    "We can determine $R_h$ and $R_v$ (and therefore $R$) by considering horizontal and vertical force equilibrium."
   ]
  },
  {
   "cell_type": "markdown",
   "metadata": {},
   "source": [
    "![title](img/T1W10/image9.jpg)\n",
    "<center>Hydrostatic forces on a curved surface. © Douglas et al. 2001</center>"
   ]
  },
  {
   "cell_type": "markdown",
   "metadata": {},
   "source": [
    "**Horizontal force equilibrium**\n",
    "\n",
    "Consider the element of fluid $ACB$. It is in equilibrium and therefore the horizontal hydrostatic force on $AC$, $P$, must equal the horizontal component of $R$, $R_h$ acting on surface $AB$. From this we can conclude, that...\n",
    "\n",
    "\\begin{equation}\n",
    "\\boxed{\n",
    "R_h = \\text{the resultant force on the projection of AB on a vertical plane.} }\n",
    "\\end{equation}\n",
    "\n",
    "This is also true in case (b), when the fluid is on the convex side of the curved surface (as shown above).\n",
    "\n",
    "**Vertical force equilibrium**\n",
    "\n",
    "In case (a) above, the vertical force $R_v$ results from the weight of fluid directly above the curved surface.\n",
    "\n",
    "\\begin{equation}\n",
    "\\boxed{\n",
    "R_v = \\text{the weight of fluid vertically above the curved surface AB.} }\n",
    "\\end{equation}\n",
    "\n",
    "In case (b), there is no fluid above AB, instead the fluid is below AB. In this case, $R_v = $ the weight of the volume of the same fluid that **would** lie vertically above the curved surface AB. In both cases the vertical force component acts through the centre of gravity, $G$ of the area $ABDE$.\n",
    "\n",
    "Once, $R_v$ and $R_h$ have been determined, the resultant force on the curved surface can be determined, \n",
    "\n",
    "\\begin{equation}\n",
    "R = \\sqrt{R_h^2 + R_v^2}\n",
    "\\end{equation}\n",
    "\n",
    "$R$ acts through point $O$ as shown, at an angle $\\theta$,\n",
    "\n",
    "\\begin{equation}\n",
    "\\theta = \\tan(R_v/R_h)\n",
    "\\end{equation}"
   ]
  },
  {
   "cell_type": "markdown",
   "metadata": {},
   "source": [
    "### Example 4"
   ]
  },
  {
   "cell_type": "markdown",
   "metadata": {},
   "source": [
    "The image below shows sluice gate that forms a circular arm with radius $6\\: m$. Calculate the magnitude and orientation of the resultant hydrostatic force acting on the gate."
   ]
  },
  {
   "cell_type": "markdown",
   "metadata": {},
   "source": [
    "![title](img/T1W10/image10.jpg)\n",
    "<center>Sector sluice gate. © Douglas et al. 2001</center>"
   ]
  },
  {
   "cell_type": "code",
   "execution_count": 3,
   "metadata": {
    "hide_input": true
   },
   "outputs": [
    {
     "data": {
      "text/html": [
       "<center><iframe width=\"560\" height=\"315\" src=\"https://www.youtube.com/embed/9BlQs18soQs\" frameborder=\"0\" allowfullscreen></iframe></center>"
      ],
      "text/plain": [
       "<IPython.core.display.HTML object>"
      ]
     },
     "execution_count": 3,
     "metadata": {},
     "output_type": "execute_result"
    }
   ],
   "source": [
    "HTML('<center><iframe width=\"560\" height=\"315\" src=\"https://www.youtube.com/embed/9BlQs18soQs\" frameborder=\"0\" allowfullscreen></iframe></center>')"
   ]
  },
  {
   "cell_type": "markdown",
   "metadata": {},
   "source": [
    "**You should now download the question sheet for this week and attempt all questions. You will have an opportunity to to get help in your tutorial session and worked solutions will be released next week.**"
   ]
  }
 ],
 "metadata": {
  "hide_input": false,
  "kernelspec": {
   "display_name": "Python 3",
   "language": "python",
   "name": "python3"
  },
  "language_info": {
   "codemirror_mode": {
    "name": "ipython",
    "version": 3
   },
   "file_extension": ".py",
   "mimetype": "text/x-python",
   "name": "python",
   "nbconvert_exporter": "python",
   "pygments_lexer": "ipython3",
   "version": "3.6.4"
  },
  "toc": {
   "base_numbering": 1,
   "nav_menu": {},
   "number_sections": true,
   "sideBar": true,
   "skip_h1_title": false,
   "title_cell": "Table of Contents",
   "title_sidebar": "Contents",
   "toc_cell": false,
   "toc_position": {},
   "toc_section_display": true,
   "toc_window_display": false
  }
 },
 "nbformat": 4,
 "nbformat_minor": 2
}
