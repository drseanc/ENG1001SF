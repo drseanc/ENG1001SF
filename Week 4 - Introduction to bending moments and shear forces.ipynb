{
 "cells": [
  {
   "cell_type": "code",
   "execution_count": 9,
   "metadata": {
    "deletable": false,
    "editable": false,
    "hide_input": false
   },
   "outputs": [
    {
     "name": "stdout",
     "output_type": "stream",
     "text": [
      "- Dependencies imported 👍\n",
      "- Remember to select 'Kernel-> Restart & Run All' on first load to show embedded Youtube videos 🎬\n",
      "- Author: Dr SPCarroll, Sept 2020, Rev 0 [DRAFT]\n"
     ]
    }
   ],
   "source": [
    "#DEPENDENCIES & INITIALISATIONS\n",
    "from IPython.display import HTML #For embedding videos\n",
    "import math #Basic math functionality\n",
    "import numpy as np #Numpy for working with arrays\n",
    "import matplotlib.pyplot as plt #Plotting functionality \n",
    "#HTML('<iframe width=\"560\" height=\"315\" src=\"#\" frameborder=\"0\" allowfullscreen></iframe>')\n",
    "print(\"- Dependencies imported 👍\")\n",
    "print(\"- Remember to select 'Kernel-> Restart & Run All' on first load to show embedded Youtube videos 🎬\")\n",
    "print(\"- Author: Dr SPCarroll, Sept 2020, Rev 0 [DRAFT]\")"
   ]
  },
  {
   "cell_type": "markdown",
   "metadata": {
    "hide_input": false
   },
   "source": [
    "# Week 4: Introduction to Bending Moments and Shear Forces"
   ]
  },
  {
   "cell_type": "markdown",
   "metadata": {},
   "source": [
    "![title](img/T1W4/banner.jpg)"
   ]
  },
  {
   "cell_type": "markdown",
   "metadata": {},
   "source": [
    "Up to this point, we've focused on structures that resist axial forces, in particular we focuses on trusses. For each member in a truss, the force carried by that member is assumed to be parallel to the longitudinal axis of the element. \n",
    "\n",
    "Now we'll expand our horizons to think about structures that resist bending and shear, generally referred to as beams. While beams may resist axial forces they also resist or carry forces that are perpendicular to the longitudinal axis of the beam. They does this by developing bending and shear stresses. \n",
    "\n",
    "The resultants of these bending and shear stresses are the bending moment and shear force. The bending moment and shear force are evaluated so that the corresponding bending and shear stresses can be determined and then designed for. Thus, being able to evaluate how bending moment and shear force vary throughout a structure is a fundamental and incredibly important skill to master as a student engineer. "
   ]
  },
  {
   "cell_type": "markdown",
   "metadata": {},
   "source": [
    "## 1.0 What is a Bending Moment"
   ]
  },
  {
   "cell_type": "markdown",
   "metadata": {},
   "source": [
    "Consider a simply supported beam subject to a uniformly distorted load."
   ]
  },
  {
   "cell_type": "markdown",
   "metadata": {},
   "source": [
    "![title](img/T1W4/image1.jpg)\n",
    "<center>Simply supported beam under the influence of a uniformly distributed load</center>"
   ]
  },
  {
   "cell_type": "markdown",
   "metadata": {},
   "source": [
    "The beam will deflect under the the influence of the load. In order for the beam to deflect as shown, the fibres in the top of the beam must contract or get shorter. The fibres in the bottom of the beam must get longer.\n",
    "\n",
    "We can say the top of the beam is in compression while the bottom is in tension (notice the direction of the arrows on the fibres in the deflected beam). Now, at some position in the depth of the beam, compression must turn into tension. There is a plane in the beam where this transition between tension and compression occurs. This plane is called the neutral plane or sometimes the neutral axis.\n",
    "\n",
    "Imagine taking a vertical cut through the beam at some distance $x$ along the beam. We can represent the strain and stress variation throughout the depth of the beam with strain and stress distribution diagrams."
   ]
  },
  {
   "cell_type": "markdown",
   "metadata": {},
   "source": [
    "![title](img/T1W4/image2.jpg)\n",
    "<center>Strain and stress distribution revealed by making an imaginary cut through the beam at a distance $x$ along the beam.</center>"
   ]
  },
  {
   "cell_type": "markdown",
   "metadata": {},
   "source": [
    "Strain is defined as the change in length ($\\Delta L$) divided by the original length ($L$),\n",
    "\n",
    "\\begin{equation}\n",
    "\\epsilon = \\frac{\\Delta L}{L}\n",
    "\\end{equation}\n",
    "\n",
    "In this case we’re considering the longitudinal strain or strain perpendicular (normal) to the cut face. \n",
    "\n",
    "Compression strains above the neutral axis exist because the longitudinal fibres in the beam are getting shorter. Tensile strains occur in the bottom because the fibres are extending or getting longer. \n",
    "\n",
    "We can assume this beam is made of a linearly elastic material and as such the stresses are linearly proportional to the strains. This simply means we need to multiple the strain at some point in the beam by the Young’s modulus (modulus of elasticity) to get the corresponding stress at that point in the beam. \n",
    "\n",
    "We know that if we multiply a stress by the area over which it acts, we get the resultant force on that area. The same is true for the stress acting on the cut face of the beam. The compression stresses can be represented by a compression force (stress resultant) while the tensile stresses can be replaced by an equivalent tensile force. \n",
    "\n",
    "\\begin{equation}\n",
    "F_c = \\underbrace{\\sigma_t\\times \\frac{1}{2}}_{\\text{average stress}}\\:\\times\\: \\underbrace{b\\times \\frac{h}{2}}_{\\text{area}}\n",
    "\\end{equation}"
   ]
  },
  {
   "cell_type": "markdown",
   "metadata": {},
   "source": [
    "![title](img/T1W4/image3.jpg)\n",
    "<center>Normal stresses due to bending the their stress resulting forming a couple.</center>"
   ]
  },
  {
   "cell_type": "markdown",
   "metadata": {},
   "source": [
    "As a result of the external loading on the structure and the deflection that this induces, we end up with two forces acting on the cut cross-section. These forces are:\n",
    "\n",
    "- equal in magnitude (must be to maintain force equilibrium)\n",
    "- parallel to each other (and perpendicular to the cut face)\n",
    "- acting in opposite directions\n",
    "- separated by a distance or lever arm, $z$\n",
    "\n",
    "You might recognise this pair of forces as forming a couple or moment $M$.\n",
    "\n",
    "\\begin{equation}\n",
    "M = F_c\\times z = F_t\\times z\n",
    "\\end{equation}\n",
    "\n",
    "The internal bending moment M, can be represented in a bending moment diagram. The bending moment diagram shows how M (and therefore stress) varies across a structure. Since the bending moment is linked directly to the corresponding stresses, our bending moment diagram is a proxy for how the stresses vary throughout the structure."
   ]
  },
  {
   "cell_type": "markdown",
   "metadata": {},
   "source": [
    "## 2.0 What is a Shear Force"
   ]
  },
  {
   "cell_type": "markdown",
   "metadata": {},
   "source": [
    "A shear force is any force acting perpendicular to the longitudinal axis of the structure. We’re interesting in internal shear forces that are the resultant of internal shear stresses developed in response to externally applied loading.\n",
    "\n",
    "Building on our discussion of bending moments, the shear force is also the resultant of shear stresses acting at a given point in the structure. Consider the cut face of the beam discussed above."
   ]
  },
  {
   "cell_type": "markdown",
   "metadata": {},
   "source": [
    "![title](img/T1W4/image4.jpg)\n",
    "<center>Shear stress acting parallel to the vertical cut face of the beam</center>"
   ]
  },
  {
   "cell_type": "markdown",
   "metadata": {},
   "source": [
    "The shear stress, $\\tau$ acting on this cut face is evenly distributed across the width of the face and acts parallel to the cut face. The average value of the shear stress, $\\tau_{avg}$ is simply the shear force at this point in the structure $V$ divided by the cross-sectional area over which it acts, $A$,\n",
    "\n",
    "\\begin{equation}\n",
    "\\tau_{avg} = \\frac{V}{A}\n",
    "\\end{equation}\n",
    "\n",
    "However, this is just the average value of the shear stress acting on the face. The shear stress actually varies parabolically through the depth of the section as shown below."
   ]
  },
  {
   "cell_type": "markdown",
   "metadata": {},
   "source": [
    "![title](img/T1W4/image5.jpg)\n",
    "<center>Variation of shear stress through the depth of the beam section</center>"
   ]
  },
  {
   "cell_type": "markdown",
   "metadata": {},
   "source": [
    "So, just as with bending moments discussed previously, shear stresses arise due to the application of external forces onto the beam. These forces induce shear stress within the beam that can be represented by the (shear) force resultant. It is this shear force that we represent on a shear force diagram which indicates how the shear force varies across the structure. "
   ]
  },
  {
   "cell_type": "markdown",
   "metadata": {},
   "source": [
    "## 3.0 Calculating Internal Shear Forces and Bending Moments"
   ]
  },
  {
   "cell_type": "markdown",
   "metadata": {},
   "source": [
    "Up to this point we’ve considered the link between the normal (bending) stress and associated bending moment and the shear stress and associated shear force. Based on this you should be comfortable with the idea that knowing the value of bending moment and shear force at a point are important for understanding the stresses in the structure at that point.\n",
    "\n",
    "Now we’re going to consider how to directly calculate the shear forces and bending moments by considering equilibrium of the structure. Again, let’s consider the simply supported beam from above, subject to a uniformly distributed load, $w$ kN/m. \n",
    "\n",
    "Simple statics tell us that if the beam is in a state of static equilibrium, the left and right hand support reactions are,\n",
    "\n",
    "\\begin{equation}\n",
    "V_a = V_b = \\frac{wL}{2}\n",
    "\\end{equation}"
   ]
  },
  {
   "cell_type": "markdown",
   "metadata": {},
   "source": [
    "![title](img/T1W4/image6.jpg)\n",
    "<center>Simply supported beam subject to a uniformly distributed load with intensity $w$ kN/m</center>"
   ]
  },
  {
   "cell_type": "markdown",
   "metadata": {},
   "source": [
    "If the structure is in a state of static equilibrium (which it is), then any sub-structure or part of the structure must also be in a state of static equilibrium under the stabilising action of the internal stress resultants. \n",
    "\n",
    "**This is a key point...** \n",
    "\n",
    "*Imagine taking a cut through the structure and separating it into 2 sub-structures. When we cut the structure, we ‘reveal’ the internal stress resultants (bending moment and shear force).* "
   ]
  },
  {
   "cell_type": "markdown",
   "metadata": {},
   "source": [
    "![title](img/T1W4/image7.jpg)\n",
    "<center>Imaginary cut creating two sub-structures and revealing the internal stress resultants</center>"
   ]
  },
  {
   "cell_type": "markdown",
   "metadata": {},
   "source": [
    "$M_L$ and $M_R$ are the internal bending moments on either side of the imaginary cut while $V_L$ and $V_R$ are the internal shear forces on either side of the imaginary cut. \n",
    "\n",
    "$M_R$ and $V_R$ represent the influence of the left hand side of the structure (sub-structure 1) on the right hand side of the structure (sub-structure 2) and vice versa.\n",
    "\n",
    "We’ve just said that each one of these sub-structures is stabilised by the influence of the internal bending moment and shear force revealed by the imaginary cuts. \n",
    "\n",
    "This means, if we want to find the value of internal bending moment or shear force at any point in a structure, we simply cut the structure at that point to expose the internal stress resultants ($M4 and $V$). Then calculate what values they must have to ensure the sub-structure remains in equilibrium! For example the sub-structure below must remain in equilibrium under the combined influence of:\n",
    "\n",
    "- the external distributed load acting on the sub-structure\n",
    "- the left hand reaction, $V_A$ (note it has not been reduced just because we’re considering the sub-structure. It retains its original value)\n",
    "- the internal bending moment at the cut, $M_L$\n",
    "- the internal shear force at the cut, $V_L$"
   ]
  },
  {
   "cell_type": "markdown",
   "metadata": {},
   "source": [
    "![title](img/T1W4/image8.jpg)\n",
    "<center>Sub-structure 1 stabilised by the internal shear force and bending momnet revealed by the cut.</center>"
   ]
  },
  {
   "cell_type": "markdown",
   "metadata": {},
   "source": [
    "This starts to make more sense when we plug some numbers into an example. For the beam above, let’s imagine it has a span $L=6$ m, applied loading of $w=10$ kN/m and imagine we cut the beam at $a=2$ m from the left hand support.\n",
    "\n",
    "The left hand reaction, $V_A$ is,\n",
    "\n",
    "\\begin{equation*}\n",
    "V_A = \\frac{wL}{2} = \\frac{10\\times 6}{2} = 30 \\:\\text{kN}\n",
    "\\end{equation*}"
   ]
  },
  {
   "cell_type": "markdown",
   "metadata": {},
   "source": [
    "Now taking the sum of the moments about the cut and assuming clockwise moments are positive,\n",
    "\n",
    "\\begin{equation*}\n",
    "\\sum M_{\\text{cut}} = 0\n",
    "\\end{equation*}\n",
    "\n",
    "\\begin{equation*}\n",
    "(30 \\:\\text{kN}\\times 2\\:\\text{m}) - (10\\:\\text{kN/m}\\times 2\\:\\text{m}\\times 1\\:\\text{m})-M_L = 0\n",
    "\\end{equation*}\n",
    "\n",
    "\\begin{equation*}\n",
    "\\therefore M_L = 40 \\:\\text{kNm}\n",
    "\\end{equation*}"
   ]
  },
  {
   "cell_type": "markdown",
   "metadata": {},
   "source": [
    "So, the internal bending moment required to maintain moment equilibrium of the sub-structure is $40$ kNm. Similarly, if we take the sum of the vertical forces acting on the sub-structure, this would yield $V_L = 10$ kN. "
   ]
  },
  {
   "cell_type": "markdown",
   "metadata": {},
   "source": [
    "## 4.0 Building Shear and Moment Diagrams"
   ]
  },
  {
   "cell_type": "markdown",
   "metadata": {},
   "source": [
    "We've seen how to evaluate the internal shear force and bending moment at a discrete location using imaginary cuts. But to draw a shear force and bending moment diagram, we need to know how these values change across the structure.\n",
    "\n",
    "What we really want is an equation that tells us the value of the shear force and bending moment as a function of $x$. Where $x$ is the position along the beam. Consider making an imaginary cut, just like above, except now we can make the cut at a distance $x$ along the beam. \n",
    "\n",
    "Now the internal shear force and bending moment revealed by the cut are functions of the cut location, $x$ Here, we’ll determine an expression for $M(x)$. But the procedure is exactly the same to determine $V(x)$. "
   ]
  },
  {
   "cell_type": "markdown",
   "metadata": {},
   "source": [
    "![title](img/T1W4/image9.jpg)\n",
    "<center>Sub-structure obtained by making an imaginary cut at a distance $x$ from the left hand support</center>"
   ]
  },
  {
   "cell_type": "markdown",
   "metadata": {},
   "source": [
    "Taking the sum of the moments about the cut and again assuming clockwise moments are positive,\n",
    "\n",
    "\\begin{equation*}\n",
    "\\sum M_{\\text{cut}}=0\n",
    "\\end{equation*}\n",
    "\n",
    "\\begin{equation*}\n",
    "\\frac{wL}{2}x - wx\\frac{x}{2}-M(x) = 0\n",
    "\\end{equation*}\n",
    "\n",
    "\\begin{equation*}\n",
    "M(x) = \\frac{wLx}{2} - \\frac{wx^2}{2}\n",
    "\\end{equation*}\n",
    "\n",
    "\\begin{equation}\n",
    "M(x) = \\frac{wx}{2}(L-x)\n",
    "\\end{equation}"
   ]
  },
  {
   "cell_type": "markdown",
   "metadata": {},
   "source": [
    "Now we can use equation (6) to determine the value of the internal bending moment for any value of x along the beam. Plotting the bending moment diagram is simply a matter of plotting the equation. "
   ]
  },
  {
   "cell_type": "markdown",
   "metadata": {},
   "source": [
    "![title](img/T1W4/image10.jpg)\n",
    "<center>Bending moment evaluated at 1 m intervals along the beam</center>"
   ]
  },
  {
   "cell_type": "code",
   "execution_count": 2,
   "metadata": {},
   "outputs": [
    {
     "data": {
      "image/png": "[encoded data removed]",
      "text/plain": [
       "<matplotlib.figure.Figure at 0x7f8f985de780>"
      ]
     },
     "metadata": {},
     "output_type": "display_data"
    }
   ],
   "source": [
    "#Good opportunity to pick up some plotting code\n",
    "w = 10 #(kN/m) Load intensity\n",
    "L = 6 #(m) Span\n",
    "x = np.arange(0,6.1,0.1) #Define an array of x values from 0 to 6 in steps of 0.1\n",
    "M = (0.5*w*x)*(L-x) #(kNm) Evaluate moment at each value of x\n",
    "\n",
    "#PLOTTING\n",
    "fig = plt.figure() #Define a new figure\n",
    "axes = fig.add_axes([0.1,0.1,2,1]) #Add a set of axes to the figure defining axes location and size\n",
    "axes.plot(x,-M,'b-o') #Plot x versus M with a blue line with circles indicated data points\n",
    "\n",
    "axes.set_xlabel('Distance (m)') #set an x-label\n",
    "axes.set_ylabel('Bending moment (kNm)') #set a y-label\n",
    "axes.set_title('Bending Moment Diagram') #set a title\n",
    "axes.grid() #Show a grid"
   ]
  },
  {
   "cell_type": "markdown",
   "metadata": {},
   "source": [
    "### 4.1 Finding location and magnitude of max moment"
   ]
  },
  {
   "cell_type": "markdown",
   "metadata": {},
   "source": [
    "In the example above, the structure and loading is symmetrical so it’s pretty easy to recognise the location of the maximum moment and then subsequently to evaluate it.\n",
    "\n",
    "However this may not always be the case. So it's helpful to have a technique to identify the location of the maximum moment without needing to plot the full bending moment diagram.\n",
    "\n",
    "In this example, the bending moment for the whole structure is described by a single equation, (6). You might remember from basic calculus that to identify the location of the maximum point in a function we simply differentiate the function to get the equation for the slope. Then it’s just a matter of setting this function equal to zero and solving for $x$. "
   ]
  },
  {
   "cell_type": "markdown",
   "metadata": {},
   "source": [
    "![title](img/T1W4/image11.jpg)\n",
    "<center>Horizontal tangent identifying location of maximum moment</center>"
   ]
  },
  {
   "cell_type": "markdown",
   "metadata": {},
   "source": [
    "In other words, at the location of the maximum bending moment, the slope of the bending moment diagram is zero. So we just need to solve for this location. Once we have the location we can evaluate the bending moment using equation (6).\n",
    "\n",
    "So, to demonstrate let’s first evaluate the differential of equation (6),\n",
    "\n",
    "\\begin{equation}\n",
    "\\frac{\\mathrm{d}}{\\mathrm{d} x}M(x) = \\frac{wL}{2} - wx\n",
    "\\end{equation}\n",
    "\n",
    "Remember, equation (7) represents the slope of the bending moment diagram. So we now let it equal to zero and solve for $x$.\n",
    "\n",
    "\\begin{equation*}\n",
    "\\frac{wL}{2}-wx=0\n",
    "\\end{equation*}\n",
    "\n",
    "\\begin{equation*}\n",
    "\\therefore x=\\frac{L}{2}\n",
    "\\end{equation*}\n",
    "\n",
    "It's no surprise the bending moment is a maximum at the mid-span, $x=L/2$. Now we can evaluate equation (6) at $x=L/2 = 3$ m. \n",
    "\n",
    "\\begin{equation*}\n",
    "M(x=L/2) = \\frac{wL^2}{4} - \\frac{wL^2}{8} = \\frac{wL^2}{8}\n",
    "\\end{equation*}\n",
    "\n",
    "\\begin{equation*}\n",
    "\\therefore M_{\\text{max}} = \\frac{10\\times 6^2}{8} = 45\\:\\text{kNm}\n",
    "\\end{equation*}"
   ]
  },
  {
   "cell_type": "markdown",
   "metadata": {},
   "source": [
    "**As an aside...**\n",
    "\n",
    "You can also so symbolic math in Python using the SymPy library. <a href='https://dynamics-and-control.readthedocs.io/en/latest/0_Getting_Started/Notebook%20introduction.html'>Here's a good reference.</a>"
   ]
  },
  {
   "cell_type": "code",
   "execution_count": 3,
   "metadata": {},
   "outputs": [
    {
     "name": "stdout",
     "output_type": "stream",
     "text": [
      "SymPy generated the following expression for the differential:\n"
     ]
    },
    {
     "data": {
      "image/png": "[encoded data removed]",
      "text/latex": [
       "$$0.5 w \\left(L - 2 x\\right)$$"
      ],
      "text/plain": [
       "0.5⋅w⋅(L - 2⋅x)"
      ]
     },
     "execution_count": 3,
     "metadata": {},
     "output_type": "execute_result"
    }
   ],
   "source": [
    "import sympy as sym #Import SymPy\n",
    "sym.init_printing() #Initialise 'pretty' printing for nice typesetting\n",
    "\n",
    "#Define some symbols \n",
    "x = sym.Symbol('x')\n",
    "w = sym.Symbol('w')\n",
    "L = sym.Symbol('L')\n",
    "\n",
    "M = 0.5*w*x*(L-x) #Construct an expression for the moment as a function of x\n",
    "dMdx = M.diff(x) #Use SymPy to get first differential w.r.t. x\n",
    "\n",
    "print('SymPy generated the following expression for the differential:')\n",
    "sym.simplify(dMdx) #Attempt to simplify the resulting expression"
   ]
  },
  {
   "cell_type": "markdown",
   "metadata": {},
   "source": [
    "## 5.0 Shear and moment sign convention"
   ]
  },
  {
   "cell_type": "markdown",
   "metadata": {},
   "source": [
    "### 5.1 Bending moment sign convention\n",
    "\n",
    "We will define a **deformation sign convention**. i.e. whether we refer to a bending moment as positve or negative will depend on how that moment deforms the structure. So, let us state:\n",
    "\n",
    "- a positive bending moment will\n",
    "    - elongate the bottom of a section\n",
    "    - compress the top of a section\n",
    "- a negative bending moment will,\n",
    "    - elongate the top of a section\n",
    "    - compress the bottom of a section\n",
    "    \n",
    "This makes more sense when we visualise it, see below."
   ]
  },
  {
   "cell_type": "markdown",
   "metadata": {},
   "source": [
    "![title](img/T1W4/image14.jpg)\n",
    "<center>Deformation sign convention for bending moments</center>"
   ]
  },
  {
   "cell_type": "markdown",
   "metadata": {},
   "source": [
    "So, if we consider the simple beam below. AN imaginary cut divides the beam into two sub-structures and reveals the internal bending moment on each side of the cut. According to our deformation sign convention, both moments would compress the top of their respective sub-structrues. Therefore both moments can be considered positive."
   ]
  },
  {
   "cell_type": "markdown",
   "metadata": {},
   "source": [
    "![title](img/T1W4/image15.jpg)\n",
    "<center>Simple beam with cut revealing internal bending moments drawn in positive sense of rotation.</center>"
   ]
  },
  {
   "cell_type": "markdown",
   "metadata": {},
   "source": [
    "Note that the bending moment acting on the left side sub-structure is acting in a counter-clockwise direction, and we typically assume only clockwise moments are positive. This is because when we take the sum of the moments when evaluating equilibrium we ignore the deformation sign convention and apply a **static sign convention** in which we define clockwise moments as positive. \n",
    "\n",
    "The deformation sign convention is used when representing our bending moments on a bending moment diagram. We'll see an example of this below."
   ]
  },
  {
   "cell_type": "markdown",
   "metadata": {},
   "source": [
    "### 5.2 Shear force sign convention"
   ]
  },
  {
   "cell_type": "markdown",
   "metadata": {},
   "source": [
    "We again define a deformation sign convention for shear force. This is summarised graphically below."
   ]
  },
  {
   "cell_type": "markdown",
   "metadata": {},
   "source": [
    "![title](img/T1W4/image17.jpg)\n",
    "<center>Deformation sign convention for shear force.</center>"
   ]
  },
  {
   "cell_type": "markdown",
   "metadata": {},
   "source": [
    "We can see from this that positive shear will act clockwise against the face. Another way to think about this is that positive shear forces would tend to cause a clockwise rotation of the sub-structure they act on. We again must distinguish this deformation sign convention from a static sign convention, employed when we evaluate static equilibrium. For example consider the beam below divided into two sub-structures."
   ]
  },
  {
   "cell_type": "markdown",
   "metadata": {},
   "source": [
    "![title](img/T1W4/image16.jpg)\n",
    "<center>Simple beam with cut revealing internal shear forces drawn in positive direction</center>"
   ]
  },
  {
   "cell_type": "markdown",
   "metadata": {},
   "source": [
    "Although both $V_L$ and $V_R$ are drawn in the positive direction in terms of a deformation sign convention, only $V_R$ would be considered positive when evaluating static equilibrium. As with bending moments, the deformation sign convention is employed when representing shear forces on a shear force diagram."
   ]
  },
  {
   "cell_type": "markdown",
   "metadata": {},
   "source": [
    "## 6.0 Example Questions"
   ]
  },
  {
   "cell_type": "markdown",
   "metadata": {},
   "source": [
    "### Question 1\n",
    "Determine the shear force and bending moment diagram for the simply supported beam shown below.\n",
    "\n",
    "![title](img/T1W4/image12.jpg)\n",
    "<center>Simply supported beam</center>"
   ]
  },
  {
   "cell_type": "markdown",
   "metadata": {},
   "source": [
    "#### Determining internal actions at the cuts "
   ]
  },
  {
   "cell_type": "code",
   "execution_count": 4,
   "metadata": {
    "hide_input": true
   },
   "outputs": [
    {
     "data": {
      "text/html": [
       "<center><iframe width=\"560\" height=\"315\" src=\"https://www.youtube.com/embed/bkMMo61YabQ\" frameborder=\"0\" allow=\"accelerometer; autoplay; encrypted-media; gyroscope; picture-in-picture\" allowfullscreen></iframe></center>"
      ],
      "text/plain": [
       "<IPython.core.display.HTML object>"
      ]
     },
     "execution_count": 4,
     "metadata": {},
     "output_type": "execute_result"
    }
   ],
   "source": [
    "HTML('<center><iframe width=\"560\" height=\"315\" src=\"https://www.youtube.com/embed/bkMMo61YabQ\" frameborder=\"0\" allow=\"accelerometer; autoplay; encrypted-media; gyroscope; picture-in-picture\" allowfullscreen></iframe></center>')"
   ]
  },
  {
   "cell_type": "markdown",
   "metadata": {},
   "source": [
    "#### Drawing the shear and moment diagrams"
   ]
  },
  {
   "cell_type": "code",
   "execution_count": 5,
   "metadata": {
    "hide_input": true
   },
   "outputs": [
    {
     "data": {
      "text/html": [
       "<center><iframe width=\"560\" height=\"315\" src=\"https://www.youtube.com/embed/CF-QT1t-Fns\" frameborder=\"0\" allow=\"accelerometer; autoplay; encrypted-media; gyroscope; picture-in-picture\" allowfullscreen></iframe></center>"
      ],
      "text/plain": [
       "<IPython.core.display.HTML object>"
      ]
     },
     "execution_count": 5,
     "metadata": {},
     "output_type": "execute_result"
    }
   ],
   "source": [
    "HTML('<center><iframe width=\"560\" height=\"315\" src=\"https://www.youtube.com/embed/CF-QT1t-Fns\" frameborder=\"0\" allow=\"accelerometer; autoplay; encrypted-media; gyroscope; picture-in-picture\" allowfullscreen></iframe></center>')"
   ]
  },
  {
   "cell_type": "markdown",
   "metadata": {},
   "source": [
    "### Question 2\n",
    "Determine the shear force and bending moment diagram for the simply supported beam shown below.\n",
    "\n",
    "![title](img/T1W4/image13.jpg)\n",
    "<center>Simply supported beam</center>"
   ]
  },
  {
   "cell_type": "markdown",
   "metadata": {},
   "source": [
    "#### Determining internal actions at the cuts "
   ]
  },
  {
   "cell_type": "code",
   "execution_count": 6,
   "metadata": {
    "hide_input": true
   },
   "outputs": [
    {
     "data": {
      "text/html": [
       "<center><iframe width=\"560\" height=\"315\" src=\"https://www.youtube.com/embed/hV102fpIZVQ\" frameborder=\"0\" allow=\"accelerometer; autoplay; encrypted-media; gyroscope; picture-in-picture\" allowfullscreen></iframe></center>"
      ],
      "text/plain": [
       "<IPython.core.display.HTML object>"
      ]
     },
     "execution_count": 6,
     "metadata": {},
     "output_type": "execute_result"
    }
   ],
   "source": [
    "HTML('<center><iframe width=\"560\" height=\"315\" src=\"https://www.youtube.com/embed/hV102fpIZVQ\" frameborder=\"0\" allow=\"accelerometer; autoplay; encrypted-media; gyroscope; picture-in-picture\" allowfullscreen></iframe></center>')"
   ]
  },
  {
   "cell_type": "markdown",
   "metadata": {},
   "source": [
    "#### Drawing the shear and moment diagrams"
   ]
  },
  {
   "cell_type": "code",
   "execution_count": 7,
   "metadata": {
    "hide_input": true
   },
   "outputs": [
    {
     "data": {
      "text/html": [
       "<center><iframe width=\"560\" height=\"315\" src=\"https://www.youtube.com/embed/h_pJi6MohBI\" frameborder=\"0\" allow=\"accelerometer; autoplay; encrypted-media; gyroscope; picture-in-picture\" allowfullscreen></iframe></center>"
      ],
      "text/plain": [
       "<IPython.core.display.HTML object>"
      ]
     },
     "execution_count": 7,
     "metadata": {},
     "output_type": "execute_result"
    }
   ],
   "source": [
    "HTML('<center><iframe width=\"560\" height=\"315\" src=\"https://www.youtube.com/embed/h_pJi6MohBI\" frameborder=\"0\" allow=\"accelerometer; autoplay; encrypted-media; gyroscope; picture-in-picture\" allowfullscreen></iframe></center>')"
   ]
  },
  {
   "cell_type": "markdown",
   "metadata": {},
   "source": [
    "**You should now download the question sheet for this week and attempt all questions. You will have an opportunity to to get help in your tutorial session and worked solutions will be released next week.**"
   ]
  }
 ],
 "metadata": {
  "hide_input": false,
  "kernelspec": {
   "display_name": "Python 3",
   "language": "python",
   "name": "python3"
  },
  "language_info": {
   "codemirror_mode": {
    "name": "ipython",
    "version": 3
   },
   "file_extension": ".py",
   "mimetype": "text/x-python",
   "name": "python",
   "nbconvert_exporter": "python",
   "pygments_lexer": "ipython3",
   "version": "3.6.4"
  }
 },
 "nbformat": 4,
 "nbformat_minor": 2
}
