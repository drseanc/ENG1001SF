{
 "cells": [
  {
   "cell_type": "code",
   "execution_count": 2,
   "metadata": {
    "deletable": false,
    "editable": false,
    "hide_input": true
   },
   "outputs": [
    {
     "name": "stdout",
     "output_type": "stream",
     "text": [
      "- Dependencies imported 👍\n",
      "- Remember to select 'Kernel-> Restart & Run All' on first load to show embedded Youtube videos 🎬\n",
      "- Author: Dr SPCarroll, Sept 2020, Rev 0 [DRAFT]\n"
     ]
    }
   ],
   "source": [
    "#DEPENDENCIES & INITIALISATIONS\n",
    "from IPython.display import HTML #For embedding videos\n",
    "import math #Basic math functionality\n",
    "import numpy as np #Numpy for working with arrays\n",
    "import matplotlib.pyplot as plt #Plotting functionality \n",
    "#HTML('<iframe width=\"560\" height=\"315\" src=\"#\" frameborder=\"0\" allowfullscreen></iframe>')\n",
    "print(\"- Dependencies imported 👍\")\n",
    "print(\"- Remember to select 'Kernel-> Restart & Run All' on first load to show embedded Youtube videos 🎬\")\n",
    "print(\"- Author: Dr SPCarroll, Sept 2020, Rev 0 [DRAFT]\")"
   ]
  },
  {
   "cell_type": "markdown",
   "metadata": {
    "hide_input": false
   },
   "source": [
    "# Week 5: Relating Loading, Shear Force and Bending Moment"
   ]
  },
  {
   "cell_type": "markdown",
   "metadata": {},
   "source": [
    "![title](img/T1W5/banner.jpg)"
   ]
  },
  {
   "cell_type": "markdown",
   "metadata": {
    "hide_input": true
   },
   "source": [
    "So far we have used cuts to determine equations for the shear force and bending moment as a function of position. This is a helpful technique and one we will continue to employ. However, if we dig a little deeper and formalise some relationships between loading and the resulting shear forces and bending moment, we can greatly increase the speed with which we can analyse structures. \n",
    "\n",
    "Fully understanding the relationships we derive this week will allow you to more 'intuitively extract' qualitative shear and moment diagrams 'by eye', with cuts used to confirm numerical values at salient points. We're going to explore 3 cases:\n",
    "- Case 1: Uniformly distributed loading\n",
    "- Case 2: Point force loading\n",
    "- Case 3: Point moment loading\n",
    "\n",
    "In each case, our objective is to determine the relationship between the loading and the shear force and bending moment it induces. "
   ]
  },
  {
   "cell_type": "markdown",
   "metadata": {},
   "source": [
    "## 1.0 Uniformly distributed loads"
   ]
  },
  {
   "cell_type": "markdown",
   "metadata": {},
   "source": [
    "Consider a short segment of length $\\mathrm{d}x$ cut from a beam and subject to a uniformly distributed load with intensity $w$ kN/m. The cuts have revealed the internal moment and shear on either side of the segment. Note the infinitesimal increase in moment ($\\mathrm{d}M$) and shear ($\\mathrm{d}V$) on the right side of the cut."
   ]
  },
  {
   "cell_type": "markdown",
   "metadata": {},
   "source": [
    "![title](img/T1W5/image1.jpg)\n",
    "<center>Beam segment of length $\\mathrm{d}x$ subject to a uniformly distributed load $w$ kN/m.</center>"
   ]
  },
  {
   "cell_type": "markdown",
   "metadata": {},
   "source": [
    "### 1.1 Shear Force"
   ]
  },
  {
   "cell_type": "markdown",
   "metadata": {},
   "source": [
    "We can start by considering vertical force equilibrium for the segment. Since it must be in a state of static equilibrium, the sum of the vertical forces must equal zero. \n",
    "\n",
    "\\begin{equation*}\n",
    "\\sum F_y = 0\\:\\:(\\uparrow+ve)\n",
    "\\end{equation*}\n",
    "\n",
    "\\begin{equation*}\n",
    "V-(v+\\mathrm{d}V)-w\\mathrm{d}x=0\n",
    "\\end{equation*}\n",
    "\n",
    "\\begin{equation}\n",
    "\\therefore  \\boxed{ \\frac{\\mathrm{d}V}{\\mathrm{d}x} = -w}\n",
    "\\end{equation}\n",
    "\n",
    "In other words, the slope of the shear force diagram $(\\mathrm{d}V/\\mathrm{d}x)$ at a point is equal to the negative of the load intensity at that point. We can demonstrate this with a simple example. Consider the beam below subject to a distributed load with linearly increasing intensity. By making a cut at a distance $x$ from the left support with reveal the internal shear force $V(x)$. "
   ]
  },
  {
   "cell_type": "markdown",
   "metadata": {},
   "source": [
    "![title](img/T1W5/image2.jpg)\n",
    "<center>(Top) Beam subject to a distributed load with linearly increasing intensity. (Bottom) Sub-structure to the left of the cut.</center>"
   ]
  },
  {
   "cell_type": "markdown",
   "metadata": {},
   "source": [
    "If the load intensity increases linearly from zero to $w$, then at the cut the load intensity is $wx/L$. We can now evaluate vertical force equilibrium for the sub-structure,\n",
    "\n",
    "\\begin{equation*}\n",
    "\\sum F_y = 0\\:\\:(\\uparrow+ve)\n",
    "\\end{equation*}\n",
    "\n",
    "\\begin{equation*}\n",
    "V(x) = \\frac{wl}{3} - \\frac{wx^2}{2L}\n",
    "\\end{equation*}\n"
   ]
  },
  {
   "cell_type": "markdown",
   "metadata": {},
   "source": [
    "We can now differentiate the expression for $V(x)$ yielding, \n",
    "\n",
    "\\begin{equation*}\n",
    "\\frac{\\mathrm{d}V}{\\mathrm{d}x} = -\\frac{wx}{L}\n",
    "\\end{equation*}\n",
    "\n",
    "So we can see that the differential of the shear force is equal to the negative of the load intensity. It's also worth noting the shape of the SFD, pictured below. At the left hand support when the load intensity is zero, the SFD has a value of $wL/3$ (the value of the left reaction) but it is horizontal, i.e. has a slope of zero. As the load intensity increases as we move from left to right, the SFD gets steeper. i.e. the slope increases. "
   ]
  },
  {
   "cell_type": "markdown",
   "metadata": {},
   "source": [
    "![title](img/T1W5/image3.jpg)\n",
    "<center>(Top) Beam subject to a distributed load with linearly increasing intensity. (Bottom) Shear force diagram.</center>"
   ]
  },
  {
   "cell_type": "markdown",
   "metadata": {},
   "source": [
    "Another implication of this differential relationship between shear force and load intensity can be seen if we integrate both sides of the equation,\n",
    "\n",
    "\\begin{equation*}\n",
    "\\frac{\\mathrm{d}V}{\\mathrm{d}x} = -w\n",
    "\\end{equation*}\n",
    "\n",
    "\\begin{equation*}\n",
    "\\int_A^B \\mathrm{d}V = -\\int_A^B w\\: \\mathrm{d}x\n",
    "\\end{equation*}\n",
    "\n",
    "\\begin{align}\n",
    "V_B - V_A &= -\\int_A^B w\\: \\mathrm{d}x\\\\\n",
    "&= - \\:\\text{area under loading diagram between A and B}\n",
    "\\end{align}\n",
    "\n",
    "We can see this represented graphically in the image below. "
   ]
  },
  {
   "cell_type": "markdown",
   "metadata": {},
   "source": [
    "![title](img/T1W5/image4.jpg)\n",
    "<center>(Top) Beam subject to a distributed load with linearly increasing intensity. (Bottom) Shear force diagram.</center>"
   ]
  },
  {
   "cell_type": "markdown",
   "metadata": {},
   "source": [
    "### 1.2 Bending Moment"
   ]
  },
  {
   "cell_type": "markdown",
   "metadata": {},
   "source": [
    "Having established the key relationship for shear, now we can turn our attention to bending moments. Referring back to our beam segment of length $\\mathrm{d}x$ and considering moment equilibrium of the segment by taking moments about the left hand side of the segment,\n",
    "\n",
    "\\begin{equation*}\n",
    "\\sum M_{\\text{LHS}} = 0 \\:\\:(\\curvearrowright +ve)\n",
    "\\end{equation*}\n",
    "\n",
    "\\begin{equation*}\n",
    "M-(M+\\mathrm{d}M)+(V+\\mathrm{d}V)(\\mathrm{d}x)+w. \\mathrm{d}x. \\frac{\\mathrm{d}x}{2} = 0\n",
    "\\end{equation*}\n",
    "\n",
    "\\begin{equation}\n",
    "\\therefore  \\boxed{ \\frac{\\mathrm{d}M}{\\mathrm{d}x} = V}\n",
    "\\end{equation}\n",
    "\n",
    "So, the slope of the BMD at a point equals the shear force at that point. Combined with the previous differential equation we derived, this is a very helpful equation. Whenever we have a beam subject to a distributed load, we can use these equations to infer the shape of the SFD and BMD. Consider the SFD and BMD for our beam below. "
   ]
  },
  {
   "cell_type": "markdown",
   "metadata": {},
   "source": [
    "![title](img/T1W5/image5.jpg)\n",
    "<center>(Top) Beam subject to a distributed load with linearly increasing intensity. (Middle) Shear force diagram, (Bottom) Bending moment diagram</center>"
   ]
  },
  {
   "cell_type": "markdown",
   "metadata": {},
   "source": [
    "We note that when the shear force is zero, the slope of the BMD is also zero indicating a local maximum in the BMD. We also note the change in sign of the slope of the BMD as the shear force goes from positive to negative. Remember that the shape of the SFD was itself deduced from the shape of the loading diagram. By making use of these relationships between loading, SFD and BMD, we can build up a qualitative picture of structural behaviour."
   ]
  },
  {
   "cell_type": "markdown",
   "metadata": {},
   "source": [
    "## 2.0 Point force loads"
   ]
  },
  {
   "cell_type": "markdown",
   "metadata": {},
   "source": [
    "Now we repeat the same process as above but this time our beam segment is subject to a point load $P$ located at $\\mathrm{d}x/2$. Note that on the right hand side of the element, the internal shear force and bending moment have increased by a finite amount rather than an infinitesimal amount as was the case previously."
   ]
  },
  {
   "cell_type": "markdown",
   "metadata": {},
   "source": [
    "![title](img/T1W5/image6.jpg)\n",
    "<center>Beam segment of length $\\mathrm{d}x$ subject to a point load $P$ kN.</center>"
   ]
  },
  {
   "cell_type": "markdown",
   "metadata": {},
   "source": [
    "### 2.1 Shear Force"
   ]
  },
  {
   "cell_type": "markdown",
   "metadata": {},
   "source": [
    "Evaluating the sum of the vertical forces yields, \n",
    "\n",
    "\n",
    "\\begin{equation*}\n",
    "\\sum F_y = 0\\:\\:(\\uparrow+ve)\n",
    "\\end{equation*}\n",
    "\n",
    "\\begin{equation*}\n",
    "-P +V - (V+V_1)=0\n",
    "\\end{equation*}\n",
    "\n",
    "\\begin{equation}\n",
    "\\therefore  \\boxed{ V_1 = -P_1 }\n",
    "\\end{equation}\n",
    "\n",
    "From this we see that a point load induces a step change in the SFD. We've already seen this when evaluating SFDs last week. We said that if we 'follow or trace' the loads across the structure we can build the SFD. This equation is simply the mathematical representation of this. Consider for example the simple case below of a beam subject to two point loads."
   ]
  },
  {
   "cell_type": "markdown",
   "metadata": {},
   "source": [
    "![title](img/T1W5/image7.jpg)\n",
    "<center>(Top) Beam subject to two point loads. (Bottom) Shear force diagram</center>"
   ]
  },
  {
   "cell_type": "markdown",
   "metadata": {},
   "source": [
    "We can readily see the step changes in the shear force diagram being equal to the magnitude of the point loads at that location. "
   ]
  },
  {
   "cell_type": "markdown",
   "metadata": {},
   "source": [
    "### 2.2 Bending Moment"
   ]
  },
  {
   "cell_type": "markdown",
   "metadata": {},
   "source": [
    "If we now consider moment equilibrium of our segment, \n",
    "\n",
    "\\begin{equation*}\n",
    "\\sum M_{\\text{LHS}} = 0 \\:\\:(\\curvearrowright +ve)\n",
    "\\end{equation*}\n",
    "\n",
    "\\begin{equation*}\n",
    "M-(M+M_1) + P\\frac{\\mathrm{d}x}{2} + (V+V_1)\\mathrm{d}x\n",
    "\\end{equation*}\n",
    "\n",
    "\\begin{equation*}\n",
    "M_1 = \\underbrace{P\\frac{\\mathrm{d}x}{2} + (V+V_1)\\mathrm{d}x}_{\\text{infinitesimally small}}\n",
    "\\end{equation*}\n",
    "\n",
    "\\begin{equation*}\n",
    "\\therefore \\boxed{M_1 \\approx 0}\n",
    "\\end{equation*}\n",
    "\n",
    "The presence of infinitesimally small segment lengths on the right hand side of the equal sign means that $M_1$ is infinitesimally small. From this we conclude that the presence of a point load does not change the value of the bending moment diagram at a point. \n",
    "\n",
    "However, noting that the shear force changes from $V$ to $V-P$, we can say, according to the expression,\n",
    "\n",
    "\\begin{equation}\n",
    "\\frac{\\mathrm{d}M}{\\mathrm{d}x} = V\n",
    "\\end{equation}\n",
    "\n",
    "that the slope of the bending moment diagram changes by an amount $P$. Again, we can see how this maps onto our simple example below. Note that at the point of application of $P_1$, the slope of the bending moment diagram changes. Also, where the shear force is zero, the bending moment diagram is horizontal. \n",
    "\n",
    "So we have added two more equations into our toolbox for establishing qualitative structural behaviour. "
   ]
  },
  {
   "cell_type": "markdown",
   "metadata": {},
   "source": [
    "![title](img/T1W5/image8.jpg)\n",
    "<center>(Top) Beam subject to two point loads. (Middle) Shear force diagram, (Bottom) Bending moment diagram</center>"
   ]
  },
  {
   "cell_type": "markdown",
   "metadata": {},
   "source": [
    "## 3.0 Point moment loading"
   ]
  },
  {
   "cell_type": "markdown",
   "metadata": {},
   "source": [
    "Finally we can repeat the analysis for the case of moment applied at a point."
   ]
  },
  {
   "cell_type": "markdown",
   "metadata": {},
   "source": [
    "![title](img/T1W5/image9.jpg)\n",
    "<center>Beam segment of length $\\mathrm{d}x$ subject to a point moment $M_o$ kNm.</center>"
   ]
  },
  {
   "cell_type": "markdown",
   "metadata": {},
   "source": [
    "### 3.1 Shear Force"
   ]
  },
  {
   "cell_type": "markdown",
   "metadata": {},
   "source": [
    "Take the sum of the forces in the vertical direction,\n",
    "\n",
    "\\begin{equation*}\n",
    "\\sum F_y = 0\\:\\:(\\uparrow+ve)\n",
    "\\end{equation*}\n",
    "\n",
    "\\begin{equation*}\n",
    "V-(V+V_1)\n",
    "\\end{equation*}\n",
    "\n",
    "\\begin{equation*}\n",
    "\\therefore \\boxed{V_1 = 0}\n",
    "\\end{equation*}\n",
    "\n",
    "So, the shear force diagram does not change with the application of a moment."
   ]
  },
  {
   "cell_type": "markdown",
   "metadata": {},
   "source": [
    "### 3.2 Bending Moment"
   ]
  },
  {
   "cell_type": "markdown",
   "metadata": {},
   "source": [
    "Taking the sum of the moments about the left hand side of the cut,\n",
    "\n",
    "\\begin{equation*}\n",
    "\\sum M_{\\text{LHS}} = 0 \\:\\:(\\curvearrowright +ve)\n",
    "\\end{equation*}\n",
    "\n",
    "\\begin{equation*}\n",
    "M+M_o-(M+M_1)+\\underbrace{(V+V_1)\\mathrm{d}x}_{\\text{infinitesimally small}\\rightarrow 0} = 0\n",
    "\\end{equation*}\n",
    "\n",
    "\\begin{equation*}\n",
    "\\therefore \\boxed{M_0 = M_1}\n",
    "\\end{equation*}\n",
    "\n",
    "This means that at the point of application of a bending moment, there is a step change in the bending moment diagram, equal to the magnitude of the moment applied. "
   ]
  },
  {
   "cell_type": "markdown",
   "metadata": {},
   "source": [
    "The 6 boxed equations above can be used to infer a huge amount of information about the behaviour of a structure under load. In order to become proficient in their application, you need to practice...a lot! After following the examples below, make sure to work your way through all of the tutorial questions. At each point in the construction of the shear and moment diagrams, make sure you understand how the shape of the diagram is described by the equations we have derived above."
   ]
  },
  {
   "cell_type": "markdown",
   "metadata": {},
   "source": [
    "## 4.0 Example "
   ]
  },
  {
   "cell_type": "markdown",
   "metadata": {},
   "source": [
    "Determine the shear force diagram and bending moment diagram for the following simply supported beam. <mark>Make sure to attempt this yourself before watching the solution videos</mark>\n",
    "![title](img/T1W5/image10.jpg)\n",
    "<center>Simply supported beam subject to a various loading.</center>"
   ]
  },
  {
   "cell_type": "markdown",
   "metadata": {},
   "source": [
    "### 4.1 Set up and shear force diagram"
   ]
  },
  {
   "cell_type": "code",
   "execution_count": 3,
   "metadata": {
    "hide_input": true
   },
   "outputs": [
    {
     "data": {
      "text/html": [
       "<center><iframe width=\"560\" height=\"315\" src=\"https://www.youtube.com/embed/4djyQqsMMiQ\" frameborder=\"0\" allow=\"accelerometer; autoplay; encrypted-media; gyroscope; picture-in-picture\" allowfullscreen></iframe></center>"
      ],
      "text/plain": [
       "<IPython.core.display.HTML object>"
      ]
     },
     "execution_count": 3,
     "metadata": {},
     "output_type": "execute_result"
    }
   ],
   "source": [
    "HTML('<center><iframe width=\"560\" height=\"315\" src=\"https://www.youtube.com/embed/4djyQqsMMiQ\" frameborder=\"0\" allow=\"accelerometer; autoplay; encrypted-media; gyroscope; picture-in-picture\" allowfullscreen></iframe></center>')"
   ]
  },
  {
   "cell_type": "markdown",
   "metadata": {},
   "source": [
    "### 4.2 Bending moment diagram"
   ]
  },
  {
   "cell_type": "code",
   "execution_count": 4,
   "metadata": {
    "hide_input": true
   },
   "outputs": [
    {
     "data": {
      "text/html": [
       "<center><iframe width=\"560\" height=\"315\" src=\"https://www.youtube.com/embed/DSLFVtLlidg\" frameborder=\"0\" allow=\"accelerometer; autoplay; encrypted-media; gyroscope; picture-in-picture\" allowfullscreen></iframe></center>"
      ],
      "text/plain": [
       "<IPython.core.display.HTML object>"
      ]
     },
     "execution_count": 4,
     "metadata": {},
     "output_type": "execute_result"
    }
   ],
   "source": [
    "HTML('<center><iframe width=\"560\" height=\"315\" src=\"https://www.youtube.com/embed/DSLFVtLlidg\" frameborder=\"0\" allow=\"accelerometer; autoplay; encrypted-media; gyroscope; picture-in-picture\" allowfullscreen></iframe></center>')"
   ]
  },
  {
   "cell_type": "markdown",
   "metadata": {},
   "source": [
    "### 4.3 Confirming with M(x)"
   ]
  },
  {
   "cell_type": "code",
   "execution_count": 5,
   "metadata": {
    "hide_input": true
   },
   "outputs": [
    {
     "data": {
      "text/html": [
       "<center><iframe width=\"560\" height=\"315\" src=\"https://www.youtube.com/embed/oqe6d7VhX8c\" frameborder=\"0\" allow=\"accelerometer; autoplay; encrypted-media; gyroscope; picture-in-picture\" allowfullscreen></iframe></center>"
      ],
      "text/plain": [
       "<IPython.core.display.HTML object>"
      ]
     },
     "execution_count": 5,
     "metadata": {},
     "output_type": "execute_result"
    }
   ],
   "source": [
    "HTML('<center><iframe width=\"560\" height=\"315\" src=\"https://www.youtube.com/embed/oqe6d7VhX8c\" frameborder=\"0\" allow=\"accelerometer; autoplay; encrypted-media; gyroscope; picture-in-picture\" allowfullscreen></iframe></center>')"
   ]
  },
  {
   "cell_type": "markdown",
   "metadata": {},
   "source": [
    "**You should now download the question sheet for this week and attempt all questions. You will have an opportunity to to get help in your tutorial session and worked solutions will be released next week.**"
   ]
  }
 ],
 "metadata": {
  "hide_input": false,
  "kernelspec": {
   "display_name": "Python 3",
   "language": "python",
   "name": "python3"
  },
  "language_info": {
   "codemirror_mode": {
    "name": "ipython",
    "version": 3
   },
   "file_extension": ".py",
   "mimetype": "text/x-python",
   "name": "python",
   "nbconvert_exporter": "python",
   "pygments_lexer": "ipython3",
   "version": "3.6.4"
  },
  "toc": {
   "base_numbering": 1,
   "nav_menu": {},
   "number_sections": true,
   "sideBar": true,
   "skip_h1_title": false,
   "title_cell": "Table of Contents",
   "title_sidebar": "Contents",
   "toc_cell": false,
   "toc_position": {},
   "toc_section_display": true,
   "toc_window_display": false
  }
 },
 "nbformat": 4,
 "nbformat_minor": 2
}
